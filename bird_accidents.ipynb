{
 "cells": [
  {
   "cell_type": "markdown",
   "id": "879c8551",
   "metadata": {
    "papermill": {
     "duration": 0.165381,
     "end_time": "2021-10-19T17:36:49.154872",
     "exception": false,
     "start_time": "2021-10-19T17:36:48.989491",
     "status": "completed"
    },
    "tags": []
   },
   "source": [
    "# Vogelunfälle mit Flugzeugen\n",
    "# Einleitung\n",
    "## Zielsetzung\n",
    "\n",
    "Dieses Notebook behandelt die explorative und graphische Analyse einer Teilmenge des 'Wildlife Strikes' Datensatzes. Dieser enthält eine Auflistung der US Luftfahrtbehörde an Flugzeugunfällen verursacht durch Kollisionen mit Vögeln. Zusammenhänge zwischen verschiedenen Attributen wie Flughöhe, Uhrzeit, Vogelspezies unsw. werden analysiert, wodurch Einflüsse identifiziert werden, welche einen Zwischenfall zwischen Flugzeugen und Vögeln begünstigen.\n",
    "\n",
    "## Der Datensatz\n",
    "\n",
    "Verwendet wird eine reduzierte Version des Datensatzes unter https://www.kaggle.com/faa/wildlife-strikes. Die Anzahl an Attributen und Dateneinträgen ist deutlich veringert. Dies dient in erster Linie der besseren \n",
    "Übersichtlichkeit.\n",
    "\n",
    "**Keywords: Qualitative Explorative Data Analysis**\n",
    "\n",
    "## Modul Import"
   ]
  },
  {
   "cell_type": "code",
   "execution_count": 1,
   "id": "18ae682c",
   "metadata": {
    "execution": {
     "iopub.execute_input": "2021-10-19T17:36:49.512611Z",
     "iopub.status.busy": "2021-10-19T17:36:49.511636Z",
     "iopub.status.idle": "2021-10-19T17:36:50.511805Z",
     "shell.execute_reply": "2021-10-19T17:36:50.512334Z",
     "shell.execute_reply.started": "2021-10-19T17:35:46.291359Z"
    },
    "papermill": {
     "duration": 1.18205,
     "end_time": "2021-10-19T17:36:50.512682",
     "exception": false,
     "start_time": "2021-10-19T17:36:49.330632",
     "status": "completed"
    },
    "tags": []
   },
   "outputs": [],
   "source": [
    "import numpy as np\n",
    "import pandas as pd\n",
    "import sys\n",
    "from collections import Counter\n",
    "import re\n",
    "import matplotlib\n",
    "import matplotlib.pyplot as plt\n",
    "import seaborn as sns"
   ]
  },
  {
   "cell_type": "markdown",
   "id": "b2356a1d",
   "metadata": {
    "papermill": {
     "duration": 0.167519,
     "end_time": "2021-10-19T17:36:51.223016",
     "exception": false,
     "start_time": "2021-10-19T17:36:51.055497",
     "status": "completed"
    },
    "tags": []
   },
   "source": [
    "# Datensatz laden"
   ]
  },
  {
   "cell_type": "code",
   "execution_count": 2,
   "id": "483843ca",
   "metadata": {
    "execution": {
     "iopub.execute_input": "2021-10-19T17:36:51.554427Z",
     "iopub.status.busy": "2021-10-19T17:36:51.553764Z",
     "iopub.status.idle": "2021-10-19T17:36:52.051262Z",
     "shell.execute_reply": "2021-10-19T17:36:52.050725Z",
     "shell.execute_reply.started": "2021-09-24T11:52:12.092644Z"
    },
    "papermill": {
     "duration": 0.66291,
     "end_time": "2021-10-19T17:36:52.051405",
     "exception": false,
     "start_time": "2021-10-19T17:36:51.388495",
     "status": "completed"
    },
    "tags": []
   },
   "outputs": [
    {
     "data": {
      "text/html": [
       "<div>\n",
       "<style scoped>\n",
       "    .dataframe tbody tr th:only-of-type {\n",
       "        vertical-align: middle;\n",
       "    }\n",
       "\n",
       "    .dataframe tbody tr th {\n",
       "        vertical-align: top;\n",
       "    }\n",
       "\n",
       "    .dataframe thead th {\n",
       "        text-align: right;\n",
       "    }\n",
       "</style>\n",
       "<table border=\"1\" class=\"dataframe\">\n",
       "  <thead>\n",
       "    <tr style=\"text-align: right;\">\n",
       "      <th></th>\n",
       "      <th>Airport: Name</th>\n",
       "      <th>Altitude bin</th>\n",
       "      <th>Aircraft: Make/Model</th>\n",
       "      <th>Effect: Impact to flight</th>\n",
       "      <th>FlightDate</th>\n",
       "      <th>Record ID</th>\n",
       "      <th>Effect: Indicated Damage</th>\n",
       "      <th>Aircraft: Number of engines?</th>\n",
       "      <th>Aircraft: Airline/Operator</th>\n",
       "      <th>Origin State</th>\n",
       "      <th>...</th>\n",
       "      <th>When: Time (HHMM)</th>\n",
       "      <th>When: Time of day</th>\n",
       "      <th>Pilot warned of birds or wildlife?</th>\n",
       "      <th>Cost: Aircraft time out of service (hours)</th>\n",
       "      <th>Cost: Other (inflation adj)</th>\n",
       "      <th>Cost: Repair (inflation adj)</th>\n",
       "      <th>Cost: Total $</th>\n",
       "      <th>Miles from airport</th>\n",
       "      <th>Feet above ground</th>\n",
       "      <th>Speed (IAS) in knots</th>\n",
       "    </tr>\n",
       "  </thead>\n",
       "  <tbody>\n",
       "    <tr>\n",
       "      <th>0</th>\n",
       "      <td>DETROIT METRO WAYNE COUNTY ARPT</td>\n",
       "      <td>&lt; 1000 ft</td>\n",
       "      <td>A-319</td>\n",
       "      <td>NaN</td>\n",
       "      <td>1/1/2005 0:00</td>\n",
       "      <td>227413</td>\n",
       "      <td>No damage</td>\n",
       "      <td>2</td>\n",
       "      <td>NORTHWEST AIRLINES</td>\n",
       "      <td>Michigan</td>\n",
       "      <td>...</td>\n",
       "      <td>NaN</td>\n",
       "      <td>NaN</td>\n",
       "      <td>NaN</td>\n",
       "      <td>NaN</td>\n",
       "      <td>0</td>\n",
       "      <td>0</td>\n",
       "      <td>0</td>\n",
       "      <td>NaN</td>\n",
       "      <td>400.0</td>\n",
       "      <td>NaN</td>\n",
       "    </tr>\n",
       "    <tr>\n",
       "      <th>1</th>\n",
       "      <td>DANE COUNTY REGIONAL ARPT-TRUAX FLD</td>\n",
       "      <td>&lt; 1000 ft</td>\n",
       "      <td>A-320</td>\n",
       "      <td>NaN</td>\n",
       "      <td>1/1/2005 0:00</td>\n",
       "      <td>226578</td>\n",
       "      <td>No damage</td>\n",
       "      <td>2</td>\n",
       "      <td>NORTHWEST AIRLINES</td>\n",
       "      <td>Wisconsin</td>\n",
       "      <td>...</td>\n",
       "      <td>NaN</td>\n",
       "      <td>NaN</td>\n",
       "      <td>NaN</td>\n",
       "      <td>NaN</td>\n",
       "      <td>0</td>\n",
       "      <td>0</td>\n",
       "      <td>0</td>\n",
       "      <td>0.0</td>\n",
       "      <td>0.0</td>\n",
       "      <td>NaN</td>\n",
       "    </tr>\n",
       "    <tr>\n",
       "      <th>2</th>\n",
       "      <td>HOGUE ARPT</td>\n",
       "      <td>&lt; 1000 ft</td>\n",
       "      <td>PA-46 MALIBU</td>\n",
       "      <td>NaN</td>\n",
       "      <td>1/1/2005 0:00</td>\n",
       "      <td>268383</td>\n",
       "      <td>Caused damage</td>\n",
       "      <td>1</td>\n",
       "      <td>PRIVATELY OWNED</td>\n",
       "      <td>Tennessee</td>\n",
       "      <td>...</td>\n",
       "      <td>NaN</td>\n",
       "      <td>Day</td>\n",
       "      <td>NaN</td>\n",
       "      <td>NaN</td>\n",
       "      <td>0</td>\n",
       "      <td>0</td>\n",
       "      <td>0</td>\n",
       "      <td>0.0</td>\n",
       "      <td>0.0</td>\n",
       "      <td>20.0</td>\n",
       "    </tr>\n",
       "    <tr>\n",
       "      <th>3</th>\n",
       "      <td>SACRAMENTO INTL</td>\n",
       "      <td>&lt; 1000 ft</td>\n",
       "      <td>B-737-300</td>\n",
       "      <td>None</td>\n",
       "      <td>1/1/2005 0:00</td>\n",
       "      <td>229514</td>\n",
       "      <td>Caused damage</td>\n",
       "      <td>2</td>\n",
       "      <td>SOUTHWEST AIRLINES</td>\n",
       "      <td>California</td>\n",
       "      <td>...</td>\n",
       "      <td>2140.0</td>\n",
       "      <td>Night</td>\n",
       "      <td>Y</td>\n",
       "      <td>NaN</td>\n",
       "      <td>0</td>\n",
       "      <td>117135</td>\n",
       "      <td>117135</td>\n",
       "      <td>NaN</td>\n",
       "      <td>500.0</td>\n",
       "      <td>142.0</td>\n",
       "    </tr>\n",
       "    <tr>\n",
       "      <th>4</th>\n",
       "      <td>GUARULHOS INTL</td>\n",
       "      <td>&lt; 1000 ft</td>\n",
       "      <td>B-767-300</td>\n",
       "      <td>NaN</td>\n",
       "      <td>1/1/2005 0:00</td>\n",
       "      <td>225661</td>\n",
       "      <td>No damage</td>\n",
       "      <td>2</td>\n",
       "      <td>UNITED AIRLINES</td>\n",
       "      <td>NaN</td>\n",
       "      <td>...</td>\n",
       "      <td>NaN</td>\n",
       "      <td>NaN</td>\n",
       "      <td>NaN</td>\n",
       "      <td>NaN</td>\n",
       "      <td>0</td>\n",
       "      <td>0</td>\n",
       "      <td>0</td>\n",
       "      <td>0.0</td>\n",
       "      <td>0.0</td>\n",
       "      <td>NaN</td>\n",
       "    </tr>\n",
       "  </tbody>\n",
       "</table>\n",
       "<p>5 rows × 23 columns</p>\n",
       "</div>"
      ],
      "text/plain": [
       "                         Airport: Name Altitude bin Aircraft: Make/Model  \\\n",
       "0      DETROIT METRO WAYNE COUNTY ARPT    < 1000 ft                A-319   \n",
       "1  DANE COUNTY REGIONAL ARPT-TRUAX FLD    < 1000 ft                A-320   \n",
       "2                           HOGUE ARPT    < 1000 ft         PA-46 MALIBU   \n",
       "3                      SACRAMENTO INTL    < 1000 ft            B-737-300   \n",
       "4                       GUARULHOS INTL    < 1000 ft            B-767-300   \n",
       "\n",
       "  Effect: Impact to flight     FlightDate  Record ID Effect: Indicated Damage  \\\n",
       "0                      NaN  1/1/2005 0:00     227413                No damage   \n",
       "1                      NaN  1/1/2005 0:00     226578                No damage   \n",
       "2                      NaN  1/1/2005 0:00     268383            Caused damage   \n",
       "3                     None  1/1/2005 0:00     229514            Caused damage   \n",
       "4                      NaN  1/1/2005 0:00     225661                No damage   \n",
       "\n",
       "  Aircraft: Number of engines? Aircraft: Airline/Operator Origin State  ...  \\\n",
       "0                            2         NORTHWEST AIRLINES     Michigan  ...   \n",
       "1                            2         NORTHWEST AIRLINES    Wisconsin  ...   \n",
       "2                            1            PRIVATELY OWNED    Tennessee  ...   \n",
       "3                            2         SOUTHWEST AIRLINES   California  ...   \n",
       "4                            2            UNITED AIRLINES          NaN  ...   \n",
       "\n",
       "  When: Time (HHMM) When: Time of day Pilot warned of birds or wildlife?  \\\n",
       "0               NaN               NaN                                NaN   \n",
       "1               NaN               NaN                                NaN   \n",
       "2               NaN               Day                                NaN   \n",
       "3            2140.0             Night                                  Y   \n",
       "4               NaN               NaN                                NaN   \n",
       "\n",
       "   Cost: Aircraft time out of service (hours) Cost: Other (inflation adj)  \\\n",
       "0                                         NaN                           0   \n",
       "1                                         NaN                           0   \n",
       "2                                         NaN                           0   \n",
       "3                                         NaN                           0   \n",
       "4                                         NaN                           0   \n",
       "\n",
       "  Cost: Repair (inflation adj)  Cost: Total $  Miles from airport  \\\n",
       "0                            0              0                 NaN   \n",
       "1                            0              0                 0.0   \n",
       "2                            0              0                 0.0   \n",
       "3                       117135         117135                 NaN   \n",
       "4                            0              0                 0.0   \n",
       "\n",
       "   Feet above ground  Speed (IAS) in knots  \n",
       "0              400.0                   NaN  \n",
       "1                0.0                   NaN  \n",
       "2                0.0                  20.0  \n",
       "3              500.0                 142.0  \n",
       "4                0.0                   NaN  \n",
       "\n",
       "[5 rows x 23 columns]"
      ]
     },
     "execution_count": 2,
     "metadata": {},
     "output_type": "execute_result"
    }
   ],
   "source": [
    "df = pd.read_csv('bird_strikes_data.csv', low_memory=False, thousands=',')\n",
    "df.head()"
   ]
  },
  {
   "cell_type": "code",
   "execution_count": 3,
   "id": "cfd46723",
   "metadata": {
    "execution": {
     "iopub.execute_input": "2021-10-19T17:36:52.385730Z",
     "iopub.status.busy": "2021-10-19T17:36:52.385044Z",
     "iopub.status.idle": "2021-10-19T17:36:52.496387Z",
     "shell.execute_reply": "2021-10-19T17:36:52.495858Z",
     "shell.execute_reply.started": "2021-09-24T11:52:12.584898Z"
    },
    "papermill": {
     "duration": 0.281603,
     "end_time": "2021-10-19T17:36:52.496584",
     "exception": false,
     "start_time": "2021-10-19T17:36:52.214981",
     "status": "completed"
    },
    "tags": []
   },
   "outputs": [
    {
     "name": "stdout",
     "output_type": "stream",
     "text": [
      "<class 'pandas.core.frame.DataFrame'>\n",
      "RangeIndex: 65610 entries, 0 to 65609\n",
      "Data columns (total 23 columns):\n",
      "Airport: Name                                 65601 non-null object\n",
      "Altitude bin                                  65610 non-null object\n",
      "Aircraft: Make/Model                          65610 non-null object\n",
      "Effect: Impact to flight                      36516 non-null object\n",
      "FlightDate                                    65610 non-null object\n",
      "Record ID                                     65610 non-null int64\n",
      "Effect: Indicated Damage                      65610 non-null object\n",
      "Aircraft: Number of engines?                  42766 non-null object\n",
      "Aircraft: Airline/Operator                    65610 non-null object\n",
      "Origin State                                  59163 non-null object\n",
      "When: Phase of flight                         41051 non-null object\n",
      "Wildlife: Size                                56684 non-null object\n",
      "Wildlife: Species                             65593 non-null object\n",
      "When: Time (HHMM)                             36636 non-null float64\n",
      "When: Time of day                             41858 non-null object\n",
      "Pilot warned of birds or wildlife?            28361 non-null object\n",
      "Cost: Aircraft time out of service (hours)    4363 non-null float64\n",
      "Cost: Other (inflation adj)                   65610 non-null int64\n",
      "Cost: Repair (inflation adj)                  65610 non-null int64\n",
      "Cost: Total $                                 65610 non-null int64\n",
      "Miles from airport                            37867 non-null float64\n",
      "Feet above ground                             35069 non-null float64\n",
      "Speed (IAS) in knots                          25315 non-null float64\n",
      "dtypes: float64(5), int64(4), object(14)\n",
      "memory usage: 11.5+ MB\n"
     ]
    }
   ],
   "source": [
    "df.info()"
   ]
  },
  {
   "cell_type": "markdown",
   "id": "cd27dabc",
   "metadata": {
    "papermill": {
     "duration": 0.16245,
     "end_time": "2021-10-19T17:36:52.822242",
     "exception": false,
     "start_time": "2021-10-19T17:36:52.659792",
     "status": "completed"
    },
    "tags": []
   },
   "source": [
    "Viele Daten nur unvollständig vorhanden, teilweise fast nur NaNs. Imputiere Daten falls möglich. Allerdings werden viele Datenstätze verworfen werden müssen. Einige Spalten wie \"Record ID\" und diverse Kosten sind für Fragestellung irrelevant und können ganz weggelassen werden."
   ]
  },
  {
   "cell_type": "code",
   "execution_count": 4,
   "id": "b447a81a",
   "metadata": {
    "execution": {
     "iopub.execute_input": "2021-10-19T17:36:53.153324Z",
     "iopub.status.busy": "2021-10-19T17:36:53.152692Z",
     "iopub.status.idle": "2021-10-19T17:36:53.282063Z",
     "shell.execute_reply": "2021-10-19T17:36:53.281367Z",
     "shell.execute_reply.started": "2021-09-24T11:52:12.705124Z"
    },
    "papermill": {
     "duration": 0.296099,
     "end_time": "2021-10-19T17:36:53.282214",
     "exception": false,
     "start_time": "2021-10-19T17:36:52.986115",
     "status": "completed"
    },
    "scrolled": true,
    "tags": []
   },
   "outputs": [
    {
     "name": "stdout",
     "output_type": "stream",
     "text": [
      "<class 'pandas.core.frame.DataFrame'>\n",
      "Int64Index: 7243 entries, 5 to 65607\n",
      "Data columns (total 18 columns):\n",
      "Airport: Name                         7243 non-null object\n",
      "Altitude bin                          7243 non-null object\n",
      "Aircraft: Make/Model                  7243 non-null object\n",
      "Effect: Impact to flight              7243 non-null object\n",
      "FlightDate                            7243 non-null object\n",
      "Effect: Indicated Damage              7243 non-null object\n",
      "Aircraft: Number of engines?          7243 non-null object\n",
      "Aircraft: Airline/Operator            7243 non-null object\n",
      "Origin State                          7243 non-null object\n",
      "When: Phase of flight                 7243 non-null object\n",
      "Wildlife: Size                        7243 non-null object\n",
      "Wildlife: Species                     7243 non-null object\n",
      "When: Time (HHMM)                     7243 non-null float64\n",
      "When: Time of day                     7243 non-null object\n",
      "Pilot warned of birds or wildlife?    7243 non-null object\n",
      "Miles from airport                    7243 non-null float64\n",
      "Feet above ground                     7243 non-null float64\n",
      "Speed (IAS) in knots                  7243 non-null float64\n",
      "dtypes: float64(4), object(14)\n",
      "memory usage: 1.0+ MB\n"
     ]
    }
   ],
   "source": [
    "# entferne testweise alle nutzlosen Spalten und dann alle NaNs\n",
    "df.drop(columns=['Record ID',\n",
    "                 'Cost: Other (inflation adj)',\n",
    "                 'Cost: Repair (inflation adj)',\n",
    "                 'Cost: Total $',\n",
    "                 'Cost: Aircraft time out of service (hours)']).dropna().info()"
   ]
  },
  {
   "cell_type": "markdown",
   "id": "ea3b4339",
   "metadata": {
    "papermill": {
     "duration": 0.163499,
     "end_time": "2021-10-19T17:36:53.610710",
     "exception": false,
     "start_time": "2021-10-19T17:36:53.447211",
     "status": "completed"
    },
    "tags": []
   },
   "source": [
    "## Erkenntniss:\n",
    "Großteil der Daten geht verloren! Feinere Datenbereinigung nötig!"
   ]
  },
  {
   "cell_type": "markdown",
   "id": "5061600b",
   "metadata": {
    "papermill": {
     "duration": 0.164316,
     "end_time": "2021-10-19T17:36:53.990162",
     "exception": false,
     "start_time": "2021-10-19T17:36:53.825846",
     "status": "completed"
    },
    "tags": []
   },
   "source": [
    "# Untersuche Struktur und Eigenschaften der Spaltendaten\n",
    "\n",
    "## Entwickle Strategien und setze diese im Abschnitt Datenbereinigung um"
   ]
  },
  {
   "cell_type": "markdown",
   "id": "ca4e5da0",
   "metadata": {
    "papermill": {
     "duration": 0.165206,
     "end_time": "2021-10-19T17:36:54.321075",
     "exception": false,
     "start_time": "2021-10-19T17:36:54.155869",
     "status": "completed"
    },
    "tags": []
   },
   "source": [
    "## Airport: Name"
   ]
  },
  {
   "cell_type": "code",
   "execution_count": 5,
   "id": "1c598566",
   "metadata": {
    "execution": {
     "iopub.execute_input": "2021-10-19T17:36:54.653401Z",
     "iopub.status.busy": "2021-10-19T17:36:54.652792Z",
     "iopub.status.idle": "2021-10-19T17:36:54.665493Z",
     "shell.execute_reply": "2021-10-19T17:36:54.666058Z",
     "shell.execute_reply.started": "2021-09-24T11:52:12.833437Z"
    },
    "papermill": {
     "duration": 0.180203,
     "end_time": "2021-10-19T17:36:54.666227",
     "exception": false,
     "start_time": "2021-10-19T17:36:54.486024",
     "status": "completed"
    },
    "tags": []
   },
   "outputs": [
    {
     "data": {
      "text/plain": [
       "9"
      ]
     },
     "execution_count": 5,
     "metadata": {},
     "output_type": "execute_result"
    }
   ],
   "source": [
    "df['Airport: Name'].isna().sum()"
   ]
  },
  {
   "cell_type": "code",
   "execution_count": 6,
   "id": "e369898f",
   "metadata": {
    "execution": {
     "iopub.execute_input": "2021-10-19T17:36:55.009564Z",
     "iopub.status.busy": "2021-10-19T17:36:54.998497Z",
     "iopub.status.idle": "2021-10-19T17:36:55.015868Z",
     "shell.execute_reply": "2021-10-19T17:36:55.016339Z",
     "shell.execute_reply.started": "2021-09-24T11:52:12.847433Z"
    },
    "papermill": {
     "duration": 0.187918,
     "end_time": "2021-10-19T17:36:55.016537",
     "exception": false,
     "start_time": "2021-10-19T17:36:54.828619",
     "status": "completed"
    },
    "tags": []
   },
   "outputs": [
    {
     "data": {
      "text/plain": [
       "UNKNOWN                                5989\n",
       "DENVER INTL AIRPORT                    2351\n",
       "DALLAS/FORT WORTH INTL ARPT            1819\n",
       "MEMPHIS INTL                           1234\n",
       "JOHN F KENNEDY INTL                    1228\n",
       "CHICAGO O'HARE INTL ARPT               1124\n",
       "SACRAMENTO INTL                        1041\n",
       "LOUISVILLE INTL ARPT                    964\n",
       "SALT LAKE CITY INTL                     849\n",
       "KANSAS CITY INTL                        846\n",
       "ORLANDO INTL                            792\n",
       "LAGUARDIA NY                            743\n",
       "PHILADELPHIA INTL                       708\n",
       "NEW ORLEANS INTL                        695\n",
       "NEWARK LIBERTY INTL ARPT                691\n",
       "DETROIT METRO WAYNE COUNTY ARPT         679\n",
       "CLEVELAND-HOPKINS INTL ARPT             659\n",
       "PORTLAND INTL (OR)                      654\n",
       "AUSTIN-BERGSTROM INTL                   648\n",
       "BALTIMORE WASH INTL                     618\n",
       "HOUSTON-HOBBY                           617\n",
       "MINNEAPOLIS-ST PAUL INTL                609\n",
       "WASHINGTON DULLES INTL ARPT             603\n",
       "PHOENIX SKY HARBOR                      585\n",
       "LOGAN INTL                              572\n",
       "TETERBORO AIRPORT                       551\n",
       "EPPLEY AIRFIELD                         531\n",
       "GEORGE BUSH INTERCONTINENTAL            499\n",
       "LOS ANGELES INTL                        496\n",
       "INDIANAPOLIS INTL                       493\n",
       "                                       ... \n",
       "ROTA                                      1\n",
       "SAN LUIS VALLEY REGIONAL                  1\n",
       "COMPTON/WOODLEY ARPT                      1\n",
       "PETER PRINCE FIELD ARPT                   1\n",
       "TAPPAHANNOCK-ESSEX COUNTY                 1\n",
       "GARNER FIELD ARPT                         1\n",
       "ANACORTES                                 1\n",
       "NASH FIELD INDIANOLA (PVT)                1\n",
       "BURLINGTON-ALAMANCE REGIONAL              1\n",
       "TAHITI FAAA                               1\n",
       "SUNRIVER                                  1\n",
       "DEL RIO INTL ARPT                         1\n",
       "MERRILL MUNICIPAL ARPT                    1\n",
       "SKY HARBOR                                1\n",
       "VICKSBURG TALLULAH REGIONAL ARPT          1\n",
       "HUMBERSIDE                                1\n",
       "WILDER ARPT                               1\n",
       "ELK GROVE ARPT                            1\n",
       "STOCKTON MUNICIPAL ARPT                   1\n",
       "FOX STEPHENS FIELD-GILMER MUNI ARPT       1\n",
       "MARSHFIELD MUNI/G HARLOW FLD              1\n",
       "CORDOVA MUNICIPAL ARPT                    1\n",
       "SKAGIT REGIONAL                           1\n",
       "BEAVER ISLAND ARPT                        1\n",
       "ANIAK AIRPORT                             1\n",
       "MATINICUS ISLAND ARPT                     1\n",
       "BLANDING MUNICIPAL                        1\n",
       "TYLER POUNDS FIELD                        1\n",
       "MOJAVE ARPT                               1\n",
       "MIDDLE PENINSULA REGIONAL ARPT            1\n",
       "Name: Airport: Name, Length: 1448, dtype: int64"
      ]
     },
     "execution_count": 6,
     "metadata": {},
     "output_type": "execute_result"
    }
   ],
   "source": [
    "vcounts = df['Airport: Name'].value_counts()\n",
    "vcounts"
   ]
  },
  {
   "cell_type": "code",
   "execution_count": 7,
   "id": "bbd74e31",
   "metadata": {
    "execution": {
     "iopub.execute_input": "2021-10-19T17:36:55.358485Z",
     "iopub.status.busy": "2021-10-19T17:36:55.349522Z",
     "iopub.status.idle": "2021-10-19T17:36:55.361165Z",
     "shell.execute_reply": "2021-10-19T17:36:55.360515Z",
     "shell.execute_reply.started": "2021-09-24T11:52:12.870518Z"
    },
    "papermill": {
     "duration": 0.178257,
     "end_time": "2021-10-19T17:36:55.361309",
     "exception": false,
     "start_time": "2021-10-19T17:36:55.183052",
     "status": "completed"
    },
    "tags": []
   },
   "outputs": [],
   "source": [
    "# füge die Spaltennamen zu einem großen String zusammen\n",
    "full_string = ' '.join(list(df['Airport: Name'].astype(str).values))"
   ]
  },
  {
   "cell_type": "code",
   "execution_count": 8,
   "id": "157de54e",
   "metadata": {
    "execution": {
     "iopub.execute_input": "2021-10-19T17:36:55.694161Z",
     "iopub.status.busy": "2021-10-19T17:36:55.693139Z",
     "iopub.status.idle": "2021-10-19T17:36:55.745836Z",
     "shell.execute_reply": "2021-10-19T17:36:55.746378Z",
     "shell.execute_reply.started": "2021-09-24T11:52:12.884011Z"
    },
    "papermill": {
     "duration": 0.220574,
     "end_time": "2021-10-19T17:36:55.746564",
     "exception": false,
     "start_time": "2021-10-19T17:36:55.525990",
     "status": "completed"
    },
    "tags": []
   },
   "outputs": [
    {
     "data": {
      "text/plain": [
       "[('INTL', 36256),\n",
       " ('ARPT', 18847),\n",
       " ('UNKNOWN', 5989),\n",
       " ('AIRPORT', 3715),\n",
       " ('REGIONAL', 2525),\n",
       " ('CITY', 2379),\n",
       " ('DENVER', 2351),\n",
       " ('AIR', 2270),\n",
       " ('BASE', 2033),\n",
       " ('FORCE', 1997),\n",
       " ('WORTH', 1952),\n",
       " ('DALLAS/FORT', 1819),\n",
       " ('COUNTY', 1721),\n",
       " ('MUNICIPAL', 1711),\n",
       " ('FIELD', 1653),\n",
       " ('CHICAGO', 1624),\n",
       " ('SAN', 1458),\n",
       " ('METRO', 1431),\n",
       " ('JOHN', 1372),\n",
       " ('F', 1239),\n",
       " ('MEMPHIS', 1234),\n",
       " ('KENNEDY', 1228),\n",
       " (\"O'HARE\", 1124),\n",
       " ('SACRAMENTO', 1104),\n",
       " ('LOUISVILLE', 964),\n",
       " ('ORLANDO', 941),\n",
       " ('WAYNE', 905),\n",
       " ('WASHINGTON', 900),\n",
       " ('LAKE', 882),\n",
       " ('GREATER', 859),\n",
       " ('SALT', 849),\n",
       " ('KANSAS', 847),\n",
       " ('PORTLAND', 773),\n",
       " ('NEW', 773),\n",
       " ('LAGUARDIA', 743),\n",
       " ('NY', 743),\n",
       " ('PHILADELPHIA', 720),\n",
       " ('FORT', 714),\n",
       " ('ORLEANS', 695),\n",
       " ('NEWARK', 691),\n",
       " ('LIBERTY', 691),\n",
       " ('DETROIT', 679),\n",
       " ('CLEVELAND-HOPKINS', 659),\n",
       " ('(OR)', 655),\n",
       " ('AUSTIN-BERGSTROM', 653),\n",
       " ('PAUL', 633),\n",
       " ('AIRFIELD', 629),\n",
       " ('WASH', 618),\n",
       " ('BALTIMORE', 618),\n",
       " ('HOUSTON-HOBBY', 617)]"
      ]
     },
     "execution_count": 8,
     "metadata": {},
     "output_type": "execute_result"
    }
   ],
   "source": [
    "# Counter aus collections, zähle Häufigkeit von Namensfragmenten\n",
    "Counter(full_string.split(' ')).most_common(50)"
   ]
  },
  {
   "cell_type": "markdown",
   "id": "71175554",
   "metadata": {
    "papermill": {
     "duration": 0.16461,
     "end_time": "2021-10-19T17:36:56.076176",
     "exception": false,
     "start_time": "2021-10-19T17:36:55.911566",
     "status": "completed"
    },
    "tags": []
   },
   "source": [
    "### Ansatz:\n",
    "Unterscheide Flughäfen nach Typ: INTL, REGIONAL, MUNICIPAL, FORCE|BASE|AIR FIELD|AIRFIELD, COUNTY, METRO\n",
    "\n",
    "### Umgang mit fehlenden Werten:\n",
    "Setze NaN und Unknown gleich, nicht ohne weiteres zu imputieren, nur 10% fehlende Werte, am besten Zeilen dropen"
   ]
  },
  {
   "cell_type": "markdown",
   "id": "d22675c8",
   "metadata": {
    "papermill": {
     "duration": 0.165117,
     "end_time": "2021-10-19T17:36:56.407362",
     "exception": false,
     "start_time": "2021-10-19T17:36:56.242245",
     "status": "completed"
    },
    "tags": []
   },
   "source": [
    "## Altitude bin"
   ]
  },
  {
   "cell_type": "code",
   "execution_count": 9,
   "id": "403319b2",
   "metadata": {
    "execution": {
     "iopub.execute_input": "2021-10-19T17:36:56.749216Z",
     "iopub.status.busy": "2021-10-19T17:36:56.748266Z",
     "iopub.status.idle": "2021-10-19T17:36:56.753029Z",
     "shell.execute_reply": "2021-10-19T17:36:56.753636Z",
     "shell.execute_reply.started": "2021-09-24T11:52:12.944474Z"
    },
    "papermill": {
     "duration": 0.183544,
     "end_time": "2021-10-19T17:36:56.753819",
     "exception": false,
     "start_time": "2021-10-19T17:36:56.570275",
     "status": "completed"
    },
    "tags": []
   },
   "outputs": [
    {
     "data": {
      "text/plain": [
       "0"
      ]
     },
     "execution_count": 9,
     "metadata": {},
     "output_type": "execute_result"
    }
   ],
   "source": [
    "df['Altitude bin'].isna().sum()"
   ]
  },
  {
   "cell_type": "code",
   "execution_count": 10,
   "id": "7b0b8c9d",
   "metadata": {
    "execution": {
     "iopub.execute_input": "2021-10-19T17:36:57.093211Z",
     "iopub.status.busy": "2021-10-19T17:36:57.092515Z",
     "iopub.status.idle": "2021-10-19T17:36:57.108123Z",
     "shell.execute_reply": "2021-10-19T17:36:57.108681Z",
     "shell.execute_reply.started": "2021-09-24T11:52:12.961407Z"
    },
    "papermill": {
     "duration": 0.186001,
     "end_time": "2021-10-19T17:36:57.108862",
     "exception": false,
     "start_time": "2021-10-19T17:36:56.922861",
     "status": "completed"
    },
    "tags": []
   },
   "outputs": [
    {
     "data": {
      "text/plain": [
       "Unknown      30541\n",
       "< 1000 ft    27523\n",
       "> 1000 ft     7546\n",
       "Name: Altitude bin, dtype: int64"
      ]
     },
     "execution_count": 10,
     "metadata": {},
     "output_type": "execute_result"
    }
   ],
   "source": [
    "vcounts = df['Altitude bin'].value_counts()\n",
    "vcounts"
   ]
  },
  {
   "cell_type": "code",
   "execution_count": 11,
   "id": "ff66f710",
   "metadata": {
    "execution": {
     "iopub.execute_input": "2021-10-19T17:36:57.452867Z",
     "iopub.status.busy": "2021-10-19T17:36:57.452228Z",
     "iopub.status.idle": "2021-10-19T17:36:57.477719Z",
     "shell.execute_reply": "2021-10-19T17:36:57.478264Z",
     "shell.execute_reply.started": "2021-09-24T11:52:12.982198Z"
    },
    "papermill": {
     "duration": 0.201585,
     "end_time": "2021-10-19T17:36:57.478437",
     "exception": false,
     "start_time": "2021-10-19T17:36:57.276852",
     "status": "completed"
    },
    "tags": []
   },
   "outputs": [
    {
     "data": {
      "text/html": [
       "<div>\n",
       "<style scoped>\n",
       "    .dataframe tbody tr th:only-of-type {\n",
       "        vertical-align: middle;\n",
       "    }\n",
       "\n",
       "    .dataframe tbody tr th {\n",
       "        vertical-align: top;\n",
       "    }\n",
       "\n",
       "    .dataframe thead th {\n",
       "        text-align: right;\n",
       "    }\n",
       "</style>\n",
       "<table border=\"1\" class=\"dataframe\">\n",
       "  <thead>\n",
       "    <tr style=\"text-align: right;\">\n",
       "      <th></th>\n",
       "      <th>Airport: Name</th>\n",
       "      <th>Altitude bin</th>\n",
       "      <th>Aircraft: Make/Model</th>\n",
       "      <th>Effect: Impact to flight</th>\n",
       "      <th>FlightDate</th>\n",
       "      <th>Record ID</th>\n",
       "      <th>Effect: Indicated Damage</th>\n",
       "      <th>Aircraft: Number of engines?</th>\n",
       "      <th>Aircraft: Airline/Operator</th>\n",
       "      <th>Origin State</th>\n",
       "      <th>...</th>\n",
       "      <th>When: Time (HHMM)</th>\n",
       "      <th>When: Time of day</th>\n",
       "      <th>Pilot warned of birds or wildlife?</th>\n",
       "      <th>Cost: Aircraft time out of service (hours)</th>\n",
       "      <th>Cost: Other (inflation adj)</th>\n",
       "      <th>Cost: Repair (inflation adj)</th>\n",
       "      <th>Cost: Total $</th>\n",
       "      <th>Miles from airport</th>\n",
       "      <th>Feet above ground</th>\n",
       "      <th>Speed (IAS) in knots</th>\n",
       "    </tr>\n",
       "  </thead>\n",
       "  <tbody>\n",
       "  </tbody>\n",
       "</table>\n",
       "<p>0 rows × 23 columns</p>\n",
       "</div>"
      ],
      "text/plain": [
       "Empty DataFrame\n",
       "Columns: [Airport: Name, Altitude bin, Aircraft: Make/Model, Effect: Impact to flight, FlightDate, Record ID, Effect: Indicated Damage, Aircraft: Number of engines?, Aircraft: Airline/Operator, Origin State, When: Phase of flight, Wildlife: Size, Wildlife: Species, When: Time (HHMM), When: Time of day, Pilot warned of birds or wildlife?, Cost: Aircraft time out of service (hours), Cost: Other (inflation adj), Cost: Repair (inflation adj), Cost: Total $, Miles from airport, Feet above ground, Speed (IAS) in knots]\n",
       "Index: []\n",
       "\n",
       "[0 rows x 23 columns]"
      ]
     },
     "execution_count": 11,
     "metadata": {},
     "output_type": "execute_result"
    }
   ],
   "source": [
    "# prüfe, ob es Datenstätze gibt bei denen 'Altitude bin' unbestimmt ist obwohl die Flughöhe bekannt ist\n",
    "df[(df['Feet above ground'].isna == False) & (df['Altitude bin'] != 'Unknown')]"
   ]
  },
  {
   "cell_type": "markdown",
   "id": "90eb0a50",
   "metadata": {
    "papermill": {
     "duration": 0.166948,
     "end_time": "2021-10-19T17:36:57.819384",
     "exception": false,
     "start_time": "2021-10-19T17:36:57.652436",
     "status": "completed"
    },
    "tags": []
   },
   "source": [
    "### Ansatz:\n",
    "Behalte binäre unterscheidung bei.\n",
    "\n",
    "### Umgang mit fehlenden Werten:\n",
    "Sehr viele Unknown/NaN. Theoretisch imputierbar durch \"Feet above ground\", aber die sind immer gleichzeitig NaN. Vermutlich wichtige Zeile -> es müssen wohl viele Zeilen gelöscht werden."
   ]
  },
  {
   "cell_type": "markdown",
   "id": "b807eac2",
   "metadata": {
    "papermill": {
     "duration": 0.166838,
     "end_time": "2021-10-19T17:36:58.155020",
     "exception": false,
     "start_time": "2021-10-19T17:36:57.988182",
     "status": "completed"
    },
    "tags": []
   },
   "source": [
    "## Aircraft: Make/Model"
   ]
  },
  {
   "cell_type": "code",
   "execution_count": 12,
   "id": "ab9d3639",
   "metadata": {
    "execution": {
     "iopub.execute_input": "2021-10-19T17:36:58.490959Z",
     "iopub.status.busy": "2021-10-19T17:36:58.490289Z",
     "iopub.status.idle": "2021-10-19T17:36:58.503750Z",
     "shell.execute_reply": "2021-10-19T17:36:58.504328Z",
     "shell.execute_reply.started": "2021-09-24T11:52:13.013112Z"
    },
    "papermill": {
     "duration": 0.183722,
     "end_time": "2021-10-19T17:36:58.504517",
     "exception": false,
     "start_time": "2021-10-19T17:36:58.320795",
     "status": "completed"
    },
    "tags": []
   },
   "outputs": [
    {
     "data": {
      "text/plain": [
       "0"
      ]
     },
     "execution_count": 12,
     "metadata": {},
     "output_type": "execute_result"
    }
   ],
   "source": [
    "df['Aircraft: Make/Model'].isna().sum()"
   ]
  },
  {
   "cell_type": "code",
   "execution_count": 13,
   "id": "7be78b7e",
   "metadata": {
    "execution": {
     "iopub.execute_input": "2021-10-19T17:36:58.839556Z",
     "iopub.status.busy": "2021-10-19T17:36:58.838376Z",
     "iopub.status.idle": "2021-10-19T17:36:58.856525Z",
     "shell.execute_reply": "2021-10-19T17:36:58.855937Z",
     "shell.execute_reply.started": "2021-09-24T11:52:13.036921Z"
    },
    "papermill": {
     "duration": 0.187728,
     "end_time": "2021-10-19T17:36:58.856681",
     "exception": false,
     "start_time": "2021-10-19T17:36:58.668953",
     "status": "completed"
    },
    "tags": []
   },
   "outputs": [
    {
     "data": {
      "text/plain": [
       "UNKNOWN                 19540\n",
       "B-737-700                3634\n",
       "CL-RJ100/200             3133\n",
       "B-737-300                2912\n",
       "A-320                    2825\n",
       "B-757-200                2363\n",
       "A-319                    1967\n",
       "A-300                    1748\n",
       "EMB-145                  1618\n",
       "B-737-800                1132\n",
       "CL-RJ700                  964\n",
       "B-767-300                 907\n",
       "DHC8 DASH 8               883\n",
       "MD-11                     779\n",
       "B-727-200                 770\n",
       "MD-82                     722\n",
       "B-717-200                 690\n",
       "CL-RJ900                  614\n",
       "B-737-500                 551\n",
       "DC-10-10                  529\n",
       "EMB-190                   521\n",
       "EMB-170                   514\n",
       "C-172                     495\n",
       "MD-88                     449\n",
       "MD-83                     438\n",
       "B-737-400                 437\n",
       "BE-1900                   421\n",
       "A-310                     412\n",
       "EMB-135                   403\n",
       "C-130                     389\n",
       "                        ...  \n",
       "BELL-205A1                  1\n",
       "CT-43A                      1\n",
       "C-12J                       1\n",
       "AEROSTAR 600                1\n",
       "AEROS SA315                 1\n",
       "ERCO 415                    1\n",
       "LUSCOMBE 8                  1\n",
       "BE-24R SIERRA               1\n",
       "B-1B                        1\n",
       "BELL-427                    1\n",
       "DHC3-OTTER                  1\n",
       "ALON A2                     1\n",
       "MD-520                      1\n",
       "BA-146-200                  1\n",
       "GRUMMAN G73                 1\n",
       "LAKE LA4-200                1\n",
       "SWEARINGIN                  1\n",
       "DC-3                        1\n",
       "C-337                       1\n",
       "HUGHES 500                  1\n",
       "C-401                       1\n",
       "FOKKER F27                  1\n",
       "C-305                       1\n",
       "C-U206F                     1\n",
       "AGUST WESTLAND EH101        1\n",
       "C-9                         1\n",
       "AVIAT PITTS S1              1\n",
       "EC-135L                     1\n",
       "DORNIER 228                 1\n",
       "BELL EH-1H                  1\n",
       "Name: Aircraft: Make/Model, Length: 454, dtype: int64"
      ]
     },
     "execution_count": 13,
     "metadata": {},
     "output_type": "execute_result"
    }
   ],
   "source": [
    "vcounts = df['Aircraft: Make/Model'].value_counts()\n",
    "vcounts"
   ]
  },
  {
   "cell_type": "code",
   "execution_count": 14,
   "id": "0c41fcb7",
   "metadata": {
    "execution": {
     "iopub.execute_input": "2021-10-19T17:36:59.196853Z",
     "iopub.status.busy": "2021-10-19T17:36:59.195792Z",
     "iopub.status.idle": "2021-10-19T17:36:59.352590Z",
     "shell.execute_reply": "2021-10-19T17:36:59.352064Z",
     "shell.execute_reply.started": "2021-09-24T11:52:13.058132Z"
    },
    "papermill": {
     "duration": 0.329675,
     "end_time": "2021-10-19T17:36:59.352738",
     "exception": false,
     "start_time": "2021-10-19T17:36:59.023063",
     "status": "completed"
    },
    "tags": []
   },
   "outputs": [
    {
     "data": {
      "text/plain": [
       "UNKNOWN         19540\n",
       "B               15437\n",
       "A                7438\n",
       "CL               4853\n",
       "EMB              3347\n",
       "C                3257\n",
       "MD               2695\n",
       "DC               1595\n",
       "BE               1147\n",
       "DHC8              883\n",
       "PA                560\n",
       "KC                378\n",
       "LEARJET           364\n",
       "T                 345\n",
       "SAAB              320\n",
       "F                 298\n",
       "DA                241\n",
       "AEROS             178\n",
       "BELL              176\n",
       "EC                169\n",
       "HAWKER            152\n",
       "LOCKHEED          139\n",
       "CIRRUS            134\n",
       "GULFAERO          128\n",
       "CRJ               125\n",
       "CITATION          119\n",
       "ATR               113\n",
       "CITATIONJET        92\n",
       "BA                 76\n",
       "CHALLENGER         69\n",
       "                ...  \n",
       "MQ9                 2\n",
       "FLIGHT              2\n",
       "MAULE               2\n",
       "CHAMPION            2\n",
       "EADS                2\n",
       "U                   2\n",
       "HELICOPTER          2\n",
       "PARTENAVIA68        2\n",
       "AEROSTAR            1\n",
       "F/A                 1\n",
       "CAP                 1\n",
       "ALON                1\n",
       "AMD                 1\n",
       "SABRLNR             1\n",
       "ZODIAC              1\n",
       "LUSCOMBE            1\n",
       "CANADAIR            1\n",
       "HELIO               1\n",
       "LIBERTY             1\n",
       "GLOBE               1\n",
       "DHC7                1\n",
       "ERCO                1\n",
       "DHC3                1\n",
       "CT                  1\n",
       "LAKE                1\n",
       "URBAN               1\n",
       "AGUST               1\n",
       "GROB                1\n",
       "SWEARINGIN          1\n",
       "PIPERSPORT          1\n",
       "Name: Aircraft: Make/Model, Length: 125, dtype: int64"
      ]
     },
     "execution_count": 14,
     "metadata": {},
     "output_type": "execute_result"
    }
   ],
   "source": [
    "# reduziere Modellbezeichnungen auf ersten Ausdruck vor ' ' bzw. '-'\n",
    "# Model zu Hersteller\n",
    "vcounts = df['Aircraft: Make/Model'].apply(lambda x: re.split(' |-', str(x))[0]).value_counts()\n",
    "vcounts"
   ]
  },
  {
   "cell_type": "code",
   "execution_count": 15,
   "id": "dcecad95",
   "metadata": {
    "execution": {
     "iopub.execute_input": "2021-10-19T17:36:59.694388Z",
     "iopub.status.busy": "2021-10-19T17:36:59.693394Z",
     "iopub.status.idle": "2021-10-19T17:36:59.699639Z",
     "shell.execute_reply": "2021-10-19T17:36:59.700207Z",
     "shell.execute_reply.started": "2021-09-24T11:52:13.219943Z"
    },
    "papermill": {
     "duration": 0.17662,
     "end_time": "2021-10-19T17:36:59.700373",
     "exception": false,
     "start_time": "2021-10-19T17:36:59.523753",
     "status": "completed"
    },
    "tags": []
   },
   "outputs": [
    {
     "data": {
      "text/plain": [
       "array(['UNKNOWN', 'B', 'A', 'CL', 'EMB', 'C', 'MD', 'DC', 'BE', 'DHC8',\n",
       "       'PA', 'KC', 'LEARJET', 'T', 'SAAB', 'F', 'DA', 'AEROS', 'BELL',\n",
       "       'EC', 'HAWKER', 'LOCKHEED', 'CIRRUS', 'GULFAERO', 'CRJ',\n",
       "       'CITATION', 'ATR'], dtype=object)"
      ]
     },
     "execution_count": 15,
     "metadata": {},
     "output_type": "execute_result"
    }
   ],
   "source": [
    "significant_ModelClasses = vcounts[vcounts > 100].index.values\n",
    "significant_ModelClasses"
   ]
  },
  {
   "cell_type": "markdown",
   "id": "0cad4907",
   "metadata": {
    "papermill": {
     "duration": 0.167673,
     "end_time": "2021-10-19T17:37:00.033818",
     "exception": false,
     "start_time": "2021-10-19T17:36:59.866145",
     "status": "completed"
    },
    "tags": []
   },
   "source": [
    "### Ansatz:\n",
    "Ordne alle Modelle der Liste signifikanter ModelKlassen zu oder zu UNKNOWN bzw. MISC.\n",
    "\n",
    "### Umgang mit fehlenden Werten:\n",
    "Viele Unkowns. Nicht inputierbar. Wichtige Daten. Datensätze wo Typ fehlt haben allgemein viele fehlende Werte. Am besten Zeilen dropen."
   ]
  },
  {
   "cell_type": "markdown",
   "id": "b102b676",
   "metadata": {
    "papermill": {
     "duration": 0.166187,
     "end_time": "2021-10-19T17:37:00.365205",
     "exception": false,
     "start_time": "2021-10-19T17:37:00.199018",
     "status": "completed"
    },
    "tags": []
   },
   "source": [
    "## Effect: Impact to flight"
   ]
  },
  {
   "cell_type": "code",
   "execution_count": 16,
   "id": "3b723f8c",
   "metadata": {
    "execution": {
     "iopub.execute_input": "2021-10-19T17:37:00.704563Z",
     "iopub.status.busy": "2021-10-19T17:37:00.703617Z",
     "iopub.status.idle": "2021-10-19T17:37:00.715927Z",
     "shell.execute_reply": "2021-10-19T17:37:00.716527Z",
     "shell.execute_reply.started": "2021-09-24T11:52:13.229322Z"
    },
    "papermill": {
     "duration": 0.182911,
     "end_time": "2021-10-19T17:37:00.716701",
     "exception": false,
     "start_time": "2021-10-19T17:37:00.533790",
     "status": "completed"
    },
    "tags": []
   },
   "outputs": [
    {
     "data": {
      "text/plain": [
       "None                     33247\n",
       "Precautionary Landing     1767\n",
       "Other                      812\n",
       "Aborted Take-off           594\n",
       "Engine Shut Down            96\n",
       "Name: Effect: Impact to flight, dtype: int64"
      ]
     },
     "execution_count": 16,
     "metadata": {},
     "output_type": "execute_result"
    }
   ],
   "source": [
    "vcounts = df['Effect: Impact to flight'].value_counts()\n",
    "vcounts"
   ]
  },
  {
   "cell_type": "code",
   "execution_count": 17,
   "id": "1d496e34",
   "metadata": {
    "execution": {
     "iopub.execute_input": "2021-10-19T17:37:01.068686Z",
     "iopub.status.busy": "2021-10-19T17:37:01.067881Z",
     "iopub.status.idle": "2021-10-19T17:37:01.073412Z",
     "shell.execute_reply": "2021-10-19T17:37:01.072871Z",
     "shell.execute_reply.started": "2021-09-24T11:52:13.248661Z"
    },
    "papermill": {
     "duration": 0.183724,
     "end_time": "2021-10-19T17:37:01.073687",
     "exception": false,
     "start_time": "2021-10-19T17:37:00.889963",
     "status": "completed"
    },
    "tags": []
   },
   "outputs": [
    {
     "data": {
      "text/plain": [
       "29094"
      ]
     },
     "execution_count": 17,
     "metadata": {},
     "output_type": "execute_result"
    }
   ],
   "source": [
    "df['Effect: Impact to flight'].isna().sum()"
   ]
  },
  {
   "cell_type": "markdown",
   "id": "44ce7fa2",
   "metadata": {
    "papermill": {
     "duration": 0.167359,
     "end_time": "2021-10-19T17:37:01.416270",
     "exception": false,
     "start_time": "2021-10-19T17:37:01.248911",
     "status": "completed"
    },
    "tags": []
   },
   "source": [
    "### Ansatz:\n",
    "Behalte Kategorisierung bei.\n",
    "\n",
    "### Umgang mit fehlenden Werten:\n",
    "Sehr viele NaNs/None. Nur unter starker Annahme imputierbar.\n",
    "\n",
    "### Annahme:\n",
    "Nehme an NaNs sind in Wahrheit None. Tatsächliche Schäden, Flugabbrüche und Notlandungen wären sehr wahrscheinlich gemeldet worden"
   ]
  },
  {
   "cell_type": "markdown",
   "id": "73b60a15",
   "metadata": {
    "papermill": {
     "duration": 0.168201,
     "end_time": "2021-10-19T17:37:01.755194",
     "exception": false,
     "start_time": "2021-10-19T17:37:01.586993",
     "status": "completed"
    },
    "tags": []
   },
   "source": [
    "## FlightDate"
   ]
  },
  {
   "cell_type": "code",
   "execution_count": 18,
   "id": "eaedf6fc",
   "metadata": {
    "execution": {
     "iopub.execute_input": "2021-10-19T17:37:02.124714Z",
     "iopub.status.busy": "2021-10-19T17:37:02.123588Z",
     "iopub.status.idle": "2021-10-19T17:37:02.130911Z",
     "shell.execute_reply": "2021-10-19T17:37:02.130340Z",
     "shell.execute_reply.started": "2021-09-24T11:52:13.267952Z"
    },
    "papermill": {
     "duration": 0.190345,
     "end_time": "2021-10-19T17:37:02.131066",
     "exception": false,
     "start_time": "2021-10-19T17:37:01.940721",
     "status": "completed"
    },
    "tags": []
   },
   "outputs": [
    {
     "data": {
      "text/plain": [
       "0"
      ]
     },
     "execution_count": 18,
     "metadata": {},
     "output_type": "execute_result"
    }
   ],
   "source": [
    "df['FlightDate'].isna().sum()"
   ]
  },
  {
   "cell_type": "markdown",
   "id": "4ca215bf",
   "metadata": {
    "papermill": {
     "duration": 0.170797,
     "end_time": "2021-10-19T17:37:02.470937",
     "exception": false,
     "start_time": "2021-10-19T17:37:02.300140",
     "status": "completed"
    },
    "tags": []
   },
   "source": [
    "### Ansatz:\n",
    "Zerlege Datum in Jahr, Monat, Tag und Wochentag. Vielleicht Zeitreihenanlyse wenn noch Zeit?"
   ]
  },
  {
   "cell_type": "markdown",
   "id": "05358d5b",
   "metadata": {
    "papermill": {
     "duration": 0.168645,
     "end_time": "2021-10-19T17:37:02.810334",
     "exception": false,
     "start_time": "2021-10-19T17:37:02.641689",
     "status": "completed"
    },
    "tags": []
   },
   "source": [
    "## Record ID"
   ]
  },
  {
   "cell_type": "markdown",
   "id": "a85b3795",
   "metadata": {
    "papermill": {
     "duration": 0.173131,
     "end_time": "2021-10-19T17:37:03.154497",
     "exception": false,
     "start_time": "2021-10-19T17:37:02.981366",
     "status": "completed"
    },
    "tags": []
   },
   "source": [
    "### Völlig vernachlässigbar"
   ]
  },
  {
   "cell_type": "markdown",
   "id": "7e986ff0",
   "metadata": {
    "papermill": {
     "duration": 0.167706,
     "end_time": "2021-10-19T17:37:03.488963",
     "exception": false,
     "start_time": "2021-10-19T17:37:03.321257",
     "status": "completed"
    },
    "tags": []
   },
   "source": [
    "## Effect: Indicated Damage"
   ]
  },
  {
   "cell_type": "code",
   "execution_count": 19,
   "id": "4542d443",
   "metadata": {
    "execution": {
     "iopub.execute_input": "2021-10-19T17:37:03.836158Z",
     "iopub.status.busy": "2021-10-19T17:37:03.835387Z",
     "iopub.status.idle": "2021-10-19T17:37:03.839073Z",
     "shell.execute_reply": "2021-10-19T17:37:03.839683Z",
     "shell.execute_reply.started": "2021-09-24T11:52:13.286572Z"
    },
    "papermill": {
     "duration": 0.183437,
     "end_time": "2021-10-19T17:37:03.839857",
     "exception": false,
     "start_time": "2021-10-19T17:37:03.656420",
     "status": "completed"
    },
    "tags": []
   },
   "outputs": [
    {
     "data": {
      "text/plain": [
       "0"
      ]
     },
     "execution_count": 19,
     "metadata": {},
     "output_type": "execute_result"
    }
   ],
   "source": [
    "df['Effect: Indicated Damage'].isna().sum()"
   ]
  },
  {
   "cell_type": "code",
   "execution_count": 20,
   "id": "6c506539",
   "metadata": {
    "execution": {
     "iopub.execute_input": "2021-10-19T17:37:04.182835Z",
     "iopub.status.busy": "2021-10-19T17:37:04.182132Z",
     "iopub.status.idle": "2021-10-19T17:37:04.197247Z",
     "shell.execute_reply": "2021-10-19T17:37:04.197818Z",
     "shell.execute_reply.started": "2021-09-24T11:52:13.305509Z"
    },
    "papermill": {
     "duration": 0.188447,
     "end_time": "2021-10-19T17:37:04.197994",
     "exception": false,
     "start_time": "2021-10-19T17:37:04.009547",
     "status": "completed"
    },
    "tags": []
   },
   "outputs": [
    {
     "data": {
      "text/plain": [
       "No damage        61535\n",
       "Caused damage     4075\n",
       "Name: Effect: Indicated Damage, dtype: int64"
      ]
     },
     "execution_count": 20,
     "metadata": {},
     "output_type": "execute_result"
    }
   ],
   "source": [
    "vcounts = df['Effect: Indicated Damage'].value_counts()\n",
    "vcounts"
   ]
  },
  {
   "cell_type": "markdown",
   "id": "50f6d45e",
   "metadata": {
    "papermill": {
     "duration": 0.16947,
     "end_time": "2021-10-19T17:37:04.535247",
     "exception": false,
     "start_time": "2021-10-19T17:37:04.365777",
     "status": "completed"
    },
    "tags": []
   },
   "source": [
    "### Ansatz:\n",
    "Binäre Kategorien einfach beibehalten. Keine Problem mit fehlenden Werten."
   ]
  },
  {
   "cell_type": "markdown",
   "id": "8f4ecfa6",
   "metadata": {
    "papermill": {
     "duration": 0.166321,
     "end_time": "2021-10-19T17:37:04.869190",
     "exception": false,
     "start_time": "2021-10-19T17:37:04.702869",
     "status": "completed"
    },
    "tags": []
   },
   "source": [
    "## Aircraft: Number of engines?"
   ]
  },
  {
   "cell_type": "code",
   "execution_count": 21,
   "id": "01967a45",
   "metadata": {
    "execution": {
     "iopub.execute_input": "2021-10-19T17:37:05.262361Z",
     "iopub.status.busy": "2021-10-19T17:37:05.261690Z",
     "iopub.status.idle": "2021-10-19T17:37:05.267136Z",
     "shell.execute_reply": "2021-10-19T17:37:05.267743Z",
     "shell.execute_reply.started": "2021-09-24T11:52:13.327024Z"
    },
    "papermill": {
     "duration": 0.203245,
     "end_time": "2021-10-19T17:37:05.267923",
     "exception": false,
     "start_time": "2021-10-19T17:37:05.064678",
     "status": "completed"
    },
    "tags": []
   },
   "outputs": [
    {
     "data": {
      "text/plain": [
       "22844"
      ]
     },
     "execution_count": 21,
     "metadata": {},
     "output_type": "execute_result"
    }
   ],
   "source": [
    "df['Aircraft: Number of engines?'].isna().sum()"
   ]
  },
  {
   "cell_type": "code",
   "execution_count": 22,
   "id": "caa3033c",
   "metadata": {
    "execution": {
     "iopub.execute_input": "2021-10-19T17:37:05.612758Z",
     "iopub.status.busy": "2021-10-19T17:37:05.611776Z",
     "iopub.status.idle": "2021-10-19T17:37:05.625149Z",
     "shell.execute_reply": "2021-10-19T17:37:05.625796Z",
     "shell.execute_reply.started": "2021-09-24T11:52:13.34312Z"
    },
    "papermill": {
     "duration": 0.189086,
     "end_time": "2021-10-19T17:37:05.625983",
     "exception": false,
     "start_time": "2021-10-19T17:37:05.436897",
     "status": "completed"
    },
    "tags": []
   },
   "outputs": [
    {
     "data": {
      "text/plain": [
       "2    37127\n",
       "3     2456\n",
       "1     2114\n",
       "4     1068\n",
       "S        1\n",
       "Name: Aircraft: Number of engines?, dtype: int64"
      ]
     },
     "execution_count": 22,
     "metadata": {},
     "output_type": "execute_result"
    }
   ],
   "source": [
    "vcounts = df['Aircraft: Number of engines?'].value_counts()\n",
    "vcounts"
   ]
  },
  {
   "cell_type": "code",
   "execution_count": 23,
   "id": "cee93a3d",
   "metadata": {
    "execution": {
     "iopub.execute_input": "2021-10-19T17:37:05.992273Z",
     "iopub.status.busy": "2021-10-19T17:37:05.991241Z",
     "iopub.status.idle": "2021-10-19T17:37:06.001311Z",
     "shell.execute_reply": "2021-10-19T17:37:06.000675Z",
     "shell.execute_reply.started": "2021-09-24T11:52:13.362956Z"
    },
    "papermill": {
     "duration": 0.202108,
     "end_time": "2021-10-19T17:37:06.001480",
     "exception": false,
     "start_time": "2021-10-19T17:37:05.799372",
     "status": "completed"
    },
    "tags": []
   },
   "outputs": [
    {
     "data": {
      "text/plain": [
       "array(['B-52H', 'T-37B', 'C-17A', 'F-15C', 'C-5A', 'KC-10A', 'T-1A',\n",
       "       'C-130H', 'MC-130P', 'KC-135R', 'C-5B', 'MC-130H', 'HC-130P',\n",
       "       'C-21A', 'TC-135W', 'AT-38B', 'A-10A', 'HELICOPTER', 'C-130E',\n",
       "       'KC-135T', 'T-38A', 'F-117A', 'F-16C', 'RC-135V', 'T-38C', 'C-37A',\n",
       "       'F-16D', 'KC-135E', 'EC-135L', 'MC-130E', 'EC-130J', 'UH-1N',\n",
       "       'C-40B', 'EXPERIMENTAL', 'E-3B', 'C-26B', 'HC-130N', 'HOMEBUILT',\n",
       "       'F-15E', 'C-9C', 'F-15A', 'T-6B', 'C-32A', 'E-4B', 'MISC - OTHER',\n",
       "       'C-130J', 'C-32B', 'CESSNA UNKN', 'C-680', 'EC-130E', 'T-6A',\n",
       "       'BELL EH-1H', 'LOCKHEED P3B', 'HH-60G', 'C-135E', 'C-20B', 'FXWG',\n",
       "       'C-12J', 'TC-135S', 'F-16B', 'F-16A', 'CL-215', 'C-40C', 'EC-130',\n",
       "       'T-43A', 'WC-130J', 'E-8C', 'UH-1H', 'EC-155', 'WC-135W',\n",
       "       'CRJ-440', 'OC-135B', 'CANADAIR', 'AGUSTA A 119', 'RC-135W',\n",
       "       'MILITARY', 'BE-50', 'AMD ALARUS CH2000', 'SIKORSKY S-92', 'U-2S',\n",
       "       'RC-135U', 'CT-43A', 'F-15D', 'LC-130H', 'EC-130H', 'LOCKHEED P3A',\n",
       "       'MD-500', 'B-1B', 'F-15B', 'EC-135', 'EUROCOPTER', 'E-3C', 'C-5C',\n",
       "       'F-16', 'C-38A', 'WC-135C', 'C-135', 'C-5', 'B-52', 'F-15',\n",
       "       'FLIGHT DESIGN CTSW', 'T-38N', 'BD-700', 'BELL', 'E-8', 'E-3',\n",
       "       'C-20', 'AVIAT PITTS S1', 'ECLIPSE 500', 'URBAN AIR LAMBADA',\n",
       "       'EUROCOPTER BK 117', 'AGUSTA AW 139', 'CESSNA LC-41',\n",
       "       'CITATION MUSTANG 510', 'SA227 DC METRO 23', 'CRJ-900', 'BELL 230',\n",
       "       'ZODIAC CH601', 'PA-31-350', 'HH-65', 'GRUMMAN S-2 TRACKER',\n",
       "       'SWEARINGIN', 'HU-25', 'AGUST WESTLAND EH101', 'C-U206F',\n",
       "       'SIKORSKY S-70', 'HAWKER 900', 'BE-UNKNOWN', 'HC-130', 'C-17',\n",
       "       'C-32', 'C-400', 'C-9', 'CL-RJ705', 'B-777', 'T-38', 'DA-40',\n",
       "       'SIKORSKY', 'B-737-600', 'B-747-8 SERIES', 'A-23 MUSKATEER',\n",
       "       'B-787-800', 'SIKORSKY S-65C', 'HUGHES 269A', 'BE-50 TWIN BONANZA',\n",
       "       'F/A-18'], dtype=object)"
      ]
     },
     "execution_count": 23,
     "metadata": {},
     "output_type": "execute_result"
    }
   ],
   "source": [
    "# Erzeuge Liste mit Modellen für die die Anzahl Motoren min. einmal nicht angegeben ist\n",
    "condition1 = (df['Aircraft: Number of engines?'].isna() == True)\n",
    "condition2 = (df['Aircraft: Make/Model'] != 'UNKNOWN')\n",
    "temp = df[condition1 & condition2]['Aircraft: Make/Model'].unique()\n",
    "temp"
   ]
  },
  {
   "cell_type": "code",
   "execution_count": 24,
   "id": "5100b454",
   "metadata": {
    "execution": {
     "iopub.execute_input": "2021-10-19T17:37:06.371970Z",
     "iopub.status.busy": "2021-10-19T17:37:06.371278Z",
     "iopub.status.idle": "2021-10-19T17:37:08.036913Z",
     "shell.execute_reply": "2021-10-19T17:37:08.036351Z",
     "shell.execute_reply.started": "2021-09-24T11:52:13.396974Z"
    },
    "papermill": {
     "duration": 1.865162,
     "end_time": "2021-10-19T17:37:08.037066",
     "exception": false,
     "start_time": "2021-10-19T17:37:06.171904",
     "status": "completed"
    },
    "tags": []
   },
   "outputs": [
    {
     "name": "stdout",
     "output_type": "stream",
     "text": [
      "0\n",
      "0\n",
      "0\n",
      "0\n",
      "0\n",
      "0\n",
      "0\n",
      "0\n",
      "0\n",
      "0\n",
      "0\n",
      "0\n",
      "0\n",
      "0\n",
      "0\n",
      "0\n",
      "0\n",
      "0\n",
      "0\n",
      "0\n",
      "0\n",
      "0\n",
      "0\n",
      "0\n",
      "0\n",
      "0\n",
      "0\n",
      "0\n",
      "0\n",
      "0\n",
      "0\n",
      "0\n",
      "0\n",
      "0\n",
      "0\n",
      "0\n",
      "0\n",
      "0\n",
      "0\n",
      "0\n",
      "0\n",
      "0\n",
      "0\n",
      "0\n",
      "0\n",
      "0\n",
      "0\n",
      "0\n",
      "29\n",
      "0\n",
      "0\n",
      "0\n",
      "0\n",
      "0\n",
      "0\n",
      "0\n",
      "0\n",
      "0\n",
      "0\n",
      "0\n",
      "0\n",
      "0\n",
      "0\n",
      "0\n",
      "0\n",
      "0\n",
      "0\n",
      "0\n",
      "0\n",
      "0\n",
      "0\n",
      "0\n",
      "0\n",
      "0\n",
      "0\n",
      "0\n",
      "0\n",
      "0\n",
      "0\n",
      "0\n",
      "0\n",
      "0\n",
      "0\n",
      "0\n",
      "0\n",
      "0\n",
      "1\n",
      "0\n",
      "0\n",
      "5\n",
      "0\n",
      "0\n",
      "0\n",
      "0\n",
      "0\n",
      "0\n",
      "0\n",
      "0\n",
      "0\n",
      "0\n",
      "0\n",
      "0\n",
      "0\n",
      "0\n",
      "0\n",
      "0\n",
      "0\n",
      "0\n",
      "0\n",
      "0\n",
      "0\n",
      "0\n",
      "0\n",
      "0\n",
      "0\n",
      "0\n",
      "0\n",
      "0\n",
      "0\n",
      "0\n",
      "0\n",
      "0\n",
      "1\n",
      "0\n",
      "0\n",
      "0\n",
      "0\n",
      "0\n",
      "0\n",
      "0\n",
      "0\n",
      "0\n",
      "0\n",
      "0\n",
      "0\n",
      "0\n",
      "0\n",
      "0\n",
      "0\n",
      "3\n",
      "0\n",
      "0\n",
      "0\n",
      "7\n",
      "0\n",
      "0\n"
     ]
    }
   ],
   "source": [
    "# gib für alle Modelle in temp aus, wie oft die Anzahl an Motoren doch angebenen wird\n",
    "for model in temp:\n",
    "    print(np.sum(df[df['Aircraft: Make/Model'] == model]['Aircraft: Number of engines?'].isna() == False))"
   ]
  },
  {
   "cell_type": "markdown",
   "id": "dfa6e303",
   "metadata": {
    "papermill": {
     "duration": 0.177333,
     "end_time": "2021-10-19T17:37:08.388174",
     "exception": false,
     "start_time": "2021-10-19T17:37:08.210841",
     "status": "completed"
    },
    "tags": []
   },
   "source": [
    "### Ansatz:\n",
    "Vielleicht Modelle recherchieren?\n",
    "\n",
    "### Umgang mit fehlenden Werten:\n",
    "Zuviele fehlende Werte, für viele Modelle ist die Anzahl an Motoren gar nicht oder nicht immer gegeben. Anzahl Motoren unbekannt nicht sinnvoll. Werte nicht ohne weiteres inferierbar. Viele Spalten zu löschen."
   ]
  },
  {
   "cell_type": "markdown",
   "id": "af2081e1",
   "metadata": {
    "papermill": {
     "duration": 0.172414,
     "end_time": "2021-10-19T17:37:08.736389",
     "exception": false,
     "start_time": "2021-10-19T17:37:08.563975",
     "status": "completed"
    },
    "tags": []
   },
   "source": [
    "## Aircraft: Airline/Operator"
   ]
  },
  {
   "cell_type": "code",
   "execution_count": 25,
   "id": "4663a352",
   "metadata": {
    "execution": {
     "iopub.execute_input": "2021-10-19T17:37:09.099703Z",
     "iopub.status.busy": "2021-10-19T17:37:09.098966Z",
     "iopub.status.idle": "2021-10-19T17:37:09.102415Z",
     "shell.execute_reply": "2021-10-19T17:37:09.101895Z",
     "shell.execute_reply.started": "2021-09-24T11:52:14.991122Z"
    },
    "papermill": {
     "duration": 0.190078,
     "end_time": "2021-10-19T17:37:09.102588",
     "exception": false,
     "start_time": "2021-10-19T17:37:08.912510",
     "status": "completed"
    },
    "tags": []
   },
   "outputs": [
    {
     "data": {
      "text/plain": [
       "0"
      ]
     },
     "execution_count": 25,
     "metadata": {},
     "output_type": "execute_result"
    }
   ],
   "source": [
    "df['Aircraft: Airline/Operator'].isna().sum()"
   ]
  },
  {
   "cell_type": "code",
   "execution_count": 26,
   "id": "c7c10745",
   "metadata": {
    "execution": {
     "iopub.execute_input": "2021-10-19T17:37:09.466563Z",
     "iopub.status.busy": "2021-10-19T17:37:09.453110Z",
     "iopub.status.idle": "2021-10-19T17:37:09.470896Z",
     "shell.execute_reply": "2021-10-19T17:37:09.470307Z",
     "shell.execute_reply.started": "2021-09-24T11:52:15.006711Z"
    },
    "papermill": {
     "duration": 0.193958,
     "end_time": "2021-10-19T17:37:09.471037",
     "exception": false,
     "start_time": "2021-10-19T17:37:09.277079",
     "status": "completed"
    },
    "tags": []
   },
   "outputs": [
    {
     "data": {
      "text/plain": [
       "UNKNOWN                           16342\n",
       "MILITARY                           6108\n",
       "SOUTHWEST AIRLINES                 5995\n",
       "BUSINESS                           4305\n",
       "FEDEX EXPRESS                      3092\n",
       "UPS AIRLINES                       2898\n",
       "UNITED AIRLINES                    2805\n",
       "AMERICAN AIRLINES                  2102\n",
       "DELTA AIR LINES                    1573\n",
       "SKYWEST AIRLINES                   1569\n",
       "JETBLUE AIRWAYS                    1529\n",
       "AMERICAN EAGLE AIRLINES            1090\n",
       "MESA AIRLINES                      1073\n",
       "US AIRWAYS                          970\n",
       "NORTHWEST AIRLINES                  868\n",
       "ALASKA AIRLINES                     767\n",
       "PINNACLE                            654\n",
       "FRONTIER AIRLINES                   646\n",
       "CONTINENTAL AIRLINES                618\n",
       "EXPRESSJET (CONTINENTAL EXPRS)      616\n",
       "US AIRWAYS*                         581\n",
       "PRIVATELY OWNED                     547\n",
       "AIRTRAN AIRWAYS                     541\n",
       "ATLANTIC SOUTHEAST                  496\n",
       "ABX AIR                             489\n",
       "AIR WISCONSIN AIRLINES              380\n",
       "GOVERNMENT                          357\n",
       "HORIZON AIR                         355\n",
       "HAWAIIAN AIR                        352\n",
       "COMAIR AIRLINES                     340\n",
       "                                  ...  \n",
       "QUEST DIAGNOSTICS                     1\n",
       "MIDWEST AVIATION DIVISION             1\n",
       "AEROFLOT                              1\n",
       "IBC AIRWAYS                           1\n",
       "UNKNOWN COMMERCIAL                    1\n",
       "CHINA SOUTHERN AIRLINES               1\n",
       "HERITAGE FLIGHT                       1\n",
       "MYTRAVEL AIRWAYS                      1\n",
       "CONSORCIO AVIACSA                     1\n",
       "SCANDANAVIAN AIRLINES                 1\n",
       "INTL FLIGHT TRAINING  ACADEMY         1\n",
       "WORLDWIDE JET CHARTER                 1\n",
       "AERO CHARTER AND TRANSPORT            1\n",
       "CASINO EXPRESS AIRLINES               1\n",
       "AEROLITORAL                           1\n",
       "AERO INDUSTRIES                       1\n",
       "BERING AIR                            1\n",
       "FOCUS AIR                             1\n",
       "NORTH AMERICAN CHARTERS               1\n",
       "U.S. CHECK AIRLINES                   1\n",
       "ICELANDAIR                            1\n",
       "MAXJET AIRWAYS                        1\n",
       "KAISERAIR                             1\n",
       "SINGAPORE AIRLINES CARGO              1\n",
       "EAST COAST JETS                       1\n",
       "RYAN AIR SERVICES                     1\n",
       "CASTLE AVIATION                       1\n",
       "PERIMETER AIRLINES                    1\n",
       "DHL AIR                               1\n",
       "DELTA AIRELITE BUSINESS JETS          1\n",
       "Name: Aircraft: Airline/Operator, Length: 299, dtype: int64"
      ]
     },
     "execution_count": 26,
     "metadata": {},
     "output_type": "execute_result"
    }
   ],
   "source": [
    "vcounts = df['Aircraft: Airline/Operator'].value_counts()\n",
    "vcounts"
   ]
  },
  {
   "cell_type": "markdown",
   "id": "3662c7f6",
   "metadata": {
    "papermill": {
     "duration": 0.171494,
     "end_time": "2021-10-19T17:37:09.866064",
     "exception": false,
     "start_time": "2021-10-19T17:37:09.694570",
     "status": "completed"
    },
    "tags": []
   },
   "source": [
    "### Ansatz:\n",
    "Unterteile in UNKNOWN, MILITARY, BUSINESS, PRIVATELY OWNED, GOVERNMENT, US CUSTOMS AND BORDER PROTECTION\n",
    "\n",
    "Rest unterteile in MAJOR COMERCIAL and Minor COMERCIAL\n",
    "\n",
    "### Umgang mit fehlenden Werten:\n",
    "Viele UNKNOWN. Nicht inputierbar. Vielleicht nicht so wichtig. Behalte UNKOWN als Kategorie bei."
   ]
  },
  {
   "cell_type": "markdown",
   "id": "00384ef5",
   "metadata": {
    "papermill": {
     "duration": 0.17344,
     "end_time": "2021-10-19T17:37:10.212698",
     "exception": false,
     "start_time": "2021-10-19T17:37:10.039258",
     "status": "completed"
    },
    "tags": []
   },
   "source": [
    "## Origin State"
   ]
  },
  {
   "cell_type": "code",
   "execution_count": 27,
   "id": "c699b75f",
   "metadata": {
    "execution": {
     "iopub.execute_input": "2021-10-19T17:37:10.573271Z",
     "iopub.status.busy": "2021-10-19T17:37:10.572599Z",
     "iopub.status.idle": "2021-10-19T17:37:10.577161Z",
     "shell.execute_reply": "2021-10-19T17:37:10.576559Z",
     "shell.execute_reply.started": "2021-09-24T11:52:15.030699Z"
    },
    "papermill": {
     "duration": 0.189364,
     "end_time": "2021-10-19T17:37:10.577308",
     "exception": false,
     "start_time": "2021-10-19T17:37:10.387944",
     "status": "completed"
    },
    "tags": []
   },
   "outputs": [
    {
     "data": {
      "text/plain": [
       "6447"
      ]
     },
     "execution_count": 27,
     "metadata": {},
     "output_type": "execute_result"
    }
   ],
   "source": [
    "df['Origin State'].isna().sum()"
   ]
  },
  {
   "cell_type": "code",
   "execution_count": 28,
   "id": "ac7dde82",
   "metadata": {
    "execution": {
     "iopub.execute_input": "2021-10-19T17:37:10.937190Z",
     "iopub.status.busy": "2021-10-19T17:37:10.936525Z",
     "iopub.status.idle": "2021-10-19T17:37:10.939940Z",
     "shell.execute_reply": "2021-10-19T17:37:10.940485Z",
     "shell.execute_reply.started": "2021-09-24T11:52:15.050284Z"
    },
    "papermill": {
     "duration": 0.190942,
     "end_time": "2021-10-19T17:37:10.940669",
     "exception": false,
     "start_time": "2021-10-19T17:37:10.749727",
     "status": "completed"
    },
    "tags": []
   },
   "outputs": [
    {
     "data": {
      "text/plain": [
       "Texas                        5657\n",
       "California                   5278\n",
       "Florida                      3634\n",
       "New York                     3288\n",
       "Colorado                     2914\n",
       "Illinois                     2537\n",
       "Ohio                         2297\n",
       "Tennessee                    2097\n",
       "New Jersey                   2073\n",
       "Pennsylvania                 1801\n",
       "Missouri                     1677\n",
       "Kentucky                     1510\n",
       "Louisiana                    1409\n",
       "Michigan                     1373\n",
       "Hawaii                       1344\n",
       "Arizona                      1109\n",
       "Georgia                      1083\n",
       "Washington                   1048\n",
       "Massachusetts                1013\n",
       "Indiana                       945\n",
       "Oregon                        938\n",
       "North Carolina                937\n",
       "Nebraska                      912\n",
       "DC                            896\n",
       "Utah                          888\n",
       "Maryland                      846\n",
       "Minnesota                     784\n",
       "Oklahoma                      757\n",
       "Wisconsin                     695\n",
       "Virginia                      618\n",
       "                             ... \n",
       "South Carolina                504\n",
       "Kansas                        497\n",
       "Alabama                       444\n",
       "Alaska                        367\n",
       "Mississippi                   342\n",
       "North Dakota                  340\n",
       "New Mexico                    295\n",
       "Nevada                        291\n",
       "Arkansas                      285\n",
       "South Dakota                  265\n",
       "New Hampshire                 254\n",
       "Delaware                      236\n",
       "Maine                         233\n",
       "Rhode Island                  219\n",
       "Idaho                         215\n",
       "West Virginia                 168\n",
       "Montana                       134\n",
       "Wyoming                       116\n",
       "Puerto Rico                   107\n",
       "Vermont                       107\n",
       "Prince Edward Island           97\n",
       "Ontario                        50\n",
       "British Columbia               44\n",
       "Virgin Islands                 40\n",
       "Alberta                        18\n",
       "Quebec                         13\n",
       "Manitoba                        7\n",
       "Newfoundland and Labrador       4\n",
       "Nova Scotia                     2\n",
       "Saskatchewan                    2\n",
       "Name: Origin State, Length: 62, dtype: int64"
      ]
     },
     "execution_count": 28,
     "metadata": {},
     "output_type": "execute_result"
    }
   ],
   "source": [
    "vcounts = df['Origin State'].value_counts()\n",
    "vcounts"
   ]
  },
  {
   "cell_type": "markdown",
   "id": "dbfc1169",
   "metadata": {
    "papermill": {
     "duration": 0.171292,
     "end_time": "2021-10-19T17:37:11.286864",
     "exception": false,
     "start_time": "2021-10-19T17:37:11.115572",
     "status": "completed"
    },
    "tags": []
   },
   "source": [
    "### Ansatz:\n",
    "Ordne alle Origin States der Liste signifikanter States zu oder OTHER, FOREIGN\n",
    "\n",
    "### Umgang mit fehlenden Werten:\n",
    "Wenige NaNs, entferne oder inferiere unter Annahme.\n",
    "\n",
    "### Annahme:\n",
    "Nimm an dass NaNs nicht in den USA gestartet sind ORIGIN STATE = FOREIGN"
   ]
  },
  {
   "cell_type": "markdown",
   "id": "f7678dca",
   "metadata": {
    "papermill": {
     "duration": 0.175456,
     "end_time": "2021-10-19T17:37:11.634094",
     "exception": false,
     "start_time": "2021-10-19T17:37:11.458638",
     "status": "completed"
    },
    "tags": []
   },
   "source": [
    "## When: Phase of flight"
   ]
  },
  {
   "cell_type": "code",
   "execution_count": 29,
   "id": "6edfb4bd",
   "metadata": {
    "execution": {
     "iopub.execute_input": "2021-10-19T17:37:11.997862Z",
     "iopub.status.busy": "2021-10-19T17:37:11.996864Z",
     "iopub.status.idle": "2021-10-19T17:37:12.002582Z",
     "shell.execute_reply": "2021-10-19T17:37:12.002055Z",
     "shell.execute_reply.started": "2021-09-24T11:52:15.06808Z"
    },
    "papermill": {
     "duration": 0.193697,
     "end_time": "2021-10-19T17:37:12.002748",
     "exception": false,
     "start_time": "2021-10-19T17:37:11.809051",
     "status": "completed"
    },
    "tags": []
   },
   "outputs": [
    {
     "data": {
      "text/plain": [
       "24559"
      ]
     },
     "execution_count": 29,
     "metadata": {},
     "output_type": "execute_result"
    }
   ],
   "source": [
    "df['When: Phase of flight'].isna().sum()"
   ]
  },
  {
   "cell_type": "code",
   "execution_count": 30,
   "id": "79061d9a",
   "metadata": {
    "execution": {
     "iopub.execute_input": "2021-10-19T17:37:12.363646Z",
     "iopub.status.busy": "2021-10-19T17:37:12.362610Z",
     "iopub.status.idle": "2021-10-19T17:37:12.368478Z",
     "shell.execute_reply": "2021-10-19T17:37:12.368968Z",
     "shell.execute_reply.started": "2021-09-24T11:52:15.084041Z"
    },
    "papermill": {
     "duration": 0.189616,
     "end_time": "2021-10-19T17:37:12.369150",
     "exception": false,
     "start_time": "2021-10-19T17:37:12.179534",
     "status": "completed"
    },
    "tags": []
   },
   "outputs": [
    {
     "data": {
      "text/plain": [
       "Approach        16914\n",
       "Landing Roll     7304\n",
       "Take-off run     7239\n",
       "Climb            6317\n",
       "En Route         1533\n",
       "Descent          1261\n",
       "Landing           315\n",
       "Taxi              126\n",
       "Parked             42\n",
       "Name: When: Phase of flight, dtype: int64"
      ]
     },
     "execution_count": 30,
     "metadata": {},
     "output_type": "execute_result"
    }
   ],
   "source": [
    "vcounts = df['When: Phase of flight'].value_counts()\n",
    "vcounts"
   ]
  },
  {
   "cell_type": "markdown",
   "id": "547f30e3",
   "metadata": {
    "papermill": {
     "duration": 0.174451,
     "end_time": "2021-10-19T17:37:12.717504",
     "exception": false,
     "start_time": "2021-10-19T17:37:12.543053",
     "status": "completed"
    },
    "tags": []
   },
   "source": [
    "### Ansatz:\n",
    "Bestehende Kategorien ausreichend.\n",
    "\n",
    "### Umgang mit fehlenden Werten:\n",
    "Sehr viele NaNs. Vielleicht inferierbar aus Flughöhe und Geschwindigkeit, aufwendig und vermutlich nicht sehr genau. Nicht zielführend. Wichtige Spalte kann nicht ganz gedroped werden. Einzelne Zeilen müssen gelöscht werden."
   ]
  },
  {
   "cell_type": "markdown",
   "id": "87997e31",
   "metadata": {
    "papermill": {
     "duration": 0.180538,
     "end_time": "2021-10-19T17:37:13.089063",
     "exception": false,
     "start_time": "2021-10-19T17:37:12.908525",
     "status": "completed"
    },
    "tags": []
   },
   "source": [
    "## When: Time (HHMM)"
   ]
  },
  {
   "cell_type": "code",
   "execution_count": 31,
   "id": "d2b6a0e2",
   "metadata": {
    "execution": {
     "iopub.execute_input": "2021-10-19T17:37:13.436975Z",
     "iopub.status.busy": "2021-10-19T17:37:13.436008Z",
     "iopub.status.idle": "2021-10-19T17:37:13.443062Z",
     "shell.execute_reply": "2021-10-19T17:37:13.442544Z",
     "shell.execute_reply.started": "2021-09-24T11:52:15.102916Z"
    },
    "papermill": {
     "duration": 0.182284,
     "end_time": "2021-10-19T17:37:13.443256",
     "exception": false,
     "start_time": "2021-10-19T17:37:13.260972",
     "status": "completed"
    },
    "tags": []
   },
   "outputs": [
    {
     "data": {
      "text/plain": [
       "28974"
      ]
     },
     "execution_count": 31,
     "metadata": {},
     "output_type": "execute_result"
    }
   ],
   "source": [
    "df['When: Time (HHMM)'].isna().sum()"
   ]
  },
  {
   "cell_type": "code",
   "execution_count": 32,
   "id": "37d9e889",
   "metadata": {
    "execution": {
     "iopub.execute_input": "2021-10-19T17:37:13.796560Z",
     "iopub.status.busy": "2021-10-19T17:37:13.795518Z",
     "iopub.status.idle": "2021-10-19T17:37:13.808154Z",
     "shell.execute_reply": "2021-10-19T17:37:13.808628Z",
     "shell.execute_reply.started": "2021-09-24T11:52:15.111648Z"
    },
    "papermill": {
     "duration": 0.190911,
     "end_time": "2021-10-19T17:37:13.808809",
     "exception": false,
     "start_time": "2021-10-19T17:37:13.617898",
     "status": "completed"
    },
    "tags": []
   },
   "outputs": [
    {
     "data": {
      "text/plain": [
       "2300.0    373\n",
       "2200.0    355\n",
       "2100.0    329\n",
       "1000.0    316\n",
       "900.0     308\n",
       "2230.0    297\n",
       "2130.0    294\n",
       "1100.0    290\n",
       "2000.0    289\n",
       "1800.0    263\n",
       "1030.0    262\n",
       "1300.0    262\n",
       "2330.0    261\n",
       "1600.0    256\n",
       "800.0     254\n",
       "930.0     249\n",
       "1400.0    245\n",
       "2030.0    244\n",
       "1130.0    242\n",
       "1830.0    235\n",
       "1500.0    235\n",
       "1900.0    229\n",
       "1700.0    228\n",
       "700.0     227\n",
       "1630.0    222\n",
       "830.0     222\n",
       "1200.0    221\n",
       "730.0     219\n",
       "1730.0    213\n",
       "1530.0    211\n",
       "         ... \n",
       "531.0       1\n",
       "443.0       1\n",
       "254.0       1\n",
       "338.0       1\n",
       "161.0       1\n",
       "436.0       1\n",
       "108.0       1\n",
       "146.0       1\n",
       "429.0       1\n",
       "206.0       1\n",
       "341.0       1\n",
       "157.0       1\n",
       "431.0       1\n",
       "232.0       1\n",
       "208.0       1\n",
       "517.0       1\n",
       "513.0       1\n",
       "119.0       1\n",
       "136.0       1\n",
       "353.0       1\n",
       "38.0        1\n",
       "111.0       1\n",
       "559.0       1\n",
       "446.0       1\n",
       "349.0       1\n",
       "306.0       1\n",
       "216.0       1\n",
       "156.0       1\n",
       "133.0       1\n",
       "348.0       1\n",
       "Name: When: Time (HHMM), Length: 1412, dtype: int64"
      ]
     },
     "execution_count": 32,
     "metadata": {},
     "output_type": "execute_result"
    }
   ],
   "source": [
    "vcounts = df['When: Time (HHMM)'].value_counts()\n",
    "vcounts"
   ]
  },
  {
   "cell_type": "markdown",
   "id": "b7d74916",
   "metadata": {
    "papermill": {
     "duration": 0.17621,
     "end_time": "2021-10-19T17:37:14.160917",
     "exception": false,
     "start_time": "2021-10-19T17:37:13.984707",
     "status": "completed"
    },
    "tags": []
   },
   "source": [
    "### Ansatz:\n",
    "Reduziere auf Stunden: 0-23 -> 24 Klassen\n",
    "\n",
    "### Umgang mit fehlenden Werten:\n",
    "Sehr viele NaNs. Inputierbar aus 'When: Time of day'"
   ]
  },
  {
   "cell_type": "markdown",
   "id": "080d62ac",
   "metadata": {
    "papermill": {
     "duration": 0.178132,
     "end_time": "2021-10-19T17:37:14.515027",
     "exception": false,
     "start_time": "2021-10-19T17:37:14.336895",
     "status": "completed"
    },
    "tags": []
   },
   "source": [
    "## When: Time of day"
   ]
  },
  {
   "cell_type": "code",
   "execution_count": 33,
   "id": "63c628d4",
   "metadata": {
    "execution": {
     "iopub.execute_input": "2021-10-19T17:37:14.877652Z",
     "iopub.status.busy": "2021-10-19T17:37:14.876647Z",
     "iopub.status.idle": "2021-10-19T17:37:14.889617Z",
     "shell.execute_reply": "2021-10-19T17:37:14.890116Z",
     "shell.execute_reply.started": "2021-09-24T11:52:15.128653Z"
    },
    "papermill": {
     "duration": 0.198672,
     "end_time": "2021-10-19T17:37:14.890287",
     "exception": false,
     "start_time": "2021-10-19T17:37:14.691615",
     "status": "completed"
    },
    "tags": []
   },
   "outputs": [
    {
     "data": {
      "text/plain": [
       "23752"
      ]
     },
     "execution_count": 33,
     "metadata": {},
     "output_type": "execute_result"
    }
   ],
   "source": [
    "df['When: Time of day'].isna().sum()"
   ]
  },
  {
   "cell_type": "code",
   "execution_count": 34,
   "id": "cdd025db",
   "metadata": {
    "execution": {
     "iopub.execute_input": "2021-10-19T17:37:15.252260Z",
     "iopub.status.busy": "2021-10-19T17:37:15.251247Z",
     "iopub.status.idle": "2021-10-19T17:37:15.265835Z",
     "shell.execute_reply": "2021-10-19T17:37:15.265287Z",
     "shell.execute_reply.started": "2021-09-24T11:52:15.146446Z"
    },
    "papermill": {
     "duration": 0.191638,
     "end_time": "2021-10-19T17:37:15.265981",
     "exception": false,
     "start_time": "2021-10-19T17:37:15.074343",
     "status": "completed"
    },
    "tags": []
   },
   "outputs": [
    {
     "data": {
      "text/plain": [
       "Day      25269\n",
       "Night    13623\n",
       "Dusk      1759\n",
       "Dawn      1207\n",
       "Name: When: Time of day, dtype: int64"
      ]
     },
     "execution_count": 34,
     "metadata": {},
     "output_type": "execute_result"
    }
   ],
   "source": [
    "vcounts = df['When: Time of day'].value_counts()\n",
    "vcounts"
   ]
  },
  {
   "cell_type": "markdown",
   "id": "f48031c0",
   "metadata": {
    "papermill": {
     "duration": 0.175899,
     "end_time": "2021-10-19T17:37:15.621608",
     "exception": false,
     "start_time": "2021-10-19T17:37:15.445709",
     "status": "completed"
    },
    "tags": []
   },
   "source": [
    "### Ansatz:\n",
    "Bestehende Kategorien ausreichend.\n",
    "\n",
    "### Umgang mit fehlenden Werten:\n",
    "Sehr viele NaNs. Inferierbar aus 'When: Time (HHMM)'"
   ]
  },
  {
   "cell_type": "markdown",
   "id": "f24071a2",
   "metadata": {
    "papermill": {
     "duration": 0.173695,
     "end_time": "2021-10-19T17:37:15.968943",
     "exception": false,
     "start_time": "2021-10-19T17:37:15.795248",
     "status": "completed"
    },
    "tags": []
   },
   "source": [
    "## Wildlife: Size"
   ]
  },
  {
   "cell_type": "code",
   "execution_count": 35,
   "id": "8e46df72",
   "metadata": {
    "execution": {
     "iopub.execute_input": "2021-10-19T17:37:16.333535Z",
     "iopub.status.busy": "2021-10-19T17:37:16.332797Z",
     "iopub.status.idle": "2021-10-19T17:37:16.337980Z",
     "shell.execute_reply": "2021-10-19T17:37:16.337320Z",
     "shell.execute_reply.started": "2021-09-24T11:52:15.164915Z"
    },
    "papermill": {
     "duration": 0.192385,
     "end_time": "2021-10-19T17:37:16.338139",
     "exception": false,
     "start_time": "2021-10-19T17:37:16.145754",
     "status": "completed"
    },
    "tags": []
   },
   "outputs": [
    {
     "data": {
      "text/plain": [
       "8926"
      ]
     },
     "execution_count": 35,
     "metadata": {},
     "output_type": "execute_result"
    }
   ],
   "source": [
    "df['Wildlife: Size'].isna().sum()"
   ]
  },
  {
   "cell_type": "code",
   "execution_count": 36,
   "id": "3bc60011",
   "metadata": {
    "execution": {
     "iopub.execute_input": "2021-10-19T17:37:16.697338Z",
     "iopub.status.busy": "2021-10-19T17:37:16.696700Z",
     "iopub.status.idle": "2021-10-19T17:37:16.709234Z",
     "shell.execute_reply": "2021-10-19T17:37:16.709724Z",
     "shell.execute_reply.started": "2021-09-24T11:52:15.183861Z"
    },
    "papermill": {
     "duration": 0.195055,
     "end_time": "2021-10-19T17:37:16.709894",
     "exception": false,
     "start_time": "2021-10-19T17:37:16.514839",
     "status": "completed"
    },
    "tags": []
   },
   "outputs": [
    {
     "data": {
      "text/plain": [
       "Small     35204\n",
       "Medium    18064\n",
       "Large      3416\n",
       "Name: Wildlife: Size, dtype: int64"
      ]
     },
     "execution_count": 36,
     "metadata": {},
     "output_type": "execute_result"
    }
   ],
   "source": [
    "vcounts = df['Wildlife: Size'].value_counts()\n",
    "vcounts"
   ]
  },
  {
   "cell_type": "markdown",
   "id": "5b4b3b47",
   "metadata": {
    "papermill": {
     "duration": 0.177852,
     "end_time": "2021-10-19T17:37:17.064157",
     "exception": false,
     "start_time": "2021-10-19T17:37:16.886305",
     "status": "completed"
    },
    "tags": []
   },
   "source": [
    "### Ansatz:\n",
    "Bestehende Kategorien ausreichend.\n",
    "\n",
    "### Umgang mit fehlenden Werten:\n",
    "Wenige NaNs. Imputation möglich unter Annahme.\n",
    "\n",
    "### Annahme:\n",
    "Nehme an, dass NaNs durchsnittlich groß; sind also Medium."
   ]
  },
  {
   "cell_type": "markdown",
   "id": "a7f03689",
   "metadata": {
    "papermill": {
     "duration": 0.173426,
     "end_time": "2021-10-19T17:37:17.412787",
     "exception": false,
     "start_time": "2021-10-19T17:37:17.239361",
     "status": "completed"
    },
    "tags": []
   },
   "source": [
    "## Wildlife: Species"
   ]
  },
  {
   "cell_type": "code",
   "execution_count": 37,
   "id": "dacbec57",
   "metadata": {
    "execution": {
     "iopub.execute_input": "2021-10-19T17:37:17.765069Z",
     "iopub.status.busy": "2021-10-19T17:37:17.764401Z",
     "iopub.status.idle": "2021-10-19T17:37:17.777793Z",
     "shell.execute_reply": "2021-10-19T17:37:17.778327Z",
     "shell.execute_reply.started": "2021-09-24T11:52:15.206528Z"
    },
    "papermill": {
     "duration": 0.190796,
     "end_time": "2021-10-19T17:37:17.778520",
     "exception": false,
     "start_time": "2021-10-19T17:37:17.587724",
     "status": "completed"
    },
    "tags": []
   },
   "outputs": [
    {
     "data": {
      "text/plain": [
       "17"
      ]
     },
     "execution_count": 37,
     "metadata": {},
     "output_type": "execute_result"
    }
   ],
   "source": [
    "df['Wildlife: Species'].isna().sum()"
   ]
  },
  {
   "cell_type": "code",
   "execution_count": 38,
   "id": "0489e1f1",
   "metadata": {
    "execution": {
     "iopub.execute_input": "2021-10-19T17:37:18.133297Z",
     "iopub.status.busy": "2021-10-19T17:37:18.132663Z",
     "iopub.status.idle": "2021-10-19T17:37:18.148464Z",
     "shell.execute_reply": "2021-10-19T17:37:18.148990Z",
     "shell.execute_reply.started": "2021-09-24T11:52:15.226216Z"
    },
    "papermill": {
     "duration": 0.19309,
     "end_time": "2021-10-19T17:37:18.149165",
     "exception": false,
     "start_time": "2021-10-19T17:37:17.956075",
     "status": "completed"
    },
    "tags": []
   },
   "outputs": [
    {
     "data": {
      "text/plain": [
       "Unknown bird - small              12645\n",
       "Unknown bird - medium             11513\n",
       "Mourning dove                      3265\n",
       "Unknown bird or bat                3066\n",
       "Killdeer                           2188\n",
       "American kestrel                   1976\n",
       "Unknown bird                       1848\n",
       "Horned lark                        1670\n",
       "Barn swallow                       1639\n",
       "European starling                  1504\n",
       "Gulls                              1353\n",
       "Sparrows                           1059\n",
       "Rock pigeon                        1058\n",
       "Red-tailed hawk                     970\n",
       "Unknown bird - large                957\n",
       "Eastern meadowlark                  667\n",
       "Ring-billed gull                    624\n",
       "Cliff swallow                       595\n",
       "Herring gull                        511\n",
       "Barn owl                            487\n",
       "Western meadowlark                  459\n",
       "Swallows                            420\n",
       "American robin                      415\n",
       "Hawks                               396\n",
       "Canada goose                        394\n",
       "Pacific golden-plover               387\n",
       "Doves                               382\n",
       "Mallard                             345\n",
       "Meadowlarks                         317\n",
       "Tree swallow                        297\n",
       "                                  ...  \n",
       "Pine grosbeak                         1\n",
       "Royal tern                            1\n",
       "California towhee                     1\n",
       "Brewer's sparrow                      1\n",
       "Greater roadrunner                    1\n",
       "Bewick's wren                         1\n",
       "Pacific loon                          1\n",
       "Louisiana waterthrush                 1\n",
       "Big free-tailed bat                   1\n",
       "Arctic tern                           1\n",
       "Gray-headed chickadee                 1\n",
       "Island canary                         1\n",
       "Common eider                          1\n",
       "Gulls,terns                           1\n",
       "Eurasian curlew                       1\n",
       "Red-footed booby                      1\n",
       "Eurasian buzzard                      1\n",
       "Little tern                           1\n",
       "Swift, tree-swift, hummingbird        1\n",
       "Black-throated sparrow                1\n",
       "Pelicans                              1\n",
       "Catbirds                              1\n",
       "Barrow's goldeneye                    1\n",
       "Yellow-bellied flycatcher             1\n",
       "Hermit warbler                        1\n",
       "Black-chinned hummingbird             1\n",
       "Least bittern                         1\n",
       "Eurasian collared dove                1\n",
       "Redwing                               1\n",
       "Common moorhen                        1\n",
       "Name: Wildlife: Species, Length: 573, dtype: int64"
      ]
     },
     "execution_count": 38,
     "metadata": {},
     "output_type": "execute_result"
    }
   ],
   "source": [
    "vcounts = df['Wildlife: Species'].value_counts()\n",
    "vcounts"
   ]
  },
  {
   "cell_type": "markdown",
   "id": "f933c10d",
   "metadata": {
    "papermill": {
     "duration": 0.174275,
     "end_time": "2021-10-19T17:37:18.498979",
     "exception": false,
     "start_time": "2021-10-19T17:37:18.324704",
     "status": "completed"
    },
    "tags": []
   },
   "source": [
    "### Ansatz:\n",
    "Reduziere Kategorien auf sigifikante Spezies, Rest Misc\n",
    "\n",
    "### Umgang mit fehlenden Werten:\n",
    "Wenige NaNs. Imputation möglich unter Annahme. Unknown nicht wirklich problematisch, solange Größe der Vögel bekannt. Exakte Spezies vermutlich nur von zweitrangiger Bedeutung.\n",
    "\n",
    "### Annahme:\n",
    "Klassifiziere NaNs durch allgemeinste Klasse: Unknown bird or bat."
   ]
  },
  {
   "cell_type": "markdown",
   "id": "267479a0",
   "metadata": {
    "papermill": {
     "duration": 0.178272,
     "end_time": "2021-10-19T17:37:18.853684",
     "exception": false,
     "start_time": "2021-10-19T17:37:18.675412",
     "status": "completed"
    },
    "tags": []
   },
   "source": [
    "## Pilot warned of birds or wildlife?"
   ]
  },
  {
   "cell_type": "code",
   "execution_count": 39,
   "id": "0c02f286",
   "metadata": {
    "execution": {
     "iopub.execute_input": "2021-10-19T17:37:19.207965Z",
     "iopub.status.busy": "2021-10-19T17:37:19.207313Z",
     "iopub.status.idle": "2021-10-19T17:37:19.218207Z",
     "shell.execute_reply": "2021-10-19T17:37:19.218825Z",
     "shell.execute_reply.started": "2021-09-24T11:52:15.246895Z"
    },
    "papermill": {
     "duration": 0.188814,
     "end_time": "2021-10-19T17:37:19.218998",
     "exception": false,
     "start_time": "2021-10-19T17:37:19.030184",
     "status": "completed"
    },
    "tags": []
   },
   "outputs": [
    {
     "data": {
      "text/plain": [
       "37249"
      ]
     },
     "execution_count": 39,
     "metadata": {},
     "output_type": "execute_result"
    }
   ],
   "source": [
    "df['Pilot warned of birds or wildlife?'].isna().sum()"
   ]
  },
  {
   "cell_type": "code",
   "execution_count": 40,
   "id": "7f5dc00d",
   "metadata": {
    "execution": {
     "iopub.execute_input": "2021-10-19T17:37:19.583666Z",
     "iopub.status.busy": "2021-10-19T17:37:19.574090Z",
     "iopub.status.idle": "2021-10-19T17:37:19.585890Z",
     "shell.execute_reply": "2021-10-19T17:37:19.586384Z",
     "shell.execute_reply.started": "2021-09-24T11:52:15.260845Z"
    },
    "papermill": {
     "duration": 0.191759,
     "end_time": "2021-10-19T17:37:19.586574",
     "exception": false,
     "start_time": "2021-10-19T17:37:19.394815",
     "status": "completed"
    },
    "tags": []
   },
   "outputs": [
    {
     "data": {
      "text/plain": [
       "N    15261\n",
       "Y    13100\n",
       "Name: Pilot warned of birds or wildlife?, dtype: int64"
      ]
     },
     "execution_count": 40,
     "metadata": {},
     "output_type": "execute_result"
    }
   ],
   "source": [
    "vcounts = df['Pilot warned of birds or wildlife?'].value_counts()\n",
    "vcounts"
   ]
  },
  {
   "cell_type": "markdown",
   "id": "505da1cd",
   "metadata": {
    "papermill": {
     "duration": 0.1784,
     "end_time": "2021-10-19T17:37:19.946485",
     "exception": false,
     "start_time": "2021-10-19T17:37:19.768085",
     "status": "completed"
    },
    "tags": []
   },
   "source": [
    "### Ansatz:\n",
    "Behalte Kategorien bei.\n",
    "\n",
    "### Umgang mit fehlenden Werten:\n",
    "Extrem viele NaNs. Imputation nur unter kruder Annahme möglich.\n",
    "\n",
    "### Annahme:\n",
    "Nim an, dass NaNs gleichbedutend sind mit N, also dass der Pilot nicht gewarnt wurde. Hätte es eine Warnung vom Tower etc. gegeben, wäre das aufgezeichnet worden als Y."
   ]
  },
  {
   "cell_type": "markdown",
   "id": "4e1d585f",
   "metadata": {
    "papermill": {
     "duration": 0.176858,
     "end_time": "2021-10-19T17:37:20.302613",
     "exception": false,
     "start_time": "2021-10-19T17:37:20.125755",
     "status": "completed"
    },
    "tags": []
   },
   "source": [
    "## Cost: Aircraft time out of service (hours)"
   ]
  },
  {
   "cell_type": "code",
   "execution_count": 41,
   "id": "279f9ab9",
   "metadata": {
    "execution": {
     "iopub.execute_input": "2021-10-19T17:37:20.664675Z",
     "iopub.status.busy": "2021-10-19T17:37:20.663951Z",
     "iopub.status.idle": "2021-10-19T17:37:20.669832Z",
     "shell.execute_reply": "2021-10-19T17:37:20.670381Z",
     "shell.execute_reply.started": "2021-09-24T11:52:15.278235Z"
    },
    "papermill": {
     "duration": 0.187365,
     "end_time": "2021-10-19T17:37:20.670703",
     "exception": false,
     "start_time": "2021-10-19T17:37:20.483338",
     "status": "completed"
    },
    "tags": []
   },
   "outputs": [
    {
     "data": {
      "text/plain": [
       "61247"
      ]
     },
     "execution_count": 41,
     "metadata": {},
     "output_type": "execute_result"
    }
   ],
   "source": [
    "df['Cost: Aircraft time out of service (hours)'].isna().sum()"
   ]
  },
  {
   "cell_type": "markdown",
   "id": "d578d7ba",
   "metadata": {
    "papermill": {
     "duration": 0.178633,
     "end_time": "2021-10-19T17:37:21.029734",
     "exception": false,
     "start_time": "2021-10-19T17:37:20.851101",
     "status": "completed"
    },
    "tags": []
   },
   "source": [
    "### Ansatz:\n",
    "Daten irrelevant für Fragestellung. Nicht berücksichtigen.\n",
    "\n",
    "### Umgang mit fehlenden Werten:\n",
    "Fast alles NaNs. Imputation unmöglich."
   ]
  },
  {
   "cell_type": "markdown",
   "id": "2599030a",
   "metadata": {
    "papermill": {
     "duration": 0.181949,
     "end_time": "2021-10-19T17:37:21.392901",
     "exception": false,
     "start_time": "2021-10-19T17:37:21.210952",
     "status": "completed"
    },
    "tags": []
   },
   "source": [
    "## Cost: Other (inflation adj)"
   ]
  },
  {
   "cell_type": "code",
   "execution_count": 42,
   "id": "01adda06",
   "metadata": {
    "execution": {
     "iopub.execute_input": "2021-10-19T17:37:21.752980Z",
     "iopub.status.busy": "2021-10-19T17:37:21.752338Z",
     "iopub.status.idle": "2021-10-19T17:37:21.757796Z",
     "shell.execute_reply": "2021-10-19T17:37:21.758358Z",
     "shell.execute_reply.started": "2021-09-24T11:52:15.288185Z"
    },
    "papermill": {
     "duration": 0.185831,
     "end_time": "2021-10-19T17:37:21.758541",
     "exception": false,
     "start_time": "2021-10-19T17:37:21.572710",
     "status": "completed"
    },
    "tags": []
   },
   "outputs": [
    {
     "data": {
      "text/plain": [
       "0"
      ]
     },
     "execution_count": 42,
     "metadata": {},
     "output_type": "execute_result"
    }
   ],
   "source": [
    "df['Cost: Other (inflation adj)'].isna().sum()"
   ]
  },
  {
   "cell_type": "code",
   "execution_count": 43,
   "id": "ff14de75",
   "metadata": {
    "execution": {
     "iopub.execute_input": "2021-10-19T17:37:22.119248Z",
     "iopub.status.busy": "2021-10-19T17:37:22.118611Z",
     "iopub.status.idle": "2021-10-19T17:37:22.126396Z",
     "shell.execute_reply": "2021-10-19T17:37:22.126968Z",
     "shell.execute_reply.started": "2021-09-24T11:52:15.296899Z"
    },
    "papermill": {
     "duration": 0.192568,
     "end_time": "2021-10-19T17:37:22.127152",
     "exception": false,
     "start_time": "2021-10-19T17:37:21.934584",
     "status": "completed"
    },
    "tags": []
   },
   "outputs": [
    {
     "data": {
      "text/plain": [
       "0         64576\n",
       "200          24\n",
       "53           20\n",
       "205          16\n",
       "100          15\n",
       "1000         15\n",
       "211          14\n",
       "500          14\n",
       "1054         12\n",
       "105          12\n",
       "513          11\n",
       "103          11\n",
       "308          11\n",
       "316          10\n",
       "556          10\n",
       "1082         10\n",
       "222          10\n",
       "108           9\n",
       "1027          9\n",
       "325           9\n",
       "228           9\n",
       "300           9\n",
       "10267         9\n",
       "250           9\n",
       "10000         9\n",
       "5271          8\n",
       "216           8\n",
       "111           8\n",
       "5134          8\n",
       "600           7\n",
       "          ...  \n",
       "8283          1\n",
       "126496        1\n",
       "95            1\n",
       "2334          1\n",
       "287           1\n",
       "351           1\n",
       "25299         1\n",
       "799           1\n",
       "32144         1\n",
       "3676          1\n",
       "5023          1\n",
       "1583          1\n",
       "122178        1\n",
       "30241         1\n",
       "1199          1\n",
       "8875          1\n",
       "1307          1\n",
       "21905         1\n",
       "1499          1\n",
       "28            1\n",
       "217718        1\n",
       "14010         1\n",
       "796           1\n",
       "17684         1\n",
       "11545         1\n",
       "16297         1\n",
       "1628          1\n",
       "2012          1\n",
       "285           1\n",
       "2772          1\n",
       "Name: Cost: Other (inflation adj), Length: 466, dtype: int64"
      ]
     },
     "execution_count": 43,
     "metadata": {},
     "output_type": "execute_result"
    }
   ],
   "source": [
    "vcounts = df['Cost: Other (inflation adj)'].value_counts()\n",
    "vcounts"
   ]
  },
  {
   "cell_type": "markdown",
   "id": "b162d19d",
   "metadata": {
    "papermill": {
     "duration": 0.180696,
     "end_time": "2021-10-19T17:37:22.486398",
     "exception": false,
     "start_time": "2021-10-19T17:37:22.305702",
     "status": "completed"
    },
    "tags": []
   },
   "source": [
    "### Ansatz:\n",
    "Daten irrelevant für Fragestellung. Nicht berücksichtigen.\n",
    "\n",
    "### Umgang mit fehlenden Werten:\n",
    "Keine NaNs aber fast immer 0. Vermutlich kein Problem."
   ]
  },
  {
   "cell_type": "markdown",
   "id": "6982f19b",
   "metadata": {
    "papermill": {
     "duration": 0.182112,
     "end_time": "2021-10-19T17:37:22.847810",
     "exception": false,
     "start_time": "2021-10-19T17:37:22.665698",
     "status": "completed"
    },
    "tags": []
   },
   "source": [
    "## Cost: Repair (inflation adj)"
   ]
  },
  {
   "cell_type": "code",
   "execution_count": 44,
   "id": "df64c0d4",
   "metadata": {
    "execution": {
     "iopub.execute_input": "2021-10-19T17:37:23.213261Z",
     "iopub.status.busy": "2021-10-19T17:37:23.212631Z",
     "iopub.status.idle": "2021-10-19T17:37:23.218143Z",
     "shell.execute_reply": "2021-10-19T17:37:23.218689Z",
     "shell.execute_reply.started": "2021-09-24T11:52:15.309266Z"
    },
    "papermill": {
     "duration": 0.186747,
     "end_time": "2021-10-19T17:37:23.218862",
     "exception": false,
     "start_time": "2021-10-19T17:37:23.032115",
     "status": "completed"
    },
    "tags": []
   },
   "outputs": [
    {
     "data": {
      "text/plain": [
       "0"
      ]
     },
     "execution_count": 44,
     "metadata": {},
     "output_type": "execute_result"
    }
   ],
   "source": [
    "df['Cost: Repair (inflation adj)'].isna().sum()"
   ]
  },
  {
   "cell_type": "code",
   "execution_count": 45,
   "id": "fb8aaa02",
   "metadata": {
    "execution": {
     "iopub.execute_input": "2021-10-19T17:37:23.577830Z",
     "iopub.status.busy": "2021-10-19T17:37:23.577182Z",
     "iopub.status.idle": "2021-10-19T17:37:23.584826Z",
     "shell.execute_reply": "2021-10-19T17:37:23.585365Z",
     "shell.execute_reply.started": "2021-09-24T11:52:15.318551Z"
    },
    "papermill": {
     "duration": 0.188386,
     "end_time": "2021-10-19T17:37:23.585561",
     "exception": false,
     "start_time": "2021-10-19T17:37:23.397175",
     "status": "completed"
    },
    "tags": []
   },
   "outputs": [
    {
     "data": {
      "text/plain": [
       "0          64029\n",
       "5134          11\n",
       "5857          11\n",
       "1027          10\n",
       "5704          10\n",
       "5000           9\n",
       "4685           9\n",
       "29284          9\n",
       "5271           8\n",
       "105413         8\n",
       "16234          8\n",
       "11112          8\n",
       "586            8\n",
       "2282           8\n",
       "5556           7\n",
       "10541          7\n",
       "1111           7\n",
       "10000          7\n",
       "513            7\n",
       "21083          7\n",
       "10823          7\n",
       "11714          7\n",
       "2108           6\n",
       "23427          6\n",
       "570            6\n",
       "1141           6\n",
       "300            6\n",
       "556            6\n",
       "541            6\n",
       "2000           6\n",
       "           ...  \n",
       "2725           1\n",
       "28464          1\n",
       "10979          1\n",
       "85007          1\n",
       "17454          1\n",
       "43122          1\n",
       "5738           1\n",
       "48703          1\n",
       "5674           1\n",
       "42172          1\n",
       "48255          1\n",
       "25700          1\n",
       "39931          1\n",
       "616            1\n",
       "1000000        1\n",
       "285219         1\n",
       "12654          1\n",
       "270572         1\n",
       "51249          1\n",
       "17967          1\n",
       "5111000        1\n",
       "132263         1\n",
       "3046           1\n",
       "609102         1\n",
       "679            1\n",
       "33335          1\n",
       "487            1\n",
       "24811          1\n",
       "73923          1\n",
       "1727           1\n",
       "Name: Cost: Repair (inflation adj), Length: 1032, dtype: int64"
      ]
     },
     "execution_count": 45,
     "metadata": {},
     "output_type": "execute_result"
    }
   ],
   "source": [
    "vcounts = df['Cost: Repair (inflation adj)'].value_counts()\n",
    "vcounts"
   ]
  },
  {
   "cell_type": "markdown",
   "id": "3311d5d2",
   "metadata": {
    "papermill": {
     "duration": 0.197736,
     "end_time": "2021-10-19T17:37:23.963607",
     "exception": false,
     "start_time": "2021-10-19T17:37:23.765871",
     "status": "completed"
    },
    "tags": []
   },
   "source": [
    "### Ansatz:\n",
    "Daten irrelevant für Fragestellung. Nicht berücksichtigen.\n",
    "\n",
    "### Umgang mit fehlenden Werten:\n",
    "Keine NaNs aber fast immer 0. Vermutlich kein Problem."
   ]
  },
  {
   "cell_type": "markdown",
   "id": "92eeb319",
   "metadata": {
    "papermill": {
     "duration": 0.178357,
     "end_time": "2021-10-19T17:37:24.320970",
     "exception": false,
     "start_time": "2021-10-19T17:37:24.142613",
     "status": "completed"
    },
    "tags": []
   },
   "source": [
    "## Cost: Total $"
   ]
  },
  {
   "cell_type": "code",
   "execution_count": 46,
   "id": "33614c08",
   "metadata": {
    "execution": {
     "iopub.execute_input": "2021-10-19T17:37:24.681944Z",
     "iopub.status.busy": "2021-10-19T17:37:24.681219Z",
     "iopub.status.idle": "2021-10-19T17:37:24.686785Z",
     "shell.execute_reply": "2021-10-19T17:37:24.687339Z",
     "shell.execute_reply.started": "2021-09-24T11:52:15.331111Z"
    },
    "papermill": {
     "duration": 0.188836,
     "end_time": "2021-10-19T17:37:24.687568",
     "exception": false,
     "start_time": "2021-10-19T17:37:24.498732",
     "status": "completed"
    },
    "tags": []
   },
   "outputs": [
    {
     "data": {
      "text/plain": [
       "0"
      ]
     },
     "execution_count": 46,
     "metadata": {},
     "output_type": "execute_result"
    }
   ],
   "source": [
    "df['Cost: Total $'].isna().sum()"
   ]
  },
  {
   "cell_type": "code",
   "execution_count": 47,
   "id": "909d71ad",
   "metadata": {
    "execution": {
     "iopub.execute_input": "2021-10-19T17:37:25.052208Z",
     "iopub.status.busy": "2021-10-19T17:37:25.051575Z",
     "iopub.status.idle": "2021-10-19T17:37:25.058664Z",
     "shell.execute_reply": "2021-10-19T17:37:25.059173Z",
     "shell.execute_reply.started": "2021-09-24T11:52:15.342018Z"
    },
    "papermill": {
     "duration": 0.191597,
     "end_time": "2021-10-19T17:37:25.059345",
     "exception": false,
     "start_time": "2021-10-19T17:37:24.867748",
     "status": "completed"
    },
    "tags": []
   },
   "outputs": [
    {
     "data": {
      "text/plain": [
       "0          63462\n",
       "200           26\n",
       "53            21\n",
       "513           18\n",
       "205           18\n",
       "1000          17\n",
       "100           16\n",
       "211           14\n",
       "300           13\n",
       "308           13\n",
       "103           12\n",
       "5134          12\n",
       "105           12\n",
       "570           11\n",
       "325           11\n",
       "1027          11\n",
       "556           11\n",
       "500           11\n",
       "111           10\n",
       "316           10\n",
       "150            9\n",
       "1054           9\n",
       "228            9\n",
       "250            9\n",
       "422            9\n",
       "29284          9\n",
       "1111           9\n",
       "216            8\n",
       "600            8\n",
       "16234          8\n",
       "           ...  \n",
       "48703          1\n",
       "5738           1\n",
       "292838         1\n",
       "30758          1\n",
       "2216           1\n",
       "73795          1\n",
       "35000          1\n",
       "852169         1\n",
       "6442           1\n",
       "4459           1\n",
       "117136         1\n",
       "154018         1\n",
       "25700          1\n",
       "39931          1\n",
       "29222          1\n",
       "154019         1\n",
       "8556           1\n",
       "51249          1\n",
       "17967          1\n",
       "44274          1\n",
       "132263         1\n",
       "3046           1\n",
       "4570000        1\n",
       "609102         1\n",
       "193273         1\n",
       "679            1\n",
       "72068          1\n",
       "6500           1\n",
       "24811          1\n",
       "28179          1\n",
       "Name: Cost: Total $, Length: 1286, dtype: int64"
      ]
     },
     "execution_count": 47,
     "metadata": {},
     "output_type": "execute_result"
    }
   ],
   "source": [
    "vcounts = df['Cost: Total $'].value_counts()\n",
    "vcounts"
   ]
  },
  {
   "cell_type": "markdown",
   "id": "22c27947",
   "metadata": {
    "papermill": {
     "duration": 0.179231,
     "end_time": "2021-10-19T17:37:25.418647",
     "exception": false,
     "start_time": "2021-10-19T17:37:25.239416",
     "status": "completed"
    },
    "tags": []
   },
   "source": [
    "### Ansatz:\n",
    "Daten irrelevant für Fragestellung. Nicht berücksichtigen.\n",
    "\n",
    "### Umgang mit fehlenden Werten:\n",
    "Keine NaNs aber fast immer 0. Vermutlich kein Problem."
   ]
  },
  {
   "cell_type": "markdown",
   "id": "431913a5",
   "metadata": {
    "papermill": {
     "duration": 0.178837,
     "end_time": "2021-10-19T17:37:25.775758",
     "exception": false,
     "start_time": "2021-10-19T17:37:25.596921",
     "status": "completed"
    },
    "tags": []
   },
   "source": [
    "## Miles from airport"
   ]
  },
  {
   "cell_type": "code",
   "execution_count": 48,
   "id": "e5df4f96",
   "metadata": {
    "execution": {
     "iopub.execute_input": "2021-10-19T17:37:26.135247Z",
     "iopub.status.busy": "2021-10-19T17:37:26.134575Z",
     "iopub.status.idle": "2021-10-19T17:37:26.140497Z",
     "shell.execute_reply": "2021-10-19T17:37:26.141007Z",
     "shell.execute_reply.started": "2021-09-24T11:52:15.354331Z"
    },
    "papermill": {
     "duration": 0.187418,
     "end_time": "2021-10-19T17:37:26.141182",
     "exception": false,
     "start_time": "2021-10-19T17:37:25.953764",
     "status": "completed"
    },
    "tags": []
   },
   "outputs": [
    {
     "data": {
      "text/plain": [
       "27743"
      ]
     },
     "execution_count": 48,
     "metadata": {},
     "output_type": "execute_result"
    }
   ],
   "source": [
    "df['Miles from airport'].isna().sum()"
   ]
  },
  {
   "cell_type": "code",
   "execution_count": 49,
   "id": "a2f0606b",
   "metadata": {
    "execution": {
     "iopub.execute_input": "2021-10-19T17:37:26.511837Z",
     "iopub.status.busy": "2021-10-19T17:37:26.510814Z",
     "iopub.status.idle": "2021-10-19T17:37:26.521799Z",
     "shell.execute_reply": "2021-10-19T17:37:26.521258Z",
     "shell.execute_reply.started": "2021-09-24T11:52:15.365544Z"
    },
    "papermill": {
     "duration": 0.196584,
     "end_time": "2021-10-19T17:37:26.521948",
     "exception": false,
     "start_time": "2021-10-19T17:37:26.325364",
     "status": "completed"
    },
    "tags": []
   },
   "outputs": [
    {
     "data": {
      "text/plain": [
       "0.00       34610\n",
       "1.00         460\n",
       "5.00         394\n",
       "3.00         341\n",
       "10.00        322\n",
       "2.00         317\n",
       "4.00         199\n",
       "15.00        188\n",
       "20.00        172\n",
       "6.00         136\n",
       "8.00         127\n",
       "7.00         121\n",
       "12.00         77\n",
       "30.00         72\n",
       "25.00         66\n",
       "9.00          43\n",
       "18.00         25\n",
       "14.00         20\n",
       "11.00         19\n",
       "35.00         18\n",
       "17.00         14\n",
       "16.00         13\n",
       "0.50          13\n",
       "13.00         13\n",
       "40.00         12\n",
       "50.00         10\n",
       "23.00          7\n",
       "1.50           4\n",
       "27.00          4\n",
       "19.00          4\n",
       "22.00          4\n",
       "21.00          3\n",
       "24.00          3\n",
       "60.00          3\n",
       "75.00          3\n",
       "26.00          3\n",
       "5.50           2\n",
       "29.00          2\n",
       "70.00          2\n",
       "45.00          2\n",
       "0.20           2\n",
       "3.50           2\n",
       "2.50           1\n",
       "150.00         1\n",
       "110.00         1\n",
       "38.00          1\n",
       "37.00          1\n",
       "130.00         1\n",
       "1300.00        1\n",
       "0.25           1\n",
       "41.00          1\n",
       "36.00          1\n",
       "6.50           1\n",
       "33.00          1\n",
       "2.40           1\n",
       "55.00          1\n",
       "9.50           1\n",
       "Name: Miles from airport, dtype: int64"
      ]
     },
     "execution_count": 49,
     "metadata": {},
     "output_type": "execute_result"
    }
   ],
   "source": [
    "vcounts = df['Miles from airport'].value_counts()\n",
    "vcounts"
   ]
  },
  {
   "cell_type": "code",
   "execution_count": 50,
   "id": "3714c608",
   "metadata": {
    "execution": {
     "iopub.execute_input": "2021-10-19T17:37:26.892260Z",
     "iopub.status.busy": "2021-10-19T17:37:26.891212Z",
     "iopub.status.idle": "2021-10-19T17:37:26.908977Z",
     "shell.execute_reply": "2021-10-19T17:37:26.908406Z",
     "shell.execute_reply.started": "2021-09-24T11:52:15.379635Z"
    },
    "papermill": {
     "duration": 0.203337,
     "end_time": "2021-10-19T17:37:26.909129",
     "exception": false,
     "start_time": "2021-10-19T17:37:26.705792",
     "status": "completed"
    },
    "tags": []
   },
   "outputs": [
    {
     "data": {
      "text/plain": [
       "Approach        11763\n",
       "Climb            4210\n",
       "En Route         1508\n",
       "Descent           903\n",
       "Take-off run      405\n",
       "Landing           315\n",
       "Landing Roll      185\n",
       "Parked             14\n",
       "Name: When: Phase of flight, dtype: int64"
      ]
     },
     "execution_count": 50,
     "metadata": {},
     "output_type": "execute_result"
    }
   ],
   "source": [
    "# überprüfe, ob Flugphaseninfromationen vorhanden sind, falls Flughöhe fehlt\n",
    "df[df['Miles from airport'].isna() == True]['When: Phase of flight'].value_counts()"
   ]
  },
  {
   "cell_type": "markdown",
   "id": "3919a847",
   "metadata": {
    "papermill": {
     "duration": 0.180158,
     "end_time": "2021-10-19T17:37:27.269784",
     "exception": false,
     "start_time": "2021-10-19T17:37:27.089626",
     "status": "completed"
    },
    "tags": []
   },
   "source": [
    "### Ansatz:\n",
    "Behalte Kategorien bei.\n",
    "\n",
    "### Umgang mit fehlenden Werten:\n",
    "Hälfte aller Daten NaNs. Teilweise imputierbar aus Flugphaseninformation.\n",
    "\n",
    "Sehr oft der Wert 0.0. Verdächtig?\n",
    "\n",
    "### Annahme:\n",
    "Nim an, dass alle Flugzeuge während der selben Flugphase im Mittel den selben Abstand haben."
   ]
  },
  {
   "cell_type": "markdown",
   "id": "254b111d",
   "metadata": {
    "papermill": {
     "duration": 0.183352,
     "end_time": "2021-10-19T17:37:27.636536",
     "exception": false,
     "start_time": "2021-10-19T17:37:27.453184",
     "status": "completed"
    },
    "tags": []
   },
   "source": [
    "## Feet above ground"
   ]
  },
  {
   "cell_type": "code",
   "execution_count": 51,
   "id": "1deb1382",
   "metadata": {
    "execution": {
     "iopub.execute_input": "2021-10-19T17:37:28.004167Z",
     "iopub.status.busy": "2021-10-19T17:37:28.003121Z",
     "iopub.status.idle": "2021-10-19T17:37:28.009497Z",
     "shell.execute_reply": "2021-10-19T17:37:28.010103Z",
     "shell.execute_reply.started": "2021-09-24T11:52:15.399702Z"
    },
    "papermill": {
     "duration": 0.192874,
     "end_time": "2021-10-19T17:37:28.010284",
     "exception": false,
     "start_time": "2021-10-19T17:37:27.817410",
     "status": "completed"
    },
    "tags": []
   },
   "outputs": [
    {
     "data": {
      "text/plain": [
       "30541"
      ]
     },
     "execution_count": 51,
     "metadata": {},
     "output_type": "execute_result"
    }
   ],
   "source": [
    "df['Feet above ground'].isna().sum()"
   ]
  },
  {
   "cell_type": "code",
   "execution_count": 52,
   "id": "300b3d8f",
   "metadata": {
    "execution": {
     "iopub.execute_input": "2021-10-19T17:37:28.375056Z",
     "iopub.status.busy": "2021-10-19T17:37:28.374076Z",
     "iopub.status.idle": "2021-10-19T17:37:28.383259Z",
     "shell.execute_reply": "2021-10-19T17:37:28.383870Z",
     "shell.execute_reply.started": "2021-09-24T11:52:15.405735Z"
    },
    "papermill": {
     "duration": 0.192689,
     "end_time": "2021-10-19T17:37:28.384045",
     "exception": false,
     "start_time": "2021-10-19T17:37:28.191356",
     "status": "completed"
    },
    "tags": []
   },
   "outputs": [
    {
     "data": {
      "text/plain": [
       "0.0        14184\n",
       "100.0       1639\n",
       "50.0        1485\n",
       "500.0       1260\n",
       "200.0       1240\n",
       "1000.0      1172\n",
       "10.0         987\n",
       "300.0        895\n",
       "3000.0       787\n",
       "1500.0       759\n",
       "2000.0       756\n",
       "20.0         576\n",
       "400.0        551\n",
       "800.0        486\n",
       "4000.0       481\n",
       "2500.0       401\n",
       "5000.0       358\n",
       "1200.0       337\n",
       "5.0          334\n",
       "600.0        314\n",
       "700.0        298\n",
       "150.0        294\n",
       "30.0         273\n",
       "6000.0       234\n",
       "3500.0       214\n",
       "2700.0       187\n",
       "1800.0       182\n",
       "1700.0       178\n",
       "25.0         175\n",
       "7000.0       162\n",
       "           ...  \n",
       "26.0           1\n",
       "374.0          1\n",
       "5250.0         1\n",
       "580.0          1\n",
       "34.0           1\n",
       "1130.0         1\n",
       "14500.0        1\n",
       "126.0          1\n",
       "9980.0         1\n",
       "2950.0         1\n",
       "940.0          1\n",
       "2375.0         1\n",
       "1580.0         1\n",
       "9300.0         1\n",
       "9150.0         1\n",
       "370.0          1\n",
       "99.0           1\n",
       "1450.0         1\n",
       "1220.0         1\n",
       "30000.0        1\n",
       "995.0          1\n",
       "740.0          1\n",
       "1060.0         1\n",
       "14400.0        1\n",
       "565.0          1\n",
       "820.0          1\n",
       "3740.0         1\n",
       "1126.0         1\n",
       "1740.0         1\n",
       "950.0          1\n",
       "Name: Feet above ground, Length: 329, dtype: int64"
      ]
     },
     "execution_count": 52,
     "metadata": {},
     "output_type": "execute_result"
    }
   ],
   "source": [
    "vcounts = df['Feet above ground'].value_counts()\n",
    "vcounts"
   ]
  },
  {
   "cell_type": "markdown",
   "id": "946c8880",
   "metadata": {
    "papermill": {
     "duration": 0.181553,
     "end_time": "2021-10-19T17:37:28.749528",
     "exception": false,
     "start_time": "2021-10-19T17:37:28.567975",
     "status": "completed"
    },
    "tags": []
   },
   "source": [
    "### Ansatz:\n",
    "Numerische Werte unverändert beibehalten.\n",
    "\n",
    "### Umgang mit fehlenden Werten:\n",
    "Hälfte aller Daten NaNs. Teilweise imputierbar aus Flugphaseninformation.\n",
    "\n",
    "### Annahme:\n",
    "Nim an, dass alle Flugzeuge während der selben Flugphase im Mittel die selbe Höhe erreichen."
   ]
  },
  {
   "cell_type": "markdown",
   "id": "df3da7db",
   "metadata": {
    "papermill": {
     "duration": 0.18179,
     "end_time": "2021-10-19T17:37:29.123750",
     "exception": false,
     "start_time": "2021-10-19T17:37:28.941960",
     "status": "completed"
    },
    "tags": []
   },
   "source": [
    "## Speed (IAS) in knots"
   ]
  },
  {
   "cell_type": "code",
   "execution_count": 53,
   "id": "a472d93a",
   "metadata": {
    "execution": {
     "iopub.execute_input": "2021-10-19T17:37:29.494930Z",
     "iopub.status.busy": "2021-10-19T17:37:29.493888Z",
     "iopub.status.idle": "2021-10-19T17:37:29.500415Z",
     "shell.execute_reply": "2021-10-19T17:37:29.501032Z",
     "shell.execute_reply.started": "2021-09-24T11:52:15.418658Z"
    },
    "papermill": {
     "duration": 0.194601,
     "end_time": "2021-10-19T17:37:29.501301",
     "exception": false,
     "start_time": "2021-10-19T17:37:29.306700",
     "status": "completed"
    },
    "tags": []
   },
   "outputs": [
    {
     "data": {
      "text/plain": [
       "40295"
      ]
     },
     "execution_count": 53,
     "metadata": {},
     "output_type": "execute_result"
    }
   ],
   "source": [
    "df['Speed (IAS) in knots'].isna().sum()"
   ]
  },
  {
   "cell_type": "code",
   "execution_count": 54,
   "id": "b392e0fb",
   "metadata": {
    "execution": {
     "iopub.execute_input": "2021-10-19T17:37:29.872371Z",
     "iopub.status.busy": "2021-10-19T17:37:29.871439Z",
     "iopub.status.idle": "2021-10-19T17:37:29.880046Z",
     "shell.execute_reply": "2021-10-19T17:37:29.880661Z",
     "shell.execute_reply.started": "2021-09-24T11:52:15.428269Z"
    },
    "papermill": {
     "duration": 0.195578,
     "end_time": "2021-10-19T17:37:29.880836",
     "exception": false,
     "start_time": "2021-10-19T17:37:29.685258",
     "status": "completed"
    },
    "tags": []
   },
   "outputs": [
    {
     "data": {
      "text/plain": [
       "140.0     2850\n",
       "130.0     2048\n",
       "120.0     1817\n",
       "150.0     1768\n",
       "100.0     1469\n",
       "135.0     1351\n",
       "250.0     1129\n",
       "160.0     1041\n",
       "180.0     1006\n",
       "110.0      859\n",
       "210.0      773\n",
       "170.0      757\n",
       "200.0      755\n",
       "145.0      675\n",
       "80.0       594\n",
       "125.0      584\n",
       "90.0       522\n",
       "220.0      313\n",
       "190.0      280\n",
       "230.0      273\n",
       "60.0       239\n",
       "70.0       209\n",
       "115.0      200\n",
       "155.0      200\n",
       "165.0      200\n",
       "240.0      141\n",
       "0.0        140\n",
       "50.0       139\n",
       "138.0      138\n",
       "105.0      122\n",
       "          ... \n",
       "201.0        1\n",
       "248.0        1\n",
       "252.0        1\n",
       "243.0        1\n",
       "83.0         1\n",
       "276.0        1\n",
       "164.0        1\n",
       "56.0         1\n",
       "2500.0       1\n",
       "166.0        1\n",
       "335.0        1\n",
       "234.0        1\n",
       "13.0         1\n",
       "59.0         1\n",
       "247.0        1\n",
       "68.0         1\n",
       "82.0         1\n",
       "233.0        1\n",
       "269.0        1\n",
       "219.0        1\n",
       "88.0         1\n",
       "89.0         1\n",
       "12.0         1\n",
       "211.0        1\n",
       "287.0        1\n",
       "308.0        1\n",
       "239.0        1\n",
       "315.0        1\n",
       "71.0         1\n",
       "374.0        1\n",
       "Name: Speed (IAS) in knots, Length: 228, dtype: int64"
      ]
     },
     "execution_count": 54,
     "metadata": {},
     "output_type": "execute_result"
    }
   ],
   "source": [
    "vcounts = df['Speed (IAS) in knots'].value_counts()\n",
    "vcounts"
   ]
  },
  {
   "cell_type": "markdown",
   "id": "3d290a4d",
   "metadata": {
    "papermill": {
     "duration": 0.182248,
     "end_time": "2021-10-19T17:37:30.246643",
     "exception": false,
     "start_time": "2021-10-19T17:37:30.064395",
     "status": "completed"
    },
    "tags": []
   },
   "source": [
    "### Ansatz:\n",
    "Numerische Werte unverändert beibehalten.\n",
    "\n",
    "### Umgang mit fehlenden Werten:\n",
    "Über Hälfte aller Daten NaNs. Teilweise imputierbar aus Flugphaseninformation.\n",
    "\n",
    "### Annahme:\n",
    "Nim an, dass alle Flugzeuge während der selben Flugphase im Mittel die selbe Geschwindigkeit erreichen."
   ]
  },
  {
   "cell_type": "markdown",
   "id": "35970b7e",
   "metadata": {
    "papermill": {
     "duration": 0.18418,
     "end_time": "2021-10-19T17:37:30.612744",
     "exception": false,
     "start_time": "2021-10-19T17:37:30.428564",
     "status": "completed"
    },
    "tags": []
   },
   "source": [
    "# Bereinigung der Daten"
   ]
  },
  {
   "cell_type": "markdown",
   "id": "61fdb0e6",
   "metadata": {
    "papermill": {
     "duration": 0.183192,
     "end_time": "2021-10-19T17:37:30.980310",
     "exception": false,
     "start_time": "2021-10-19T17:37:30.797118",
     "status": "completed"
    },
    "tags": []
   },
   "source": [
    "## Schritt1 entferne nutzlose Spalten"
   ]
  },
  {
   "cell_type": "code",
   "execution_count": 55,
   "id": "1acf33bd",
   "metadata": {
    "execution": {
     "iopub.execute_input": "2021-10-19T17:37:31.349476Z",
     "iopub.status.busy": "2021-10-19T17:37:31.348479Z",
     "iopub.status.idle": "2021-10-19T17:37:31.359214Z",
     "shell.execute_reply": "2021-10-19T17:37:31.359797Z",
     "shell.execute_reply.started": "2021-09-24T11:52:15.444007Z"
    },
    "papermill": {
     "duration": 0.19738,
     "end_time": "2021-10-19T17:37:31.359977",
     "exception": false,
     "start_time": "2021-10-19T17:37:31.162597",
     "status": "completed"
    },
    "tags": []
   },
   "outputs": [],
   "source": [
    "df_new = df.drop(columns=['Record ID', 'Cost: Other (inflation adj)', 'Cost: Repair (inflation adj)', 'Cost: Total $', 'Cost: Aircraft time out of service (hours)'])"
   ]
  },
  {
   "cell_type": "markdown",
   "id": "a03c14ca",
   "metadata": {
    "papermill": {
     "duration": 0.18302,
     "end_time": "2021-10-19T17:37:31.726702",
     "exception": false,
     "start_time": "2021-10-19T17:37:31.543682",
     "status": "completed"
    },
    "tags": []
   },
   "source": [
    "## Schritt2: spalte \"FlightDate\" auf in Jahr;Monat;Tag"
   ]
  },
  {
   "cell_type": "code",
   "execution_count": 56,
   "id": "054a43ce",
   "metadata": {
    "execution": {
     "iopub.execute_input": "2021-10-19T17:37:32.093859Z",
     "iopub.status.busy": "2021-10-19T17:37:32.092742Z",
     "iopub.status.idle": "2021-10-19T17:37:32.371828Z",
     "shell.execute_reply": "2021-10-19T17:37:32.371243Z",
     "shell.execute_reply.started": "2021-09-24T11:52:15.458607Z"
    },
    "papermill": {
     "duration": 0.463882,
     "end_time": "2021-10-19T17:37:32.371984",
     "exception": false,
     "start_time": "2021-10-19T17:37:31.908102",
     "status": "completed"
    },
    "tags": []
   },
   "outputs": [],
   "source": [
    "temp = df_new['FlightDate'].astype('datetime64[ns]')\n",
    "df_new.drop(columns=['FlightDate'], inplace=True)"
   ]
  },
  {
   "cell_type": "code",
   "execution_count": 57,
   "id": "c0e28ab4",
   "metadata": {
    "execution": {
     "iopub.execute_input": "2021-10-19T17:37:32.740958Z",
     "iopub.status.busy": "2021-10-19T17:37:32.740258Z",
     "iopub.status.idle": "2021-10-19T17:37:34.515947Z",
     "shell.execute_reply": "2021-10-19T17:37:34.515299Z",
     "shell.execute_reply.started": "2021-09-24T11:52:15.739342Z"
    },
    "papermill": {
     "duration": 1.960957,
     "end_time": "2021-10-19T17:37:34.516115",
     "exception": false,
     "start_time": "2021-10-19T17:37:32.555158",
     "status": "completed"
    },
    "tags": []
   },
   "outputs": [],
   "source": [
    "df_new['FlightDateYear'] = temp.apply(lambda x: x.year)\n",
    "df_new['FlightDateMonth'] = temp.apply(lambda x: x.month)\n",
    "df_new['FlightDateDay'] = temp.apply(lambda x: x.day)\n",
    "df_new['FlightDateWeekday'] = temp.apply(lambda x: x.weekday())"
   ]
  },
  {
   "cell_type": "markdown",
   "id": "12fef809",
   "metadata": {
    "papermill": {
     "duration": 0.201079,
     "end_time": "2021-10-19T17:37:34.902648",
     "exception": false,
     "start_time": "2021-10-19T17:37:34.701569",
     "status": "completed"
    },
    "tags": []
   },
   "source": [
    "## Schritt3: versuche fehlende Werte für Tageszeit durch Uhrzeit abzuleiten"
   ]
  },
  {
   "cell_type": "code",
   "execution_count": 58,
   "id": "b520a6bc",
   "metadata": {
    "execution": {
     "iopub.execute_input": "2021-10-19T17:37:35.287993Z",
     "iopub.status.busy": "2021-10-19T17:37:35.286958Z",
     "iopub.status.idle": "2021-10-19T17:37:35.289482Z",
     "shell.execute_reply": "2021-10-19T17:37:35.288878Z",
     "shell.execute_reply.started": "2021-09-24T11:52:17.552545Z"
    },
    "papermill": {
     "duration": 0.192791,
     "end_time": "2021-10-19T17:37:35.289630",
     "exception": false,
     "start_time": "2021-10-19T17:37:35.096839",
     "status": "completed"
    },
    "tags": []
   },
   "outputs": [],
   "source": [
    "def estimate_TimeOfDay(x):\n",
    "    if np.isnan(x): return np.nan\n",
    "    if x >=400.0 and x < 1000.0: return 'Dawn'\n",
    "    if x >=1000.0 and x < 1600.0: return 'Day'\n",
    "    if x >=1600.0 and x < 2200.0: return 'Dusk'\n",
    "    else: return 'Night'"
   ]
  },
  {
   "cell_type": "code",
   "execution_count": 59,
   "id": "7da1171d",
   "metadata": {
    "execution": {
     "iopub.execute_input": "2021-10-19T17:37:35.668255Z",
     "iopub.status.busy": "2021-10-19T17:37:35.667595Z",
     "iopub.status.idle": "2021-10-19T17:37:35.731706Z",
     "shell.execute_reply": "2021-10-19T17:37:35.731090Z",
     "shell.execute_reply.started": "2021-09-24T11:52:17.559537Z"
    },
    "papermill": {
     "duration": 0.261244,
     "end_time": "2021-10-19T17:37:35.731928",
     "exception": false,
     "start_time": "2021-10-19T17:37:35.470684",
     "status": "completed"
    },
    "tags": []
   },
   "outputs": [],
   "source": [
    "condition = (df_new['When: Time of day'].isna())\n",
    "df_new.loc[condition, 'When: Time of day'] = df_new[condition]['When: Time (HHMM)'].apply(estimate_TimeOfDay)"
   ]
  },
  {
   "cell_type": "code",
   "execution_count": 60,
   "id": "f0729ff2",
   "metadata": {
    "execution": {
     "iopub.execute_input": "2021-10-19T17:37:36.107615Z",
     "iopub.status.busy": "2021-10-19T17:37:36.106391Z",
     "iopub.status.idle": "2021-10-19T17:37:36.121983Z",
     "shell.execute_reply": "2021-10-19T17:37:36.122526Z",
     "shell.execute_reply.started": "2021-09-24T11:52:17.63671Z"
    },
    "papermill": {
     "duration": 0.207016,
     "end_time": "2021-10-19T17:37:36.122710",
     "exception": false,
     "start_time": "2021-10-19T17:37:35.915694",
     "status": "completed"
    },
    "tags": []
   },
   "outputs": [
    {
     "data": {
      "text/plain": [
       "When: Time (HHMM)    0\n",
       "When: Time of day    0\n",
       "dtype: int64"
      ]
     },
     "execution_count": 60,
     "metadata": {},
     "output_type": "execute_result"
    }
   ],
   "source": [
    "#check, ob noch Datensätze vorliegen bei denen 'When: Time of day' NaN ist\n",
    "#obwohl 'When: Time (HHMM)' es nicht ist\n",
    "condition1 = (df_new['When: Time (HHMM)'].isna() == False)\n",
    "condition2 = (df_new['When: Time of day'].isna() == True)\n",
    "df_new[['When: Time (HHMM)', 'When: Time of day']][condition1 & condition2].count()"
   ]
  },
  {
   "cell_type": "markdown",
   "id": "f671ae01",
   "metadata": {
    "papermill": {
     "duration": 0.180615,
     "end_time": "2021-10-19T17:37:36.488724",
     "exception": false,
     "start_time": "2021-10-19T17:37:36.308109",
     "status": "completed"
    },
    "tags": []
   },
   "source": [
    "## Schritt4: versuche fehlende Werte für Tageszeit durch Uhrzeit abzuleiten"
   ]
  },
  {
   "cell_type": "code",
   "execution_count": 61,
   "id": "130c21de",
   "metadata": {
    "execution": {
     "iopub.execute_input": "2021-10-19T17:37:36.907294Z",
     "iopub.status.busy": "2021-10-19T17:37:36.906605Z",
     "iopub.status.idle": "2021-10-19T17:37:36.908094Z",
     "shell.execute_reply": "2021-10-19T17:37:36.908708Z",
     "shell.execute_reply.started": "2021-09-24T11:52:17.657111Z"
    },
    "papermill": {
     "duration": 0.236745,
     "end_time": "2021-10-19T17:37:36.908882",
     "exception": false,
     "start_time": "2021-10-19T17:37:36.672137",
     "status": "completed"
    },
    "tags": []
   },
   "outputs": [],
   "source": [
    "def estimate_Time(x):\n",
    "    if x == 'Dawn': return 700.0\n",
    "    if x == 'Day': return 1300.0\n",
    "    if x == 'Dusk': return 1900.0\n",
    "    if x == 'Night': return 100.0\n",
    "    else: return np.nan"
   ]
  },
  {
   "cell_type": "markdown",
   "id": "8f7c9c5c",
   "metadata": {
    "papermill": {
     "duration": 0.183385,
     "end_time": "2021-10-19T17:37:37.278146",
     "exception": false,
     "start_time": "2021-10-19T17:37:37.094761",
     "status": "completed"
    },
    "tags": []
   },
   "source": [
    "### Bemerkung:\n",
    "Vielleicht wären Normalverteilungen hier besser als fixe Werte."
   ]
  },
  {
   "cell_type": "code",
   "execution_count": 62,
   "id": "db034982",
   "metadata": {
    "execution": {
     "iopub.execute_input": "2021-10-19T17:37:37.654667Z",
     "iopub.status.busy": "2021-10-19T17:37:37.653937Z",
     "iopub.status.idle": "2021-10-19T17:37:37.681726Z",
     "shell.execute_reply": "2021-10-19T17:37:37.682248Z",
     "shell.execute_reply.started": "2021-09-24T11:52:17.663701Z"
    },
    "papermill": {
     "duration": 0.21647,
     "end_time": "2021-10-19T17:37:37.682426",
     "exception": false,
     "start_time": "2021-10-19T17:37:37.465956",
     "status": "completed"
    },
    "tags": []
   },
   "outputs": [],
   "source": [
    "condition = (df_new['When: Time (HHMM)'].isna())\n",
    "df_new.loc[condition, 'When: Time (HHMM)'] = df_new[condition]['When: Time of day'].apply(estimate_Time)"
   ]
  },
  {
   "cell_type": "code",
   "execution_count": 63,
   "id": "0062a591",
   "metadata": {
    "execution": {
     "iopub.execute_input": "2021-10-19T17:37:38.077435Z",
     "iopub.status.busy": "2021-10-19T17:37:38.076490Z",
     "iopub.status.idle": "2021-10-19T17:37:38.093991Z",
     "shell.execute_reply": "2021-10-19T17:37:38.094969Z",
     "shell.execute_reply.started": "2021-09-24T11:52:17.699624Z"
    },
    "papermill": {
     "duration": 0.228174,
     "end_time": "2021-10-19T17:37:38.095258",
     "exception": false,
     "start_time": "2021-10-19T17:37:37.867084",
     "status": "completed"
    },
    "tags": []
   },
   "outputs": [
    {
     "data": {
      "text/plain": [
       "When: Time (HHMM)    0\n",
       "When: Time of day    0\n",
       "dtype: int64"
      ]
     },
     "execution_count": 63,
     "metadata": {},
     "output_type": "execute_result"
    }
   ],
   "source": [
    "#check, ob noch Datensätze vorliegen bei denen 'When: Time (HHMM)' NaN ist\n",
    "#obwohl 'When: Time of day' es nicht ist\n",
    "condition1 = (df_new['When: Time (HHMM)'].isna() == True)\n",
    "condition2 = (df_new['When: Time of day'].isna() == False)\n",
    "df_new[['When: Time (HHMM)', 'When: Time of day']][condition1 & condition2].count()"
   ]
  },
  {
   "cell_type": "markdown",
   "id": "47f0c3b9",
   "metadata": {
    "papermill": {
     "duration": 0.188174,
     "end_time": "2021-10-19T17:37:38.510149",
     "exception": false,
     "start_time": "2021-10-19T17:37:38.321975",
     "status": "completed"
    },
    "tags": []
   },
   "source": [
    "## Schritt5: setze 'Wildlife: Size' NaN auf Medium"
   ]
  },
  {
   "cell_type": "code",
   "execution_count": 64,
   "id": "191aaf66",
   "metadata": {
    "execution": {
     "iopub.execute_input": "2021-10-19T17:37:38.889534Z",
     "iopub.status.busy": "2021-10-19T17:37:38.888858Z",
     "iopub.status.idle": "2021-10-19T17:37:38.901861Z",
     "shell.execute_reply": "2021-10-19T17:37:38.901296Z",
     "shell.execute_reply.started": "2021-09-24T11:52:17.719141Z"
    },
    "papermill": {
     "duration": 0.202811,
     "end_time": "2021-10-19T17:37:38.902016",
     "exception": false,
     "start_time": "2021-10-19T17:37:38.699205",
     "status": "completed"
    },
    "tags": []
   },
   "outputs": [],
   "source": [
    "df_new['Wildlife: Size'].fillna('Medium', inplace=True)"
   ]
  },
  {
   "cell_type": "markdown",
   "id": "b0c7a8aa",
   "metadata": {
    "papermill": {
     "duration": 0.186163,
     "end_time": "2021-10-19T17:37:39.269985",
     "exception": false,
     "start_time": "2021-10-19T17:37:39.083822",
     "status": "completed"
    },
    "tags": []
   },
   "source": [
    "## Schritt6: setze 'Wildlife: Species' NaN auf Unknown bird or bat"
   ]
  },
  {
   "cell_type": "code",
   "execution_count": 65,
   "id": "ccda1efa",
   "metadata": {
    "execution": {
     "iopub.execute_input": "2021-10-19T17:37:39.640001Z",
     "iopub.status.busy": "2021-10-19T17:37:39.639334Z",
     "iopub.status.idle": "2021-10-19T17:37:39.651365Z",
     "shell.execute_reply": "2021-10-19T17:37:39.651903Z",
     "shell.execute_reply.started": "2021-09-24T11:52:17.732911Z"
    },
    "papermill": {
     "duration": 0.200574,
     "end_time": "2021-10-19T17:37:39.652100",
     "exception": false,
     "start_time": "2021-10-19T17:37:39.451526",
     "status": "completed"
    },
    "tags": []
   },
   "outputs": [],
   "source": [
    "df_new['Wildlife: Species'].fillna('Unknown bird or bat', inplace=True)"
   ]
  },
  {
   "cell_type": "markdown",
   "id": "e8fb5c92",
   "metadata": {
    "papermill": {
     "duration": 0.185689,
     "end_time": "2021-10-19T17:37:40.021715",
     "exception": false,
     "start_time": "2021-10-19T17:37:39.836026",
     "status": "completed"
    },
    "tags": []
   },
   "source": [
    "## Schritt7: setze kleine Klassen für 'Wildlife: Species' mit weniger als 1800 Einträgen auf Misc"
   ]
  },
  {
   "cell_type": "code",
   "execution_count": 66,
   "id": "808a2ed0",
   "metadata": {
    "execution": {
     "iopub.execute_input": "2021-10-19T17:37:40.389481Z",
     "iopub.status.busy": "2021-10-19T17:37:40.388677Z",
     "iopub.status.idle": "2021-10-19T17:37:40.404502Z",
     "shell.execute_reply": "2021-10-19T17:37:40.405024Z",
     "shell.execute_reply.started": "2021-09-24T11:52:17.751998Z"
    },
    "papermill": {
     "duration": 0.201555,
     "end_time": "2021-10-19T17:37:40.405198",
     "exception": false,
     "start_time": "2021-10-19T17:37:40.203643",
     "status": "completed"
    },
    "tags": []
   },
   "outputs": [
    {
     "data": {
      "text/plain": [
       "Unknown bird - small     12645\n",
       "Unknown bird - medium    11513\n",
       "Mourning dove             3265\n",
       "Unknown bird or bat       3083\n",
       "Killdeer                  2188\n",
       "American kestrel          1976\n",
       "Unknown bird              1848\n",
       "Name: Wildlife: Species, dtype: int64"
      ]
     },
     "execution_count": 66,
     "metadata": {},
     "output_type": "execute_result"
    }
   ],
   "source": [
    "vcounts = df_new['Wildlife: Species'].value_counts()\n",
    "vcounts[vcounts > 1800]"
   ]
  },
  {
   "cell_type": "code",
   "execution_count": 67,
   "id": "35985d2c",
   "metadata": {
    "execution": {
     "iopub.execute_input": "2021-10-19T17:37:40.777090Z",
     "iopub.status.busy": "2021-10-19T17:37:40.776407Z",
     "iopub.status.idle": "2021-10-19T17:37:40.779077Z",
     "shell.execute_reply": "2021-10-19T17:37:40.779661Z",
     "shell.execute_reply.started": "2021-09-24T11:52:17.77609Z"
    },
    "papermill": {
     "duration": 0.190627,
     "end_time": "2021-10-19T17:37:40.779844",
     "exception": false,
     "start_time": "2021-10-19T17:37:40.589217",
     "status": "completed"
    },
    "tags": []
   },
   "outputs": [
    {
     "data": {
      "text/plain": [
       "array(['Unknown bird - small', 'Unknown bird - medium', 'Mourning dove',\n",
       "       'Unknown bird or bat', 'Killdeer', 'American kestrel',\n",
       "       'Unknown bird'], dtype=object)"
      ]
     },
     "execution_count": 67,
     "metadata": {},
     "output_type": "execute_result"
    }
   ],
   "source": [
    "significant_species = vcounts[vcounts > 1800].index.values\n",
    "significant_species"
   ]
  },
  {
   "cell_type": "code",
   "execution_count": 68,
   "id": "cc36b6d0",
   "metadata": {
    "execution": {
     "iopub.execute_input": "2021-10-19T17:37:41.151768Z",
     "iopub.status.busy": "2021-10-19T17:37:41.150908Z",
     "iopub.status.idle": "2021-10-19T17:37:41.707270Z",
     "shell.execute_reply": "2021-10-19T17:37:41.706594Z",
     "shell.execute_reply.started": "2021-09-24T11:52:17.785541Z"
    },
    "papermill": {
     "duration": 0.744368,
     "end_time": "2021-10-19T17:37:41.707442",
     "exception": false,
     "start_time": "2021-10-19T17:37:40.963074",
     "status": "completed"
    },
    "tags": []
   },
   "outputs": [],
   "source": [
    "df_new['Wildlife: Species'] = df_new['Wildlife: Species'].apply(lambda x: x if x in significant_species else 'Misc')"
   ]
  },
  {
   "cell_type": "markdown",
   "id": "1543b479",
   "metadata": {
    "papermill": {
     "duration": 0.186705,
     "end_time": "2021-10-19T17:37:42.079923",
     "exception": false,
     "start_time": "2021-10-19T17:37:41.893218",
     "status": "completed"
    },
    "tags": []
   },
   "source": [
    "## Schritt8: setze 'Unknown' für \"Airport: Name\" auf NaN"
   ]
  },
  {
   "cell_type": "code",
   "execution_count": 69,
   "id": "5b0f0bd0",
   "metadata": {
    "execution": {
     "iopub.execute_input": "2021-10-19T17:37:42.449624Z",
     "iopub.status.busy": "2021-10-19T17:37:42.448994Z",
     "iopub.status.idle": "2021-10-19T17:37:42.456661Z",
     "shell.execute_reply": "2021-10-19T17:37:42.457160Z",
     "shell.execute_reply.started": "2021-09-24T11:52:18.342251Z"
    },
    "papermill": {
     "duration": 0.193341,
     "end_time": "2021-10-19T17:37:42.457333",
     "exception": false,
     "start_time": "2021-10-19T17:37:42.263992",
     "status": "completed"
    },
    "tags": []
   },
   "outputs": [],
   "source": [
    "df_new['Airport: Name'].replace('UNKNOWN', np.nan, inplace=True)"
   ]
  },
  {
   "cell_type": "markdown",
   "id": "701fb119",
   "metadata": {
    "papermill": {
     "duration": 0.185243,
     "end_time": "2021-10-19T17:37:42.827929",
     "exception": false,
     "start_time": "2021-10-19T17:37:42.642686",
     "status": "completed"
    },
    "tags": []
   },
   "source": [
    "## Schritt9: Teile Flughäfen ein in INTL, REGIONAL, MUNICIPAL, MILITARY, COUNTY, METRO, REGIONAL"
   ]
  },
  {
   "cell_type": "code",
   "execution_count": 70,
   "id": "9485c623",
   "metadata": {
    "execution": {
     "iopub.execute_input": "2021-10-19T17:37:43.209173Z",
     "iopub.status.busy": "2021-10-19T17:37:43.208469Z",
     "iopub.status.idle": "2021-10-19T17:37:43.210339Z",
     "shell.execute_reply": "2021-10-19T17:37:43.210819Z",
     "shell.execute_reply.started": "2021-09-24T11:52:18.353223Z"
    },
    "papermill": {
     "duration": 0.19872,
     "end_time": "2021-10-19T17:37:43.210998",
     "exception": false,
     "start_time": "2021-10-19T17:37:43.012278",
     "status": "completed"
    },
    "tags": []
   },
   "outputs": [],
   "source": [
    "def classify_airport(x):\n",
    "    if pd.isnull(x): return np.nan\n",
    "    if 'FORCE' in x or'BASE' in x or 'AIR FIELD' in x or 'AIRFIELD' in x:\n",
    "        return 'MILITARY'\n",
    "    if 'INTL' in x: return 'INTL'\n",
    "    if 'METRO' in x: return 'METRO'\n",
    "    if 'MUNICIPAL' in x: return 'MUNICIPAL'\n",
    "    if 'REGIONAL' in x: return 'REGIONAL'\n",
    "    if 'COUNTY' in x: return 'COUNTY'\n",
    "    else: return 'OTHER'"
   ]
  },
  {
   "cell_type": "code",
   "execution_count": 71,
   "id": "8ebfe9ef",
   "metadata": {
    "execution": {
     "iopub.execute_input": "2021-10-19T17:37:43.585026Z",
     "iopub.status.busy": "2021-10-19T17:37:43.584315Z",
     "iopub.status.idle": "2021-10-19T17:37:43.670029Z",
     "shell.execute_reply": "2021-10-19T17:37:43.669404Z",
     "shell.execute_reply.started": "2021-09-24T11:52:18.3647Z"
    },
    "papermill": {
     "duration": 0.273969,
     "end_time": "2021-10-19T17:37:43.670199",
     "exception": false,
     "start_time": "2021-10-19T17:37:43.396230",
     "status": "completed"
    },
    "tags": []
   },
   "outputs": [],
   "source": [
    "df_new['Airport: Type'] = df_new['Airport: Name'].apply(classify_airport)"
   ]
  },
  {
   "cell_type": "code",
   "execution_count": 72,
   "id": "b488ca0c",
   "metadata": {
    "execution": {
     "iopub.execute_input": "2021-10-19T17:37:44.053609Z",
     "iopub.status.busy": "2021-10-19T17:37:44.052809Z",
     "iopub.status.idle": "2021-10-19T17:37:44.079008Z",
     "shell.execute_reply": "2021-10-19T17:37:44.078392Z",
     "shell.execute_reply.started": "2021-09-24T11:52:18.456477Z"
    },
    "papermill": {
     "duration": 0.225323,
     "end_time": "2021-10-19T17:37:44.079152",
     "exception": false,
     "start_time": "2021-10-19T17:37:43.853829",
     "status": "completed"
    },
    "tags": []
   },
   "outputs": [],
   "source": [
    "df_new.drop(columns=['Airport: Name'], inplace=True)"
   ]
  },
  {
   "cell_type": "markdown",
   "id": "209fa4dd",
   "metadata": {
    "papermill": {
     "duration": 0.184464,
     "end_time": "2021-10-19T17:37:44.449644",
     "exception": false,
     "start_time": "2021-10-19T17:37:44.265180",
     "status": "completed"
    },
    "tags": []
   },
   "source": [
    "## Schritt10: setze 'Unknown' für \"Aircraft: Make/Model\" auf NaN"
   ]
  },
  {
   "cell_type": "code",
   "execution_count": 73,
   "id": "bad1eef7",
   "metadata": {
    "execution": {
     "iopub.execute_input": "2021-10-19T17:37:44.823619Z",
     "iopub.status.busy": "2021-10-19T17:37:44.822887Z",
     "iopub.status.idle": "2021-10-19T17:37:44.835152Z",
     "shell.execute_reply": "2021-10-19T17:37:44.834414Z",
     "shell.execute_reply.started": "2021-09-24T11:52:18.497293Z"
    },
    "papermill": {
     "duration": 0.200473,
     "end_time": "2021-10-19T17:37:44.835298",
     "exception": false,
     "start_time": "2021-10-19T17:37:44.634825",
     "status": "completed"
    },
    "tags": []
   },
   "outputs": [],
   "source": [
    "df_new['Aircraft: Make/Model'].replace('UNKNOWN', np.nan, inplace=True)"
   ]
  },
  {
   "cell_type": "markdown",
   "id": "b8fa551b",
   "metadata": {
    "papermill": {
     "duration": 0.184967,
     "end_time": "2021-10-19T17:37:45.206158",
     "exception": false,
     "start_time": "2021-10-19T17:37:45.021191",
     "status": "completed"
    },
    "tags": []
   },
   "source": [
    "## Schritt11: Teile Modelle in größere Klassen mit min. 250 Einträgen ein"
   ]
  },
  {
   "cell_type": "code",
   "execution_count": 74,
   "id": "d09ace1f",
   "metadata": {
    "execution": {
     "iopub.execute_input": "2021-10-19T17:37:45.589350Z",
     "iopub.status.busy": "2021-10-19T17:37:45.578968Z",
     "iopub.status.idle": "2021-10-19T17:37:45.738194Z",
     "shell.execute_reply": "2021-10-19T17:37:45.738679Z",
     "shell.execute_reply.started": "2021-09-24T11:52:18.508411Z"
    },
    "papermill": {
     "duration": 0.349605,
     "end_time": "2021-10-19T17:37:45.738872",
     "exception": false,
     "start_time": "2021-10-19T17:37:45.389267",
     "status": "completed"
    },
    "tags": []
   },
   "outputs": [
    {
     "data": {
      "text/plain": [
       "nan        19540\n",
       "B          15437\n",
       "A           7438\n",
       "CL          4853\n",
       "EMB         3347\n",
       "C           3257\n",
       "MD          2695\n",
       "DC          1595\n",
       "BE          1147\n",
       "DHC8         883\n",
       "PA           560\n",
       "KC           378\n",
       "LEARJET      364\n",
       "T            345\n",
       "SAAB         320\n",
       "F            298\n",
       "Name: Aircraft: Make/Model, dtype: int64"
      ]
     },
     "execution_count": 74,
     "metadata": {},
     "output_type": "execute_result"
    }
   ],
   "source": [
    "vcounts = df_new['Aircraft: Make/Model'].apply(lambda x: re.split(' |-', str(x))[0]).value_counts()\n",
    "vcounts[vcounts > 250]"
   ]
  },
  {
   "cell_type": "code",
   "execution_count": 75,
   "id": "f0ae5b40",
   "metadata": {
    "execution": {
     "iopub.execute_input": "2021-10-19T17:37:46.138926Z",
     "iopub.status.busy": "2021-10-19T17:37:46.138214Z",
     "iopub.status.idle": "2021-10-19T17:37:46.140945Z",
     "shell.execute_reply": "2021-10-19T17:37:46.141538Z",
     "shell.execute_reply.started": "2021-09-24T11:52:18.678932Z"
    },
    "papermill": {
     "duration": 0.19387,
     "end_time": "2021-10-19T17:37:46.141722",
     "exception": false,
     "start_time": "2021-10-19T17:37:45.947852",
     "status": "completed"
    },
    "tags": []
   },
   "outputs": [
    {
     "data": {
      "text/plain": [
       "array(['nan', 'B', 'A', 'CL', 'EMB', 'C', 'MD', 'DC', 'BE', 'DHC8', 'PA',\n",
       "       'KC', 'LEARJET', 'T', 'SAAB', 'F'], dtype=object)"
      ]
     },
     "execution_count": 75,
     "metadata": {},
     "output_type": "execute_result"
    }
   ],
   "source": [
    "significant_ModelClasses = vcounts[vcounts > 250].index.values\n",
    "significant_ModelClasses"
   ]
  },
  {
   "cell_type": "code",
   "execution_count": 76,
   "id": "b32c85cb",
   "metadata": {
    "execution": {
     "iopub.execute_input": "2021-10-19T17:37:46.515722Z",
     "iopub.status.busy": "2021-10-19T17:37:46.515097Z",
     "iopub.status.idle": "2021-10-19T17:37:46.519692Z",
     "shell.execute_reply": "2021-10-19T17:37:46.520204Z",
     "shell.execute_reply.started": "2021-09-24T11:52:18.687998Z"
    },
    "papermill": {
     "duration": 0.191757,
     "end_time": "2021-10-19T17:37:46.520382",
     "exception": false,
     "start_time": "2021-10-19T17:37:46.328625",
     "status": "completed"
    },
    "tags": []
   },
   "outputs": [],
   "source": [
    "def classify_model(x):\n",
    "    if pd.isnull(x): return np.nan\n",
    "    result = re.split(' |-', str(x))[0]\n",
    "    if result in significant_ModelClasses: return result\n",
    "    else: return 'MISC'"
   ]
  },
  {
   "cell_type": "code",
   "execution_count": 77,
   "id": "46af9f16",
   "metadata": {
    "execution": {
     "iopub.execute_input": "2021-10-19T17:37:46.895389Z",
     "iopub.status.busy": "2021-10-19T17:37:46.894783Z",
     "iopub.status.idle": "2021-10-19T17:37:47.525854Z",
     "shell.execute_reply": "2021-10-19T17:37:47.525250Z",
     "shell.execute_reply.started": "2021-09-24T11:52:18.698788Z"
    },
    "papermill": {
     "duration": 0.820473,
     "end_time": "2021-10-19T17:37:47.526020",
     "exception": false,
     "start_time": "2021-10-19T17:37:46.705547",
     "status": "completed"
    },
    "tags": []
   },
   "outputs": [],
   "source": [
    "df_new['Aircraft: ModelClass'] = df_new['Aircraft: Make/Model'].apply(classify_model)\n",
    "df_new.drop(columns=['Aircraft: Make/Model'], inplace=True)"
   ]
  },
  {
   "cell_type": "markdown",
   "id": "6be3e977",
   "metadata": {
    "papermill": {
     "duration": 0.183983,
     "end_time": "2021-10-19T17:37:47.899200",
     "exception": false,
     "start_time": "2021-10-19T17:37:47.715217",
     "status": "completed"
    },
    "tags": []
   },
   "source": [
    "## Schritt11: setze 'Unknown' für \"Altitude bin\" auf NaN"
   ]
  },
  {
   "cell_type": "code",
   "execution_count": 78,
   "id": "ca9f5121",
   "metadata": {
    "execution": {
     "iopub.execute_input": "2021-10-19T17:37:48.272575Z",
     "iopub.status.busy": "2021-10-19T17:37:48.271847Z",
     "iopub.status.idle": "2021-10-19T17:37:48.280586Z",
     "shell.execute_reply": "2021-10-19T17:37:48.281141Z",
     "shell.execute_reply.started": "2021-09-24T11:52:19.323927Z"
    },
    "papermill": {
     "duration": 0.196219,
     "end_time": "2021-10-19T17:37:48.281327",
     "exception": false,
     "start_time": "2021-10-19T17:37:48.085108",
     "status": "completed"
    },
    "tags": []
   },
   "outputs": [],
   "source": [
    "df_new['Altitude bin'].replace('Unknown', np.nan, inplace=True)"
   ]
  },
  {
   "cell_type": "markdown",
   "id": "8853ab6a",
   "metadata": {
    "papermill": {
     "duration": 0.192559,
     "end_time": "2021-10-19T17:37:48.661952",
     "exception": false,
     "start_time": "2021-10-19T17:37:48.469393",
     "status": "completed"
    },
    "tags": []
   },
   "source": [
    "## Schritt12: setze NaN für \"Effect: Impact to flight\" auf None"
   ]
  },
  {
   "cell_type": "code",
   "execution_count": 79,
   "id": "95f67b3b",
   "metadata": {
    "execution": {
     "iopub.execute_input": "2021-10-19T17:37:49.038844Z",
     "iopub.status.busy": "2021-10-19T17:37:49.038182Z",
     "iopub.status.idle": "2021-10-19T17:37:49.049931Z",
     "shell.execute_reply": "2021-10-19T17:37:49.049363Z",
     "shell.execute_reply.started": "2021-09-24T11:52:19.336159Z"
    },
    "papermill": {
     "duration": 0.199893,
     "end_time": "2021-10-19T17:37:49.050079",
     "exception": false,
     "start_time": "2021-10-19T17:37:48.850186",
     "status": "completed"
    },
    "tags": []
   },
   "outputs": [],
   "source": [
    "df_new['Effect: Impact to flight'].fillna('None', inplace=True)"
   ]
  },
  {
   "cell_type": "markdown",
   "id": "35a2636d",
   "metadata": {
    "papermill": {
     "duration": 0.184072,
     "end_time": "2021-10-19T17:37:49.416241",
     "exception": false,
     "start_time": "2021-10-19T17:37:49.232169",
     "status": "completed"
    },
    "tags": []
   },
   "source": [
    "## Schritt13: setze \"Aircraft: Number of engines?\" = S auf NaN"
   ]
  },
  {
   "cell_type": "code",
   "execution_count": 80,
   "id": "75421010",
   "metadata": {
    "execution": {
     "iopub.execute_input": "2021-10-19T17:37:49.794157Z",
     "iopub.status.busy": "2021-10-19T17:37:49.793442Z",
     "iopub.status.idle": "2021-10-19T17:37:49.796317Z",
     "shell.execute_reply": "2021-10-19T17:37:49.795834Z",
     "shell.execute_reply.started": "2021-09-24T11:52:19.35473Z"
    },
    "papermill": {
     "duration": 0.196196,
     "end_time": "2021-10-19T17:37:49.796474",
     "exception": false,
     "start_time": "2021-10-19T17:37:49.600278",
     "status": "completed"
    },
    "tags": []
   },
   "outputs": [],
   "source": [
    "df_new['Aircraft: Number of engines?'].replace('S', np.nan, inplace=True)"
   ]
  },
  {
   "cell_type": "markdown",
   "id": "9ccadc64",
   "metadata": {
    "papermill": {
     "duration": 0.18593,
     "end_time": "2021-10-19T17:37:50.165246",
     "exception": false,
     "start_time": "2021-10-19T17:37:49.979316",
     "status": "completed"
    },
    "tags": []
   },
   "source": [
    "## Schritt14: Teile Operator in größere Klassen mit min. 1000 Einträgen ein"
   ]
  },
  {
   "cell_type": "code",
   "execution_count": 81,
   "id": "e0e6163f",
   "metadata": {
    "execution": {
     "iopub.execute_input": "2021-10-19T17:37:50.536579Z",
     "iopub.status.busy": "2021-10-19T17:37:50.535899Z",
     "iopub.status.idle": "2021-10-19T17:37:50.551294Z",
     "shell.execute_reply": "2021-10-19T17:37:50.551987Z",
     "shell.execute_reply.started": "2021-09-24T11:52:19.369422Z"
    },
    "papermill": {
     "duration": 0.202469,
     "end_time": "2021-10-19T17:37:50.552188",
     "exception": false,
     "start_time": "2021-10-19T17:37:50.349719",
     "status": "completed"
    },
    "tags": []
   },
   "outputs": [
    {
     "data": {
      "text/plain": [
       "array(['UNKNOWN', 'MILITARY', 'SOUTHWEST AIRLINES', 'BUSINESS',\n",
       "       'FEDEX EXPRESS', 'UPS AIRLINES', 'UNITED AIRLINES',\n",
       "       'AMERICAN AIRLINES', 'DELTA AIR LINES', 'SKYWEST AIRLINES',\n",
       "       'JETBLUE AIRWAYS', 'AMERICAN EAGLE AIRLINES', 'MESA AIRLINES'],\n",
       "      dtype=object)"
      ]
     },
     "execution_count": 81,
     "metadata": {},
     "output_type": "execute_result"
    }
   ],
   "source": [
    "vcounts = df_new['Aircraft: Airline/Operator'].value_counts()\n",
    "significant_Operators = vcounts[vcounts > 1000].index.values\n",
    "significant_Operators"
   ]
  },
  {
   "cell_type": "code",
   "execution_count": 82,
   "id": "dd25735e",
   "metadata": {
    "execution": {
     "iopub.execute_input": "2021-10-19T17:37:50.929161Z",
     "iopub.status.busy": "2021-10-19T17:37:50.928411Z",
     "iopub.status.idle": "2021-10-19T17:37:50.931536Z",
     "shell.execute_reply": "2021-10-19T17:37:50.930997Z",
     "shell.execute_reply.started": "2021-09-24T11:52:19.396254Z"
    },
    "papermill": {
     "duration": 0.194524,
     "end_time": "2021-10-19T17:37:50.931702",
     "exception": false,
     "start_time": "2021-10-19T17:37:50.737178",
     "status": "completed"
    },
    "tags": []
   },
   "outputs": [],
   "source": [
    "def classify_operator(x):\n",
    "    if pd.isnull(x): return np.nan\n",
    "    if x in ['UNKNOWN', 'MILITARY', 'BUSINESS', 'PRIVATELY OWNED', 'GOVERNMENT', 'US CUSTOMS AND BORDER PROTECTION']: return x\n",
    "    if x in significant_Operators: return 'MAJOR COMERCIAL'\n",
    "    else: return 'MINOR COMERCIAL'"
   ]
  },
  {
   "cell_type": "code",
   "execution_count": 83,
   "id": "9ff9f554",
   "metadata": {
    "execution": {
     "iopub.execute_input": "2021-10-19T17:37:51.350219Z",
     "iopub.status.busy": "2021-10-19T17:37:51.349409Z",
     "iopub.status.idle": "2021-10-19T17:37:51.784311Z",
     "shell.execute_reply": "2021-10-19T17:37:51.783767Z",
     "shell.execute_reply.started": "2021-09-24T11:52:19.402418Z"
    },
    "papermill": {
     "duration": 0.621896,
     "end_time": "2021-10-19T17:37:51.784478",
     "exception": false,
     "start_time": "2021-10-19T17:37:51.162582",
     "status": "completed"
    },
    "tags": []
   },
   "outputs": [],
   "source": [
    "df_new['Aircraft: OperatorClass'] = df_new['Aircraft: Airline/Operator'].apply(classify_operator)\n",
    "df_new.drop(columns=['Aircraft: Airline/Operator'], inplace=True)"
   ]
  },
  {
   "cell_type": "markdown",
   "id": "732e1e0a",
   "metadata": {
    "papermill": {
     "duration": 0.183989,
     "end_time": "2021-10-19T17:37:52.154761",
     "exception": false,
     "start_time": "2021-10-19T17:37:51.970772",
     "status": "completed"
    },
    "tags": []
   },
   "source": [
    "## Schritt15: setze NaN in Origin State auf 'Foreign'"
   ]
  },
  {
   "cell_type": "code",
   "execution_count": 84,
   "id": "aa61568b",
   "metadata": {
    "execution": {
     "iopub.execute_input": "2021-10-19T17:37:52.523295Z",
     "iopub.status.busy": "2021-10-19T17:37:52.522696Z",
     "iopub.status.idle": "2021-10-19T17:37:52.534234Z",
     "shell.execute_reply": "2021-10-19T17:37:52.534717Z",
     "shell.execute_reply.started": "2021-09-24T11:52:19.829245Z"
    },
    "papermill": {
     "duration": 0.197409,
     "end_time": "2021-10-19T17:37:52.534901",
     "exception": false,
     "start_time": "2021-10-19T17:37:52.337492",
     "status": "completed"
    },
    "tags": []
   },
   "outputs": [],
   "source": [
    "df_new['Origin State'].fillna('Foreign', inplace=True)"
   ]
  },
  {
   "cell_type": "markdown",
   "id": "d6f18aee",
   "metadata": {
    "papermill": {
     "duration": 0.185155,
     "end_time": "2021-10-19T17:37:52.903325",
     "exception": false,
     "start_time": "2021-10-19T17:37:52.718170",
     "status": "completed"
    },
    "tags": []
   },
   "source": [
    "## Schritt16: teile Origin State in größere Klassen mit min 1500 Einträgen ein"
   ]
  },
  {
   "cell_type": "code",
   "execution_count": 85,
   "id": "cd693f12",
   "metadata": {
    "execution": {
     "iopub.execute_input": "2021-10-19T17:37:53.275841Z",
     "iopub.status.busy": "2021-10-19T17:37:53.275188Z",
     "iopub.status.idle": "2021-10-19T17:37:53.289276Z",
     "shell.execute_reply": "2021-10-19T17:37:53.289777Z",
     "shell.execute_reply.started": "2021-09-24T11:52:19.843142Z"
    },
    "papermill": {
     "duration": 0.201959,
     "end_time": "2021-10-19T17:37:53.289952",
     "exception": false,
     "start_time": "2021-10-19T17:37:53.087993",
     "status": "completed"
    },
    "tags": []
   },
   "outputs": [
    {
     "data": {
      "text/plain": [
       "array(['Foreign', 'Texas', 'California', 'Florida', 'New York',\n",
       "       'Colorado', 'Illinois', 'Ohio', 'Tennessee', 'New Jersey',\n",
       "       'Pennsylvania', 'Missouri', 'Kentucky'], dtype=object)"
      ]
     },
     "execution_count": 85,
     "metadata": {},
     "output_type": "execute_result"
    }
   ],
   "source": [
    "vcounts = df_new['Origin State'].value_counts()\n",
    "significant_states = vcounts[vcounts > 1500].index.values\n",
    "significant_states"
   ]
  },
  {
   "cell_type": "code",
   "execution_count": 86,
   "id": "6ff746ec",
   "metadata": {
    "execution": {
     "iopub.execute_input": "2021-10-19T17:37:53.665366Z",
     "iopub.status.busy": "2021-10-19T17:37:53.664381Z",
     "iopub.status.idle": "2021-10-19T17:37:54.258860Z",
     "shell.execute_reply": "2021-10-19T17:37:54.258299Z",
     "shell.execute_reply.started": "2021-09-24T11:52:19.867768Z"
    },
    "papermill": {
     "duration": 0.785217,
     "end_time": "2021-10-19T17:37:54.259014",
     "exception": false,
     "start_time": "2021-10-19T17:37:53.473797",
     "status": "completed"
    },
    "tags": []
   },
   "outputs": [],
   "source": [
    "df_new['Origin Class'] = df_new['Origin State'].apply(lambda x: x if x in significant_states else 'Other')\n",
    "df_new.drop(columns=['Origin State'], inplace=True)"
   ]
  },
  {
   "cell_type": "markdown",
   "id": "a5193639",
   "metadata": {
    "papermill": {
     "duration": 0.183622,
     "end_time": "2021-10-19T17:37:54.626796",
     "exception": false,
     "start_time": "2021-10-19T17:37:54.443174",
     "status": "completed"
    },
    "tags": []
   },
   "source": [
    "## Schritt17: setze NaN für \"Pilot warned of birds or wildlife?\" auf 'N'"
   ]
  },
  {
   "cell_type": "code",
   "execution_count": 87,
   "id": "ee52f428",
   "metadata": {
    "execution": {
     "iopub.execute_input": "2021-10-19T17:37:55.000886Z",
     "iopub.status.busy": "2021-10-19T17:37:54.999872Z",
     "iopub.status.idle": "2021-10-19T17:37:55.011167Z",
     "shell.execute_reply": "2021-10-19T17:37:55.011948Z",
     "shell.execute_reply.started": "2021-09-24T11:52:20.45966Z"
    },
    "papermill": {
     "duration": 0.201132,
     "end_time": "2021-10-19T17:37:55.012143",
     "exception": false,
     "start_time": "2021-10-19T17:37:54.811011",
     "status": "completed"
    },
    "tags": []
   },
   "outputs": [],
   "source": [
    "df_new['Pilot warned of birds or wildlife?'].fillna('N', inplace=True)"
   ]
  },
  {
   "cell_type": "markdown",
   "id": "8dccb28d",
   "metadata": {
    "papermill": {
     "duration": 0.187425,
     "end_time": "2021-10-19T17:37:55.383335",
     "exception": false,
     "start_time": "2021-10-19T17:37:55.195910",
     "status": "completed"
    },
    "tags": []
   },
   "source": [
    "## Schritt18: imputiere \"Miles from airport\" aus Flugphaseninformation"
   ]
  },
  {
   "cell_type": "code",
   "execution_count": 88,
   "id": "74b00ae7",
   "metadata": {
    "execution": {
     "iopub.execute_input": "2021-10-19T17:37:55.764019Z",
     "iopub.status.busy": "2021-10-19T17:37:55.762992Z",
     "iopub.status.idle": "2021-10-19T17:37:55.786782Z",
     "shell.execute_reply": "2021-10-19T17:37:55.787335Z",
     "shell.execute_reply.started": "2021-09-24T11:52:20.473116Z"
    },
    "papermill": {
     "duration": 0.216384,
     "end_time": "2021-10-19T17:37:55.787530",
     "exception": false,
     "start_time": "2021-10-19T17:37:55.571146",
     "status": "completed"
    },
    "tags": []
   },
   "outputs": [
    {
     "data": {
      "text/html": [
       "<div>\n",
       "<style scoped>\n",
       "    .dataframe tbody tr th:only-of-type {\n",
       "        vertical-align: middle;\n",
       "    }\n",
       "\n",
       "    .dataframe tbody tr th {\n",
       "        vertical-align: top;\n",
       "    }\n",
       "\n",
       "    .dataframe thead th {\n",
       "        text-align: right;\n",
       "    }\n",
       "</style>\n",
       "<table border=\"1\" class=\"dataframe\">\n",
       "  <thead>\n",
       "    <tr style=\"text-align: right;\">\n",
       "      <th></th>\n",
       "      <th>Miles from airport</th>\n",
       "    </tr>\n",
       "    <tr>\n",
       "      <th>When: Phase of flight</th>\n",
       "      <th></th>\n",
       "    </tr>\n",
       "  </thead>\n",
       "  <tbody>\n",
       "    <tr>\n",
       "      <th>Approach</th>\n",
       "      <td>3.246971</td>\n",
       "    </tr>\n",
       "    <tr>\n",
       "      <th>Climb</th>\n",
       "      <td>1.831704</td>\n",
       "    </tr>\n",
       "    <tr>\n",
       "      <th>Descent</th>\n",
       "      <td>20.643855</td>\n",
       "    </tr>\n",
       "    <tr>\n",
       "      <th>En Route</th>\n",
       "      <td>11.640000</td>\n",
       "    </tr>\n",
       "    <tr>\n",
       "      <th>Landing</th>\n",
       "      <td>0.000000</td>\n",
       "    </tr>\n",
       "    <tr>\n",
       "      <th>Landing Roll</th>\n",
       "      <td>0.000000</td>\n",
       "    </tr>\n",
       "    <tr>\n",
       "      <th>Parked</th>\n",
       "      <td>0.000000</td>\n",
       "    </tr>\n",
       "    <tr>\n",
       "      <th>Take-off run</th>\n",
       "      <td>0.000000</td>\n",
       "    </tr>\n",
       "    <tr>\n",
       "      <th>Taxi</th>\n",
       "      <td>0.000000</td>\n",
       "    </tr>\n",
       "  </tbody>\n",
       "</table>\n",
       "</div>"
      ],
      "text/plain": [
       "                       Miles from airport\n",
       "When: Phase of flight                    \n",
       "Approach                         3.246971\n",
       "Climb                            1.831704\n",
       "Descent                         20.643855\n",
       "En Route                        11.640000\n",
       "Landing                          0.000000\n",
       "Landing Roll                     0.000000\n",
       "Parked                           0.000000\n",
       "Take-off run                     0.000000\n",
       "Taxi                             0.000000"
      ]
     },
     "execution_count": 88,
     "metadata": {},
     "output_type": "execute_result"
    }
   ],
   "source": [
    "#erstelle Series mit mittlerem Abstand für jede Flugphase\n",
    "miles_means = df_new[['When: Phase of flight', 'Miles from airport']].groupby(['When: Phase of flight']).mean().fillna(0.0)\n",
    "miles_means"
   ]
  },
  {
   "cell_type": "code",
   "execution_count": 89,
   "id": "3b4c1905",
   "metadata": {
    "execution": {
     "iopub.execute_input": "2021-10-19T17:37:56.170684Z",
     "iopub.status.busy": "2021-10-19T17:37:56.169668Z",
     "iopub.status.idle": "2021-10-19T17:37:56.785292Z",
     "shell.execute_reply": "2021-10-19T17:37:56.784695Z",
     "shell.execute_reply.started": "2021-09-24T11:52:20.501223Z"
    },
    "papermill": {
     "duration": 0.806804,
     "end_time": "2021-10-19T17:37:56.785472",
     "exception": false,
     "start_time": "2021-10-19T17:37:55.978668",
     "status": "completed"
    },
    "tags": []
   },
   "outputs": [],
   "source": [
    "miles_means = df_new['When: Phase of flight'].apply(lambda x: np.nan if pd.isnull(x) else miles_means.loc[x,'Miles from airport'])"
   ]
  },
  {
   "cell_type": "code",
   "execution_count": 90,
   "id": "04714cf1",
   "metadata": {
    "execution": {
     "iopub.execute_input": "2021-10-19T17:37:57.185990Z",
     "iopub.status.busy": "2021-10-19T17:37:57.184983Z",
     "iopub.status.idle": "2021-10-19T17:37:57.193319Z",
     "shell.execute_reply": "2021-10-19T17:37:57.193878Z",
     "shell.execute_reply.started": "2021-09-24T11:52:21.105387Z"
    },
    "papermill": {
     "duration": 0.199916,
     "end_time": "2021-10-19T17:37:57.194057",
     "exception": false,
     "start_time": "2021-10-19T17:37:56.994141",
     "status": "completed"
    },
    "tags": []
   },
   "outputs": [],
   "source": [
    "condition = (df_new['Miles from airport'].isna() == True)\n",
    "df_new.loc[condition, 'Miles from airport'] = miles_means[df_new['Miles from airport'].isna()]"
   ]
  },
  {
   "cell_type": "markdown",
   "id": "e67d027a",
   "metadata": {
    "papermill": {
     "duration": 0.18388,
     "end_time": "2021-10-19T17:37:57.561930",
     "exception": false,
     "start_time": "2021-10-19T17:37:57.378050",
     "status": "completed"
    },
    "tags": []
   },
   "source": [
    "## Schritt19: imputiere \"Feet above ground\" aus Flugphaseninformation"
   ]
  },
  {
   "cell_type": "code",
   "execution_count": 91,
   "id": "e456f5c8",
   "metadata": {
    "execution": {
     "iopub.execute_input": "2021-10-19T17:37:57.937356Z",
     "iopub.status.busy": "2021-10-19T17:37:57.936343Z",
     "iopub.status.idle": "2021-10-19T17:37:57.957407Z",
     "shell.execute_reply": "2021-10-19T17:37:57.957974Z",
     "shell.execute_reply.started": "2021-09-24T11:52:21.116208Z"
    },
    "papermill": {
     "duration": 0.212043,
     "end_time": "2021-10-19T17:37:57.958147",
     "exception": false,
     "start_time": "2021-10-19T17:37:57.746104",
     "status": "completed"
    },
    "tags": []
   },
   "outputs": [
    {
     "data": {
      "text/html": [
       "<div>\n",
       "<style scoped>\n",
       "    .dataframe tbody tr th:only-of-type {\n",
       "        vertical-align: middle;\n",
       "    }\n",
       "\n",
       "    .dataframe tbody tr th {\n",
       "        vertical-align: top;\n",
       "    }\n",
       "\n",
       "    .dataframe thead th {\n",
       "        text-align: right;\n",
       "    }\n",
       "</style>\n",
       "<table border=\"1\" class=\"dataframe\">\n",
       "  <thead>\n",
       "    <tr style=\"text-align: right;\">\n",
       "      <th></th>\n",
       "      <th>Feet above ground</th>\n",
       "    </tr>\n",
       "    <tr>\n",
       "      <th>When: Phase of flight</th>\n",
       "      <th></th>\n",
       "    </tr>\n",
       "  </thead>\n",
       "  <tbody>\n",
       "    <tr>\n",
       "      <th>Approach</th>\n",
       "      <td>1096.219016</td>\n",
       "    </tr>\n",
       "    <tr>\n",
       "      <th>Climb</th>\n",
       "      <td>1412.136066</td>\n",
       "    </tr>\n",
       "    <tr>\n",
       "      <th>Descent</th>\n",
       "      <td>5973.857965</td>\n",
       "    </tr>\n",
       "    <tr>\n",
       "      <th>En Route</th>\n",
       "      <td>2390.923077</td>\n",
       "    </tr>\n",
       "    <tr>\n",
       "      <th>Landing</th>\n",
       "      <td>0.000000</td>\n",
       "    </tr>\n",
       "    <tr>\n",
       "      <th>Landing Roll</th>\n",
       "      <td>2.402234</td>\n",
       "    </tr>\n",
       "    <tr>\n",
       "      <th>Parked</th>\n",
       "      <td>0.000000</td>\n",
       "    </tr>\n",
       "    <tr>\n",
       "      <th>Take-off run</th>\n",
       "      <td>2.613128</td>\n",
       "    </tr>\n",
       "    <tr>\n",
       "      <th>Taxi</th>\n",
       "      <td>0.360656</td>\n",
       "    </tr>\n",
       "  </tbody>\n",
       "</table>\n",
       "</div>"
      ],
      "text/plain": [
       "                       Feet above ground\n",
       "When: Phase of flight                   \n",
       "Approach                     1096.219016\n",
       "Climb                        1412.136066\n",
       "Descent                      5973.857965\n",
       "En Route                     2390.923077\n",
       "Landing                         0.000000\n",
       "Landing Roll                    2.402234\n",
       "Parked                          0.000000\n",
       "Take-off run                    2.613128\n",
       "Taxi                            0.360656"
      ]
     },
     "execution_count": 91,
     "metadata": {},
     "output_type": "execute_result"
    }
   ],
   "source": [
    "#erstelle Series mit mittlerer Höhe für jede Flugphase\n",
    "feet_means = df_new[['When: Phase of flight', 'Feet above ground']].groupby(['When: Phase of flight']).mean().fillna(0.0)\n",
    "feet_means"
   ]
  },
  {
   "cell_type": "code",
   "execution_count": 92,
   "id": "88701a4f",
   "metadata": {
    "execution": {
     "iopub.execute_input": "2021-10-19T17:37:58.332953Z",
     "iopub.status.busy": "2021-10-19T17:37:58.331993Z",
     "iopub.status.idle": "2021-10-19T17:37:58.944948Z",
     "shell.execute_reply": "2021-10-19T17:37:58.945440Z",
     "shell.execute_reply.started": "2021-09-24T11:52:21.143359Z"
    },
    "papermill": {
     "duration": 0.801491,
     "end_time": "2021-10-19T17:37:58.945648",
     "exception": false,
     "start_time": "2021-10-19T17:37:58.144157",
     "status": "completed"
    },
    "tags": []
   },
   "outputs": [],
   "source": [
    "feet_means = df_new['When: Phase of flight'].apply(lambda x: np.nan if pd.isnull(x) else feet_means.loc[x,'Feet above ground'])"
   ]
  },
  {
   "cell_type": "code",
   "execution_count": 93,
   "id": "5e23ef80",
   "metadata": {
    "execution": {
     "iopub.execute_input": "2021-10-19T17:37:59.322738Z",
     "iopub.status.busy": "2021-10-19T17:37:59.322106Z",
     "iopub.status.idle": "2021-10-19T17:37:59.327346Z",
     "shell.execute_reply": "2021-10-19T17:37:59.327882Z",
     "shell.execute_reply.started": "2021-09-24T11:52:21.745405Z"
    },
    "papermill": {
     "duration": 0.195994,
     "end_time": "2021-10-19T17:37:59.328073",
     "exception": false,
     "start_time": "2021-10-19T17:37:59.132079",
     "status": "completed"
    },
    "tags": []
   },
   "outputs": [],
   "source": [
    "condition = (df_new['Feet above ground'].isna() == True)\n",
    "df_new.loc[condition, 'Feet above ground'] = miles_means[df_new['Feet above ground'].isna()]"
   ]
  },
  {
   "cell_type": "markdown",
   "id": "c25a85b5",
   "metadata": {
    "papermill": {
     "duration": 0.186053,
     "end_time": "2021-10-19T17:37:59.700395",
     "exception": false,
     "start_time": "2021-10-19T17:37:59.514342",
     "status": "completed"
    },
    "tags": []
   },
   "source": [
    "## Schritt20: imputiere \"Speed (IAS) in knots\" aus Flugphaseninformation"
   ]
  },
  {
   "cell_type": "code",
   "execution_count": 94,
   "id": "7786f1d4",
   "metadata": {
    "execution": {
     "iopub.execute_input": "2021-10-19T17:38:00.079477Z",
     "iopub.status.busy": "2021-10-19T17:38:00.078838Z",
     "iopub.status.idle": "2021-10-19T17:38:00.102208Z",
     "shell.execute_reply": "2021-10-19T17:38:00.101565Z",
     "shell.execute_reply.started": "2021-09-24T11:52:21.755625Z"
    },
    "papermill": {
     "duration": 0.213932,
     "end_time": "2021-10-19T17:38:00.102350",
     "exception": false,
     "start_time": "2021-10-19T17:37:59.888418",
     "status": "completed"
    },
    "tags": []
   },
   "outputs": [
    {
     "data": {
      "text/html": [
       "<div>\n",
       "<style scoped>\n",
       "    .dataframe tbody tr th:only-of-type {\n",
       "        vertical-align: middle;\n",
       "    }\n",
       "\n",
       "    .dataframe tbody tr th {\n",
       "        vertical-align: top;\n",
       "    }\n",
       "\n",
       "    .dataframe thead th {\n",
       "        text-align: right;\n",
       "    }\n",
       "</style>\n",
       "<table border=\"1\" class=\"dataframe\">\n",
       "  <thead>\n",
       "    <tr style=\"text-align: right;\">\n",
       "      <th></th>\n",
       "      <th>Speed (IAS) in knots</th>\n",
       "    </tr>\n",
       "    <tr>\n",
       "      <th>When: Phase of flight</th>\n",
       "      <th></th>\n",
       "    </tr>\n",
       "  </thead>\n",
       "  <tbody>\n",
       "    <tr>\n",
       "      <th>Approach</th>\n",
       "      <td>147.629430</td>\n",
       "    </tr>\n",
       "    <tr>\n",
       "      <th>Climb</th>\n",
       "      <td>166.502840</td>\n",
       "    </tr>\n",
       "    <tr>\n",
       "      <th>Descent</th>\n",
       "      <td>223.160932</td>\n",
       "    </tr>\n",
       "    <tr>\n",
       "      <th>En Route</th>\n",
       "      <td>172.380454</td>\n",
       "    </tr>\n",
       "    <tr>\n",
       "      <th>Landing</th>\n",
       "      <td>126.852941</td>\n",
       "    </tr>\n",
       "    <tr>\n",
       "      <th>Landing Roll</th>\n",
       "      <td>108.382630</td>\n",
       "    </tr>\n",
       "    <tr>\n",
       "      <th>Parked</th>\n",
       "      <td>25.150000</td>\n",
       "    </tr>\n",
       "    <tr>\n",
       "      <th>Take-off run</th>\n",
       "      <td>119.554175</td>\n",
       "    </tr>\n",
       "    <tr>\n",
       "      <th>Taxi</th>\n",
       "      <td>14.666667</td>\n",
       "    </tr>\n",
       "  </tbody>\n",
       "</table>\n",
       "</div>"
      ],
      "text/plain": [
       "                       Speed (IAS) in knots\n",
       "When: Phase of flight                      \n",
       "Approach                         147.629430\n",
       "Climb                            166.502840\n",
       "Descent                          223.160932\n",
       "En Route                         172.380454\n",
       "Landing                          126.852941\n",
       "Landing Roll                     108.382630\n",
       "Parked                            25.150000\n",
       "Take-off run                     119.554175\n",
       "Taxi                              14.666667"
      ]
     },
     "execution_count": 94,
     "metadata": {},
     "output_type": "execute_result"
    }
   ],
   "source": [
    "#erstelle Series mit mittlerer Geschwindigkeit für jede Flugphase\n",
    "speed_means = df_new[['When: Phase of flight', 'Speed (IAS) in knots']].groupby(['When: Phase of flight']).mean().fillna(0.0)\n",
    "speed_means"
   ]
  },
  {
   "cell_type": "code",
   "execution_count": 95,
   "id": "b1614f0a",
   "metadata": {
    "execution": {
     "iopub.execute_input": "2021-10-19T17:38:00.483529Z",
     "iopub.status.busy": "2021-10-19T17:38:00.482842Z",
     "iopub.status.idle": "2021-10-19T17:38:01.095817Z",
     "shell.execute_reply": "2021-10-19T17:38:01.096375Z",
     "shell.execute_reply.started": "2021-09-24T11:52:21.783859Z"
    },
    "papermill": {
     "duration": 0.804001,
     "end_time": "2021-10-19T17:38:01.096594",
     "exception": false,
     "start_time": "2021-10-19T17:38:00.292593",
     "status": "completed"
    },
    "tags": []
   },
   "outputs": [],
   "source": [
    "feet_means = df_new['When: Phase of flight'].apply(lambda x: np.nan if pd.isnull(x) else speed_means.loc[x,'Speed (IAS) in knots'])"
   ]
  },
  {
   "cell_type": "code",
   "execution_count": 96,
   "id": "c2abf3b6",
   "metadata": {
    "execution": {
     "iopub.execute_input": "2021-10-19T17:38:01.474797Z",
     "iopub.status.busy": "2021-10-19T17:38:01.474152Z",
     "iopub.status.idle": "2021-10-19T17:38:01.482806Z",
     "shell.execute_reply": "2021-10-19T17:38:01.482266Z",
     "shell.execute_reply.started": "2021-09-24T11:52:22.395335Z"
    },
    "papermill": {
     "duration": 0.198088,
     "end_time": "2021-10-19T17:38:01.482946",
     "exception": false,
     "start_time": "2021-10-19T17:38:01.284858",
     "status": "completed"
    },
    "tags": []
   },
   "outputs": [],
   "source": [
    "condition = (df_new['Speed (IAS) in knots'].isna() == True)\n",
    "df_new.loc[condition, 'Speed (IAS) in knots'] = miles_means[df_new['Speed (IAS) in knots'].isna()]"
   ]
  },
  {
   "cell_type": "markdown",
   "id": "c2964cbc",
   "metadata": {
    "papermill": {
     "duration": 0.187202,
     "end_time": "2021-10-19T17:38:01.856104",
     "exception": false,
     "start_time": "2021-10-19T17:38:01.668902",
     "status": "completed"
    },
    "tags": []
   },
   "source": [
    "## Schritt21: bereinige alle Zeilen in denen noch irgendwo NaNs auftreten"
   ]
  },
  {
   "cell_type": "code",
   "execution_count": 97,
   "id": "a373bf8f",
   "metadata": {
    "execution": {
     "iopub.execute_input": "2021-10-19T17:38:02.236110Z",
     "iopub.status.busy": "2021-10-19T17:38:02.235484Z",
     "iopub.status.idle": "2021-10-19T17:38:02.376298Z",
     "shell.execute_reply": "2021-10-19T17:38:02.375642Z",
     "shell.execute_reply.started": "2021-09-24T11:52:22.406421Z"
    },
    "papermill": {
     "duration": 0.331413,
     "end_time": "2021-10-19T17:38:02.376444",
     "exception": false,
     "start_time": "2021-10-19T17:38:02.045031",
     "status": "completed"
    },
    "tags": []
   },
   "outputs": [
    {
     "data": {
      "text/html": [
       "<div>\n",
       "<style scoped>\n",
       "    .dataframe tbody tr th:only-of-type {\n",
       "        vertical-align: middle;\n",
       "    }\n",
       "\n",
       "    .dataframe tbody tr th {\n",
       "        vertical-align: top;\n",
       "    }\n",
       "\n",
       "    .dataframe thead th {\n",
       "        text-align: right;\n",
       "    }\n",
       "</style>\n",
       "<table border=\"1\" class=\"dataframe\">\n",
       "  <thead>\n",
       "    <tr style=\"text-align: right;\">\n",
       "      <th></th>\n",
       "      <th>Altitude bin</th>\n",
       "      <th>Effect: Impact to flight</th>\n",
       "      <th>Effect: Indicated Damage</th>\n",
       "      <th>Aircraft: Number of engines?</th>\n",
       "      <th>When: Phase of flight</th>\n",
       "      <th>Wildlife: Size</th>\n",
       "      <th>Wildlife: Species</th>\n",
       "      <th>When: Time (HHMM)</th>\n",
       "      <th>When: Time of day</th>\n",
       "      <th>Pilot warned of birds or wildlife?</th>\n",
       "      <th>...</th>\n",
       "      <th>Feet above ground</th>\n",
       "      <th>Speed (IAS) in knots</th>\n",
       "      <th>FlightDateYear</th>\n",
       "      <th>FlightDateMonth</th>\n",
       "      <th>FlightDateDay</th>\n",
       "      <th>FlightDateWeekday</th>\n",
       "      <th>Airport: Type</th>\n",
       "      <th>Aircraft: ModelClass</th>\n",
       "      <th>Aircraft: OperatorClass</th>\n",
       "      <th>Origin Class</th>\n",
       "    </tr>\n",
       "  </thead>\n",
       "  <tbody>\n",
       "    <tr>\n",
       "      <th>2</th>\n",
       "      <td>&lt; 1000 ft</td>\n",
       "      <td>None</td>\n",
       "      <td>Caused damage</td>\n",
       "      <td>1</td>\n",
       "      <td>Landing Roll</td>\n",
       "      <td>Large</td>\n",
       "      <td>Misc</td>\n",
       "      <td>1300.0</td>\n",
       "      <td>Day</td>\n",
       "      <td>N</td>\n",
       "      <td>...</td>\n",
       "      <td>0.0</td>\n",
       "      <td>20.000000</td>\n",
       "      <td>2005</td>\n",
       "      <td>1</td>\n",
       "      <td>1</td>\n",
       "      <td>5</td>\n",
       "      <td>OTHER</td>\n",
       "      <td>PA</td>\n",
       "      <td>PRIVATELY OWNED</td>\n",
       "      <td>Tennessee</td>\n",
       "    </tr>\n",
       "    <tr>\n",
       "      <th>3</th>\n",
       "      <td>&lt; 1000 ft</td>\n",
       "      <td>None</td>\n",
       "      <td>Caused damage</td>\n",
       "      <td>2</td>\n",
       "      <td>Approach</td>\n",
       "      <td>Large</td>\n",
       "      <td>Misc</td>\n",
       "      <td>2140.0</td>\n",
       "      <td>Night</td>\n",
       "      <td>Y</td>\n",
       "      <td>...</td>\n",
       "      <td>500.0</td>\n",
       "      <td>142.000000</td>\n",
       "      <td>2005</td>\n",
       "      <td>1</td>\n",
       "      <td>1</td>\n",
       "      <td>5</td>\n",
       "      <td>INTL</td>\n",
       "      <td>B</td>\n",
       "      <td>MAJOR COMERCIAL</td>\n",
       "      <td>California</td>\n",
       "    </tr>\n",
       "    <tr>\n",
       "      <th>5</th>\n",
       "      <td>&lt; 1000 ft</td>\n",
       "      <td>Aborted Take-off</td>\n",
       "      <td>Caused damage</td>\n",
       "      <td>4</td>\n",
       "      <td>Take-off run</td>\n",
       "      <td>Large</td>\n",
       "      <td>Misc</td>\n",
       "      <td>1340.0</td>\n",
       "      <td>Day</td>\n",
       "      <td>Y</td>\n",
       "      <td>...</td>\n",
       "      <td>0.0</td>\n",
       "      <td>100.000000</td>\n",
       "      <td>2005</td>\n",
       "      <td>1</td>\n",
       "      <td>2</td>\n",
       "      <td>6</td>\n",
       "      <td>OTHER</td>\n",
       "      <td>MISC</td>\n",
       "      <td>GOVERNMENT</td>\n",
       "      <td>Other</td>\n",
       "    </tr>\n",
       "    <tr>\n",
       "      <th>6</th>\n",
       "      <td>&lt; 1000 ft</td>\n",
       "      <td>None</td>\n",
       "      <td>No damage</td>\n",
       "      <td>2</td>\n",
       "      <td>Approach</td>\n",
       "      <td>Small</td>\n",
       "      <td>Unknown bird - small</td>\n",
       "      <td>507.0</td>\n",
       "      <td>Night</td>\n",
       "      <td>N</td>\n",
       "      <td>...</td>\n",
       "      <td>50.0</td>\n",
       "      <td>3.246971</td>\n",
       "      <td>2005</td>\n",
       "      <td>1</td>\n",
       "      <td>2</td>\n",
       "      <td>6</td>\n",
       "      <td>INTL</td>\n",
       "      <td>B</td>\n",
       "      <td>MAJOR COMERCIAL</td>\n",
       "      <td>California</td>\n",
       "    </tr>\n",
       "    <tr>\n",
       "      <th>9</th>\n",
       "      <td>&lt; 1000 ft</td>\n",
       "      <td>None</td>\n",
       "      <td>No damage</td>\n",
       "      <td>2</td>\n",
       "      <td>Landing Roll</td>\n",
       "      <td>Medium</td>\n",
       "      <td>Misc</td>\n",
       "      <td>1300.0</td>\n",
       "      <td>Day</td>\n",
       "      <td>N</td>\n",
       "      <td>...</td>\n",
       "      <td>0.0</td>\n",
       "      <td>100.000000</td>\n",
       "      <td>2005</td>\n",
       "      <td>1</td>\n",
       "      <td>2</td>\n",
       "      <td>6</td>\n",
       "      <td>INTL</td>\n",
       "      <td>B</td>\n",
       "      <td>MAJOR COMERCIAL</td>\n",
       "      <td>Florida</td>\n",
       "    </tr>\n",
       "    <tr>\n",
       "      <th>11</th>\n",
       "      <td>&lt; 1000 ft</td>\n",
       "      <td>Precautionary Landing</td>\n",
       "      <td>No damage</td>\n",
       "      <td>2</td>\n",
       "      <td>Take-off run</td>\n",
       "      <td>Medium</td>\n",
       "      <td>Unknown bird - medium</td>\n",
       "      <td>1315.0</td>\n",
       "      <td>Day</td>\n",
       "      <td>N</td>\n",
       "      <td>...</td>\n",
       "      <td>0.0</td>\n",
       "      <td>0.000000</td>\n",
       "      <td>2005</td>\n",
       "      <td>1</td>\n",
       "      <td>3</td>\n",
       "      <td>0</td>\n",
       "      <td>INTL</td>\n",
       "      <td>CL</td>\n",
       "      <td>MINOR COMERCIAL</td>\n",
       "      <td>Other</td>\n",
       "    </tr>\n",
       "    <tr>\n",
       "      <th>12</th>\n",
       "      <td>&lt; 1000 ft</td>\n",
       "      <td>None</td>\n",
       "      <td>No damage</td>\n",
       "      <td>2</td>\n",
       "      <td>Approach</td>\n",
       "      <td>Medium</td>\n",
       "      <td>Unknown bird - medium</td>\n",
       "      <td>830.0</td>\n",
       "      <td>Day</td>\n",
       "      <td>Y</td>\n",
       "      <td>...</td>\n",
       "      <td>100.0</td>\n",
       "      <td>3.246971</td>\n",
       "      <td>2005</td>\n",
       "      <td>1</td>\n",
       "      <td>3</td>\n",
       "      <td>0</td>\n",
       "      <td>INTL</td>\n",
       "      <td>CL</td>\n",
       "      <td>MINOR COMERCIAL</td>\n",
       "      <td>Kentucky</td>\n",
       "    </tr>\n",
       "    <tr>\n",
       "      <th>19</th>\n",
       "      <td>&gt; 1000 ft</td>\n",
       "      <td>None</td>\n",
       "      <td>No damage</td>\n",
       "      <td>2</td>\n",
       "      <td>Approach</td>\n",
       "      <td>Medium</td>\n",
       "      <td>Misc</td>\n",
       "      <td>100.0</td>\n",
       "      <td>Night</td>\n",
       "      <td>N</td>\n",
       "      <td>...</td>\n",
       "      <td>1500.0</td>\n",
       "      <td>180.000000</td>\n",
       "      <td>2005</td>\n",
       "      <td>1</td>\n",
       "      <td>4</td>\n",
       "      <td>1</td>\n",
       "      <td>INTL</td>\n",
       "      <td>B</td>\n",
       "      <td>MINOR COMERCIAL</td>\n",
       "      <td>California</td>\n",
       "    </tr>\n",
       "    <tr>\n",
       "      <th>20</th>\n",
       "      <td>&lt; 1000 ft</td>\n",
       "      <td>None</td>\n",
       "      <td>No damage</td>\n",
       "      <td>2</td>\n",
       "      <td>Approach</td>\n",
       "      <td>Medium</td>\n",
       "      <td>Misc</td>\n",
       "      <td>1729.0</td>\n",
       "      <td>Dusk</td>\n",
       "      <td>N</td>\n",
       "      <td>...</td>\n",
       "      <td>300.0</td>\n",
       "      <td>135.000000</td>\n",
       "      <td>2005</td>\n",
       "      <td>1</td>\n",
       "      <td>4</td>\n",
       "      <td>1</td>\n",
       "      <td>INTL</td>\n",
       "      <td>B</td>\n",
       "      <td>MINOR COMERCIAL</td>\n",
       "      <td>Pennsylvania</td>\n",
       "    </tr>\n",
       "    <tr>\n",
       "      <th>21</th>\n",
       "      <td>&lt; 1000 ft</td>\n",
       "      <td>None</td>\n",
       "      <td>No damage</td>\n",
       "      <td>2</td>\n",
       "      <td>Take-off run</td>\n",
       "      <td>Small</td>\n",
       "      <td>Unknown bird - small</td>\n",
       "      <td>1119.0</td>\n",
       "      <td>Day</td>\n",
       "      <td>N</td>\n",
       "      <td>...</td>\n",
       "      <td>0.0</td>\n",
       "      <td>100.000000</td>\n",
       "      <td>2005</td>\n",
       "      <td>1</td>\n",
       "      <td>4</td>\n",
       "      <td>1</td>\n",
       "      <td>OTHER</td>\n",
       "      <td>B</td>\n",
       "      <td>MAJOR COMERCIAL</td>\n",
       "      <td>Foreign</td>\n",
       "    </tr>\n",
       "    <tr>\n",
       "      <th>23</th>\n",
       "      <td>&lt; 1000 ft</td>\n",
       "      <td>None</td>\n",
       "      <td>No damage</td>\n",
       "      <td>2</td>\n",
       "      <td>Approach</td>\n",
       "      <td>Medium</td>\n",
       "      <td>Misc</td>\n",
       "      <td>859.0</td>\n",
       "      <td>Day</td>\n",
       "      <td>N</td>\n",
       "      <td>...</td>\n",
       "      <td>75.0</td>\n",
       "      <td>3.246971</td>\n",
       "      <td>2005</td>\n",
       "      <td>1</td>\n",
       "      <td>4</td>\n",
       "      <td>1</td>\n",
       "      <td>INTL</td>\n",
       "      <td>MD</td>\n",
       "      <td>MAJOR COMERCIAL</td>\n",
       "      <td>California</td>\n",
       "    </tr>\n",
       "    <tr>\n",
       "      <th>24</th>\n",
       "      <td>&gt; 1000 ft</td>\n",
       "      <td>None</td>\n",
       "      <td>Caused damage</td>\n",
       "      <td>2</td>\n",
       "      <td>Approach</td>\n",
       "      <td>Large</td>\n",
       "      <td>Misc</td>\n",
       "      <td>1300.0</td>\n",
       "      <td>Day</td>\n",
       "      <td>Y</td>\n",
       "      <td>...</td>\n",
       "      <td>1850.0</td>\n",
       "      <td>180.000000</td>\n",
       "      <td>2005</td>\n",
       "      <td>1</td>\n",
       "      <td>4</td>\n",
       "      <td>1</td>\n",
       "      <td>INTL</td>\n",
       "      <td>B</td>\n",
       "      <td>MINOR COMERCIAL</td>\n",
       "      <td>Florida</td>\n",
       "    </tr>\n",
       "    <tr>\n",
       "      <th>25</th>\n",
       "      <td>&lt; 1000 ft</td>\n",
       "      <td>None</td>\n",
       "      <td>No damage</td>\n",
       "      <td>1</td>\n",
       "      <td>Approach</td>\n",
       "      <td>Medium</td>\n",
       "      <td>Misc</td>\n",
       "      <td>1804.0</td>\n",
       "      <td>Night</td>\n",
       "      <td>N</td>\n",
       "      <td>...</td>\n",
       "      <td>50.0</td>\n",
       "      <td>65.000000</td>\n",
       "      <td>2005</td>\n",
       "      <td>1</td>\n",
       "      <td>4</td>\n",
       "      <td>1</td>\n",
       "      <td>OTHER</td>\n",
       "      <td>PA</td>\n",
       "      <td>PRIVATELY OWNED</td>\n",
       "      <td>California</td>\n",
       "    </tr>\n",
       "    <tr>\n",
       "      <th>26</th>\n",
       "      <td>&lt; 1000 ft</td>\n",
       "      <td>None</td>\n",
       "      <td>Caused damage</td>\n",
       "      <td>2</td>\n",
       "      <td>Approach</td>\n",
       "      <td>Medium</td>\n",
       "      <td>Misc</td>\n",
       "      <td>935.0</td>\n",
       "      <td>Day</td>\n",
       "      <td>N</td>\n",
       "      <td>...</td>\n",
       "      <td>200.0</td>\n",
       "      <td>135.000000</td>\n",
       "      <td>2005</td>\n",
       "      <td>1</td>\n",
       "      <td>4</td>\n",
       "      <td>1</td>\n",
       "      <td>INTL</td>\n",
       "      <td>MD</td>\n",
       "      <td>MAJOR COMERCIAL</td>\n",
       "      <td>Other</td>\n",
       "    </tr>\n",
       "    <tr>\n",
       "      <th>27</th>\n",
       "      <td>&lt; 1000 ft</td>\n",
       "      <td>None</td>\n",
       "      <td>No damage</td>\n",
       "      <td>2</td>\n",
       "      <td>Approach</td>\n",
       "      <td>Small</td>\n",
       "      <td>Misc</td>\n",
       "      <td>1115.0</td>\n",
       "      <td>Day</td>\n",
       "      <td>N</td>\n",
       "      <td>...</td>\n",
       "      <td>100.0</td>\n",
       "      <td>120.000000</td>\n",
       "      <td>2005</td>\n",
       "      <td>1</td>\n",
       "      <td>5</td>\n",
       "      <td>2</td>\n",
       "      <td>OTHER</td>\n",
       "      <td>MISC</td>\n",
       "      <td>MINOR COMERCIAL</td>\n",
       "      <td>Texas</td>\n",
       "    </tr>\n",
       "    <tr>\n",
       "      <th>30</th>\n",
       "      <td>&gt; 1000 ft</td>\n",
       "      <td>None</td>\n",
       "      <td>No damage</td>\n",
       "      <td>2</td>\n",
       "      <td>Climb</td>\n",
       "      <td>Small</td>\n",
       "      <td>Unknown bird - small</td>\n",
       "      <td>1100.0</td>\n",
       "      <td>Day</td>\n",
       "      <td>Y</td>\n",
       "      <td>...</td>\n",
       "      <td>2000.0</td>\n",
       "      <td>220.000000</td>\n",
       "      <td>2005</td>\n",
       "      <td>1</td>\n",
       "      <td>5</td>\n",
       "      <td>2</td>\n",
       "      <td>INTL</td>\n",
       "      <td>B</td>\n",
       "      <td>MAJOR COMERCIAL</td>\n",
       "      <td>Florida</td>\n",
       "    </tr>\n",
       "    <tr>\n",
       "      <th>31</th>\n",
       "      <td>&lt; 1000 ft</td>\n",
       "      <td>None</td>\n",
       "      <td>No damage</td>\n",
       "      <td>2</td>\n",
       "      <td>Climb</td>\n",
       "      <td>Small</td>\n",
       "      <td>Unknown bird - small</td>\n",
       "      <td>710.0</td>\n",
       "      <td>Dawn</td>\n",
       "      <td>N</td>\n",
       "      <td>...</td>\n",
       "      <td>700.0</td>\n",
       "      <td>160.000000</td>\n",
       "      <td>2005</td>\n",
       "      <td>1</td>\n",
       "      <td>5</td>\n",
       "      <td>2</td>\n",
       "      <td>INTL</td>\n",
       "      <td>B</td>\n",
       "      <td>MAJOR COMERCIAL</td>\n",
       "      <td>California</td>\n",
       "    </tr>\n",
       "    <tr>\n",
       "      <th>32</th>\n",
       "      <td>&lt; 1000 ft</td>\n",
       "      <td>None</td>\n",
       "      <td>No damage</td>\n",
       "      <td>1</td>\n",
       "      <td>Climb</td>\n",
       "      <td>Small</td>\n",
       "      <td>Misc</td>\n",
       "      <td>830.0</td>\n",
       "      <td>Day</td>\n",
       "      <td>Y</td>\n",
       "      <td>...</td>\n",
       "      <td>5.0</td>\n",
       "      <td>1.831704</td>\n",
       "      <td>2005</td>\n",
       "      <td>1</td>\n",
       "      <td>5</td>\n",
       "      <td>2</td>\n",
       "      <td>OTHER</td>\n",
       "      <td>PA</td>\n",
       "      <td>BUSINESS</td>\n",
       "      <td>Other</td>\n",
       "    </tr>\n",
       "    <tr>\n",
       "      <th>38</th>\n",
       "      <td>&lt; 1000 ft</td>\n",
       "      <td>None</td>\n",
       "      <td>No damage</td>\n",
       "      <td>2</td>\n",
       "      <td>Take-off run</td>\n",
       "      <td>Medium</td>\n",
       "      <td>Unknown bird - medium</td>\n",
       "      <td>1620.0</td>\n",
       "      <td>Day</td>\n",
       "      <td>N</td>\n",
       "      <td>...</td>\n",
       "      <td>0.0</td>\n",
       "      <td>0.000000</td>\n",
       "      <td>2005</td>\n",
       "      <td>1</td>\n",
       "      <td>6</td>\n",
       "      <td>3</td>\n",
       "      <td>OTHER</td>\n",
       "      <td>CL</td>\n",
       "      <td>MINOR COMERCIAL</td>\n",
       "      <td>Other</td>\n",
       "    </tr>\n",
       "    <tr>\n",
       "      <th>40</th>\n",
       "      <td>&lt; 1000 ft</td>\n",
       "      <td>Aborted Take-off</td>\n",
       "      <td>No damage</td>\n",
       "      <td>2</td>\n",
       "      <td>Take-off run</td>\n",
       "      <td>Small</td>\n",
       "      <td>Misc</td>\n",
       "      <td>1717.0</td>\n",
       "      <td>Dusk</td>\n",
       "      <td>Y</td>\n",
       "      <td>...</td>\n",
       "      <td>0.0</td>\n",
       "      <td>115.000000</td>\n",
       "      <td>2005</td>\n",
       "      <td>1</td>\n",
       "      <td>6</td>\n",
       "      <td>3</td>\n",
       "      <td>INTL</td>\n",
       "      <td>B</td>\n",
       "      <td>MINOR COMERCIAL</td>\n",
       "      <td>Florida</td>\n",
       "    </tr>\n",
       "    <tr>\n",
       "      <th>41</th>\n",
       "      <td>&lt; 1000 ft</td>\n",
       "      <td>None</td>\n",
       "      <td>No damage</td>\n",
       "      <td>2</td>\n",
       "      <td>Approach</td>\n",
       "      <td>Medium</td>\n",
       "      <td>Misc</td>\n",
       "      <td>1325.0</td>\n",
       "      <td>Day</td>\n",
       "      <td>N</td>\n",
       "      <td>...</td>\n",
       "      <td>350.0</td>\n",
       "      <td>140.000000</td>\n",
       "      <td>2005</td>\n",
       "      <td>1</td>\n",
       "      <td>6</td>\n",
       "      <td>3</td>\n",
       "      <td>INTL</td>\n",
       "      <td>CL</td>\n",
       "      <td>MINOR COMERCIAL</td>\n",
       "      <td>Other</td>\n",
       "    </tr>\n",
       "    <tr>\n",
       "      <th>48</th>\n",
       "      <td>&lt; 1000 ft</td>\n",
       "      <td>None</td>\n",
       "      <td>No damage</td>\n",
       "      <td>2</td>\n",
       "      <td>Approach</td>\n",
       "      <td>Small</td>\n",
       "      <td>Unknown bird - small</td>\n",
       "      <td>1050.0</td>\n",
       "      <td>Day</td>\n",
       "      <td>N</td>\n",
       "      <td>...</td>\n",
       "      <td>35.0</td>\n",
       "      <td>130.000000</td>\n",
       "      <td>2005</td>\n",
       "      <td>1</td>\n",
       "      <td>7</td>\n",
       "      <td>4</td>\n",
       "      <td>INTL</td>\n",
       "      <td>MD</td>\n",
       "      <td>MINOR COMERCIAL</td>\n",
       "      <td>Colorado</td>\n",
       "    </tr>\n",
       "    <tr>\n",
       "      <th>49</th>\n",
       "      <td>&lt; 1000 ft</td>\n",
       "      <td>Precautionary Landing</td>\n",
       "      <td>Caused damage</td>\n",
       "      <td>2</td>\n",
       "      <td>Climb</td>\n",
       "      <td>Small</td>\n",
       "      <td>Misc</td>\n",
       "      <td>845.0</td>\n",
       "      <td>Day</td>\n",
       "      <td>N</td>\n",
       "      <td>...</td>\n",
       "      <td>10.0</td>\n",
       "      <td>130.000000</td>\n",
       "      <td>2005</td>\n",
       "      <td>1</td>\n",
       "      <td>7</td>\n",
       "      <td>4</td>\n",
       "      <td>OTHER</td>\n",
       "      <td>MISC</td>\n",
       "      <td>BUSINESS</td>\n",
       "      <td>Other</td>\n",
       "    </tr>\n",
       "    <tr>\n",
       "      <th>54</th>\n",
       "      <td>&lt; 1000 ft</td>\n",
       "      <td>None</td>\n",
       "      <td>No damage</td>\n",
       "      <td>2</td>\n",
       "      <td>Landing Roll</td>\n",
       "      <td>Small</td>\n",
       "      <td>Unknown bird - small</td>\n",
       "      <td>1300.0</td>\n",
       "      <td>Day</td>\n",
       "      <td>N</td>\n",
       "      <td>...</td>\n",
       "      <td>0.0</td>\n",
       "      <td>120.000000</td>\n",
       "      <td>2005</td>\n",
       "      <td>1</td>\n",
       "      <td>8</td>\n",
       "      <td>5</td>\n",
       "      <td>INTL</td>\n",
       "      <td>B</td>\n",
       "      <td>MAJOR COMERCIAL</td>\n",
       "      <td>Other</td>\n",
       "    </tr>\n",
       "    <tr>\n",
       "      <th>55</th>\n",
       "      <td>&lt; 1000 ft</td>\n",
       "      <td>Precautionary Landing</td>\n",
       "      <td>No damage</td>\n",
       "      <td>2</td>\n",
       "      <td>Take-off run</td>\n",
       "      <td>Small</td>\n",
       "      <td>Misc</td>\n",
       "      <td>1327.0</td>\n",
       "      <td>Day</td>\n",
       "      <td>N</td>\n",
       "      <td>...</td>\n",
       "      <td>0.0</td>\n",
       "      <td>0.000000</td>\n",
       "      <td>2005</td>\n",
       "      <td>1</td>\n",
       "      <td>8</td>\n",
       "      <td>5</td>\n",
       "      <td>REGIONAL</td>\n",
       "      <td>BE</td>\n",
       "      <td>MINOR COMERCIAL</td>\n",
       "      <td>Other</td>\n",
       "    </tr>\n",
       "    <tr>\n",
       "      <th>57</th>\n",
       "      <td>&lt; 1000 ft</td>\n",
       "      <td>None</td>\n",
       "      <td>No damage</td>\n",
       "      <td>2</td>\n",
       "      <td>Landing Roll</td>\n",
       "      <td>Large</td>\n",
       "      <td>Misc</td>\n",
       "      <td>1745.0</td>\n",
       "      <td>Dusk</td>\n",
       "      <td>Y</td>\n",
       "      <td>...</td>\n",
       "      <td>0.0</td>\n",
       "      <td>0.000000</td>\n",
       "      <td>2005</td>\n",
       "      <td>1</td>\n",
       "      <td>8</td>\n",
       "      <td>5</td>\n",
       "      <td>INTL</td>\n",
       "      <td>MISC</td>\n",
       "      <td>BUSINESS</td>\n",
       "      <td>Florida</td>\n",
       "    </tr>\n",
       "    <tr>\n",
       "      <th>59</th>\n",
       "      <td>&lt; 1000 ft</td>\n",
       "      <td>None</td>\n",
       "      <td>No damage</td>\n",
       "      <td>2</td>\n",
       "      <td>Landing Roll</td>\n",
       "      <td>Medium</td>\n",
       "      <td>Unknown bird - medium</td>\n",
       "      <td>1445.0</td>\n",
       "      <td>Day</td>\n",
       "      <td>N</td>\n",
       "      <td>...</td>\n",
       "      <td>0.0</td>\n",
       "      <td>130.000000</td>\n",
       "      <td>2005</td>\n",
       "      <td>1</td>\n",
       "      <td>8</td>\n",
       "      <td>5</td>\n",
       "      <td>INTL</td>\n",
       "      <td>B</td>\n",
       "      <td>MAJOR COMERCIAL</td>\n",
       "      <td>California</td>\n",
       "    </tr>\n",
       "    <tr>\n",
       "      <th>61</th>\n",
       "      <td>&lt; 1000 ft</td>\n",
       "      <td>None</td>\n",
       "      <td>No damage</td>\n",
       "      <td>2</td>\n",
       "      <td>Take-off run</td>\n",
       "      <td>Medium</td>\n",
       "      <td>Unknown bird - medium</td>\n",
       "      <td>940.0</td>\n",
       "      <td>Day</td>\n",
       "      <td>N</td>\n",
       "      <td>...</td>\n",
       "      <td>0.0</td>\n",
       "      <td>0.000000</td>\n",
       "      <td>2005</td>\n",
       "      <td>1</td>\n",
       "      <td>9</td>\n",
       "      <td>6</td>\n",
       "      <td>MUNICIPAL</td>\n",
       "      <td>CL</td>\n",
       "      <td>MINOR COMERCIAL</td>\n",
       "      <td>Colorado</td>\n",
       "    </tr>\n",
       "    <tr>\n",
       "      <th>62</th>\n",
       "      <td>&lt; 1000 ft</td>\n",
       "      <td>None</td>\n",
       "      <td>No damage</td>\n",
       "      <td>2</td>\n",
       "      <td>Approach</td>\n",
       "      <td>Small</td>\n",
       "      <td>Unknown bird - small</td>\n",
       "      <td>1805.0</td>\n",
       "      <td>Dusk</td>\n",
       "      <td>N</td>\n",
       "      <td>...</td>\n",
       "      <td>200.0</td>\n",
       "      <td>100.000000</td>\n",
       "      <td>2005</td>\n",
       "      <td>1</td>\n",
       "      <td>9</td>\n",
       "      <td>6</td>\n",
       "      <td>OTHER</td>\n",
       "      <td>DHC8</td>\n",
       "      <td>MINOR COMERCIAL</td>\n",
       "      <td>Other</td>\n",
       "    </tr>\n",
       "    <tr>\n",
       "      <th>63</th>\n",
       "      <td>&lt; 1000 ft</td>\n",
       "      <td>None</td>\n",
       "      <td>No damage</td>\n",
       "      <td>2</td>\n",
       "      <td>Climb</td>\n",
       "      <td>Small</td>\n",
       "      <td>Unknown bird - small</td>\n",
       "      <td>1300.0</td>\n",
       "      <td>Day</td>\n",
       "      <td>Y</td>\n",
       "      <td>...</td>\n",
       "      <td>400.0</td>\n",
       "      <td>160.000000</td>\n",
       "      <td>2005</td>\n",
       "      <td>1</td>\n",
       "      <td>9</td>\n",
       "      <td>6</td>\n",
       "      <td>INTL</td>\n",
       "      <td>B</td>\n",
       "      <td>MAJOR COMERCIAL</td>\n",
       "      <td>California</td>\n",
       "    </tr>\n",
       "    <tr>\n",
       "      <th>...</th>\n",
       "      <td>...</td>\n",
       "      <td>...</td>\n",
       "      <td>...</td>\n",
       "      <td>...</td>\n",
       "      <td>...</td>\n",
       "      <td>...</td>\n",
       "      <td>...</td>\n",
       "      <td>...</td>\n",
       "      <td>...</td>\n",
       "      <td>...</td>\n",
       "      <td>...</td>\n",
       "      <td>...</td>\n",
       "      <td>...</td>\n",
       "      <td>...</td>\n",
       "      <td>...</td>\n",
       "      <td>...</td>\n",
       "      <td>...</td>\n",
       "      <td>...</td>\n",
       "      <td>...</td>\n",
       "      <td>...</td>\n",
       "      <td>...</td>\n",
       "    </tr>\n",
       "    <tr>\n",
       "      <th>65555</th>\n",
       "      <td>&lt; 1000 ft</td>\n",
       "      <td>None</td>\n",
       "      <td>No damage</td>\n",
       "      <td>2</td>\n",
       "      <td>Take-off run</td>\n",
       "      <td>Small</td>\n",
       "      <td>Misc</td>\n",
       "      <td>1448.0</td>\n",
       "      <td>Day</td>\n",
       "      <td>N</td>\n",
       "      <td>...</td>\n",
       "      <td>0.0</td>\n",
       "      <td>0.000000</td>\n",
       "      <td>2011</td>\n",
       "      <td>12</td>\n",
       "      <td>27</td>\n",
       "      <td>1</td>\n",
       "      <td>INTL</td>\n",
       "      <td>MD</td>\n",
       "      <td>MAJOR COMERCIAL</td>\n",
       "      <td>Texas</td>\n",
       "    </tr>\n",
       "    <tr>\n",
       "      <th>65559</th>\n",
       "      <td>&lt; 1000 ft</td>\n",
       "      <td>None</td>\n",
       "      <td>No damage</td>\n",
       "      <td>2</td>\n",
       "      <td>Landing Roll</td>\n",
       "      <td>Small</td>\n",
       "      <td>Mourning dove</td>\n",
       "      <td>1735.0</td>\n",
       "      <td>Dusk</td>\n",
       "      <td>Y</td>\n",
       "      <td>...</td>\n",
       "      <td>0.0</td>\n",
       "      <td>120.000000</td>\n",
       "      <td>2011</td>\n",
       "      <td>12</td>\n",
       "      <td>27</td>\n",
       "      <td>1</td>\n",
       "      <td>INTL</td>\n",
       "      <td>A</td>\n",
       "      <td>MINOR COMERCIAL</td>\n",
       "      <td>Other</td>\n",
       "    </tr>\n",
       "    <tr>\n",
       "      <th>65560</th>\n",
       "      <td>&lt; 1000 ft</td>\n",
       "      <td>None</td>\n",
       "      <td>No damage</td>\n",
       "      <td>3</td>\n",
       "      <td>Take-off run</td>\n",
       "      <td>Medium</td>\n",
       "      <td>Unknown bird</td>\n",
       "      <td>2335.0</td>\n",
       "      <td>Night</td>\n",
       "      <td>N</td>\n",
       "      <td>...</td>\n",
       "      <td>0.0</td>\n",
       "      <td>0.000000</td>\n",
       "      <td>2011</td>\n",
       "      <td>12</td>\n",
       "      <td>28</td>\n",
       "      <td>2</td>\n",
       "      <td>INTL</td>\n",
       "      <td>MD</td>\n",
       "      <td>MAJOR COMERCIAL</td>\n",
       "      <td>Foreign</td>\n",
       "    </tr>\n",
       "    <tr>\n",
       "      <th>65561</th>\n",
       "      <td>&lt; 1000 ft</td>\n",
       "      <td>None</td>\n",
       "      <td>No damage</td>\n",
       "      <td>2</td>\n",
       "      <td>Approach</td>\n",
       "      <td>Small</td>\n",
       "      <td>Unknown bird - small</td>\n",
       "      <td>952.0</td>\n",
       "      <td>Day</td>\n",
       "      <td>N</td>\n",
       "      <td>...</td>\n",
       "      <td>300.0</td>\n",
       "      <td>130.000000</td>\n",
       "      <td>2011</td>\n",
       "      <td>12</td>\n",
       "      <td>28</td>\n",
       "      <td>2</td>\n",
       "      <td>OTHER</td>\n",
       "      <td>A</td>\n",
       "      <td>MAJOR COMERCIAL</td>\n",
       "      <td>Foreign</td>\n",
       "    </tr>\n",
       "    <tr>\n",
       "      <th>65562</th>\n",
       "      <td>&lt; 1000 ft</td>\n",
       "      <td>None</td>\n",
       "      <td>No damage</td>\n",
       "      <td>2</td>\n",
       "      <td>Approach</td>\n",
       "      <td>Small</td>\n",
       "      <td>Unknown bird - small</td>\n",
       "      <td>1300.0</td>\n",
       "      <td>Day</td>\n",
       "      <td>N</td>\n",
       "      <td>...</td>\n",
       "      <td>95.0</td>\n",
       "      <td>141.000000</td>\n",
       "      <td>2011</td>\n",
       "      <td>12</td>\n",
       "      <td>28</td>\n",
       "      <td>2</td>\n",
       "      <td>INTL</td>\n",
       "      <td>B</td>\n",
       "      <td>MAJOR COMERCIAL</td>\n",
       "      <td>Florida</td>\n",
       "    </tr>\n",
       "    <tr>\n",
       "      <th>65563</th>\n",
       "      <td>&lt; 1000 ft</td>\n",
       "      <td>None</td>\n",
       "      <td>No damage</td>\n",
       "      <td>2</td>\n",
       "      <td>Landing Roll</td>\n",
       "      <td>Medium</td>\n",
       "      <td>Misc</td>\n",
       "      <td>2010.0</td>\n",
       "      <td>Night</td>\n",
       "      <td>N</td>\n",
       "      <td>...</td>\n",
       "      <td>0.0</td>\n",
       "      <td>0.000000</td>\n",
       "      <td>2011</td>\n",
       "      <td>12</td>\n",
       "      <td>28</td>\n",
       "      <td>2</td>\n",
       "      <td>OTHER</td>\n",
       "      <td>BE</td>\n",
       "      <td>MINOR COMERCIAL</td>\n",
       "      <td>Other</td>\n",
       "    </tr>\n",
       "    <tr>\n",
       "      <th>65564</th>\n",
       "      <td>&lt; 1000 ft</td>\n",
       "      <td>None</td>\n",
       "      <td>No damage</td>\n",
       "      <td>2</td>\n",
       "      <td>Take-off run</td>\n",
       "      <td>Small</td>\n",
       "      <td>Killdeer</td>\n",
       "      <td>720.0</td>\n",
       "      <td>Day</td>\n",
       "      <td>N</td>\n",
       "      <td>...</td>\n",
       "      <td>0.0</td>\n",
       "      <td>0.000000</td>\n",
       "      <td>2011</td>\n",
       "      <td>12</td>\n",
       "      <td>28</td>\n",
       "      <td>2</td>\n",
       "      <td>INTL</td>\n",
       "      <td>MD</td>\n",
       "      <td>MINOR COMERCIAL</td>\n",
       "      <td>Other</td>\n",
       "    </tr>\n",
       "    <tr>\n",
       "      <th>65565</th>\n",
       "      <td>&lt; 1000 ft</td>\n",
       "      <td>None</td>\n",
       "      <td>No damage</td>\n",
       "      <td>2</td>\n",
       "      <td>Landing Roll</td>\n",
       "      <td>Small</td>\n",
       "      <td>Unknown bird - small</td>\n",
       "      <td>1715.0</td>\n",
       "      <td>Night</td>\n",
       "      <td>Y</td>\n",
       "      <td>...</td>\n",
       "      <td>0.0</td>\n",
       "      <td>130.000000</td>\n",
       "      <td>2011</td>\n",
       "      <td>12</td>\n",
       "      <td>28</td>\n",
       "      <td>2</td>\n",
       "      <td>INTL</td>\n",
       "      <td>B</td>\n",
       "      <td>MAJOR COMERCIAL</td>\n",
       "      <td>Other</td>\n",
       "    </tr>\n",
       "    <tr>\n",
       "      <th>65568</th>\n",
       "      <td>&lt; 1000 ft</td>\n",
       "      <td>Precautionary Landing</td>\n",
       "      <td>No damage</td>\n",
       "      <td>2</td>\n",
       "      <td>Climb</td>\n",
       "      <td>Medium</td>\n",
       "      <td>Misc</td>\n",
       "      <td>1815.0</td>\n",
       "      <td>Night</td>\n",
       "      <td>N</td>\n",
       "      <td>...</td>\n",
       "      <td>1000.0</td>\n",
       "      <td>180.000000</td>\n",
       "      <td>2011</td>\n",
       "      <td>12</td>\n",
       "      <td>28</td>\n",
       "      <td>2</td>\n",
       "      <td>INTL</td>\n",
       "      <td>B</td>\n",
       "      <td>MAJOR COMERCIAL</td>\n",
       "      <td>California</td>\n",
       "    </tr>\n",
       "    <tr>\n",
       "      <th>65572</th>\n",
       "      <td>&lt; 1000 ft</td>\n",
       "      <td>Precautionary Landing</td>\n",
       "      <td>Caused damage</td>\n",
       "      <td>2</td>\n",
       "      <td>Climb</td>\n",
       "      <td>Large</td>\n",
       "      <td>Misc</td>\n",
       "      <td>1640.0</td>\n",
       "      <td>Day</td>\n",
       "      <td>Y</td>\n",
       "      <td>...</td>\n",
       "      <td>800.0</td>\n",
       "      <td>180.000000</td>\n",
       "      <td>2011</td>\n",
       "      <td>12</td>\n",
       "      <td>28</td>\n",
       "      <td>2</td>\n",
       "      <td>INTL</td>\n",
       "      <td>B</td>\n",
       "      <td>MAJOR COMERCIAL</td>\n",
       "      <td>Florida</td>\n",
       "    </tr>\n",
       "    <tr>\n",
       "      <th>65573</th>\n",
       "      <td>&gt; 1000 ft</td>\n",
       "      <td>Other</td>\n",
       "      <td>Caused damage</td>\n",
       "      <td>2</td>\n",
       "      <td>Approach</td>\n",
       "      <td>Large</td>\n",
       "      <td>Misc</td>\n",
       "      <td>1830.0</td>\n",
       "      <td>Night</td>\n",
       "      <td>Y</td>\n",
       "      <td>...</td>\n",
       "      <td>3000.0</td>\n",
       "      <td>250.000000</td>\n",
       "      <td>2011</td>\n",
       "      <td>12</td>\n",
       "      <td>28</td>\n",
       "      <td>2</td>\n",
       "      <td>INTL</td>\n",
       "      <td>A</td>\n",
       "      <td>MINOR COMERCIAL</td>\n",
       "      <td>California</td>\n",
       "    </tr>\n",
       "    <tr>\n",
       "      <th>65575</th>\n",
       "      <td>&lt; 1000 ft</td>\n",
       "      <td>None</td>\n",
       "      <td>No damage</td>\n",
       "      <td>2</td>\n",
       "      <td>Landing Roll</td>\n",
       "      <td>Small</td>\n",
       "      <td>Misc</td>\n",
       "      <td>1423.0</td>\n",
       "      <td>Day</td>\n",
       "      <td>N</td>\n",
       "      <td>...</td>\n",
       "      <td>0.0</td>\n",
       "      <td>0.000000</td>\n",
       "      <td>2011</td>\n",
       "      <td>12</td>\n",
       "      <td>28</td>\n",
       "      <td>2</td>\n",
       "      <td>INTL</td>\n",
       "      <td>B</td>\n",
       "      <td>MAJOR COMERCIAL</td>\n",
       "      <td>Florida</td>\n",
       "    </tr>\n",
       "    <tr>\n",
       "      <th>65576</th>\n",
       "      <td>&lt; 1000 ft</td>\n",
       "      <td>None</td>\n",
       "      <td>No damage</td>\n",
       "      <td>2</td>\n",
       "      <td>Landing Roll</td>\n",
       "      <td>Small</td>\n",
       "      <td>Misc</td>\n",
       "      <td>1325.0</td>\n",
       "      <td>Day</td>\n",
       "      <td>N</td>\n",
       "      <td>...</td>\n",
       "      <td>0.0</td>\n",
       "      <td>0.000000</td>\n",
       "      <td>2011</td>\n",
       "      <td>12</td>\n",
       "      <td>28</td>\n",
       "      <td>2</td>\n",
       "      <td>INTL</td>\n",
       "      <td>B</td>\n",
       "      <td>MAJOR COMERCIAL</td>\n",
       "      <td>Florida</td>\n",
       "    </tr>\n",
       "    <tr>\n",
       "      <th>65578</th>\n",
       "      <td>&lt; 1000 ft</td>\n",
       "      <td>None</td>\n",
       "      <td>No damage</td>\n",
       "      <td>2</td>\n",
       "      <td>Climb</td>\n",
       "      <td>Small</td>\n",
       "      <td>Unknown bird - small</td>\n",
       "      <td>718.0</td>\n",
       "      <td>Day</td>\n",
       "      <td>N</td>\n",
       "      <td>...</td>\n",
       "      <td>50.0</td>\n",
       "      <td>150.000000</td>\n",
       "      <td>2011</td>\n",
       "      <td>12</td>\n",
       "      <td>29</td>\n",
       "      <td>3</td>\n",
       "      <td>INTL</td>\n",
       "      <td>MD</td>\n",
       "      <td>MINOR COMERCIAL</td>\n",
       "      <td>Other</td>\n",
       "    </tr>\n",
       "    <tr>\n",
       "      <th>65579</th>\n",
       "      <td>&lt; 1000 ft</td>\n",
       "      <td>None</td>\n",
       "      <td>No damage</td>\n",
       "      <td>2</td>\n",
       "      <td>Approach</td>\n",
       "      <td>Large</td>\n",
       "      <td>Misc</td>\n",
       "      <td>1800.0</td>\n",
       "      <td>Night</td>\n",
       "      <td>N</td>\n",
       "      <td>...</td>\n",
       "      <td>400.0</td>\n",
       "      <td>120.000000</td>\n",
       "      <td>2011</td>\n",
       "      <td>12</td>\n",
       "      <td>29</td>\n",
       "      <td>3</td>\n",
       "      <td>OTHER</td>\n",
       "      <td>MISC</td>\n",
       "      <td>BUSINESS</td>\n",
       "      <td>Other</td>\n",
       "    </tr>\n",
       "    <tr>\n",
       "      <th>65583</th>\n",
       "      <td>&lt; 1000 ft</td>\n",
       "      <td>None</td>\n",
       "      <td>No damage</td>\n",
       "      <td>2</td>\n",
       "      <td>Approach</td>\n",
       "      <td>Medium</td>\n",
       "      <td>Misc</td>\n",
       "      <td>1928.0</td>\n",
       "      <td>Night</td>\n",
       "      <td>Y</td>\n",
       "      <td>...</td>\n",
       "      <td>10.0</td>\n",
       "      <td>140.000000</td>\n",
       "      <td>2011</td>\n",
       "      <td>12</td>\n",
       "      <td>29</td>\n",
       "      <td>3</td>\n",
       "      <td>INTL</td>\n",
       "      <td>B</td>\n",
       "      <td>MAJOR COMERCIAL</td>\n",
       "      <td>California</td>\n",
       "    </tr>\n",
       "    <tr>\n",
       "      <th>65585</th>\n",
       "      <td>&lt; 1000 ft</td>\n",
       "      <td>None</td>\n",
       "      <td>No damage</td>\n",
       "      <td>3</td>\n",
       "      <td>Approach</td>\n",
       "      <td>Small</td>\n",
       "      <td>Misc</td>\n",
       "      <td>1315.0</td>\n",
       "      <td>Day</td>\n",
       "      <td>Y</td>\n",
       "      <td>...</td>\n",
       "      <td>20.0</td>\n",
       "      <td>140.000000</td>\n",
       "      <td>2011</td>\n",
       "      <td>12</td>\n",
       "      <td>29</td>\n",
       "      <td>3</td>\n",
       "      <td>INTL</td>\n",
       "      <td>MD</td>\n",
       "      <td>MAJOR COMERCIAL</td>\n",
       "      <td>Kentucky</td>\n",
       "    </tr>\n",
       "    <tr>\n",
       "      <th>65586</th>\n",
       "      <td>&lt; 1000 ft</td>\n",
       "      <td>None</td>\n",
       "      <td>No damage</td>\n",
       "      <td>2</td>\n",
       "      <td>Take-off run</td>\n",
       "      <td>Medium</td>\n",
       "      <td>Unknown bird - medium</td>\n",
       "      <td>1525.0</td>\n",
       "      <td>Day</td>\n",
       "      <td>N</td>\n",
       "      <td>...</td>\n",
       "      <td>0.0</td>\n",
       "      <td>150.000000</td>\n",
       "      <td>2011</td>\n",
       "      <td>12</td>\n",
       "      <td>30</td>\n",
       "      <td>4</td>\n",
       "      <td>INTL</td>\n",
       "      <td>B</td>\n",
       "      <td>MAJOR COMERCIAL</td>\n",
       "      <td>Foreign</td>\n",
       "    </tr>\n",
       "    <tr>\n",
       "      <th>65587</th>\n",
       "      <td>&lt; 1000 ft</td>\n",
       "      <td>None</td>\n",
       "      <td>No damage</td>\n",
       "      <td>2</td>\n",
       "      <td>Approach</td>\n",
       "      <td>Medium</td>\n",
       "      <td>Unknown bird - medium</td>\n",
       "      <td>1640.0</td>\n",
       "      <td>Day</td>\n",
       "      <td>Y</td>\n",
       "      <td>...</td>\n",
       "      <td>200.0</td>\n",
       "      <td>140.000000</td>\n",
       "      <td>2011</td>\n",
       "      <td>12</td>\n",
       "      <td>30</td>\n",
       "      <td>4</td>\n",
       "      <td>INTL</td>\n",
       "      <td>B</td>\n",
       "      <td>MAJOR COMERCIAL</td>\n",
       "      <td>Colorado</td>\n",
       "    </tr>\n",
       "    <tr>\n",
       "      <th>65588</th>\n",
       "      <td>&lt; 1000 ft</td>\n",
       "      <td>None</td>\n",
       "      <td>No damage</td>\n",
       "      <td>2</td>\n",
       "      <td>Landing Roll</td>\n",
       "      <td>Medium</td>\n",
       "      <td>Misc</td>\n",
       "      <td>1330.0</td>\n",
       "      <td>Day</td>\n",
       "      <td>Y</td>\n",
       "      <td>...</td>\n",
       "      <td>0.0</td>\n",
       "      <td>0.000000</td>\n",
       "      <td>2011</td>\n",
       "      <td>12</td>\n",
       "      <td>30</td>\n",
       "      <td>4</td>\n",
       "      <td>OTHER</td>\n",
       "      <td>PA</td>\n",
       "      <td>BUSINESS</td>\n",
       "      <td>Other</td>\n",
       "    </tr>\n",
       "    <tr>\n",
       "      <th>65591</th>\n",
       "      <td>&lt; 1000 ft</td>\n",
       "      <td>Other</td>\n",
       "      <td>Caused damage</td>\n",
       "      <td>1</td>\n",
       "      <td>Landing Roll</td>\n",
       "      <td>Large</td>\n",
       "      <td>Misc</td>\n",
       "      <td>2153.0</td>\n",
       "      <td>Day</td>\n",
       "      <td>N</td>\n",
       "      <td>...</td>\n",
       "      <td>0.0</td>\n",
       "      <td>0.000000</td>\n",
       "      <td>2011</td>\n",
       "      <td>12</td>\n",
       "      <td>30</td>\n",
       "      <td>4</td>\n",
       "      <td>COUNTY</td>\n",
       "      <td>BE</td>\n",
       "      <td>BUSINESS</td>\n",
       "      <td>New Jersey</td>\n",
       "    </tr>\n",
       "    <tr>\n",
       "      <th>65592</th>\n",
       "      <td>&gt; 1000 ft</td>\n",
       "      <td>None</td>\n",
       "      <td>No damage</td>\n",
       "      <td>2</td>\n",
       "      <td>Approach</td>\n",
       "      <td>Large</td>\n",
       "      <td>Misc</td>\n",
       "      <td>1342.0</td>\n",
       "      <td>Day</td>\n",
       "      <td>N</td>\n",
       "      <td>...</td>\n",
       "      <td>1500.0</td>\n",
       "      <td>3.246971</td>\n",
       "      <td>2011</td>\n",
       "      <td>12</td>\n",
       "      <td>30</td>\n",
       "      <td>4</td>\n",
       "      <td>MUNICIPAL</td>\n",
       "      <td>EMB</td>\n",
       "      <td>MAJOR COMERCIAL</td>\n",
       "      <td>California</td>\n",
       "    </tr>\n",
       "    <tr>\n",
       "      <th>65593</th>\n",
       "      <td>&lt; 1000 ft</td>\n",
       "      <td>None</td>\n",
       "      <td>No damage</td>\n",
       "      <td>2</td>\n",
       "      <td>Landing Roll</td>\n",
       "      <td>Small</td>\n",
       "      <td>Misc</td>\n",
       "      <td>1610.0</td>\n",
       "      <td>Day</td>\n",
       "      <td>Y</td>\n",
       "      <td>...</td>\n",
       "      <td>0.0</td>\n",
       "      <td>0.000000</td>\n",
       "      <td>2011</td>\n",
       "      <td>12</td>\n",
       "      <td>30</td>\n",
       "      <td>4</td>\n",
       "      <td>INTL</td>\n",
       "      <td>A</td>\n",
       "      <td>MINOR COMERCIAL</td>\n",
       "      <td>Florida</td>\n",
       "    </tr>\n",
       "    <tr>\n",
       "      <th>65594</th>\n",
       "      <td>&lt; 1000 ft</td>\n",
       "      <td>None</td>\n",
       "      <td>No damage</td>\n",
       "      <td>2</td>\n",
       "      <td>Landing Roll</td>\n",
       "      <td>Small</td>\n",
       "      <td>Unknown bird - small</td>\n",
       "      <td>1300.0</td>\n",
       "      <td>Day</td>\n",
       "      <td>Y</td>\n",
       "      <td>...</td>\n",
       "      <td>0.0</td>\n",
       "      <td>0.000000</td>\n",
       "      <td>2011</td>\n",
       "      <td>12</td>\n",
       "      <td>31</td>\n",
       "      <td>5</td>\n",
       "      <td>OTHER</td>\n",
       "      <td>EMB</td>\n",
       "      <td>MINOR COMERCIAL</td>\n",
       "      <td>Texas</td>\n",
       "    </tr>\n",
       "    <tr>\n",
       "      <th>65595</th>\n",
       "      <td>&lt; 1000 ft</td>\n",
       "      <td>None</td>\n",
       "      <td>No damage</td>\n",
       "      <td>2</td>\n",
       "      <td>Landing Roll</td>\n",
       "      <td>Medium</td>\n",
       "      <td>Unknown bird</td>\n",
       "      <td>1605.0</td>\n",
       "      <td>Day</td>\n",
       "      <td>N</td>\n",
       "      <td>...</td>\n",
       "      <td>0.0</td>\n",
       "      <td>0.000000</td>\n",
       "      <td>2011</td>\n",
       "      <td>12</td>\n",
       "      <td>31</td>\n",
       "      <td>5</td>\n",
       "      <td>METRO</td>\n",
       "      <td>BE</td>\n",
       "      <td>BUSINESS</td>\n",
       "      <td>California</td>\n",
       "    </tr>\n",
       "    <tr>\n",
       "      <th>65597</th>\n",
       "      <td>&lt; 1000 ft</td>\n",
       "      <td>None</td>\n",
       "      <td>No damage</td>\n",
       "      <td>2</td>\n",
       "      <td>Approach</td>\n",
       "      <td>Medium</td>\n",
       "      <td>Misc</td>\n",
       "      <td>1030.0</td>\n",
       "      <td>Day</td>\n",
       "      <td>Y</td>\n",
       "      <td>...</td>\n",
       "      <td>200.0</td>\n",
       "      <td>145.000000</td>\n",
       "      <td>2011</td>\n",
       "      <td>12</td>\n",
       "      <td>31</td>\n",
       "      <td>5</td>\n",
       "      <td>INTL</td>\n",
       "      <td>MISC</td>\n",
       "      <td>BUSINESS</td>\n",
       "      <td>Florida</td>\n",
       "    </tr>\n",
       "    <tr>\n",
       "      <th>65598</th>\n",
       "      <td>&lt; 1000 ft</td>\n",
       "      <td>None</td>\n",
       "      <td>No damage</td>\n",
       "      <td>2</td>\n",
       "      <td>Landing Roll</td>\n",
       "      <td>Medium</td>\n",
       "      <td>Unknown bird - medium</td>\n",
       "      <td>1730.0</td>\n",
       "      <td>Night</td>\n",
       "      <td>Y</td>\n",
       "      <td>...</td>\n",
       "      <td>0.0</td>\n",
       "      <td>0.000000</td>\n",
       "      <td>2011</td>\n",
       "      <td>12</td>\n",
       "      <td>31</td>\n",
       "      <td>5</td>\n",
       "      <td>METRO</td>\n",
       "      <td>B</td>\n",
       "      <td>MAJOR COMERCIAL</td>\n",
       "      <td>Other</td>\n",
       "    </tr>\n",
       "    <tr>\n",
       "      <th>65599</th>\n",
       "      <td>&lt; 1000 ft</td>\n",
       "      <td>None</td>\n",
       "      <td>No damage</td>\n",
       "      <td>2</td>\n",
       "      <td>Approach</td>\n",
       "      <td>Medium</td>\n",
       "      <td>Unknown bird</td>\n",
       "      <td>1904.0</td>\n",
       "      <td>Night</td>\n",
       "      <td>Y</td>\n",
       "      <td>...</td>\n",
       "      <td>1000.0</td>\n",
       "      <td>150.000000</td>\n",
       "      <td>2011</td>\n",
       "      <td>12</td>\n",
       "      <td>31</td>\n",
       "      <td>5</td>\n",
       "      <td>INTL</td>\n",
       "      <td>B</td>\n",
       "      <td>MAJOR COMERCIAL</td>\n",
       "      <td>California</td>\n",
       "    </tr>\n",
       "    <tr>\n",
       "      <th>65605</th>\n",
       "      <td>&lt; 1000 ft</td>\n",
       "      <td>None</td>\n",
       "      <td>No damage</td>\n",
       "      <td>2</td>\n",
       "      <td>Climb</td>\n",
       "      <td>Small</td>\n",
       "      <td>Misc</td>\n",
       "      <td>1025.0</td>\n",
       "      <td>Day</td>\n",
       "      <td>N</td>\n",
       "      <td>...</td>\n",
       "      <td>75.0</td>\n",
       "      <td>140.000000</td>\n",
       "      <td>2011</td>\n",
       "      <td>12</td>\n",
       "      <td>31</td>\n",
       "      <td>5</td>\n",
       "      <td>INTL</td>\n",
       "      <td>A</td>\n",
       "      <td>MINOR COMERCIAL</td>\n",
       "      <td>Other</td>\n",
       "    </tr>\n",
       "    <tr>\n",
       "      <th>65607</th>\n",
       "      <td>&lt; 1000 ft</td>\n",
       "      <td>None</td>\n",
       "      <td>Caused damage</td>\n",
       "      <td>2</td>\n",
       "      <td>Take-off run</td>\n",
       "      <td>Medium</td>\n",
       "      <td>Misc</td>\n",
       "      <td>1026.0</td>\n",
       "      <td>Day</td>\n",
       "      <td>N</td>\n",
       "      <td>...</td>\n",
       "      <td>0.0</td>\n",
       "      <td>165.000000</td>\n",
       "      <td>2011</td>\n",
       "      <td>12</td>\n",
       "      <td>31</td>\n",
       "      <td>5</td>\n",
       "      <td>OTHER</td>\n",
       "      <td>B</td>\n",
       "      <td>MINOR COMERCIAL</td>\n",
       "      <td>Illinois</td>\n",
       "    </tr>\n",
       "  </tbody>\n",
       "</table>\n",
       "<p>30798 rows × 21 columns</p>\n",
       "</div>"
      ],
      "text/plain": [
       "      Altitude bin Effect: Impact to flight Effect: Indicated Damage  \\\n",
       "2        < 1000 ft                     None            Caused damage   \n",
       "3        < 1000 ft                     None            Caused damage   \n",
       "5        < 1000 ft         Aborted Take-off            Caused damage   \n",
       "6        < 1000 ft                     None                No damage   \n",
       "9        < 1000 ft                     None                No damage   \n",
       "11       < 1000 ft    Precautionary Landing                No damage   \n",
       "12       < 1000 ft                     None                No damage   \n",
       "19       > 1000 ft                     None                No damage   \n",
       "20       < 1000 ft                     None                No damage   \n",
       "21       < 1000 ft                     None                No damage   \n",
       "23       < 1000 ft                     None                No damage   \n",
       "24       > 1000 ft                     None            Caused damage   \n",
       "25       < 1000 ft                     None                No damage   \n",
       "26       < 1000 ft                     None            Caused damage   \n",
       "27       < 1000 ft                     None                No damage   \n",
       "30       > 1000 ft                     None                No damage   \n",
       "31       < 1000 ft                     None                No damage   \n",
       "32       < 1000 ft                     None                No damage   \n",
       "38       < 1000 ft                     None                No damage   \n",
       "40       < 1000 ft         Aborted Take-off                No damage   \n",
       "41       < 1000 ft                     None                No damage   \n",
       "48       < 1000 ft                     None                No damage   \n",
       "49       < 1000 ft    Precautionary Landing            Caused damage   \n",
       "54       < 1000 ft                     None                No damage   \n",
       "55       < 1000 ft    Precautionary Landing                No damage   \n",
       "57       < 1000 ft                     None                No damage   \n",
       "59       < 1000 ft                     None                No damage   \n",
       "61       < 1000 ft                     None                No damage   \n",
       "62       < 1000 ft                     None                No damage   \n",
       "63       < 1000 ft                     None                No damage   \n",
       "...            ...                      ...                      ...   \n",
       "65555    < 1000 ft                     None                No damage   \n",
       "65559    < 1000 ft                     None                No damage   \n",
       "65560    < 1000 ft                     None                No damage   \n",
       "65561    < 1000 ft                     None                No damage   \n",
       "65562    < 1000 ft                     None                No damage   \n",
       "65563    < 1000 ft                     None                No damage   \n",
       "65564    < 1000 ft                     None                No damage   \n",
       "65565    < 1000 ft                     None                No damage   \n",
       "65568    < 1000 ft    Precautionary Landing                No damage   \n",
       "65572    < 1000 ft    Precautionary Landing            Caused damage   \n",
       "65573    > 1000 ft                    Other            Caused damage   \n",
       "65575    < 1000 ft                     None                No damage   \n",
       "65576    < 1000 ft                     None                No damage   \n",
       "65578    < 1000 ft                     None                No damage   \n",
       "65579    < 1000 ft                     None                No damage   \n",
       "65583    < 1000 ft                     None                No damage   \n",
       "65585    < 1000 ft                     None                No damage   \n",
       "65586    < 1000 ft                     None                No damage   \n",
       "65587    < 1000 ft                     None                No damage   \n",
       "65588    < 1000 ft                     None                No damage   \n",
       "65591    < 1000 ft                    Other            Caused damage   \n",
       "65592    > 1000 ft                     None                No damage   \n",
       "65593    < 1000 ft                     None                No damage   \n",
       "65594    < 1000 ft                     None                No damage   \n",
       "65595    < 1000 ft                     None                No damage   \n",
       "65597    < 1000 ft                     None                No damage   \n",
       "65598    < 1000 ft                     None                No damage   \n",
       "65599    < 1000 ft                     None                No damage   \n",
       "65605    < 1000 ft                     None                No damage   \n",
       "65607    < 1000 ft                     None            Caused damage   \n",
       "\n",
       "      Aircraft: Number of engines? When: Phase of flight Wildlife: Size  \\\n",
       "2                                1          Landing Roll          Large   \n",
       "3                                2              Approach          Large   \n",
       "5                                4          Take-off run          Large   \n",
       "6                                2              Approach          Small   \n",
       "9                                2          Landing Roll         Medium   \n",
       "11                               2          Take-off run         Medium   \n",
       "12                               2              Approach         Medium   \n",
       "19                               2              Approach         Medium   \n",
       "20                               2              Approach         Medium   \n",
       "21                               2          Take-off run          Small   \n",
       "23                               2              Approach         Medium   \n",
       "24                               2              Approach          Large   \n",
       "25                               1              Approach         Medium   \n",
       "26                               2              Approach         Medium   \n",
       "27                               2              Approach          Small   \n",
       "30                               2                 Climb          Small   \n",
       "31                               2                 Climb          Small   \n",
       "32                               1                 Climb          Small   \n",
       "38                               2          Take-off run         Medium   \n",
       "40                               2          Take-off run          Small   \n",
       "41                               2              Approach         Medium   \n",
       "48                               2              Approach          Small   \n",
       "49                               2                 Climb          Small   \n",
       "54                               2          Landing Roll          Small   \n",
       "55                               2          Take-off run          Small   \n",
       "57                               2          Landing Roll          Large   \n",
       "59                               2          Landing Roll         Medium   \n",
       "61                               2          Take-off run         Medium   \n",
       "62                               2              Approach          Small   \n",
       "63                               2                 Climb          Small   \n",
       "...                            ...                   ...            ...   \n",
       "65555                            2          Take-off run          Small   \n",
       "65559                            2          Landing Roll          Small   \n",
       "65560                            3          Take-off run         Medium   \n",
       "65561                            2              Approach          Small   \n",
       "65562                            2              Approach          Small   \n",
       "65563                            2          Landing Roll         Medium   \n",
       "65564                            2          Take-off run          Small   \n",
       "65565                            2          Landing Roll          Small   \n",
       "65568                            2                 Climb         Medium   \n",
       "65572                            2                 Climb          Large   \n",
       "65573                            2              Approach          Large   \n",
       "65575                            2          Landing Roll          Small   \n",
       "65576                            2          Landing Roll          Small   \n",
       "65578                            2                 Climb          Small   \n",
       "65579                            2              Approach          Large   \n",
       "65583                            2              Approach         Medium   \n",
       "65585                            3              Approach          Small   \n",
       "65586                            2          Take-off run         Medium   \n",
       "65587                            2              Approach         Medium   \n",
       "65588                            2          Landing Roll         Medium   \n",
       "65591                            1          Landing Roll          Large   \n",
       "65592                            2              Approach          Large   \n",
       "65593                            2          Landing Roll          Small   \n",
       "65594                            2          Landing Roll          Small   \n",
       "65595                            2          Landing Roll         Medium   \n",
       "65597                            2              Approach         Medium   \n",
       "65598                            2          Landing Roll         Medium   \n",
       "65599                            2              Approach         Medium   \n",
       "65605                            2                 Climb          Small   \n",
       "65607                            2          Take-off run         Medium   \n",
       "\n",
       "           Wildlife: Species  When: Time (HHMM) When: Time of day  \\\n",
       "2                       Misc             1300.0               Day   \n",
       "3                       Misc             2140.0             Night   \n",
       "5                       Misc             1340.0               Day   \n",
       "6       Unknown bird - small              507.0             Night   \n",
       "9                       Misc             1300.0               Day   \n",
       "11     Unknown bird - medium             1315.0               Day   \n",
       "12     Unknown bird - medium              830.0               Day   \n",
       "19                      Misc              100.0             Night   \n",
       "20                      Misc             1729.0              Dusk   \n",
       "21      Unknown bird - small             1119.0               Day   \n",
       "23                      Misc              859.0               Day   \n",
       "24                      Misc             1300.0               Day   \n",
       "25                      Misc             1804.0             Night   \n",
       "26                      Misc              935.0               Day   \n",
       "27                      Misc             1115.0               Day   \n",
       "30      Unknown bird - small             1100.0               Day   \n",
       "31      Unknown bird - small              710.0              Dawn   \n",
       "32                      Misc              830.0               Day   \n",
       "38     Unknown bird - medium             1620.0               Day   \n",
       "40                      Misc             1717.0              Dusk   \n",
       "41                      Misc             1325.0               Day   \n",
       "48      Unknown bird - small             1050.0               Day   \n",
       "49                      Misc              845.0               Day   \n",
       "54      Unknown bird - small             1300.0               Day   \n",
       "55                      Misc             1327.0               Day   \n",
       "57                      Misc             1745.0              Dusk   \n",
       "59     Unknown bird - medium             1445.0               Day   \n",
       "61     Unknown bird - medium              940.0               Day   \n",
       "62      Unknown bird - small             1805.0              Dusk   \n",
       "63      Unknown bird - small             1300.0               Day   \n",
       "...                      ...                ...               ...   \n",
       "65555                   Misc             1448.0               Day   \n",
       "65559          Mourning dove             1735.0              Dusk   \n",
       "65560           Unknown bird             2335.0             Night   \n",
       "65561   Unknown bird - small              952.0               Day   \n",
       "65562   Unknown bird - small             1300.0               Day   \n",
       "65563                   Misc             2010.0             Night   \n",
       "65564               Killdeer              720.0               Day   \n",
       "65565   Unknown bird - small             1715.0             Night   \n",
       "65568                   Misc             1815.0             Night   \n",
       "65572                   Misc             1640.0               Day   \n",
       "65573                   Misc             1830.0             Night   \n",
       "65575                   Misc             1423.0               Day   \n",
       "65576                   Misc             1325.0               Day   \n",
       "65578   Unknown bird - small              718.0               Day   \n",
       "65579                   Misc             1800.0             Night   \n",
       "65583                   Misc             1928.0             Night   \n",
       "65585                   Misc             1315.0               Day   \n",
       "65586  Unknown bird - medium             1525.0               Day   \n",
       "65587  Unknown bird - medium             1640.0               Day   \n",
       "65588                   Misc             1330.0               Day   \n",
       "65591                   Misc             2153.0               Day   \n",
       "65592                   Misc             1342.0               Day   \n",
       "65593                   Misc             1610.0               Day   \n",
       "65594   Unknown bird - small             1300.0               Day   \n",
       "65595           Unknown bird             1605.0               Day   \n",
       "65597                   Misc             1030.0               Day   \n",
       "65598  Unknown bird - medium             1730.0             Night   \n",
       "65599           Unknown bird             1904.0             Night   \n",
       "65605                   Misc             1025.0               Day   \n",
       "65607                   Misc             1026.0               Day   \n",
       "\n",
       "      Pilot warned of birds or wildlife?  ...  Feet above ground  \\\n",
       "2                                      N  ...                0.0   \n",
       "3                                      Y  ...              500.0   \n",
       "5                                      Y  ...                0.0   \n",
       "6                                      N  ...               50.0   \n",
       "9                                      N  ...                0.0   \n",
       "11                                     N  ...                0.0   \n",
       "12                                     Y  ...              100.0   \n",
       "19                                     N  ...             1500.0   \n",
       "20                                     N  ...              300.0   \n",
       "21                                     N  ...                0.0   \n",
       "23                                     N  ...               75.0   \n",
       "24                                     Y  ...             1850.0   \n",
       "25                                     N  ...               50.0   \n",
       "26                                     N  ...              200.0   \n",
       "27                                     N  ...              100.0   \n",
       "30                                     Y  ...             2000.0   \n",
       "31                                     N  ...              700.0   \n",
       "32                                     Y  ...                5.0   \n",
       "38                                     N  ...                0.0   \n",
       "40                                     Y  ...                0.0   \n",
       "41                                     N  ...              350.0   \n",
       "48                                     N  ...               35.0   \n",
       "49                                     N  ...               10.0   \n",
       "54                                     N  ...                0.0   \n",
       "55                                     N  ...                0.0   \n",
       "57                                     Y  ...                0.0   \n",
       "59                                     N  ...                0.0   \n",
       "61                                     N  ...                0.0   \n",
       "62                                     N  ...              200.0   \n",
       "63                                     Y  ...              400.0   \n",
       "...                                  ...  ...                ...   \n",
       "65555                                  N  ...                0.0   \n",
       "65559                                  Y  ...                0.0   \n",
       "65560                                  N  ...                0.0   \n",
       "65561                                  N  ...              300.0   \n",
       "65562                                  N  ...               95.0   \n",
       "65563                                  N  ...                0.0   \n",
       "65564                                  N  ...                0.0   \n",
       "65565                                  Y  ...                0.0   \n",
       "65568                                  N  ...             1000.0   \n",
       "65572                                  Y  ...              800.0   \n",
       "65573                                  Y  ...             3000.0   \n",
       "65575                                  N  ...                0.0   \n",
       "65576                                  N  ...                0.0   \n",
       "65578                                  N  ...               50.0   \n",
       "65579                                  N  ...              400.0   \n",
       "65583                                  Y  ...               10.0   \n",
       "65585                                  Y  ...               20.0   \n",
       "65586                                  N  ...                0.0   \n",
       "65587                                  Y  ...              200.0   \n",
       "65588                                  Y  ...                0.0   \n",
       "65591                                  N  ...                0.0   \n",
       "65592                                  N  ...             1500.0   \n",
       "65593                                  Y  ...                0.0   \n",
       "65594                                  Y  ...                0.0   \n",
       "65595                                  N  ...                0.0   \n",
       "65597                                  Y  ...              200.0   \n",
       "65598                                  Y  ...                0.0   \n",
       "65599                                  Y  ...             1000.0   \n",
       "65605                                  N  ...               75.0   \n",
       "65607                                  N  ...                0.0   \n",
       "\n",
       "       Speed (IAS) in knots  FlightDateYear  FlightDateMonth  FlightDateDay  \\\n",
       "2                 20.000000            2005                1              1   \n",
       "3                142.000000            2005                1              1   \n",
       "5                100.000000            2005                1              2   \n",
       "6                  3.246971            2005                1              2   \n",
       "9                100.000000            2005                1              2   \n",
       "11                 0.000000            2005                1              3   \n",
       "12                 3.246971            2005                1              3   \n",
       "19               180.000000            2005                1              4   \n",
       "20               135.000000            2005                1              4   \n",
       "21               100.000000            2005                1              4   \n",
       "23                 3.246971            2005                1              4   \n",
       "24               180.000000            2005                1              4   \n",
       "25                65.000000            2005                1              4   \n",
       "26               135.000000            2005                1              4   \n",
       "27               120.000000            2005                1              5   \n",
       "30               220.000000            2005                1              5   \n",
       "31               160.000000            2005                1              5   \n",
       "32                 1.831704            2005                1              5   \n",
       "38                 0.000000            2005                1              6   \n",
       "40               115.000000            2005                1              6   \n",
       "41               140.000000            2005                1              6   \n",
       "48               130.000000            2005                1              7   \n",
       "49               130.000000            2005                1              7   \n",
       "54               120.000000            2005                1              8   \n",
       "55                 0.000000            2005                1              8   \n",
       "57                 0.000000            2005                1              8   \n",
       "59               130.000000            2005                1              8   \n",
       "61                 0.000000            2005                1              9   \n",
       "62               100.000000            2005                1              9   \n",
       "63               160.000000            2005                1              9   \n",
       "...                     ...             ...              ...            ...   \n",
       "65555              0.000000            2011               12             27   \n",
       "65559            120.000000            2011               12             27   \n",
       "65560              0.000000            2011               12             28   \n",
       "65561            130.000000            2011               12             28   \n",
       "65562            141.000000            2011               12             28   \n",
       "65563              0.000000            2011               12             28   \n",
       "65564              0.000000            2011               12             28   \n",
       "65565            130.000000            2011               12             28   \n",
       "65568            180.000000            2011               12             28   \n",
       "65572            180.000000            2011               12             28   \n",
       "65573            250.000000            2011               12             28   \n",
       "65575              0.000000            2011               12             28   \n",
       "65576              0.000000            2011               12             28   \n",
       "65578            150.000000            2011               12             29   \n",
       "65579            120.000000            2011               12             29   \n",
       "65583            140.000000            2011               12             29   \n",
       "65585            140.000000            2011               12             29   \n",
       "65586            150.000000            2011               12             30   \n",
       "65587            140.000000            2011               12             30   \n",
       "65588              0.000000            2011               12             30   \n",
       "65591              0.000000            2011               12             30   \n",
       "65592              3.246971            2011               12             30   \n",
       "65593              0.000000            2011               12             30   \n",
       "65594              0.000000            2011               12             31   \n",
       "65595              0.000000            2011               12             31   \n",
       "65597            145.000000            2011               12             31   \n",
       "65598              0.000000            2011               12             31   \n",
       "65599            150.000000            2011               12             31   \n",
       "65605            140.000000            2011               12             31   \n",
       "65607            165.000000            2011               12             31   \n",
       "\n",
       "       FlightDateWeekday  Airport: Type Aircraft: ModelClass  \\\n",
       "2                      5          OTHER                   PA   \n",
       "3                      5           INTL                    B   \n",
       "5                      6          OTHER                 MISC   \n",
       "6                      6           INTL                    B   \n",
       "9                      6           INTL                    B   \n",
       "11                     0           INTL                   CL   \n",
       "12                     0           INTL                   CL   \n",
       "19                     1           INTL                    B   \n",
       "20                     1           INTL                    B   \n",
       "21                     1          OTHER                    B   \n",
       "23                     1           INTL                   MD   \n",
       "24                     1           INTL                    B   \n",
       "25                     1          OTHER                   PA   \n",
       "26                     1           INTL                   MD   \n",
       "27                     2          OTHER                 MISC   \n",
       "30                     2           INTL                    B   \n",
       "31                     2           INTL                    B   \n",
       "32                     2          OTHER                   PA   \n",
       "38                     3          OTHER                   CL   \n",
       "40                     3           INTL                    B   \n",
       "41                     3           INTL                   CL   \n",
       "48                     4           INTL                   MD   \n",
       "49                     4          OTHER                 MISC   \n",
       "54                     5           INTL                    B   \n",
       "55                     5       REGIONAL                   BE   \n",
       "57                     5           INTL                 MISC   \n",
       "59                     5           INTL                    B   \n",
       "61                     6      MUNICIPAL                   CL   \n",
       "62                     6          OTHER                 DHC8   \n",
       "63                     6           INTL                    B   \n",
       "...                  ...            ...                  ...   \n",
       "65555                  1           INTL                   MD   \n",
       "65559                  1           INTL                    A   \n",
       "65560                  2           INTL                   MD   \n",
       "65561                  2          OTHER                    A   \n",
       "65562                  2           INTL                    B   \n",
       "65563                  2          OTHER                   BE   \n",
       "65564                  2           INTL                   MD   \n",
       "65565                  2           INTL                    B   \n",
       "65568                  2           INTL                    B   \n",
       "65572                  2           INTL                    B   \n",
       "65573                  2           INTL                    A   \n",
       "65575                  2           INTL                    B   \n",
       "65576                  2           INTL                    B   \n",
       "65578                  3           INTL                   MD   \n",
       "65579                  3          OTHER                 MISC   \n",
       "65583                  3           INTL                    B   \n",
       "65585                  3           INTL                   MD   \n",
       "65586                  4           INTL                    B   \n",
       "65587                  4           INTL                    B   \n",
       "65588                  4          OTHER                   PA   \n",
       "65591                  4         COUNTY                   BE   \n",
       "65592                  4      MUNICIPAL                  EMB   \n",
       "65593                  4           INTL                    A   \n",
       "65594                  5          OTHER                  EMB   \n",
       "65595                  5          METRO                   BE   \n",
       "65597                  5           INTL                 MISC   \n",
       "65598                  5          METRO                    B   \n",
       "65599                  5           INTL                    B   \n",
       "65605                  5           INTL                    A   \n",
       "65607                  5          OTHER                    B   \n",
       "\n",
       "      Aircraft: OperatorClass  Origin Class  \n",
       "2             PRIVATELY OWNED     Tennessee  \n",
       "3             MAJOR COMERCIAL    California  \n",
       "5                  GOVERNMENT         Other  \n",
       "6             MAJOR COMERCIAL    California  \n",
       "9             MAJOR COMERCIAL       Florida  \n",
       "11            MINOR COMERCIAL         Other  \n",
       "12            MINOR COMERCIAL      Kentucky  \n",
       "19            MINOR COMERCIAL    California  \n",
       "20            MINOR COMERCIAL  Pennsylvania  \n",
       "21            MAJOR COMERCIAL       Foreign  \n",
       "23            MAJOR COMERCIAL    California  \n",
       "24            MINOR COMERCIAL       Florida  \n",
       "25            PRIVATELY OWNED    California  \n",
       "26            MAJOR COMERCIAL         Other  \n",
       "27            MINOR COMERCIAL         Texas  \n",
       "30            MAJOR COMERCIAL       Florida  \n",
       "31            MAJOR COMERCIAL    California  \n",
       "32                   BUSINESS         Other  \n",
       "38            MINOR COMERCIAL         Other  \n",
       "40            MINOR COMERCIAL       Florida  \n",
       "41            MINOR COMERCIAL         Other  \n",
       "48            MINOR COMERCIAL      Colorado  \n",
       "49                   BUSINESS         Other  \n",
       "54            MAJOR COMERCIAL         Other  \n",
       "55            MINOR COMERCIAL         Other  \n",
       "57                   BUSINESS       Florida  \n",
       "59            MAJOR COMERCIAL    California  \n",
       "61            MINOR COMERCIAL      Colorado  \n",
       "62            MINOR COMERCIAL         Other  \n",
       "63            MAJOR COMERCIAL    California  \n",
       "...                       ...           ...  \n",
       "65555         MAJOR COMERCIAL         Texas  \n",
       "65559         MINOR COMERCIAL         Other  \n",
       "65560         MAJOR COMERCIAL       Foreign  \n",
       "65561         MAJOR COMERCIAL       Foreign  \n",
       "65562         MAJOR COMERCIAL       Florida  \n",
       "65563         MINOR COMERCIAL         Other  \n",
       "65564         MINOR COMERCIAL         Other  \n",
       "65565         MAJOR COMERCIAL         Other  \n",
       "65568         MAJOR COMERCIAL    California  \n",
       "65572         MAJOR COMERCIAL       Florida  \n",
       "65573         MINOR COMERCIAL    California  \n",
       "65575         MAJOR COMERCIAL       Florida  \n",
       "65576         MAJOR COMERCIAL       Florida  \n",
       "65578         MINOR COMERCIAL         Other  \n",
       "65579                BUSINESS         Other  \n",
       "65583         MAJOR COMERCIAL    California  \n",
       "65585         MAJOR COMERCIAL      Kentucky  \n",
       "65586         MAJOR COMERCIAL       Foreign  \n",
       "65587         MAJOR COMERCIAL      Colorado  \n",
       "65588                BUSINESS         Other  \n",
       "65591                BUSINESS    New Jersey  \n",
       "65592         MAJOR COMERCIAL    California  \n",
       "65593         MINOR COMERCIAL       Florida  \n",
       "65594         MINOR COMERCIAL         Texas  \n",
       "65595                BUSINESS    California  \n",
       "65597                BUSINESS       Florida  \n",
       "65598         MAJOR COMERCIAL         Other  \n",
       "65599         MAJOR COMERCIAL    California  \n",
       "65605         MINOR COMERCIAL         Other  \n",
       "65607         MINOR COMERCIAL      Illinois  \n",
       "\n",
       "[30798 rows x 21 columns]"
      ]
     },
     "execution_count": 97,
     "metadata": {},
     "output_type": "execute_result"
    }
   ],
   "source": [
    "df_clean = df_new.dropna()\n",
    "df_clean"
   ]
  },
  {
   "cell_type": "code",
   "execution_count": 98,
   "id": "c3c38806",
   "metadata": {
    "execution": {
     "iopub.execute_input": "2021-10-19T17:38:02.770325Z",
     "iopub.status.busy": "2021-10-19T17:38:02.769349Z",
     "iopub.status.idle": "2021-10-19T17:38:02.777102Z",
     "shell.execute_reply": "2021-10-19T17:38:02.777593Z",
     "shell.execute_reply.started": "2021-09-24T11:52:22.545866Z"
    },
    "papermill": {
     "duration": 0.21358,
     "end_time": "2021-10-19T17:38:02.777780",
     "exception": false,
     "start_time": "2021-10-19T17:38:02.564200",
     "status": "completed"
    },
    "tags": []
   },
   "outputs": [
    {
     "data": {
      "text/plain": [
       "6108"
      ]
     },
     "execution_count": 98,
     "metadata": {},
     "output_type": "execute_result"
    }
   ],
   "source": [
    "len(df_new[df_new['Aircraft: OperatorClass'] == 'MILITARY'])"
   ]
  },
  {
   "cell_type": "code",
   "execution_count": 99,
   "id": "5897e057",
   "metadata": {
    "execution": {
     "iopub.execute_input": "2021-10-19T17:38:03.160606Z",
     "iopub.status.busy": "2021-10-19T17:38:03.159968Z",
     "iopub.status.idle": "2021-10-19T17:38:03.170765Z",
     "shell.execute_reply": "2021-10-19T17:38:03.171322Z",
     "shell.execute_reply.started": "2021-09-24T11:52:22.565607Z"
    },
    "papermill": {
     "duration": 0.20481,
     "end_time": "2021-10-19T17:38:03.171509",
     "exception": false,
     "start_time": "2021-10-19T17:38:02.966699",
     "status": "completed"
    },
    "tags": []
   },
   "outputs": [
    {
     "data": {
      "text/plain": [
       "1"
      ]
     },
     "execution_count": 99,
     "metadata": {},
     "output_type": "execute_result"
    }
   ],
   "source": [
    "len(df_clean[df_clean['Aircraft: OperatorClass'] == 'MILITARY'])"
   ]
  },
  {
   "cell_type": "code",
   "execution_count": 100,
   "id": "84dbbadc",
   "metadata": {
    "execution": {
     "iopub.execute_input": "2021-10-19T17:38:03.549769Z",
     "iopub.status.busy": "2021-10-19T17:38:03.549078Z",
     "iopub.status.idle": "2021-10-19T17:38:03.563926Z",
     "shell.execute_reply": "2021-10-19T17:38:03.564469Z",
     "shell.execute_reply.started": "2021-09-24T11:52:22.578583Z"
    },
    "papermill": {
     "duration": 0.205788,
     "end_time": "2021-10-19T17:38:03.564652",
     "exception": false,
     "start_time": "2021-10-19T17:38:03.358864",
     "status": "completed"
    },
    "tags": []
   },
   "outputs": [
    {
     "data": {
      "text/plain": [
       "1533"
      ]
     },
     "execution_count": 100,
     "metadata": {},
     "output_type": "execute_result"
    }
   ],
   "source": [
    "len(df_new[df_new['When: Phase of flight'] == 'En Route'])"
   ]
  },
  {
   "cell_type": "code",
   "execution_count": 101,
   "id": "bb7a9c7d",
   "metadata": {
    "execution": {
     "iopub.execute_input": "2021-10-19T17:38:03.946087Z",
     "iopub.status.busy": "2021-10-19T17:38:03.945337Z",
     "iopub.status.idle": "2021-10-19T17:38:03.957387Z",
     "shell.execute_reply": "2021-10-19T17:38:03.956873Z",
     "shell.execute_reply.started": "2021-09-24T11:52:22.603276Z"
    },
    "papermill": {
     "duration": 0.203523,
     "end_time": "2021-10-19T17:38:03.957558",
     "exception": false,
     "start_time": "2021-10-19T17:38:03.754035",
     "status": "completed"
    },
    "tags": []
   },
   "outputs": [
    {
     "data": {
      "text/plain": [
       "0"
      ]
     },
     "execution_count": 101,
     "metadata": {},
     "output_type": "execute_result"
    }
   ],
   "source": [
    "len(df_clean[df_clean['When: Phase of flight'] == 'En Route'])"
   ]
  },
  {
   "cell_type": "markdown",
   "id": "1a09b245",
   "metadata": {
    "papermill": {
     "duration": 0.187527,
     "end_time": "2021-10-19T17:38:04.335584",
     "exception": false,
     "start_time": "2021-10-19T17:38:04.148057",
     "status": "completed"
    },
    "tags": []
   },
   "source": [
    "### Wichtig:\n",
    "Durch das Bereinigen verschwindet der Operatortyp MILITARY und die Flugphase En Route ganz oder fast vollständig!!!"
   ]
  },
  {
   "cell_type": "markdown",
   "id": "7d0c44ba",
   "metadata": {
    "papermill": {
     "duration": 0.188016,
     "end_time": "2021-10-19T17:38:04.711192",
     "exception": false,
     "start_time": "2021-10-19T17:38:04.523176",
     "status": "completed"
    },
    "tags": []
   },
   "source": [
    "# Graphische Analyse"
   ]
  },
  {
   "cell_type": "markdown",
   "id": "5aff9f44",
   "metadata": {
    "papermill": {
     "duration": 0.190912,
     "end_time": "2021-10-19T17:38:05.089182",
     "exception": false,
     "start_time": "2021-10-19T17:38:04.898270",
     "status": "completed"
    },
    "tags": []
   },
   "source": [
    "## Histogramme der numerischen Spalten"
   ]
  },
  {
   "cell_type": "code",
   "execution_count": 102,
   "id": "d27cd67a",
   "metadata": {
    "execution": {
     "iopub.execute_input": "2021-10-19T17:38:05.471838Z",
     "iopub.status.busy": "2021-10-19T17:38:05.471084Z",
     "iopub.status.idle": "2021-10-19T17:38:07.141644Z",
     "shell.execute_reply": "2021-10-19T17:38:07.141047Z",
     "shell.execute_reply.started": "2021-09-24T11:57:06.955968Z"
    },
    "papermill": {
     "duration": 1.864397,
     "end_time": "2021-10-19T17:38:07.141801",
     "exception": false,
     "start_time": "2021-10-19T17:38:05.277404",
     "status": "completed"
    },
    "tags": []
   },
   "outputs": [
    {
     "data": {
      "image/png": "[encoded data removed]",
      "text/plain": [
       "<Figure size 1080x1080 with 9 Axes>"
      ]
     },
     "metadata": {
      "needs_background": "light"
     },
     "output_type": "display_data"
    }
   ],
   "source": [
    "df_clean.hist(figsize=(15,15));"
   ]
  },
  {
   "cell_type": "code",
   "execution_count": 103,
   "id": "317d39da",
   "metadata": {
    "execution": {
     "iopub.execute_input": "2021-10-19T17:38:07.528183Z",
     "iopub.status.busy": "2021-10-19T17:38:07.527556Z",
     "iopub.status.idle": "2021-10-19T17:38:08.260559Z",
     "shell.execute_reply": "2021-10-19T17:38:08.259916Z",
     "shell.execute_reply.started": "2021-09-24T11:57:08.620134Z"
    },
    "papermill": {
     "duration": 0.926085,
     "end_time": "2021-10-19T17:38:08.260711",
     "exception": false,
     "start_time": "2021-10-19T17:38:07.334626",
     "status": "completed"
    },
    "tags": []
   },
   "outputs": [
    {
     "data": {
      "image/png": "[encoded data removed]",
      "text/plain": [
       "<Figure size 360x360 with 1 Axes>"
      ]
     },
     "metadata": {
      "needs_background": "light"
     },
     "output_type": "display_data"
    }
   ],
   "source": [
    "# df_clean[['Feet above ground', 'Speed (IAS) in knots', 'Miles from airport']].hist(figsize=(15,15))\n",
    "df_clean['Feet above ground'].hist(figsize=(5,5))\n",
    "plt.yscale('log')\n",
    "plt.title('Feet above ground');"
   ]
  },
  {
   "cell_type": "code",
   "execution_count": 104,
   "id": "0766bcc0",
   "metadata": {
    "execution": {
     "iopub.execute_input": "2021-10-19T17:38:08.656097Z",
     "iopub.status.busy": "2021-10-19T17:38:08.655145Z",
     "iopub.status.idle": "2021-10-19T17:38:09.201532Z",
     "shell.execute_reply": "2021-10-19T17:38:09.200830Z",
     "shell.execute_reply.started": "2021-09-24T11:57:09.370319Z"
    },
    "papermill": {
     "duration": 0.747545,
     "end_time": "2021-10-19T17:38:09.201681",
     "exception": false,
     "start_time": "2021-10-19T17:38:08.454136",
     "status": "completed"
    },
    "tags": []
   },
   "outputs": [
    {
     "data": {
      "image/png": "[encoded data removed]",
      "text/plain": [
       "<Figure size 360x360 with 1 Axes>"
      ]
     },
     "metadata": {
      "needs_background": "light"
     },
     "output_type": "display_data"
    }
   ],
   "source": [
    "df_clean['Speed (IAS) in knots'].hist(figsize=(5,5), bins=20)\n",
    "plt.yscale('log')\n",
    "plt.title('Speed (IAS) in knots');"
   ]
  },
  {
   "cell_type": "code",
   "execution_count": 105,
   "id": "6b6b71e5",
   "metadata": {
    "execution": {
     "iopub.execute_input": "2021-10-19T17:38:09.599622Z",
     "iopub.status.busy": "2021-10-19T17:38:09.598919Z",
     "iopub.status.idle": "2021-10-19T17:38:10.161164Z",
     "shell.execute_reply": "2021-10-19T17:38:10.161639Z",
     "shell.execute_reply.started": "2021-09-24T11:57:09.98114Z"
    },
    "papermill": {
     "duration": 0.766976,
     "end_time": "2021-10-19T17:38:10.161831",
     "exception": false,
     "start_time": "2021-10-19T17:38:09.394855",
     "status": "completed"
    },
    "tags": []
   },
   "outputs": [
    {
     "data": {
      "image/png": "[encoded data removed]",
      "text/plain": [
       "<Figure size 360x360 with 1 Axes>"
      ]
     },
     "metadata": {
      "needs_background": "light"
     },
     "output_type": "display_data"
    }
   ],
   "source": [
    "df_clean['Miles from airport'].hist(figsize=(5,5))\n",
    "plt.yscale('log')\n",
    "plt.title('Miles from airport');"
   ]
  },
  {
   "cell_type": "code",
   "execution_count": 106,
   "id": "666e8366",
   "metadata": {
    "execution": {
     "iopub.execute_input": "2021-10-19T17:38:10.597374Z",
     "iopub.status.busy": "2021-10-19T17:38:10.596343Z",
     "iopub.status.idle": "2021-10-19T17:38:10.868235Z",
     "shell.execute_reply": "2021-10-19T17:38:10.867572Z",
     "shell.execute_reply.started": "2021-09-24T11:57:10.590413Z"
    },
    "papermill": {
     "duration": 0.515012,
     "end_time": "2021-10-19T17:38:10.868377",
     "exception": false,
     "start_time": "2021-10-19T17:38:10.353365",
     "status": "completed"
    },
    "tags": []
   },
   "outputs": [
    {
     "data": {
      "image/png": "[encoded data removed]",
      "text/plain": [
       "<Figure size 360x360 with 1 Axes>"
      ]
     },
     "metadata": {
      "needs_background": "light"
     },
     "output_type": "display_data"
    }
   ],
   "source": [
    "df_clean['When: Time (HHMM)'].hist(figsize=(5,5), bins=24);"
   ]
  },
  {
   "cell_type": "markdown",
   "id": "f181dbf3",
   "metadata": {
    "papermill": {
     "duration": 0.205694,
     "end_time": "2021-10-19T17:38:11.271226",
     "exception": false,
     "start_time": "2021-10-19T17:38:11.065532",
     "status": "completed"
    },
    "tags": []
   },
   "source": [
    "## Erkenntnisse:\n",
    "-Anzahl an Zwischenfällen fällt mit Flughöhe und Entfernung vom Flughafen exponentiell ab.\n",
    "\n",
    "-Sehr viele Zwischenfälle bei sehr geringen Geschwindigkeiten und Geschwindigkeiten um die 150 Knoten.\n",
    "\n",
    "-Anzahl an Zwischenfällen über die Jahre gestigen, besserer Plot wenn möglich!!!\n",
    "\n",
    "-Etwas weniger Zwischenfälle an Wochenenden\n",
    "\n",
    "-Anstieg der Zwischenfälle an den letzen drei Tagen des Monats\n",
    "\n",
    "-Etwa doppelt so viele Zwischenfälle in der zweiten Jahreshälfte\n",
    "\n",
    "-Sehr wenige Zwischenfälle zwischen 2 und 5 Uhr. Dann starker Anstieg ab 6 Uhr, abfallend ab 10 Uhr. Mittagstief mit extremen Peak um 13 Uhr. Mögliches Imputationsartefakt!?! Erneuter Anstieg ab 16 Uhr. Wider Abfallen nach Mitternacht. Spitze bei 1 Uhr könnte auch Artefakt sein."
   ]
  },
  {
   "cell_type": "markdown",
   "id": "f181be4b",
   "metadata": {
    "papermill": {
     "duration": 0.201574,
     "end_time": "2021-10-19T17:38:11.687297",
     "exception": false,
     "start_time": "2021-10-19T17:38:11.485723",
     "status": "completed"
    },
    "tags": []
   },
   "source": [
    "## Barplots für Kategorie-Spalten"
   ]
  },
  {
   "cell_type": "code",
   "execution_count": 107,
   "id": "e142ad1d",
   "metadata": {
    "execution": {
     "iopub.execute_input": "2021-10-19T17:38:12.083030Z",
     "iopub.status.busy": "2021-10-19T17:38:12.082245Z",
     "iopub.status.idle": "2021-10-19T17:38:12.298540Z",
     "shell.execute_reply": "2021-10-19T17:38:12.299121Z",
     "shell.execute_reply.started": "2021-09-24T11:57:10.851253Z"
    },
    "papermill": {
     "duration": 0.4185,
     "end_time": "2021-10-19T17:38:12.299312",
     "exception": false,
     "start_time": "2021-10-19T17:38:11.880812",
     "status": "completed"
    },
    "tags": []
   },
   "outputs": [
    {
     "data": {
      "image/png": "[encoded data removed]",
      "text/plain": [
       "<Figure size 432x288 with 1 Axes>"
      ]
     },
     "metadata": {
      "needs_background": "light"
     },
     "output_type": "display_data"
    }
   ],
   "source": [
    "sns.countplot(x='Altitude bin', data=df_clean);"
   ]
  },
  {
   "cell_type": "markdown",
   "id": "2054632f",
   "metadata": {
    "papermill": {
     "duration": 0.191899,
     "end_time": "2021-10-19T17:38:12.685938",
     "exception": false,
     "start_time": "2021-10-19T17:38:12.494039",
     "status": "completed"
    },
    "tags": []
   },
   "source": [
    "Zwischenfälle ereignen sich überwiegend in niedrigen Flughöhen unterhalb von 1000 Fuß."
   ]
  },
  {
   "cell_type": "code",
   "execution_count": 108,
   "id": "2d7a3765",
   "metadata": {
    "execution": {
     "iopub.execute_input": "2021-10-19T17:38:13.081700Z",
     "iopub.status.busy": "2021-10-19T17:38:13.080962Z",
     "iopub.status.idle": "2021-10-19T17:38:13.590743Z",
     "shell.execute_reply": "2021-10-19T17:38:13.590083Z",
     "shell.execute_reply.started": "2021-09-24T11:57:11.066736Z"
    },
    "papermill": {
     "duration": 0.710154,
     "end_time": "2021-10-19T17:38:13.590886",
     "exception": false,
     "start_time": "2021-10-19T17:38:12.880732",
     "status": "completed"
    },
    "tags": []
   },
   "outputs": [
    {
     "data": {
      "image/png": "[encoded data removed]",
      "text/plain": [
       "<Figure size 1080x360 with 1 Axes>"
      ]
     },
     "metadata": {
      "needs_background": "light"
     },
     "output_type": "display_data"
    }
   ],
   "source": [
    "plt.figure(figsize=(15,5))\n",
    "plt.yscale('log')\n",
    "sns.countplot(x='Effect: Impact to flight', data=df_clean);"
   ]
  },
  {
   "cell_type": "code",
   "execution_count": 109,
   "id": "83215a42",
   "metadata": {
    "execution": {
     "iopub.execute_input": "2021-10-19T17:38:14.008123Z",
     "iopub.status.busy": "2021-10-19T17:38:14.007429Z",
     "iopub.status.idle": "2021-10-19T17:38:14.210801Z",
     "shell.execute_reply": "2021-10-19T17:38:14.211340Z",
     "shell.execute_reply.started": "2021-09-24T11:57:11.744211Z"
    },
    "papermill": {
     "duration": 0.425564,
     "end_time": "2021-10-19T17:38:14.211540",
     "exception": false,
     "start_time": "2021-10-19T17:38:13.785976",
     "status": "completed"
    },
    "tags": []
   },
   "outputs": [
    {
     "data": {
      "image/png": "[encoded data removed]",
      "text/plain": [
       "<Figure size 432x288 with 1 Axes>"
      ]
     },
     "metadata": {
      "needs_background": "light"
     },
     "output_type": "display_data"
    }
   ],
   "source": [
    "sns.countplot(x='Effect: Indicated Damage', data=df_clean);"
   ]
  },
  {
   "cell_type": "markdown",
   "id": "b24c8afe",
   "metadata": {
    "papermill": {
     "duration": 0.198605,
     "end_time": "2021-10-19T17:38:14.606934",
     "exception": false,
     "start_time": "2021-10-19T17:38:14.408329",
     "status": "completed"
    },
    "tags": []
   },
   "source": [
    "Die allermeißten Zwischenfälle verursachen keinen Schaden und haben in der Regel keine nenneswerten Folgen."
   ]
  },
  {
   "cell_type": "code",
   "execution_count": 110,
   "id": "ca4700a8",
   "metadata": {
    "execution": {
     "iopub.execute_input": "2021-10-19T17:38:15.003777Z",
     "iopub.status.busy": "2021-10-19T17:38:15.003040Z",
     "iopub.status.idle": "2021-10-19T17:38:15.621569Z",
     "shell.execute_reply": "2021-10-19T17:38:15.622094Z",
     "shell.execute_reply.started": "2021-09-24T11:57:11.961034Z"
    },
    "papermill": {
     "duration": 0.820989,
     "end_time": "2021-10-19T17:38:15.622274",
     "exception": false,
     "start_time": "2021-10-19T17:38:14.801285",
     "status": "completed"
    },
    "tags": []
   },
   "outputs": [
    {
     "data": {
      "image/png": "[encoded data removed]",
      "text/plain": [
       "<Figure size 720x360 with 1 Axes>"
      ]
     },
     "metadata": {
      "needs_background": "light"
     },
     "output_type": "display_data"
    }
   ],
   "source": [
    "plt.figure(figsize=(10,5))\n",
    "plt.yscale('log')\n",
    "sns.countplot(x='Aircraft: Number of engines?', data=df_clean);"
   ]
  },
  {
   "cell_type": "markdown",
   "id": "64308e15",
   "metadata": {
    "papermill": {
     "duration": 0.196921,
     "end_time": "2021-10-19T17:38:16.014234",
     "exception": false,
     "start_time": "2021-10-19T17:38:15.817313",
     "status": "completed"
    },
    "tags": []
   },
   "source": [
    "Die Überwiegende Mehrheit aller Maschienen, die in Zwischenfälle verwickelt sind, haben nur 2 Antriebsmotoren."
   ]
  },
  {
   "cell_type": "code",
   "execution_count": 111,
   "id": "2f380437",
   "metadata": {
    "execution": {
     "iopub.execute_input": "2021-10-19T17:38:16.410393Z",
     "iopub.status.busy": "2021-10-19T17:38:16.409754Z",
     "iopub.status.idle": "2021-10-19T17:38:16.939319Z",
     "shell.execute_reply": "2021-10-19T17:38:16.939881Z",
     "shell.execute_reply.started": "2021-09-24T11:57:12.388Z"
    },
    "papermill": {
     "duration": 0.730033,
     "end_time": "2021-10-19T17:38:16.940058",
     "exception": false,
     "start_time": "2021-10-19T17:38:16.210025",
     "status": "completed"
    },
    "tags": []
   },
   "outputs": [
    {
     "data": {
      "image/png": "[encoded data removed]",
      "text/plain": [
       "<Figure size 1080x360 with 1 Axes>"
      ]
     },
     "metadata": {
      "needs_background": "light"
     },
     "output_type": "display_data"
    }
   ],
   "source": [
    "plt.figure(figsize=(15,5))\n",
    "plt.yscale('log')\n",
    "sns.countplot(x='When: Phase of flight', data=df_clean);"
   ]
  },
  {
   "cell_type": "markdown",
   "id": "9ebfa06c",
   "metadata": {
    "papermill": {
     "duration": 0.195057,
     "end_time": "2021-10-19T17:38:17.335157",
     "exception": false,
     "start_time": "2021-10-19T17:38:17.140100",
     "status": "completed"
    },
    "tags": []
   },
   "source": [
    "Zwischenfälle ereignen sich fast ausschließlich auf dem Runway, sowie beim Steigen und Annähern. Zwischenfälle mit stehenden oder fahrenden Flugzeugen sind selten."
   ]
  },
  {
   "cell_type": "code",
   "execution_count": 112,
   "id": "65a05a35",
   "metadata": {
    "execution": {
     "iopub.execute_input": "2021-10-19T17:38:17.732407Z",
     "iopub.status.busy": "2021-10-19T17:38:17.731815Z",
     "iopub.status.idle": "2021-10-19T17:38:17.970132Z",
     "shell.execute_reply": "2021-10-19T17:38:17.970677Z",
     "shell.execute_reply.started": "2021-09-24T11:57:12.907807Z"
    },
    "papermill": {
     "duration": 0.437321,
     "end_time": "2021-10-19T17:38:17.970849",
     "exception": false,
     "start_time": "2021-10-19T17:38:17.533528",
     "status": "completed"
    },
    "tags": []
   },
   "outputs": [
    {
     "data": {
      "image/png": "[encoded data removed]",
      "text/plain": [
       "<Figure size 432x288 with 1 Axes>"
      ]
     },
     "metadata": {
      "needs_background": "light"
     },
     "output_type": "display_data"
    }
   ],
   "source": [
    "sns.countplot(x='Wildlife: Size', data=df_clean);"
   ]
  },
  {
   "cell_type": "markdown",
   "id": "90947922",
   "metadata": {
    "papermill": {
     "duration": 0.196544,
     "end_time": "2021-10-19T17:38:18.369200",
     "exception": false,
     "start_time": "2021-10-19T17:38:18.172656",
     "status": "completed"
    },
    "tags": []
   },
   "source": [
    "Zwischenfälle mit großen Vögeln sind selten."
   ]
  },
  {
   "cell_type": "code",
   "execution_count": 113,
   "id": "3009e46b",
   "metadata": {
    "execution": {
     "iopub.execute_input": "2021-10-19T17:38:18.766882Z",
     "iopub.status.busy": "2021-10-19T17:38:18.766211Z",
     "iopub.status.idle": "2021-10-19T17:38:19.395340Z",
     "shell.execute_reply": "2021-10-19T17:38:19.394783Z",
     "shell.execute_reply.started": "2021-09-24T11:57:13.140005Z"
    },
    "papermill": {
     "duration": 0.82789,
     "end_time": "2021-10-19T17:38:19.395499",
     "exception": false,
     "start_time": "2021-10-19T17:38:18.567609",
     "status": "completed"
    },
    "tags": []
   },
   "outputs": [
    {
     "data": {
      "image/png": "[encoded data removed]",
      "text/plain": [
       "<Figure size 1440x360 with 1 Axes>"
      ]
     },
     "metadata": {
      "needs_background": "light"
     },
     "output_type": "display_data"
    }
   ],
   "source": [
    "plt.figure(figsize=(20,5))\n",
    "plt.yscale('log')\n",
    "sns.countplot(x='Wildlife: Species', data=df_clean);"
   ]
  },
  {
   "cell_type": "markdown",
   "id": "b8d65202",
   "metadata": {
    "papermill": {
     "duration": 0.196157,
     "end_time": "2021-10-19T17:38:19.790714",
     "exception": false,
     "start_time": "2021-10-19T17:38:19.594557",
     "status": "completed"
    },
    "tags": []
   },
   "source": [
    "Es finden häufiger Kollisionen mit kleinen Vögel als mit mittleren oder großen Vögeln statt. Die Spezies scheint keinen Einfluss zu haben und sind in der Statistik eher gleichverteilt.\n",
    "\n",
    "Vielleicht Anzahl an Kategorien reduzieren?"
   ]
  },
  {
   "cell_type": "code",
   "execution_count": 114,
   "id": "fe55edb1",
   "metadata": {
    "execution": {
     "iopub.execute_input": "2021-10-19T17:38:20.194301Z",
     "iopub.status.busy": "2021-10-19T17:38:20.193596Z",
     "iopub.status.idle": "2021-10-19T17:38:20.437844Z",
     "shell.execute_reply": "2021-10-19T17:38:20.438286Z",
     "shell.execute_reply.started": "2021-09-24T11:57:13.74242Z"
    },
    "papermill": {
     "duration": 0.446199,
     "end_time": "2021-10-19T17:38:20.438491",
     "exception": false,
     "start_time": "2021-10-19T17:38:19.992292",
     "status": "completed"
    },
    "tags": []
   },
   "outputs": [
    {
     "data": {
      "image/png": "[encoded data removed]",
      "text/plain": [
       "<Figure size 432x288 with 1 Axes>"
      ]
     },
     "metadata": {
      "needs_background": "light"
     },
     "output_type": "display_data"
    }
   ],
   "source": [
    "sns.countplot(x='When: Time of day', data=df_clean);"
   ]
  },
  {
   "cell_type": "markdown",
   "id": "ea93ac99",
   "metadata": {
    "papermill": {
     "duration": 0.198815,
     "end_time": "2021-10-19T17:38:20.840486",
     "exception": false,
     "start_time": "2021-10-19T17:38:20.641671",
     "status": "completed"
    },
    "tags": []
   },
   "source": [
    "Am häufigsten treten Zwischenfälle tagsüber auf. Während der Sonnenauf und -untergangsphase fast nie."
   ]
  },
  {
   "cell_type": "code",
   "execution_count": 115,
   "id": "f09125a7",
   "metadata": {
    "execution": {
     "iopub.execute_input": "2021-10-19T17:38:21.245435Z",
     "iopub.status.busy": "2021-10-19T17:38:21.244803Z",
     "iopub.status.idle": "2021-10-19T17:38:21.498949Z",
     "shell.execute_reply": "2021-10-19T17:38:21.499571Z",
     "shell.execute_reply.started": "2021-09-24T11:57:13.983219Z"
    },
    "papermill": {
     "duration": 0.456678,
     "end_time": "2021-10-19T17:38:21.499757",
     "exception": false,
     "start_time": "2021-10-19T17:38:21.043079",
     "status": "completed"
    },
    "tags": []
   },
   "outputs": [
    {
     "data": {
      "image/png": "[encoded data removed]",
      "text/plain": [
       "<Figure size 432x288 with 1 Axes>"
      ]
     },
     "metadata": {
      "needs_background": "light"
     },
     "output_type": "display_data"
    }
   ],
   "source": [
    "sns.countplot(x='Pilot warned of birds or wildlife?', data=df_new);"
   ]
  },
  {
   "cell_type": "markdown",
   "id": "c891bc43",
   "metadata": {
    "papermill": {
     "duration": 0.197927,
     "end_time": "2021-10-19T17:38:21.898990",
     "exception": false,
     "start_time": "2021-10-19T17:38:21.701063",
     "status": "completed"
    },
    "tags": []
   },
   "source": [
    "In der Mehrheit aller Fälle sind die Piloten nicht gewarnt."
   ]
  },
  {
   "cell_type": "code",
   "execution_count": 116,
   "id": "091d5425",
   "metadata": {
    "execution": {
     "iopub.execute_input": "2021-10-19T17:38:22.303565Z",
     "iopub.status.busy": "2021-10-19T17:38:22.302894Z",
     "iopub.status.idle": "2021-10-19T17:38:22.767996Z",
     "shell.execute_reply": "2021-10-19T17:38:22.768500Z",
     "shell.execute_reply.started": "2021-09-24T11:57:14.233994Z"
    },
    "papermill": {
     "duration": 0.667281,
     "end_time": "2021-10-19T17:38:22.768681",
     "exception": false,
     "start_time": "2021-10-19T17:38:22.101400",
     "status": "completed"
    },
    "tags": []
   },
   "outputs": [
    {
     "data": {
      "image/png": "[encoded data removed]",
      "text/plain": [
       "<Figure size 1080x360 with 1 Axes>"
      ]
     },
     "metadata": {
      "needs_background": "light"
     },
     "output_type": "display_data"
    }
   ],
   "source": [
    "plt.figure(figsize=(15,5))\n",
    "plt.yscale('log')\n",
    "sns.countplot(x='Airport: Type', data=df_clean);"
   ]
  },
  {
   "cell_type": "markdown",
   "id": "8807f821",
   "metadata": {
    "papermill": {
     "duration": 0.20115,
     "end_time": "2021-10-19T17:38:23.170280",
     "exception": false,
     "start_time": "2021-10-19T17:38:22.969130",
     "status": "completed"
    },
    "tags": []
   },
   "source": [
    "Zwischenfälle ereignen sich gehäuft in der Nähe von internationalen Flughäfen, wo auch der meißte Verkehr herrscht. Kleinere Flughäfen weisen weniger Zwischenfälle auf (nicht wirklich überraschend)."
   ]
  },
  {
   "cell_type": "code",
   "execution_count": 117,
   "id": "1b602d48",
   "metadata": {
    "execution": {
     "iopub.execute_input": "2021-10-19T17:38:23.598789Z",
     "iopub.status.busy": "2021-10-19T17:38:23.598105Z",
     "iopub.status.idle": "2021-10-19T17:38:23.885835Z",
     "shell.execute_reply": "2021-10-19T17:38:23.885268Z",
     "shell.execute_reply.started": "2021-09-24T11:57:14.692548Z"
    },
    "papermill": {
     "duration": 0.514888,
     "end_time": "2021-10-19T17:38:23.885981",
     "exception": false,
     "start_time": "2021-10-19T17:38:23.371093",
     "status": "completed"
    },
    "tags": []
   },
   "outputs": [
    {
     "data": {
      "image/png": "[encoded data removed]",
      "text/plain": [
       "<Figure size 1080x360 with 1 Axes>"
      ]
     },
     "metadata": {
      "needs_background": "light"
     },
     "output_type": "display_data"
    }
   ],
   "source": [
    "plt.figure(figsize=(15,5))\n",
    "sns.countplot(x='Aircraft: ModelClass', data=df_clean);"
   ]
  },
  {
   "cell_type": "markdown",
   "id": "b52adacc",
   "metadata": {
    "papermill": {
     "duration": 0.19987,
     "end_time": "2021-10-19T17:38:24.289907",
     "exception": false,
     "start_time": "2021-10-19T17:38:24.090037",
     "status": "completed"
    },
    "tags": []
   },
   "source": [
    "Am häufigsten sind Maschienen von Boeing und Airbus an Zwischenfällen beteiligt, sowie Challengers."
   ]
  },
  {
   "cell_type": "code",
   "execution_count": 118,
   "id": "dd2fa4c0",
   "metadata": {
    "execution": {
     "iopub.execute_input": "2021-10-19T17:38:24.706581Z",
     "iopub.status.busy": "2021-10-19T17:38:24.705169Z",
     "iopub.status.idle": "2021-10-19T17:38:25.513405Z",
     "shell.execute_reply": "2021-10-19T17:38:25.512758Z",
     "shell.execute_reply.started": "2021-09-24T11:57:15.00591Z"
    },
    "papermill": {
     "duration": 1.022824,
     "end_time": "2021-10-19T17:38:25.513604",
     "exception": false,
     "start_time": "2021-10-19T17:38:24.490780",
     "status": "completed"
    },
    "tags": []
   },
   "outputs": [
    {
     "data": {
      "image/png": "[encoded data removed]",
      "text/plain": [
       "<Figure size 1440x360 with 1 Axes>"
      ]
     },
     "metadata": {
      "needs_background": "light"
     },
     "output_type": "display_data"
    }
   ],
   "source": [
    "plt.figure(figsize=(20,5))\n",
    "plt.yscale('log')\n",
    "sns.countplot(x='Aircraft: OperatorClass', data=df_clean);"
   ]
  },
  {
   "cell_type": "markdown",
   "id": "888b458d",
   "metadata": {
    "papermill": {
     "duration": 0.200453,
     "end_time": "2021-10-19T17:38:25.915703",
     "exception": false,
     "start_time": "2021-10-19T17:38:25.715250",
     "status": "completed"
    },
    "tags": []
   },
   "source": [
    "Der Anteil an kommerziellen- und Buisnessflügen dominiert deutlich die Statistik."
   ]
  },
  {
   "cell_type": "code",
   "execution_count": 119,
   "id": "6c6e5f6b",
   "metadata": {
    "execution": {
     "iopub.execute_input": "2021-10-19T17:38:26.352769Z",
     "iopub.status.busy": "2021-10-19T17:38:26.352075Z",
     "iopub.status.idle": "2021-10-19T17:38:26.679685Z",
     "shell.execute_reply": "2021-10-19T17:38:26.679147Z",
     "shell.execute_reply.started": "2021-09-24T11:57:15.80168Z"
    },
    "papermill": {
     "duration": 0.560715,
     "end_time": "2021-10-19T17:38:26.679833",
     "exception": false,
     "start_time": "2021-10-19T17:38:26.119118",
     "status": "completed"
    },
    "tags": []
   },
   "outputs": [
    {
     "data": {
      "image/png": "[encoded data removed]",
      "text/plain": [
       "<Figure size 1080x360 with 1 Axes>"
      ]
     },
     "metadata": {
      "needs_background": "light"
     },
     "output_type": "display_data"
    }
   ],
   "source": [
    "plt.figure(figsize=(15,5))\n",
    "sns.countplot(x='Origin Class', data=df_clean);"
   ]
  },
  {
   "cell_type": "markdown",
   "id": "d340a2ab",
   "metadata": {
    "papermill": {
     "duration": 0.209388,
     "end_time": "2021-10-19T17:38:27.097224",
     "exception": false,
     "start_time": "2021-10-19T17:38:26.887836",
     "status": "completed"
    },
    "tags": []
   },
   "source": [
    "Es tauchen mehr Flieger aus Texas, Californien und Florida in der Statisktik auf, aber im Großen und ganzen scheint der Ursprungsort nicht all zu relevant zu sein, da Zwischenfälle auf Staten etwa gleichverteilt sind."
   ]
  },
  {
   "cell_type": "markdown",
   "id": "53c43bb0",
   "metadata": {
    "papermill": {
     "duration": 0.20187,
     "end_time": "2021-10-19T17:38:27.504367",
     "exception": false,
     "start_time": "2021-10-19T17:38:27.302497",
     "status": "completed"
    },
    "tags": []
   },
   "source": [
    "# Korrelationen zwischen den numerischen Spalten"
   ]
  },
  {
   "cell_type": "code",
   "execution_count": 120,
   "id": "98c0bc26",
   "metadata": {
    "execution": {
     "iopub.execute_input": "2021-10-19T17:38:27.912880Z",
     "iopub.status.busy": "2021-10-19T17:38:27.912158Z",
     "iopub.status.idle": "2021-10-19T17:38:27.918297Z",
     "shell.execute_reply": "2021-10-19T17:38:27.918885Z",
     "shell.execute_reply.started": "2021-09-24T11:57:16.140359Z"
    },
    "papermill": {
     "duration": 0.212763,
     "end_time": "2021-10-19T17:38:27.919065",
     "exception": false,
     "start_time": "2021-10-19T17:38:27.706302",
     "status": "completed"
    },
    "tags": []
   },
   "outputs": [],
   "source": [
    "df_test = df_clean.copy()"
   ]
  },
  {
   "cell_type": "markdown",
   "id": "f070215e",
   "metadata": {
    "papermill": {
     "duration": 0.200534,
     "end_time": "2021-10-19T17:38:28.324427",
     "exception": false,
     "start_time": "2021-10-19T17:38:28.123893",
     "status": "completed"
    },
    "tags": []
   },
   "source": [
    "### Mache aus 'Aircraft: Number of engines?' eine numerische Spalte"
   ]
  },
  {
   "cell_type": "code",
   "execution_count": 121,
   "id": "9f3a2333",
   "metadata": {
    "execution": {
     "iopub.execute_input": "2021-10-19T17:38:28.732949Z",
     "iopub.status.busy": "2021-10-19T17:38:28.732260Z",
     "iopub.status.idle": "2021-10-19T17:38:28.744114Z",
     "shell.execute_reply": "2021-10-19T17:38:28.744659Z",
     "shell.execute_reply.started": "2021-09-24T11:57:16.148334Z"
    },
    "papermill": {
     "duration": 0.218935,
     "end_time": "2021-10-19T17:38:28.744846",
     "exception": false,
     "start_time": "2021-10-19T17:38:28.525911",
     "status": "completed"
    },
    "tags": []
   },
   "outputs": [],
   "source": [
    "df_test['Aircraft: Number of engines?'] = df_test['Aircraft: Number of engines?'].astype('int64')"
   ]
  },
  {
   "cell_type": "code",
   "execution_count": 122,
   "id": "7fd0374c",
   "metadata": {
    "execution": {
     "iopub.execute_input": "2021-10-19T17:38:29.169901Z",
     "iopub.status.busy": "2021-10-19T17:38:29.169258Z",
     "iopub.status.idle": "2021-10-19T17:38:29.178395Z",
     "shell.execute_reply": "2021-10-19T17:38:29.178975Z",
     "shell.execute_reply.started": "2021-09-24T11:57:16.165363Z"
    },
    "papermill": {
     "duration": 0.221003,
     "end_time": "2021-10-19T17:38:29.179152",
     "exception": false,
     "start_time": "2021-10-19T17:38:28.958149",
     "status": "completed"
    },
    "tags": []
   },
   "outputs": [],
   "source": [
    "categorical_features = df_test.select_dtypes(exclude=['int64', 'float64']).columns.values"
   ]
  },
  {
   "cell_type": "code",
   "execution_count": 123,
   "id": "bbf90306",
   "metadata": {
    "execution": {
     "iopub.execute_input": "2021-10-19T17:38:29.634590Z",
     "iopub.status.busy": "2021-10-19T17:38:29.633963Z",
     "iopub.status.idle": "2021-10-19T17:38:29.694116Z",
     "shell.execute_reply": "2021-10-19T17:38:29.693558Z",
     "shell.execute_reply.started": "2021-09-24T11:57:16.182455Z"
    },
    "papermill": {
     "duration": 0.265319,
     "end_time": "2021-10-19T17:38:29.694272",
     "exception": false,
     "start_time": "2021-10-19T17:38:29.428953",
     "status": "completed"
    },
    "tags": []
   },
   "outputs": [],
   "source": [
    "for feature in categorical_features:\n",
    "    df_test[feature] = pd.factorize(df_test[feature], sort=True)[0]+1"
   ]
  },
  {
   "cell_type": "markdown",
   "id": "ed03046b",
   "metadata": {
    "papermill": {
     "duration": 0.210089,
     "end_time": "2021-10-19T17:38:30.125526",
     "exception": false,
     "start_time": "2021-10-19T17:38:29.915437",
     "status": "completed"
    },
    "tags": []
   },
   "source": [
    "### Berechne die Korrelationsmatrix\n",
    "\n",
    "### Bemerkung:\n",
    "Sinnvoller wäres eine One-Hot-Kategoriesierung für die kategorischen Merkmale einzusetzen. Grundsätzlich machbar, aber die resultierende 90x90 Matrix ist für Menschen nur schwer auszulesen und zu visualisieren. Viel Informationsgewinn wird damit auch nicht erzielt. (Wurde testweise erprobt)"
   ]
  },
  {
   "cell_type": "code",
   "execution_count": 124,
   "id": "f1fdd433",
   "metadata": {
    "execution": {
     "iopub.execute_input": "2021-10-19T17:38:30.536939Z",
     "iopub.status.busy": "2021-10-19T17:38:30.536279Z",
     "iopub.status.idle": "2021-10-19T17:38:30.749993Z",
     "shell.execute_reply": "2021-10-19T17:38:30.750525Z",
     "shell.execute_reply.started": "2021-09-24T11:57:16.2441Z"
    },
    "papermill": {
     "duration": 0.42312,
     "end_time": "2021-10-19T17:38:30.750708",
     "exception": false,
     "start_time": "2021-10-19T17:38:30.327588",
     "status": "completed"
    },
    "tags": []
   },
   "outputs": [
    {
     "data": {
      "text/html": [
       "<style  type=\"text/css\" >\n",
       "    #T_d5e4109e_6156_11ec_b6af_b8aeeda36d25row0_col0 {\n",
       "            background-color:  #b40426;\n",
       "            color:  #f1f1f1;\n",
       "        }    #T_d5e4109e_6156_11ec_b6af_b8aeeda36d25row0_col1 {\n",
       "            background-color:  #d1dae9;\n",
       "            color:  #000000;\n",
       "        }    #T_d5e4109e_6156_11ec_b6af_b8aeeda36d25row0_col2 {\n",
       "            background-color:  #bcd2f7;\n",
       "            color:  #000000;\n",
       "        }    #T_d5e4109e_6156_11ec_b6af_b8aeeda36d25row0_col3 {\n",
       "            background-color:  #dedcdb;\n",
       "            color:  #000000;\n",
       "        }    #T_d5e4109e_6156_11ec_b6af_b8aeeda36d25row0_col4 {\n",
       "            background-color:  #8badfd;\n",
       "            color:  #000000;\n",
       "        }    #T_d5e4109e_6156_11ec_b6af_b8aeeda36d25row0_col5 {\n",
       "            background-color:  #adc9fd;\n",
       "            color:  #000000;\n",
       "        }    #T_d5e4109e_6156_11ec_b6af_b8aeeda36d25row0_col6 {\n",
       "            background-color:  #e3d9d3;\n",
       "            color:  #000000;\n",
       "        }    #T_d5e4109e_6156_11ec_b6af_b8aeeda36d25row0_col7 {\n",
       "            background-color:  #dddcdc;\n",
       "            color:  #000000;\n",
       "        }    #T_d5e4109e_6156_11ec_b6af_b8aeeda36d25row0_col8 {\n",
       "            background-color:  #f7b79b;\n",
       "            color:  #000000;\n",
       "        }    #T_d5e4109e_6156_11ec_b6af_b8aeeda36d25row0_col9 {\n",
       "            background-color:  #adc9fd;\n",
       "            color:  #000000;\n",
       "        }    #T_d5e4109e_6156_11ec_b6af_b8aeeda36d25row0_col10 {\n",
       "            background-color:  #f18d6f;\n",
       "            color:  #000000;\n",
       "        }    #T_d5e4109e_6156_11ec_b6af_b8aeeda36d25row0_col11 {\n",
       "            background-color:  #e46e56;\n",
       "            color:  #000000;\n",
       "        }    #T_d5e4109e_6156_11ec_b6af_b8aeeda36d25row0_col12 {\n",
       "            background-color:  #f7af91;\n",
       "            color:  #000000;\n",
       "        }    #T_d5e4109e_6156_11ec_b6af_b8aeeda36d25row0_col13 {\n",
       "            background-color:  #c9d7f0;\n",
       "            color:  #000000;\n",
       "        }    #T_d5e4109e_6156_11ec_b6af_b8aeeda36d25row0_col14 {\n",
       "            background-color:  #d2dbe8;\n",
       "            color:  #000000;\n",
       "        }    #T_d5e4109e_6156_11ec_b6af_b8aeeda36d25row0_col15 {\n",
       "            background-color:  #cad8ef;\n",
       "            color:  #000000;\n",
       "        }    #T_d5e4109e_6156_11ec_b6af_b8aeeda36d25row0_col16 {\n",
       "            background-color:  #c6d6f1;\n",
       "            color:  #000000;\n",
       "        }    #T_d5e4109e_6156_11ec_b6af_b8aeeda36d25row0_col17 {\n",
       "            background-color:  #bbd1f8;\n",
       "            color:  #000000;\n",
       "        }    #T_d5e4109e_6156_11ec_b6af_b8aeeda36d25row0_col18 {\n",
       "            background-color:  #afcafc;\n",
       "            color:  #000000;\n",
       "        }    #T_d5e4109e_6156_11ec_b6af_b8aeeda36d25row0_col19 {\n",
       "            background-color:  #bed2f6;\n",
       "            color:  #000000;\n",
       "        }    #T_d5e4109e_6156_11ec_b6af_b8aeeda36d25row0_col20 {\n",
       "            background-color:  #d3dbe7;\n",
       "            color:  #000000;\n",
       "        }    #T_d5e4109e_6156_11ec_b6af_b8aeeda36d25row1_col0 {\n",
       "            background-color:  #d1dae9;\n",
       "            color:  #000000;\n",
       "        }    #T_d5e4109e_6156_11ec_b6af_b8aeeda36d25row1_col1 {\n",
       "            background-color:  #b40426;\n",
       "            color:  #f1f1f1;\n",
       "        }    #T_d5e4109e_6156_11ec_b6af_b8aeeda36d25row1_col2 {\n",
       "            background-color:  #9fbfff;\n",
       "            color:  #000000;\n",
       "        }    #T_d5e4109e_6156_11ec_b6af_b8aeeda36d25row1_col3 {\n",
       "            background-color:  #b9d0f9;\n",
       "            color:  #000000;\n",
       "        }    #T_d5e4109e_6156_11ec_b6af_b8aeeda36d25row1_col4 {\n",
       "            background-color:  #bcd2f7;\n",
       "            color:  #000000;\n",
       "        }    #T_d5e4109e_6156_11ec_b6af_b8aeeda36d25row1_col5 {\n",
       "            background-color:  #bbd1f8;\n",
       "            color:  #000000;\n",
       "        }    #T_d5e4109e_6156_11ec_b6af_b8aeeda36d25row1_col6 {\n",
       "            background-color:  #c0d4f5;\n",
       "            color:  #000000;\n",
       "        }    #T_d5e4109e_6156_11ec_b6af_b8aeeda36d25row1_col7 {\n",
       "            background-color:  #ccd9ed;\n",
       "            color:  #000000;\n",
       "        }    #T_d5e4109e_6156_11ec_b6af_b8aeeda36d25row1_col8 {\n",
       "            background-color:  #c9d7f0;\n",
       "            color:  #000000;\n",
       "        }    #T_d5e4109e_6156_11ec_b6af_b8aeeda36d25row1_col9 {\n",
       "            background-color:  #c9d7f0;\n",
       "            color:  #000000;\n",
       "        }    #T_d5e4109e_6156_11ec_b6af_b8aeeda36d25row1_col10 {\n",
       "            background-color:  #d4dbe6;\n",
       "            color:  #000000;\n",
       "        }    #T_d5e4109e_6156_11ec_b6af_b8aeeda36d25row1_col11 {\n",
       "            background-color:  #dadce0;\n",
       "            color:  #000000;\n",
       "        }    #T_d5e4109e_6156_11ec_b6af_b8aeeda36d25row1_col12 {\n",
       "            background-color:  #d2dbe8;\n",
       "            color:  #000000;\n",
       "        }    #T_d5e4109e_6156_11ec_b6af_b8aeeda36d25row1_col13 {\n",
       "            background-color:  #c7d7f0;\n",
       "            color:  #000000;\n",
       "        }    #T_d5e4109e_6156_11ec_b6af_b8aeeda36d25row1_col14 {\n",
       "            background-color:  #c7d7f0;\n",
       "            color:  #000000;\n",
       "        }    #T_d5e4109e_6156_11ec_b6af_b8aeeda36d25row1_col15 {\n",
       "            background-color:  #cad8ef;\n",
       "            color:  #000000;\n",
       "        }    #T_d5e4109e_6156_11ec_b6af_b8aeeda36d25row1_col16 {\n",
       "            background-color:  #cad8ef;\n",
       "            color:  #000000;\n",
       "        }    #T_d5e4109e_6156_11ec_b6af_b8aeeda36d25row1_col17 {\n",
       "            background-color:  #cedaeb;\n",
       "            color:  #000000;\n",
       "        }    #T_d5e4109e_6156_11ec_b6af_b8aeeda36d25row1_col18 {\n",
       "            background-color:  #cedaeb;\n",
       "            color:  #000000;\n",
       "        }    #T_d5e4109e_6156_11ec_b6af_b8aeeda36d25row1_col19 {\n",
       "            background-color:  #c1d4f4;\n",
       "            color:  #000000;\n",
       "        }    #T_d5e4109e_6156_11ec_b6af_b8aeeda36d25row1_col20 {\n",
       "            background-color:  #c7d7f0;\n",
       "            color:  #000000;\n",
       "        }    #T_d5e4109e_6156_11ec_b6af_b8aeeda36d25row2_col0 {\n",
       "            background-color:  #bcd2f7;\n",
       "            color:  #000000;\n",
       "        }    #T_d5e4109e_6156_11ec_b6af_b8aeeda36d25row2_col1 {\n",
       "            background-color:  #9fbfff;\n",
       "            color:  #000000;\n",
       "        }    #T_d5e4109e_6156_11ec_b6af_b8aeeda36d25row2_col2 {\n",
       "            background-color:  #b40426;\n",
       "            color:  #f1f1f1;\n",
       "        }    #T_d5e4109e_6156_11ec_b6af_b8aeeda36d25row2_col3 {\n",
       "            background-color:  #dbdcde;\n",
       "            color:  #000000;\n",
       "        }    #T_d5e4109e_6156_11ec_b6af_b8aeeda36d25row2_col4 {\n",
       "            background-color:  #cedaeb;\n",
       "            color:  #000000;\n",
       "        }    #T_d5e4109e_6156_11ec_b6af_b8aeeda36d25row2_col5 {\n",
       "            background-color:  #efcebd;\n",
       "            color:  #000000;\n",
       "        }    #T_d5e4109e_6156_11ec_b6af_b8aeeda36d25row2_col6 {\n",
       "            background-color:  #e4d9d2;\n",
       "            color:  #000000;\n",
       "        }    #T_d5e4109e_6156_11ec_b6af_b8aeeda36d25row2_col7 {\n",
       "            background-color:  #c5d6f2;\n",
       "            color:  #000000;\n",
       "        }    #T_d5e4109e_6156_11ec_b6af_b8aeeda36d25row2_col8 {\n",
       "            background-color:  #c7d7f0;\n",
       "            color:  #000000;\n",
       "        }    #T_d5e4109e_6156_11ec_b6af_b8aeeda36d25row2_col9 {\n",
       "            background-color:  #cdd9ec;\n",
       "            color:  #000000;\n",
       "        }    #T_d5e4109e_6156_11ec_b6af_b8aeeda36d25row2_col10 {\n",
       "            background-color:  #bed2f6;\n",
       "            color:  #000000;\n",
       "        }    #T_d5e4109e_6156_11ec_b6af_b8aeeda36d25row2_col11 {\n",
       "            background-color:  #b9d0f9;\n",
       "            color:  #000000;\n",
       "        }    #T_d5e4109e_6156_11ec_b6af_b8aeeda36d25row2_col12 {\n",
       "            background-color:  #c1d4f4;\n",
       "            color:  #000000;\n",
       "        }    #T_d5e4109e_6156_11ec_b6af_b8aeeda36d25row2_col13 {\n",
       "            background-color:  #d1dae9;\n",
       "            color:  #000000;\n",
       "        }    #T_d5e4109e_6156_11ec_b6af_b8aeeda36d25row2_col14 {\n",
       "            background-color:  #cad8ef;\n",
       "            color:  #000000;\n",
       "        }    #T_d5e4109e_6156_11ec_b6af_b8aeeda36d25row2_col15 {\n",
       "            background-color:  #c9d7f0;\n",
       "            color:  #000000;\n",
       "        }    #T_d5e4109e_6156_11ec_b6af_b8aeeda36d25row2_col16 {\n",
       "            background-color:  #c9d7f0;\n",
       "            color:  #000000;\n",
       "        }    #T_d5e4109e_6156_11ec_b6af_b8aeeda36d25row2_col17 {\n",
       "            background-color:  #c1d4f4;\n",
       "            color:  #000000;\n",
       "        }    #T_d5e4109e_6156_11ec_b6af_b8aeeda36d25row2_col18 {\n",
       "            background-color:  #bfd3f6;\n",
       "            color:  #000000;\n",
       "        }    #T_d5e4109e_6156_11ec_b6af_b8aeeda36d25row2_col19 {\n",
       "            background-color:  #d3dbe7;\n",
       "            color:  #000000;\n",
       "        }    #T_d5e4109e_6156_11ec_b6af_b8aeeda36d25row2_col20 {\n",
       "            background-color:  #cedaeb;\n",
       "            color:  #000000;\n",
       "        }    #T_d5e4109e_6156_11ec_b6af_b8aeeda36d25row3_col0 {\n",
       "            background-color:  #dedcdb;\n",
       "            color:  #000000;\n",
       "        }    #T_d5e4109e_6156_11ec_b6af_b8aeeda36d25row3_col1 {\n",
       "            background-color:  #b9d0f9;\n",
       "            color:  #000000;\n",
       "        }    #T_d5e4109e_6156_11ec_b6af_b8aeeda36d25row3_col2 {\n",
       "            background-color:  #dbdcde;\n",
       "            color:  #000000;\n",
       "        }    #T_d5e4109e_6156_11ec_b6af_b8aeeda36d25row3_col3 {\n",
       "            background-color:  #b40426;\n",
       "            color:  #f1f1f1;\n",
       "        }    #T_d5e4109e_6156_11ec_b6af_b8aeeda36d25row3_col4 {\n",
       "            background-color:  #c0d4f5;\n",
       "            color:  #000000;\n",
       "        }    #T_d5e4109e_6156_11ec_b6af_b8aeeda36d25row3_col5 {\n",
       "            background-color:  #c0d4f5;\n",
       "            color:  #000000;\n",
       "        }    #T_d5e4109e_6156_11ec_b6af_b8aeeda36d25row3_col6 {\n",
       "            background-color:  #d6dce4;\n",
       "            color:  #000000;\n",
       "        }    #T_d5e4109e_6156_11ec_b6af_b8aeeda36d25row3_col7 {\n",
       "            background-color:  #c3d5f4;\n",
       "            color:  #000000;\n",
       "        }    #T_d5e4109e_6156_11ec_b6af_b8aeeda36d25row3_col8 {\n",
       "            background-color:  #e1dad6;\n",
       "            color:  #000000;\n",
       "        }    #T_d5e4109e_6156_11ec_b6af_b8aeeda36d25row3_col9 {\n",
       "            background-color:  #bad0f8;\n",
       "            color:  #000000;\n",
       "        }    #T_d5e4109e_6156_11ec_b6af_b8aeeda36d25row3_col10 {\n",
       "            background-color:  #dadce0;\n",
       "            color:  #000000;\n",
       "        }    #T_d5e4109e_6156_11ec_b6af_b8aeeda36d25row3_col11 {\n",
       "            background-color:  #dbdcde;\n",
       "            color:  #000000;\n",
       "        }    #T_d5e4109e_6156_11ec_b6af_b8aeeda36d25row3_col12 {\n",
       "            background-color:  #d9dce1;\n",
       "            color:  #000000;\n",
       "        }    #T_d5e4109e_6156_11ec_b6af_b8aeeda36d25row3_col13 {\n",
       "            background-color:  #c4d5f3;\n",
       "            color:  #000000;\n",
       "        }    #T_d5e4109e_6156_11ec_b6af_b8aeeda36d25row3_col14 {\n",
       "            background-color:  #cbd8ee;\n",
       "            color:  #000000;\n",
       "        }    #T_d5e4109e_6156_11ec_b6af_b8aeeda36d25row3_col15 {\n",
       "            background-color:  #cad8ef;\n",
       "            color:  #000000;\n",
       "        }    #T_d5e4109e_6156_11ec_b6af_b8aeeda36d25row3_col16 {\n",
       "            background-color:  #cad8ef;\n",
       "            color:  #000000;\n",
       "        }    #T_d5e4109e_6156_11ec_b6af_b8aeeda36d25row3_col17 {\n",
       "            background-color:  #adc9fd;\n",
       "            color:  #000000;\n",
       "        }    #T_d5e4109e_6156_11ec_b6af_b8aeeda36d25row3_col18 {\n",
       "            background-color:  #cad8ef;\n",
       "            color:  #000000;\n",
       "        }    #T_d5e4109e_6156_11ec_b6af_b8aeeda36d25row3_col19 {\n",
       "            background-color:  #ccd9ed;\n",
       "            color:  #000000;\n",
       "        }    #T_d5e4109e_6156_11ec_b6af_b8aeeda36d25row3_col20 {\n",
       "            background-color:  #d5dbe5;\n",
       "            color:  #000000;\n",
       "        }    #T_d5e4109e_6156_11ec_b6af_b8aeeda36d25row4_col0 {\n",
       "            background-color:  #8badfd;\n",
       "            color:  #000000;\n",
       "        }    #T_d5e4109e_6156_11ec_b6af_b8aeeda36d25row4_col1 {\n",
       "            background-color:  #bcd2f7;\n",
       "            color:  #000000;\n",
       "        }    #T_d5e4109e_6156_11ec_b6af_b8aeeda36d25row4_col2 {\n",
       "            background-color:  #cedaeb;\n",
       "            color:  #000000;\n",
       "        }    #T_d5e4109e_6156_11ec_b6af_b8aeeda36d25row4_col3 {\n",
       "            background-color:  #c0d4f5;\n",
       "            color:  #000000;\n",
       "        }    #T_d5e4109e_6156_11ec_b6af_b8aeeda36d25row4_col4 {\n",
       "            background-color:  #b40426;\n",
       "            color:  #f1f1f1;\n",
       "        }    #T_d5e4109e_6156_11ec_b6af_b8aeeda36d25row4_col5 {\n",
       "            background-color:  #d4dbe6;\n",
       "            color:  #000000;\n",
       "        }    #T_d5e4109e_6156_11ec_b6af_b8aeeda36d25row4_col6 {\n",
       "            background-color:  #a5c3fe;\n",
       "            color:  #000000;\n",
       "        }    #T_d5e4109e_6156_11ec_b6af_b8aeeda36d25row4_col7 {\n",
       "            background-color:  #b7cff9;\n",
       "            color:  #000000;\n",
       "        }    #T_d5e4109e_6156_11ec_b6af_b8aeeda36d25row4_col8 {\n",
       "            background-color:  #8db0fe;\n",
       "            color:  #000000;\n",
       "        }    #T_d5e4109e_6156_11ec_b6af_b8aeeda36d25row4_col9 {\n",
       "            background-color:  #d3dbe7;\n",
       "            color:  #000000;\n",
       "        }    #T_d5e4109e_6156_11ec_b6af_b8aeeda36d25row4_col10 {\n",
       "            background-color:  #465ecf;\n",
       "            color:  #f1f1f1;\n",
       "        }    #T_d5e4109e_6156_11ec_b6af_b8aeeda36d25row4_col11 {\n",
       "            background-color:  #3b4cc0;\n",
       "            color:  #f1f1f1;\n",
       "        }    #T_d5e4109e_6156_11ec_b6af_b8aeeda36d25row4_col12 {\n",
       "            background-color:  #6f92f3;\n",
       "            color:  #000000;\n",
       "        }    #T_d5e4109e_6156_11ec_b6af_b8aeeda36d25row4_col13 {\n",
       "            background-color:  #c6d6f1;\n",
       "            color:  #000000;\n",
       "        }    #T_d5e4109e_6156_11ec_b6af_b8aeeda36d25row4_col14 {\n",
       "            background-color:  #c4d5f3;\n",
       "            color:  #000000;\n",
       "        }    #T_d5e4109e_6156_11ec_b6af_b8aeeda36d25row4_col15 {\n",
       "            background-color:  #c9d7f0;\n",
       "            color:  #000000;\n",
       "        }    #T_d5e4109e_6156_11ec_b6af_b8aeeda36d25row4_col16 {\n",
       "            background-color:  #ccd9ed;\n",
       "            color:  #000000;\n",
       "        }    #T_d5e4109e_6156_11ec_b6af_b8aeeda36d25row4_col17 {\n",
       "            background-color:  #d5dbe5;\n",
       "            color:  #000000;\n",
       "        }    #T_d5e4109e_6156_11ec_b6af_b8aeeda36d25row4_col18 {\n",
       "            background-color:  #dbdcde;\n",
       "            color:  #000000;\n",
       "        }    #T_d5e4109e_6156_11ec_b6af_b8aeeda36d25row4_col19 {\n",
       "            background-color:  #d3dbe7;\n",
       "            color:  #000000;\n",
       "        }    #T_d5e4109e_6156_11ec_b6af_b8aeeda36d25row4_col20 {\n",
       "            background-color:  #c6d6f1;\n",
       "            color:  #000000;\n",
       "        }    #T_d5e4109e_6156_11ec_b6af_b8aeeda36d25row5_col0 {\n",
       "            background-color:  #adc9fd;\n",
       "            color:  #000000;\n",
       "        }    #T_d5e4109e_6156_11ec_b6af_b8aeeda36d25row5_col1 {\n",
       "            background-color:  #bbd1f8;\n",
       "            color:  #000000;\n",
       "        }    #T_d5e4109e_6156_11ec_b6af_b8aeeda36d25row5_col2 {\n",
       "            background-color:  #efcebd;\n",
       "            color:  #000000;\n",
       "        }    #T_d5e4109e_6156_11ec_b6af_b8aeeda36d25row5_col3 {\n",
       "            background-color:  #c0d4f5;\n",
       "            color:  #000000;\n",
       "        }    #T_d5e4109e_6156_11ec_b6af_b8aeeda36d25row5_col4 {\n",
       "            background-color:  #d4dbe6;\n",
       "            color:  #000000;\n",
       "        }    #T_d5e4109e_6156_11ec_b6af_b8aeeda36d25row5_col5 {\n",
       "            background-color:  #b40426;\n",
       "            color:  #f1f1f1;\n",
       "        }    #T_d5e4109e_6156_11ec_b6af_b8aeeda36d25row5_col6 {\n",
       "            background-color:  #f5c1a9;\n",
       "            color:  #000000;\n",
       "        }    #T_d5e4109e_6156_11ec_b6af_b8aeeda36d25row5_col7 {\n",
       "            background-color:  #c0d4f5;\n",
       "            color:  #000000;\n",
       "        }    #T_d5e4109e_6156_11ec_b6af_b8aeeda36d25row5_col8 {\n",
       "            background-color:  #abc8fd;\n",
       "            color:  #000000;\n",
       "        }    #T_d5e4109e_6156_11ec_b6af_b8aeeda36d25row5_col9 {\n",
       "            background-color:  #dadce0;\n",
       "            color:  #000000;\n",
       "        }    #T_d5e4109e_6156_11ec_b6af_b8aeeda36d25row5_col10 {\n",
       "            background-color:  #afcafc;\n",
       "            color:  #000000;\n",
       "        }    #T_d5e4109e_6156_11ec_b6af_b8aeeda36d25row5_col11 {\n",
       "            background-color:  #adc9fd;\n",
       "            color:  #000000;\n",
       "        }    #T_d5e4109e_6156_11ec_b6af_b8aeeda36d25row5_col12 {\n",
       "            background-color:  #c5d6f2;\n",
       "            color:  #000000;\n",
       "        }    #T_d5e4109e_6156_11ec_b6af_b8aeeda36d25row5_col13 {\n",
       "            background-color:  #dbdcde;\n",
       "            color:  #000000;\n",
       "        }    #T_d5e4109e_6156_11ec_b6af_b8aeeda36d25row5_col14 {\n",
       "            background-color:  #ccd9ed;\n",
       "            color:  #000000;\n",
       "        }    #T_d5e4109e_6156_11ec_b6af_b8aeeda36d25row5_col15 {\n",
       "            background-color:  #c9d7f0;\n",
       "            color:  #000000;\n",
       "        }    #T_d5e4109e_6156_11ec_b6af_b8aeeda36d25row5_col16 {\n",
       "            background-color:  #cad8ef;\n",
       "            color:  #000000;\n",
       "        }    #T_d5e4109e_6156_11ec_b6af_b8aeeda36d25row5_col17 {\n",
       "            background-color:  #cad8ef;\n",
       "            color:  #000000;\n",
       "        }    #T_d5e4109e_6156_11ec_b6af_b8aeeda36d25row5_col18 {\n",
       "            background-color:  #cad8ef;\n",
       "            color:  #000000;\n",
       "        }    #T_d5e4109e_6156_11ec_b6af_b8aeeda36d25row5_col19 {\n",
       "            background-color:  #d2dbe8;\n",
       "            color:  #000000;\n",
       "        }    #T_d5e4109e_6156_11ec_b6af_b8aeeda36d25row5_col20 {\n",
       "            background-color:  #cedaeb;\n",
       "            color:  #000000;\n",
       "        }    #T_d5e4109e_6156_11ec_b6af_b8aeeda36d25row6_col0 {\n",
       "            background-color:  #e3d9d3;\n",
       "            color:  #000000;\n",
       "        }    #T_d5e4109e_6156_11ec_b6af_b8aeeda36d25row6_col1 {\n",
       "            background-color:  #c0d4f5;\n",
       "            color:  #000000;\n",
       "        }    #T_d5e4109e_6156_11ec_b6af_b8aeeda36d25row6_col2 {\n",
       "            background-color:  #e4d9d2;\n",
       "            color:  #000000;\n",
       "        }    #T_d5e4109e_6156_11ec_b6af_b8aeeda36d25row6_col3 {\n",
       "            background-color:  #d6dce4;\n",
       "            color:  #000000;\n",
       "        }    #T_d5e4109e_6156_11ec_b6af_b8aeeda36d25row6_col4 {\n",
       "            background-color:  #a5c3fe;\n",
       "            color:  #000000;\n",
       "        }    #T_d5e4109e_6156_11ec_b6af_b8aeeda36d25row6_col5 {\n",
       "            background-color:  #f5c1a9;\n",
       "            color:  #000000;\n",
       "        }    #T_d5e4109e_6156_11ec_b6af_b8aeeda36d25row6_col6 {\n",
       "            background-color:  #b40426;\n",
       "            color:  #f1f1f1;\n",
       "        }    #T_d5e4109e_6156_11ec_b6af_b8aeeda36d25row6_col7 {\n",
       "            background-color:  #ccd9ed;\n",
       "            color:  #000000;\n",
       "        }    #T_d5e4109e_6156_11ec_b6af_b8aeeda36d25row6_col8 {\n",
       "            background-color:  #e0dbd8;\n",
       "            color:  #000000;\n",
       "        }    #T_d5e4109e_6156_11ec_b6af_b8aeeda36d25row6_col9 {\n",
       "            background-color:  #a9c6fd;\n",
       "            color:  #000000;\n",
       "        }    #T_d5e4109e_6156_11ec_b6af_b8aeeda36d25row6_col10 {\n",
       "            background-color:  #edd1c2;\n",
       "            color:  #000000;\n",
       "        }    #T_d5e4109e_6156_11ec_b6af_b8aeeda36d25row6_col11 {\n",
       "            background-color:  #efcfbf;\n",
       "            color:  #000000;\n",
       "        }    #T_d5e4109e_6156_11ec_b6af_b8aeeda36d25row6_col12 {\n",
       "            background-color:  #efcfbf;\n",
       "            color:  #000000;\n",
       "        }    #T_d5e4109e_6156_11ec_b6af_b8aeeda36d25row6_col13 {\n",
       "            background-color:  #c0d4f5;\n",
       "            color:  #000000;\n",
       "        }    #T_d5e4109e_6156_11ec_b6af_b8aeeda36d25row6_col14 {\n",
       "            background-color:  #ccd9ed;\n",
       "            color:  #000000;\n",
       "        }    #T_d5e4109e_6156_11ec_b6af_b8aeeda36d25row6_col15 {\n",
       "            background-color:  #cad8ef;\n",
       "            color:  #000000;\n",
       "        }    #T_d5e4109e_6156_11ec_b6af_b8aeeda36d25row6_col16 {\n",
       "            background-color:  #cad8ef;\n",
       "            color:  #000000;\n",
       "        }    #T_d5e4109e_6156_11ec_b6af_b8aeeda36d25row6_col17 {\n",
       "            background-color:  #c0d4f5;\n",
       "            color:  #000000;\n",
       "        }    #T_d5e4109e_6156_11ec_b6af_b8aeeda36d25row6_col18 {\n",
       "            background-color:  #b5cdfa;\n",
       "            color:  #000000;\n",
       "        }    #T_d5e4109e_6156_11ec_b6af_b8aeeda36d25row6_col19 {\n",
       "            background-color:  #c0d4f5;\n",
       "            color:  #000000;\n",
       "        }    #T_d5e4109e_6156_11ec_b6af_b8aeeda36d25row6_col20 {\n",
       "            background-color:  #cdd9ec;\n",
       "            color:  #000000;\n",
       "        }    #T_d5e4109e_6156_11ec_b6af_b8aeeda36d25row7_col0 {\n",
       "            background-color:  #dddcdc;\n",
       "            color:  #000000;\n",
       "        }    #T_d5e4109e_6156_11ec_b6af_b8aeeda36d25row7_col1 {\n",
       "            background-color:  #ccd9ed;\n",
       "            color:  #000000;\n",
       "        }    #T_d5e4109e_6156_11ec_b6af_b8aeeda36d25row7_col2 {\n",
       "            background-color:  #c5d6f2;\n",
       "            color:  #000000;\n",
       "        }    #T_d5e4109e_6156_11ec_b6af_b8aeeda36d25row7_col3 {\n",
       "            background-color:  #c3d5f4;\n",
       "            color:  #000000;\n",
       "        }    #T_d5e4109e_6156_11ec_b6af_b8aeeda36d25row7_col4 {\n",
       "            background-color:  #b7cff9;\n",
       "            color:  #000000;\n",
       "        }    #T_d5e4109e_6156_11ec_b6af_b8aeeda36d25row7_col5 {\n",
       "            background-color:  #c0d4f5;\n",
       "            color:  #000000;\n",
       "        }    #T_d5e4109e_6156_11ec_b6af_b8aeeda36d25row7_col6 {\n",
       "            background-color:  #ccd9ed;\n",
       "            color:  #000000;\n",
       "        }    #T_d5e4109e_6156_11ec_b6af_b8aeeda36d25row7_col7 {\n",
       "            background-color:  #b40426;\n",
       "            color:  #f1f1f1;\n",
       "        }    #T_d5e4109e_6156_11ec_b6af_b8aeeda36d25row7_col8 {\n",
       "            background-color:  #f3c8b2;\n",
       "            color:  #000000;\n",
       "        }    #T_d5e4109e_6156_11ec_b6af_b8aeeda36d25row7_col9 {\n",
       "            background-color:  #ccd9ed;\n",
       "            color:  #000000;\n",
       "        }    #T_d5e4109e_6156_11ec_b6af_b8aeeda36d25row7_col10 {\n",
       "            background-color:  #dcdddd;\n",
       "            color:  #000000;\n",
       "        }    #T_d5e4109e_6156_11ec_b6af_b8aeeda36d25row7_col11 {\n",
       "            background-color:  #dddcdc;\n",
       "            color:  #000000;\n",
       "        }    #T_d5e4109e_6156_11ec_b6af_b8aeeda36d25row7_col12 {\n",
       "            background-color:  #d5dbe5;\n",
       "            color:  #000000;\n",
       "        }    #T_d5e4109e_6156_11ec_b6af_b8aeeda36d25row7_col13 {\n",
       "            background-color:  #d1dae9;\n",
       "            color:  #000000;\n",
       "        }    #T_d5e4109e_6156_11ec_b6af_b8aeeda36d25row7_col14 {\n",
       "            background-color:  #ccd9ed;\n",
       "            color:  #000000;\n",
       "        }    #T_d5e4109e_6156_11ec_b6af_b8aeeda36d25row7_col15 {\n",
       "            background-color:  #cad8ef;\n",
       "            color:  #000000;\n",
       "        }    #T_d5e4109e_6156_11ec_b6af_b8aeeda36d25row7_col16 {\n",
       "            background-color:  #c5d6f2;\n",
       "            color:  #000000;\n",
       "        }    #T_d5e4109e_6156_11ec_b6af_b8aeeda36d25row7_col17 {\n",
       "            background-color:  #c7d7f0;\n",
       "            color:  #000000;\n",
       "        }    #T_d5e4109e_6156_11ec_b6af_b8aeeda36d25row7_col18 {\n",
       "            background-color:  #c5d6f2;\n",
       "            color:  #000000;\n",
       "        }    #T_d5e4109e_6156_11ec_b6af_b8aeeda36d25row7_col19 {\n",
       "            background-color:  #cbd8ee;\n",
       "            color:  #000000;\n",
       "        }    #T_d5e4109e_6156_11ec_b6af_b8aeeda36d25row7_col20 {\n",
       "            background-color:  #cad8ef;\n",
       "            color:  #000000;\n",
       "        }    #T_d5e4109e_6156_11ec_b6af_b8aeeda36d25row8_col0 {\n",
       "            background-color:  #f7b79b;\n",
       "            color:  #000000;\n",
       "        }    #T_d5e4109e_6156_11ec_b6af_b8aeeda36d25row8_col1 {\n",
       "            background-color:  #c9d7f0;\n",
       "            color:  #000000;\n",
       "        }    #T_d5e4109e_6156_11ec_b6af_b8aeeda36d25row8_col2 {\n",
       "            background-color:  #c7d7f0;\n",
       "            color:  #000000;\n",
       "        }    #T_d5e4109e_6156_11ec_b6af_b8aeeda36d25row8_col3 {\n",
       "            background-color:  #e1dad6;\n",
       "            color:  #000000;\n",
       "        }    #T_d5e4109e_6156_11ec_b6af_b8aeeda36d25row8_col4 {\n",
       "            background-color:  #8db0fe;\n",
       "            color:  #000000;\n",
       "        }    #T_d5e4109e_6156_11ec_b6af_b8aeeda36d25row8_col5 {\n",
       "            background-color:  #abc8fd;\n",
       "            color:  #000000;\n",
       "        }    #T_d5e4109e_6156_11ec_b6af_b8aeeda36d25row8_col6 {\n",
       "            background-color:  #e0dbd8;\n",
       "            color:  #000000;\n",
       "        }    #T_d5e4109e_6156_11ec_b6af_b8aeeda36d25row8_col7 {\n",
       "            background-color:  #f3c8b2;\n",
       "            color:  #000000;\n",
       "        }    #T_d5e4109e_6156_11ec_b6af_b8aeeda36d25row8_col8 {\n",
       "            background-color:  #b40426;\n",
       "            color:  #f1f1f1;\n",
       "        }    #T_d5e4109e_6156_11ec_b6af_b8aeeda36d25row8_col9 {\n",
       "            background-color:  #afcafc;\n",
       "            color:  #000000;\n",
       "        }    #T_d5e4109e_6156_11ec_b6af_b8aeeda36d25row8_col10 {\n",
       "            background-color:  #f7b79b;\n",
       "            color:  #000000;\n",
       "        }    #T_d5e4109e_6156_11ec_b6af_b8aeeda36d25row8_col11 {\n",
       "            background-color:  #f7b194;\n",
       "            color:  #000000;\n",
       "        }    #T_d5e4109e_6156_11ec_b6af_b8aeeda36d25row8_col12 {\n",
       "            background-color:  #edd1c2;\n",
       "            color:  #000000;\n",
       "        }    #T_d5e4109e_6156_11ec_b6af_b8aeeda36d25row8_col13 {\n",
       "            background-color:  #c6d6f1;\n",
       "            color:  #000000;\n",
       "        }    #T_d5e4109e_6156_11ec_b6af_b8aeeda36d25row8_col14 {\n",
       "            background-color:  #d6dce4;\n",
       "            color:  #000000;\n",
       "        }    #T_d5e4109e_6156_11ec_b6af_b8aeeda36d25row8_col15 {\n",
       "            background-color:  #cad8ef;\n",
       "            color:  #000000;\n",
       "        }    #T_d5e4109e_6156_11ec_b6af_b8aeeda36d25row8_col16 {\n",
       "            background-color:  #c5d6f2;\n",
       "            color:  #000000;\n",
       "        }    #T_d5e4109e_6156_11ec_b6af_b8aeeda36d25row8_col17 {\n",
       "            background-color:  #bcd2f7;\n",
       "            color:  #000000;\n",
       "        }    #T_d5e4109e_6156_11ec_b6af_b8aeeda36d25row8_col18 {\n",
       "            background-color:  #aec9fc;\n",
       "            color:  #000000;\n",
       "        }    #T_d5e4109e_6156_11ec_b6af_b8aeeda36d25row8_col19 {\n",
       "            background-color:  #bfd3f6;\n",
       "            color:  #000000;\n",
       "        }    #T_d5e4109e_6156_11ec_b6af_b8aeeda36d25row8_col20 {\n",
       "            background-color:  #cfdaea;\n",
       "            color:  #000000;\n",
       "        }    #T_d5e4109e_6156_11ec_b6af_b8aeeda36d25row9_col0 {\n",
       "            background-color:  #adc9fd;\n",
       "            color:  #000000;\n",
       "        }    #T_d5e4109e_6156_11ec_b6af_b8aeeda36d25row9_col1 {\n",
       "            background-color:  #c9d7f0;\n",
       "            color:  #000000;\n",
       "        }    #T_d5e4109e_6156_11ec_b6af_b8aeeda36d25row9_col2 {\n",
       "            background-color:  #cdd9ec;\n",
       "            color:  #000000;\n",
       "        }    #T_d5e4109e_6156_11ec_b6af_b8aeeda36d25row9_col3 {\n",
       "            background-color:  #bad0f8;\n",
       "            color:  #000000;\n",
       "        }    #T_d5e4109e_6156_11ec_b6af_b8aeeda36d25row9_col4 {\n",
       "            background-color:  #d3dbe7;\n",
       "            color:  #000000;\n",
       "        }    #T_d5e4109e_6156_11ec_b6af_b8aeeda36d25row9_col5 {\n",
       "            background-color:  #dadce0;\n",
       "            color:  #000000;\n",
       "        }    #T_d5e4109e_6156_11ec_b6af_b8aeeda36d25row9_col6 {\n",
       "            background-color:  #a9c6fd;\n",
       "            color:  #000000;\n",
       "        }    #T_d5e4109e_6156_11ec_b6af_b8aeeda36d25row9_col7 {\n",
       "            background-color:  #ccd9ed;\n",
       "            color:  #000000;\n",
       "        }    #T_d5e4109e_6156_11ec_b6af_b8aeeda36d25row9_col8 {\n",
       "            background-color:  #afcafc;\n",
       "            color:  #000000;\n",
       "        }    #T_d5e4109e_6156_11ec_b6af_b8aeeda36d25row9_col9 {\n",
       "            background-color:  #b40426;\n",
       "            color:  #f1f1f1;\n",
       "        }    #T_d5e4109e_6156_11ec_b6af_b8aeeda36d25row9_col10 {\n",
       "            background-color:  #aec9fc;\n",
       "            color:  #000000;\n",
       "        }    #T_d5e4109e_6156_11ec_b6af_b8aeeda36d25row9_col11 {\n",
       "            background-color:  #abc8fd;\n",
       "            color:  #000000;\n",
       "        }    #T_d5e4109e_6156_11ec_b6af_b8aeeda36d25row9_col12 {\n",
       "            background-color:  #bbd1f8;\n",
       "            color:  #000000;\n",
       "        }    #T_d5e4109e_6156_11ec_b6af_b8aeeda36d25row9_col13 {\n",
       "            background-color:  #d8dce2;\n",
       "            color:  #000000;\n",
       "        }    #T_d5e4109e_6156_11ec_b6af_b8aeeda36d25row9_col14 {\n",
       "            background-color:  #cbd8ee;\n",
       "            color:  #000000;\n",
       "        }    #T_d5e4109e_6156_11ec_b6af_b8aeeda36d25row9_col15 {\n",
       "            background-color:  #cad8ef;\n",
       "            color:  #000000;\n",
       "        }    #T_d5e4109e_6156_11ec_b6af_b8aeeda36d25row9_col16 {\n",
       "            background-color:  #ccd9ed;\n",
       "            color:  #000000;\n",
       "        }    #T_d5e4109e_6156_11ec_b6af_b8aeeda36d25row9_col17 {\n",
       "            background-color:  #bbd1f8;\n",
       "            color:  #000000;\n",
       "        }    #T_d5e4109e_6156_11ec_b6af_b8aeeda36d25row9_col18 {\n",
       "            background-color:  #d1dae9;\n",
       "            color:  #000000;\n",
       "        }    #T_d5e4109e_6156_11ec_b6af_b8aeeda36d25row9_col19 {\n",
       "            background-color:  #dadce0;\n",
       "            color:  #000000;\n",
       "        }    #T_d5e4109e_6156_11ec_b6af_b8aeeda36d25row9_col20 {\n",
       "            background-color:  #c7d7f0;\n",
       "            color:  #000000;\n",
       "        }    #T_d5e4109e_6156_11ec_b6af_b8aeeda36d25row10_col0 {\n",
       "            background-color:  #f18d6f;\n",
       "            color:  #000000;\n",
       "        }    #T_d5e4109e_6156_11ec_b6af_b8aeeda36d25row10_col1 {\n",
       "            background-color:  #d4dbe6;\n",
       "            color:  #000000;\n",
       "        }    #T_d5e4109e_6156_11ec_b6af_b8aeeda36d25row10_col2 {\n",
       "            background-color:  #bed2f6;\n",
       "            color:  #000000;\n",
       "        }    #T_d5e4109e_6156_11ec_b6af_b8aeeda36d25row10_col3 {\n",
       "            background-color:  #dadce0;\n",
       "            color:  #000000;\n",
       "        }    #T_d5e4109e_6156_11ec_b6af_b8aeeda36d25row10_col4 {\n",
       "            background-color:  #465ecf;\n",
       "            color:  #f1f1f1;\n",
       "        }    #T_d5e4109e_6156_11ec_b6af_b8aeeda36d25row10_col5 {\n",
       "            background-color:  #afcafc;\n",
       "            color:  #000000;\n",
       "        }    #T_d5e4109e_6156_11ec_b6af_b8aeeda36d25row10_col6 {\n",
       "            background-color:  #edd1c2;\n",
       "            color:  #000000;\n",
       "        }    #T_d5e4109e_6156_11ec_b6af_b8aeeda36d25row10_col7 {\n",
       "            background-color:  #dcdddd;\n",
       "            color:  #000000;\n",
       "        }    #T_d5e4109e_6156_11ec_b6af_b8aeeda36d25row10_col8 {\n",
       "            background-color:  #f7b79b;\n",
       "            color:  #000000;\n",
       "        }    #T_d5e4109e_6156_11ec_b6af_b8aeeda36d25row10_col9 {\n",
       "            background-color:  #aec9fc;\n",
       "            color:  #000000;\n",
       "        }    #T_d5e4109e_6156_11ec_b6af_b8aeeda36d25row10_col10 {\n",
       "            background-color:  #b40426;\n",
       "            color:  #f1f1f1;\n",
       "        }    #T_d5e4109e_6156_11ec_b6af_b8aeeda36d25row10_col11 {\n",
       "            background-color:  #cd423b;\n",
       "            color:  #f1f1f1;\n",
       "        }    #T_d5e4109e_6156_11ec_b6af_b8aeeda36d25row10_col12 {\n",
       "            background-color:  #f6a283;\n",
       "            color:  #000000;\n",
       "        }    #T_d5e4109e_6156_11ec_b6af_b8aeeda36d25row10_col13 {\n",
       "            background-color:  #c0d4f5;\n",
       "            color:  #000000;\n",
       "        }    #T_d5e4109e_6156_11ec_b6af_b8aeeda36d25row10_col14 {\n",
       "            background-color:  #cfdaea;\n",
       "            color:  #000000;\n",
       "        }    #T_d5e4109e_6156_11ec_b6af_b8aeeda36d25row10_col15 {\n",
       "            background-color:  #cad8ef;\n",
       "            color:  #000000;\n",
       "        }    #T_d5e4109e_6156_11ec_b6af_b8aeeda36d25row10_col16 {\n",
       "            background-color:  #c7d7f0;\n",
       "            color:  #000000;\n",
       "        }    #T_d5e4109e_6156_11ec_b6af_b8aeeda36d25row10_col17 {\n",
       "            background-color:  #bad0f8;\n",
       "            color:  #000000;\n",
       "        }    #T_d5e4109e_6156_11ec_b6af_b8aeeda36d25row10_col18 {\n",
       "            background-color:  #aec9fc;\n",
       "            color:  #000000;\n",
       "        }    #T_d5e4109e_6156_11ec_b6af_b8aeeda36d25row10_col19 {\n",
       "            background-color:  #bbd1f8;\n",
       "            color:  #000000;\n",
       "        }    #T_d5e4109e_6156_11ec_b6af_b8aeeda36d25row10_col20 {\n",
       "            background-color:  #cfdaea;\n",
       "            color:  #000000;\n",
       "        }    #T_d5e4109e_6156_11ec_b6af_b8aeeda36d25row11_col0 {\n",
       "            background-color:  #e46e56;\n",
       "            color:  #000000;\n",
       "        }    #T_d5e4109e_6156_11ec_b6af_b8aeeda36d25row11_col1 {\n",
       "            background-color:  #dadce0;\n",
       "            color:  #000000;\n",
       "        }    #T_d5e4109e_6156_11ec_b6af_b8aeeda36d25row11_col2 {\n",
       "            background-color:  #b9d0f9;\n",
       "            color:  #000000;\n",
       "        }    #T_d5e4109e_6156_11ec_b6af_b8aeeda36d25row11_col3 {\n",
       "            background-color:  #dbdcde;\n",
       "            color:  #000000;\n",
       "        }    #T_d5e4109e_6156_11ec_b6af_b8aeeda36d25row11_col4 {\n",
       "            background-color:  #3b4cc0;\n",
       "            color:  #f1f1f1;\n",
       "        }    #T_d5e4109e_6156_11ec_b6af_b8aeeda36d25row11_col5 {\n",
       "            background-color:  #adc9fd;\n",
       "            color:  #000000;\n",
       "        }    #T_d5e4109e_6156_11ec_b6af_b8aeeda36d25row11_col6 {\n",
       "            background-color:  #efcfbf;\n",
       "            color:  #000000;\n",
       "        }    #T_d5e4109e_6156_11ec_b6af_b8aeeda36d25row11_col7 {\n",
       "            background-color:  #dddcdc;\n",
       "            color:  #000000;\n",
       "        }    #T_d5e4109e_6156_11ec_b6af_b8aeeda36d25row11_col8 {\n",
       "            background-color:  #f7b194;\n",
       "            color:  #000000;\n",
       "        }    #T_d5e4109e_6156_11ec_b6af_b8aeeda36d25row11_col9 {\n",
       "            background-color:  #abc8fd;\n",
       "            color:  #000000;\n",
       "        }    #T_d5e4109e_6156_11ec_b6af_b8aeeda36d25row11_col10 {\n",
       "            background-color:  #cd423b;\n",
       "            color:  #f1f1f1;\n",
       "        }    #T_d5e4109e_6156_11ec_b6af_b8aeeda36d25row11_col11 {\n",
       "            background-color:  #b40426;\n",
       "            color:  #f1f1f1;\n",
       "        }    #T_d5e4109e_6156_11ec_b6af_b8aeeda36d25row11_col12 {\n",
       "            background-color:  #ef886b;\n",
       "            color:  #000000;\n",
       "        }    #T_d5e4109e_6156_11ec_b6af_b8aeeda36d25row11_col13 {\n",
       "            background-color:  #cad8ef;\n",
       "            color:  #000000;\n",
       "        }    #T_d5e4109e_6156_11ec_b6af_b8aeeda36d25row11_col14 {\n",
       "            background-color:  #d1dae9;\n",
       "            color:  #000000;\n",
       "        }    #T_d5e4109e_6156_11ec_b6af_b8aeeda36d25row11_col15 {\n",
       "            background-color:  #cad8ef;\n",
       "            color:  #000000;\n",
       "        }    #T_d5e4109e_6156_11ec_b6af_b8aeeda36d25row11_col16 {\n",
       "            background-color:  #c6d6f1;\n",
       "            color:  #000000;\n",
       "        }    #T_d5e4109e_6156_11ec_b6af_b8aeeda36d25row11_col17 {\n",
       "            background-color:  #b9d0f9;\n",
       "            color:  #000000;\n",
       "        }    #T_d5e4109e_6156_11ec_b6af_b8aeeda36d25row11_col18 {\n",
       "            background-color:  #aac7fd;\n",
       "            color:  #000000;\n",
       "        }    #T_d5e4109e_6156_11ec_b6af_b8aeeda36d25row11_col19 {\n",
       "            background-color:  #bad0f8;\n",
       "            color:  #000000;\n",
       "        }    #T_d5e4109e_6156_11ec_b6af_b8aeeda36d25row11_col20 {\n",
       "            background-color:  #d1dae9;\n",
       "            color:  #000000;\n",
       "        }    #T_d5e4109e_6156_11ec_b6af_b8aeeda36d25row12_col0 {\n",
       "            background-color:  #f7af91;\n",
       "            color:  #000000;\n",
       "        }    #T_d5e4109e_6156_11ec_b6af_b8aeeda36d25row12_col1 {\n",
       "            background-color:  #d2dbe8;\n",
       "            color:  #000000;\n",
       "        }    #T_d5e4109e_6156_11ec_b6af_b8aeeda36d25row12_col2 {\n",
       "            background-color:  #c1d4f4;\n",
       "            color:  #000000;\n",
       "        }    #T_d5e4109e_6156_11ec_b6af_b8aeeda36d25row12_col3 {\n",
       "            background-color:  #d9dce1;\n",
       "            color:  #000000;\n",
       "        }    #T_d5e4109e_6156_11ec_b6af_b8aeeda36d25row12_col4 {\n",
       "            background-color:  #6f92f3;\n",
       "            color:  #000000;\n",
       "        }    #T_d5e4109e_6156_11ec_b6af_b8aeeda36d25row12_col5 {\n",
       "            background-color:  #c5d6f2;\n",
       "            color:  #000000;\n",
       "        }    #T_d5e4109e_6156_11ec_b6af_b8aeeda36d25row12_col6 {\n",
       "            background-color:  #efcfbf;\n",
       "            color:  #000000;\n",
       "        }    #T_d5e4109e_6156_11ec_b6af_b8aeeda36d25row12_col7 {\n",
       "            background-color:  #d5dbe5;\n",
       "            color:  #000000;\n",
       "        }    #T_d5e4109e_6156_11ec_b6af_b8aeeda36d25row12_col8 {\n",
       "            background-color:  #edd1c2;\n",
       "            color:  #000000;\n",
       "        }    #T_d5e4109e_6156_11ec_b6af_b8aeeda36d25row12_col9 {\n",
       "            background-color:  #bbd1f8;\n",
       "            color:  #000000;\n",
       "        }    #T_d5e4109e_6156_11ec_b6af_b8aeeda36d25row12_col10 {\n",
       "            background-color:  #f6a283;\n",
       "            color:  #000000;\n",
       "        }    #T_d5e4109e_6156_11ec_b6af_b8aeeda36d25row12_col11 {\n",
       "            background-color:  #ef886b;\n",
       "            color:  #000000;\n",
       "        }    #T_d5e4109e_6156_11ec_b6af_b8aeeda36d25row12_col12 {\n",
       "            background-color:  #b40426;\n",
       "            color:  #f1f1f1;\n",
       "        }    #T_d5e4109e_6156_11ec_b6af_b8aeeda36d25row12_col13 {\n",
       "            background-color:  #c9d7f0;\n",
       "            color:  #000000;\n",
       "        }    #T_d5e4109e_6156_11ec_b6af_b8aeeda36d25row12_col14 {\n",
       "            background-color:  #cedaeb;\n",
       "            color:  #000000;\n",
       "        }    #T_d5e4109e_6156_11ec_b6af_b8aeeda36d25row12_col15 {\n",
       "            background-color:  #cad8ef;\n",
       "            color:  #000000;\n",
       "        }    #T_d5e4109e_6156_11ec_b6af_b8aeeda36d25row12_col16 {\n",
       "            background-color:  #cad8ef;\n",
       "            color:  #000000;\n",
       "        }    #T_d5e4109e_6156_11ec_b6af_b8aeeda36d25row12_col17 {\n",
       "            background-color:  #b6cefa;\n",
       "            color:  #000000;\n",
       "        }    #T_d5e4109e_6156_11ec_b6af_b8aeeda36d25row12_col18 {\n",
       "            background-color:  #a5c3fe;\n",
       "            color:  #000000;\n",
       "        }    #T_d5e4109e_6156_11ec_b6af_b8aeeda36d25row12_col19 {\n",
       "            background-color:  #c1d4f4;\n",
       "            color:  #000000;\n",
       "        }    #T_d5e4109e_6156_11ec_b6af_b8aeeda36d25row12_col20 {\n",
       "            background-color:  #cbd8ee;\n",
       "            color:  #000000;\n",
       "        }    #T_d5e4109e_6156_11ec_b6af_b8aeeda36d25row13_col0 {\n",
       "            background-color:  #c9d7f0;\n",
       "            color:  #000000;\n",
       "        }    #T_d5e4109e_6156_11ec_b6af_b8aeeda36d25row13_col1 {\n",
       "            background-color:  #c7d7f0;\n",
       "            color:  #000000;\n",
       "        }    #T_d5e4109e_6156_11ec_b6af_b8aeeda36d25row13_col2 {\n",
       "            background-color:  #d1dae9;\n",
       "            color:  #000000;\n",
       "        }    #T_d5e4109e_6156_11ec_b6af_b8aeeda36d25row13_col3 {\n",
       "            background-color:  #c4d5f3;\n",
       "            color:  #000000;\n",
       "        }    #T_d5e4109e_6156_11ec_b6af_b8aeeda36d25row13_col4 {\n",
       "            background-color:  #c6d6f1;\n",
       "            color:  #000000;\n",
       "        }    #T_d5e4109e_6156_11ec_b6af_b8aeeda36d25row13_col5 {\n",
       "            background-color:  #dbdcde;\n",
       "            color:  #000000;\n",
       "        }    #T_d5e4109e_6156_11ec_b6af_b8aeeda36d25row13_col6 {\n",
       "            background-color:  #c0d4f5;\n",
       "            color:  #000000;\n",
       "        }    #T_d5e4109e_6156_11ec_b6af_b8aeeda36d25row13_col7 {\n",
       "            background-color:  #d1dae9;\n",
       "            color:  #000000;\n",
       "        }    #T_d5e4109e_6156_11ec_b6af_b8aeeda36d25row13_col8 {\n",
       "            background-color:  #c6d6f1;\n",
       "            color:  #000000;\n",
       "        }    #T_d5e4109e_6156_11ec_b6af_b8aeeda36d25row13_col9 {\n",
       "            background-color:  #d8dce2;\n",
       "            color:  #000000;\n",
       "        }    #T_d5e4109e_6156_11ec_b6af_b8aeeda36d25row13_col10 {\n",
       "            background-color:  #c0d4f5;\n",
       "            color:  #000000;\n",
       "        }    #T_d5e4109e_6156_11ec_b6af_b8aeeda36d25row13_col11 {\n",
       "            background-color:  #cad8ef;\n",
       "            color:  #000000;\n",
       "        }    #T_d5e4109e_6156_11ec_b6af_b8aeeda36d25row13_col12 {\n",
       "            background-color:  #c9d7f0;\n",
       "            color:  #000000;\n",
       "        }    #T_d5e4109e_6156_11ec_b6af_b8aeeda36d25row13_col13 {\n",
       "            background-color:  #b40426;\n",
       "            color:  #f1f1f1;\n",
       "        }    #T_d5e4109e_6156_11ec_b6af_b8aeeda36d25row13_col14 {\n",
       "            background-color:  #cad8ef;\n",
       "            color:  #000000;\n",
       "        }    #T_d5e4109e_6156_11ec_b6af_b8aeeda36d25row13_col15 {\n",
       "            background-color:  #c9d7f0;\n",
       "            color:  #000000;\n",
       "        }    #T_d5e4109e_6156_11ec_b6af_b8aeeda36d25row13_col16 {\n",
       "            background-color:  #cbd8ee;\n",
       "            color:  #000000;\n",
       "        }    #T_d5e4109e_6156_11ec_b6af_b8aeeda36d25row13_col17 {\n",
       "            background-color:  #c9d7f0;\n",
       "            color:  #000000;\n",
       "        }    #T_d5e4109e_6156_11ec_b6af_b8aeeda36d25row13_col18 {\n",
       "            background-color:  #c7d7f0;\n",
       "            color:  #000000;\n",
       "        }    #T_d5e4109e_6156_11ec_b6af_b8aeeda36d25row13_col19 {\n",
       "            background-color:  #ccd9ed;\n",
       "            color:  #000000;\n",
       "        }    #T_d5e4109e_6156_11ec_b6af_b8aeeda36d25row13_col20 {\n",
       "            background-color:  #ccd9ed;\n",
       "            color:  #000000;\n",
       "        }    #T_d5e4109e_6156_11ec_b6af_b8aeeda36d25row14_col0 {\n",
       "            background-color:  #d2dbe8;\n",
       "            color:  #000000;\n",
       "        }    #T_d5e4109e_6156_11ec_b6af_b8aeeda36d25row14_col1 {\n",
       "            background-color:  #c7d7f0;\n",
       "            color:  #000000;\n",
       "        }    #T_d5e4109e_6156_11ec_b6af_b8aeeda36d25row14_col2 {\n",
       "            background-color:  #cad8ef;\n",
       "            color:  #000000;\n",
       "        }    #T_d5e4109e_6156_11ec_b6af_b8aeeda36d25row14_col3 {\n",
       "            background-color:  #cbd8ee;\n",
       "            color:  #000000;\n",
       "        }    #T_d5e4109e_6156_11ec_b6af_b8aeeda36d25row14_col4 {\n",
       "            background-color:  #c4d5f3;\n",
       "            color:  #000000;\n",
       "        }    #T_d5e4109e_6156_11ec_b6af_b8aeeda36d25row14_col5 {\n",
       "            background-color:  #ccd9ed;\n",
       "            color:  #000000;\n",
       "        }    #T_d5e4109e_6156_11ec_b6af_b8aeeda36d25row14_col6 {\n",
       "            background-color:  #ccd9ed;\n",
       "            color:  #000000;\n",
       "        }    #T_d5e4109e_6156_11ec_b6af_b8aeeda36d25row14_col7 {\n",
       "            background-color:  #ccd9ed;\n",
       "            color:  #000000;\n",
       "        }    #T_d5e4109e_6156_11ec_b6af_b8aeeda36d25row14_col8 {\n",
       "            background-color:  #d6dce4;\n",
       "            color:  #000000;\n",
       "        }    #T_d5e4109e_6156_11ec_b6af_b8aeeda36d25row14_col9 {\n",
       "            background-color:  #cbd8ee;\n",
       "            color:  #000000;\n",
       "        }    #T_d5e4109e_6156_11ec_b6af_b8aeeda36d25row14_col10 {\n",
       "            background-color:  #cfdaea;\n",
       "            color:  #000000;\n",
       "        }    #T_d5e4109e_6156_11ec_b6af_b8aeeda36d25row14_col11 {\n",
       "            background-color:  #d1dae9;\n",
       "            color:  #000000;\n",
       "        }    #T_d5e4109e_6156_11ec_b6af_b8aeeda36d25row14_col12 {\n",
       "            background-color:  #cedaeb;\n",
       "            color:  #000000;\n",
       "        }    #T_d5e4109e_6156_11ec_b6af_b8aeeda36d25row14_col13 {\n",
       "            background-color:  #cad8ef;\n",
       "            color:  #000000;\n",
       "        }    #T_d5e4109e_6156_11ec_b6af_b8aeeda36d25row14_col14 {\n",
       "            background-color:  #b40426;\n",
       "            color:  #f1f1f1;\n",
       "        }    #T_d5e4109e_6156_11ec_b6af_b8aeeda36d25row14_col15 {\n",
       "            background-color:  #c1d4f4;\n",
       "            color:  #000000;\n",
       "        }    #T_d5e4109e_6156_11ec_b6af_b8aeeda36d25row14_col16 {\n",
       "            background-color:  #cad8ef;\n",
       "            color:  #000000;\n",
       "        }    #T_d5e4109e_6156_11ec_b6af_b8aeeda36d25row14_col17 {\n",
       "            background-color:  #c7d7f0;\n",
       "            color:  #000000;\n",
       "        }    #T_d5e4109e_6156_11ec_b6af_b8aeeda36d25row14_col18 {\n",
       "            background-color:  #c9d7f0;\n",
       "            color:  #000000;\n",
       "        }    #T_d5e4109e_6156_11ec_b6af_b8aeeda36d25row14_col19 {\n",
       "            background-color:  #cad8ef;\n",
       "            color:  #000000;\n",
       "        }    #T_d5e4109e_6156_11ec_b6af_b8aeeda36d25row14_col20 {\n",
       "            background-color:  #ccd9ed;\n",
       "            color:  #000000;\n",
       "        }    #T_d5e4109e_6156_11ec_b6af_b8aeeda36d25row15_col0 {\n",
       "            background-color:  #cad8ef;\n",
       "            color:  #000000;\n",
       "        }    #T_d5e4109e_6156_11ec_b6af_b8aeeda36d25row15_col1 {\n",
       "            background-color:  #cad8ef;\n",
       "            color:  #000000;\n",
       "        }    #T_d5e4109e_6156_11ec_b6af_b8aeeda36d25row15_col2 {\n",
       "            background-color:  #c9d7f0;\n",
       "            color:  #000000;\n",
       "        }    #T_d5e4109e_6156_11ec_b6af_b8aeeda36d25row15_col3 {\n",
       "            background-color:  #cad8ef;\n",
       "            color:  #000000;\n",
       "        }    #T_d5e4109e_6156_11ec_b6af_b8aeeda36d25row15_col4 {\n",
       "            background-color:  #c9d7f0;\n",
       "            color:  #000000;\n",
       "        }    #T_d5e4109e_6156_11ec_b6af_b8aeeda36d25row15_col5 {\n",
       "            background-color:  #c9d7f0;\n",
       "            color:  #000000;\n",
       "        }    #T_d5e4109e_6156_11ec_b6af_b8aeeda36d25row15_col6 {\n",
       "            background-color:  #cad8ef;\n",
       "            color:  #000000;\n",
       "        }    #T_d5e4109e_6156_11ec_b6af_b8aeeda36d25row15_col7 {\n",
       "            background-color:  #cad8ef;\n",
       "            color:  #000000;\n",
       "        }    #T_d5e4109e_6156_11ec_b6af_b8aeeda36d25row15_col8 {\n",
       "            background-color:  #cad8ef;\n",
       "            color:  #000000;\n",
       "        }    #T_d5e4109e_6156_11ec_b6af_b8aeeda36d25row15_col9 {\n",
       "            background-color:  #cad8ef;\n",
       "            color:  #000000;\n",
       "        }    #T_d5e4109e_6156_11ec_b6af_b8aeeda36d25row15_col10 {\n",
       "            background-color:  #cad8ef;\n",
       "            color:  #000000;\n",
       "        }    #T_d5e4109e_6156_11ec_b6af_b8aeeda36d25row15_col11 {\n",
       "            background-color:  #cad8ef;\n",
       "            color:  #000000;\n",
       "        }    #T_d5e4109e_6156_11ec_b6af_b8aeeda36d25row15_col12 {\n",
       "            background-color:  #cad8ef;\n",
       "            color:  #000000;\n",
       "        }    #T_d5e4109e_6156_11ec_b6af_b8aeeda36d25row15_col13 {\n",
       "            background-color:  #c9d7f0;\n",
       "            color:  #000000;\n",
       "        }    #T_d5e4109e_6156_11ec_b6af_b8aeeda36d25row15_col14 {\n",
       "            background-color:  #c1d4f4;\n",
       "            color:  #000000;\n",
       "        }    #T_d5e4109e_6156_11ec_b6af_b8aeeda36d25row15_col15 {\n",
       "            background-color:  #b40426;\n",
       "            color:  #f1f1f1;\n",
       "        }    #T_d5e4109e_6156_11ec_b6af_b8aeeda36d25row15_col16 {\n",
       "            background-color:  #cad8ef;\n",
       "            color:  #000000;\n",
       "        }    #T_d5e4109e_6156_11ec_b6af_b8aeeda36d25row15_col17 {\n",
       "            background-color:  #c7d7f0;\n",
       "            color:  #000000;\n",
       "        }    #T_d5e4109e_6156_11ec_b6af_b8aeeda36d25row15_col18 {\n",
       "            background-color:  #cad8ef;\n",
       "            color:  #000000;\n",
       "        }    #T_d5e4109e_6156_11ec_b6af_b8aeeda36d25row15_col19 {\n",
       "            background-color:  #cad8ef;\n",
       "            color:  #000000;\n",
       "        }    #T_d5e4109e_6156_11ec_b6af_b8aeeda36d25row15_col20 {\n",
       "            background-color:  #cad8ef;\n",
       "            color:  #000000;\n",
       "        }    #T_d5e4109e_6156_11ec_b6af_b8aeeda36d25row16_col0 {\n",
       "            background-color:  #c6d6f1;\n",
       "            color:  #000000;\n",
       "        }    #T_d5e4109e_6156_11ec_b6af_b8aeeda36d25row16_col1 {\n",
       "            background-color:  #cad8ef;\n",
       "            color:  #000000;\n",
       "        }    #T_d5e4109e_6156_11ec_b6af_b8aeeda36d25row16_col2 {\n",
       "            background-color:  #c9d7f0;\n",
       "            color:  #000000;\n",
       "        }    #T_d5e4109e_6156_11ec_b6af_b8aeeda36d25row16_col3 {\n",
       "            background-color:  #cad8ef;\n",
       "            color:  #000000;\n",
       "        }    #T_d5e4109e_6156_11ec_b6af_b8aeeda36d25row16_col4 {\n",
       "            background-color:  #ccd9ed;\n",
       "            color:  #000000;\n",
       "        }    #T_d5e4109e_6156_11ec_b6af_b8aeeda36d25row16_col5 {\n",
       "            background-color:  #cad8ef;\n",
       "            color:  #000000;\n",
       "        }    #T_d5e4109e_6156_11ec_b6af_b8aeeda36d25row16_col6 {\n",
       "            background-color:  #cad8ef;\n",
       "            color:  #000000;\n",
       "        }    #T_d5e4109e_6156_11ec_b6af_b8aeeda36d25row16_col7 {\n",
       "            background-color:  #c5d6f2;\n",
       "            color:  #000000;\n",
       "        }    #T_d5e4109e_6156_11ec_b6af_b8aeeda36d25row16_col8 {\n",
       "            background-color:  #c5d6f2;\n",
       "            color:  #000000;\n",
       "        }    #T_d5e4109e_6156_11ec_b6af_b8aeeda36d25row16_col9 {\n",
       "            background-color:  #ccd9ed;\n",
       "            color:  #000000;\n",
       "        }    #T_d5e4109e_6156_11ec_b6af_b8aeeda36d25row16_col10 {\n",
       "            background-color:  #c7d7f0;\n",
       "            color:  #000000;\n",
       "        }    #T_d5e4109e_6156_11ec_b6af_b8aeeda36d25row16_col11 {\n",
       "            background-color:  #c6d6f1;\n",
       "            color:  #000000;\n",
       "        }    #T_d5e4109e_6156_11ec_b6af_b8aeeda36d25row16_col12 {\n",
       "            background-color:  #cad8ef;\n",
       "            color:  #000000;\n",
       "        }    #T_d5e4109e_6156_11ec_b6af_b8aeeda36d25row16_col13 {\n",
       "            background-color:  #cbd8ee;\n",
       "            color:  #000000;\n",
       "        }    #T_d5e4109e_6156_11ec_b6af_b8aeeda36d25row16_col14 {\n",
       "            background-color:  #cad8ef;\n",
       "            color:  #000000;\n",
       "        }    #T_d5e4109e_6156_11ec_b6af_b8aeeda36d25row16_col15 {\n",
       "            background-color:  #cad8ef;\n",
       "            color:  #000000;\n",
       "        }    #T_d5e4109e_6156_11ec_b6af_b8aeeda36d25row16_col16 {\n",
       "            background-color:  #b40426;\n",
       "            color:  #f1f1f1;\n",
       "        }    #T_d5e4109e_6156_11ec_b6af_b8aeeda36d25row16_col17 {\n",
       "            background-color:  #c7d7f0;\n",
       "            color:  #000000;\n",
       "        }    #T_d5e4109e_6156_11ec_b6af_b8aeeda36d25row16_col18 {\n",
       "            background-color:  #cad8ef;\n",
       "            color:  #000000;\n",
       "        }    #T_d5e4109e_6156_11ec_b6af_b8aeeda36d25row16_col19 {\n",
       "            background-color:  #cedaeb;\n",
       "            color:  #000000;\n",
       "        }    #T_d5e4109e_6156_11ec_b6af_b8aeeda36d25row16_col20 {\n",
       "            background-color:  #c6d6f1;\n",
       "            color:  #000000;\n",
       "        }    #T_d5e4109e_6156_11ec_b6af_b8aeeda36d25row17_col0 {\n",
       "            background-color:  #bbd1f8;\n",
       "            color:  #000000;\n",
       "        }    #T_d5e4109e_6156_11ec_b6af_b8aeeda36d25row17_col1 {\n",
       "            background-color:  #cedaeb;\n",
       "            color:  #000000;\n",
       "        }    #T_d5e4109e_6156_11ec_b6af_b8aeeda36d25row17_col2 {\n",
       "            background-color:  #c1d4f4;\n",
       "            color:  #000000;\n",
       "        }    #T_d5e4109e_6156_11ec_b6af_b8aeeda36d25row17_col3 {\n",
       "            background-color:  #adc9fd;\n",
       "            color:  #000000;\n",
       "        }    #T_d5e4109e_6156_11ec_b6af_b8aeeda36d25row17_col4 {\n",
       "            background-color:  #d5dbe5;\n",
       "            color:  #000000;\n",
       "        }    #T_d5e4109e_6156_11ec_b6af_b8aeeda36d25row17_col5 {\n",
       "            background-color:  #cad8ef;\n",
       "            color:  #000000;\n",
       "        }    #T_d5e4109e_6156_11ec_b6af_b8aeeda36d25row17_col6 {\n",
       "            background-color:  #c0d4f5;\n",
       "            color:  #000000;\n",
       "        }    #T_d5e4109e_6156_11ec_b6af_b8aeeda36d25row17_col7 {\n",
       "            background-color:  #c7d7f0;\n",
       "            color:  #000000;\n",
       "        }    #T_d5e4109e_6156_11ec_b6af_b8aeeda36d25row17_col8 {\n",
       "            background-color:  #bcd2f7;\n",
       "            color:  #000000;\n",
       "        }    #T_d5e4109e_6156_11ec_b6af_b8aeeda36d25row17_col9 {\n",
       "            background-color:  #bbd1f8;\n",
       "            color:  #000000;\n",
       "        }    #T_d5e4109e_6156_11ec_b6af_b8aeeda36d25row17_col10 {\n",
       "            background-color:  #bad0f8;\n",
       "            color:  #000000;\n",
       "        }    #T_d5e4109e_6156_11ec_b6af_b8aeeda36d25row17_col11 {\n",
       "            background-color:  #b9d0f9;\n",
       "            color:  #000000;\n",
       "        }    #T_d5e4109e_6156_11ec_b6af_b8aeeda36d25row17_col12 {\n",
       "            background-color:  #b6cefa;\n",
       "            color:  #000000;\n",
       "        }    #T_d5e4109e_6156_11ec_b6af_b8aeeda36d25row17_col13 {\n",
       "            background-color:  #c9d7f0;\n",
       "            color:  #000000;\n",
       "        }    #T_d5e4109e_6156_11ec_b6af_b8aeeda36d25row17_col14 {\n",
       "            background-color:  #c7d7f0;\n",
       "            color:  #000000;\n",
       "        }    #T_d5e4109e_6156_11ec_b6af_b8aeeda36d25row17_col15 {\n",
       "            background-color:  #c7d7f0;\n",
       "            color:  #000000;\n",
       "        }    #T_d5e4109e_6156_11ec_b6af_b8aeeda36d25row17_col16 {\n",
       "            background-color:  #c7d7f0;\n",
       "            color:  #000000;\n",
       "        }    #T_d5e4109e_6156_11ec_b6af_b8aeeda36d25row17_col17 {\n",
       "            background-color:  #b40426;\n",
       "            color:  #f1f1f1;\n",
       "        }    #T_d5e4109e_6156_11ec_b6af_b8aeeda36d25row17_col18 {\n",
       "            background-color:  #e5d8d1;\n",
       "            color:  #000000;\n",
       "        }    #T_d5e4109e_6156_11ec_b6af_b8aeeda36d25row17_col19 {\n",
       "            background-color:  #c4d5f3;\n",
       "            color:  #000000;\n",
       "        }    #T_d5e4109e_6156_11ec_b6af_b8aeeda36d25row17_col20 {\n",
       "            background-color:  #d8dce2;\n",
       "            color:  #000000;\n",
       "        }    #T_d5e4109e_6156_11ec_b6af_b8aeeda36d25row18_col0 {\n",
       "            background-color:  #afcafc;\n",
       "            color:  #000000;\n",
       "        }    #T_d5e4109e_6156_11ec_b6af_b8aeeda36d25row18_col1 {\n",
       "            background-color:  #cedaeb;\n",
       "            color:  #000000;\n",
       "        }    #T_d5e4109e_6156_11ec_b6af_b8aeeda36d25row18_col2 {\n",
       "            background-color:  #bfd3f6;\n",
       "            color:  #000000;\n",
       "        }    #T_d5e4109e_6156_11ec_b6af_b8aeeda36d25row18_col3 {\n",
       "            background-color:  #cad8ef;\n",
       "            color:  #000000;\n",
       "        }    #T_d5e4109e_6156_11ec_b6af_b8aeeda36d25row18_col4 {\n",
       "            background-color:  #dbdcde;\n",
       "            color:  #000000;\n",
       "        }    #T_d5e4109e_6156_11ec_b6af_b8aeeda36d25row18_col5 {\n",
       "            background-color:  #cad8ef;\n",
       "            color:  #000000;\n",
       "        }    #T_d5e4109e_6156_11ec_b6af_b8aeeda36d25row18_col6 {\n",
       "            background-color:  #b5cdfa;\n",
       "            color:  #000000;\n",
       "        }    #T_d5e4109e_6156_11ec_b6af_b8aeeda36d25row18_col7 {\n",
       "            background-color:  #c5d6f2;\n",
       "            color:  #000000;\n",
       "        }    #T_d5e4109e_6156_11ec_b6af_b8aeeda36d25row18_col8 {\n",
       "            background-color:  #aec9fc;\n",
       "            color:  #000000;\n",
       "        }    #T_d5e4109e_6156_11ec_b6af_b8aeeda36d25row18_col9 {\n",
       "            background-color:  #d1dae9;\n",
       "            color:  #000000;\n",
       "        }    #T_d5e4109e_6156_11ec_b6af_b8aeeda36d25row18_col10 {\n",
       "            background-color:  #aec9fc;\n",
       "            color:  #000000;\n",
       "        }    #T_d5e4109e_6156_11ec_b6af_b8aeeda36d25row18_col11 {\n",
       "            background-color:  #aac7fd;\n",
       "            color:  #000000;\n",
       "        }    #T_d5e4109e_6156_11ec_b6af_b8aeeda36d25row18_col12 {\n",
       "            background-color:  #a5c3fe;\n",
       "            color:  #000000;\n",
       "        }    #T_d5e4109e_6156_11ec_b6af_b8aeeda36d25row18_col13 {\n",
       "            background-color:  #c7d7f0;\n",
       "            color:  #000000;\n",
       "        }    #T_d5e4109e_6156_11ec_b6af_b8aeeda36d25row18_col14 {\n",
       "            background-color:  #c9d7f0;\n",
       "            color:  #000000;\n",
       "        }    #T_d5e4109e_6156_11ec_b6af_b8aeeda36d25row18_col15 {\n",
       "            background-color:  #cad8ef;\n",
       "            color:  #000000;\n",
       "        }    #T_d5e4109e_6156_11ec_b6af_b8aeeda36d25row18_col16 {\n",
       "            background-color:  #cad8ef;\n",
       "            color:  #000000;\n",
       "        }    #T_d5e4109e_6156_11ec_b6af_b8aeeda36d25row18_col17 {\n",
       "            background-color:  #e5d8d1;\n",
       "            color:  #000000;\n",
       "        }    #T_d5e4109e_6156_11ec_b6af_b8aeeda36d25row18_col18 {\n",
       "            background-color:  #b40426;\n",
       "            color:  #f1f1f1;\n",
       "        }    #T_d5e4109e_6156_11ec_b6af_b8aeeda36d25row18_col19 {\n",
       "            background-color:  #b9d0f9;\n",
       "            color:  #000000;\n",
       "        }    #T_d5e4109e_6156_11ec_b6af_b8aeeda36d25row18_col20 {\n",
       "            background-color:  #d7dce3;\n",
       "            color:  #000000;\n",
       "        }    #T_d5e4109e_6156_11ec_b6af_b8aeeda36d25row19_col0 {\n",
       "            background-color:  #bed2f6;\n",
       "            color:  #000000;\n",
       "        }    #T_d5e4109e_6156_11ec_b6af_b8aeeda36d25row19_col1 {\n",
       "            background-color:  #c1d4f4;\n",
       "            color:  #000000;\n",
       "        }    #T_d5e4109e_6156_11ec_b6af_b8aeeda36d25row19_col2 {\n",
       "            background-color:  #d3dbe7;\n",
       "            color:  #000000;\n",
       "        }    #T_d5e4109e_6156_11ec_b6af_b8aeeda36d25row19_col3 {\n",
       "            background-color:  #ccd9ed;\n",
       "            color:  #000000;\n",
       "        }    #T_d5e4109e_6156_11ec_b6af_b8aeeda36d25row19_col4 {\n",
       "            background-color:  #d3dbe7;\n",
       "            color:  #000000;\n",
       "        }    #T_d5e4109e_6156_11ec_b6af_b8aeeda36d25row19_col5 {\n",
       "            background-color:  #d2dbe8;\n",
       "            color:  #000000;\n",
       "        }    #T_d5e4109e_6156_11ec_b6af_b8aeeda36d25row19_col6 {\n",
       "            background-color:  #c0d4f5;\n",
       "            color:  #000000;\n",
       "        }    #T_d5e4109e_6156_11ec_b6af_b8aeeda36d25row19_col7 {\n",
       "            background-color:  #cbd8ee;\n",
       "            color:  #000000;\n",
       "        }    #T_d5e4109e_6156_11ec_b6af_b8aeeda36d25row19_col8 {\n",
       "            background-color:  #bfd3f6;\n",
       "            color:  #000000;\n",
       "        }    #T_d5e4109e_6156_11ec_b6af_b8aeeda36d25row19_col9 {\n",
       "            background-color:  #dadce0;\n",
       "            color:  #000000;\n",
       "        }    #T_d5e4109e_6156_11ec_b6af_b8aeeda36d25row19_col10 {\n",
       "            background-color:  #bbd1f8;\n",
       "            color:  #000000;\n",
       "        }    #T_d5e4109e_6156_11ec_b6af_b8aeeda36d25row19_col11 {\n",
       "            background-color:  #bad0f8;\n",
       "            color:  #000000;\n",
       "        }    #T_d5e4109e_6156_11ec_b6af_b8aeeda36d25row19_col12 {\n",
       "            background-color:  #c1d4f4;\n",
       "            color:  #000000;\n",
       "        }    #T_d5e4109e_6156_11ec_b6af_b8aeeda36d25row19_col13 {\n",
       "            background-color:  #ccd9ed;\n",
       "            color:  #000000;\n",
       "        }    #T_d5e4109e_6156_11ec_b6af_b8aeeda36d25row19_col14 {\n",
       "            background-color:  #cad8ef;\n",
       "            color:  #000000;\n",
       "        }    #T_d5e4109e_6156_11ec_b6af_b8aeeda36d25row19_col15 {\n",
       "            background-color:  #cad8ef;\n",
       "            color:  #000000;\n",
       "        }    #T_d5e4109e_6156_11ec_b6af_b8aeeda36d25row19_col16 {\n",
       "            background-color:  #cedaeb;\n",
       "            color:  #000000;\n",
       "        }    #T_d5e4109e_6156_11ec_b6af_b8aeeda36d25row19_col17 {\n",
       "            background-color:  #c4d5f3;\n",
       "            color:  #000000;\n",
       "        }    #T_d5e4109e_6156_11ec_b6af_b8aeeda36d25row19_col18 {\n",
       "            background-color:  #b9d0f9;\n",
       "            color:  #000000;\n",
       "        }    #T_d5e4109e_6156_11ec_b6af_b8aeeda36d25row19_col19 {\n",
       "            background-color:  #b40426;\n",
       "            color:  #f1f1f1;\n",
       "        }    #T_d5e4109e_6156_11ec_b6af_b8aeeda36d25row19_col20 {\n",
       "            background-color:  #cfdaea;\n",
       "            color:  #000000;\n",
       "        }    #T_d5e4109e_6156_11ec_b6af_b8aeeda36d25row20_col0 {\n",
       "            background-color:  #d3dbe7;\n",
       "            color:  #000000;\n",
       "        }    #T_d5e4109e_6156_11ec_b6af_b8aeeda36d25row20_col1 {\n",
       "            background-color:  #c7d7f0;\n",
       "            color:  #000000;\n",
       "        }    #T_d5e4109e_6156_11ec_b6af_b8aeeda36d25row20_col2 {\n",
       "            background-color:  #cedaeb;\n",
       "            color:  #000000;\n",
       "        }    #T_d5e4109e_6156_11ec_b6af_b8aeeda36d25row20_col3 {\n",
       "            background-color:  #d5dbe5;\n",
       "            color:  #000000;\n",
       "        }    #T_d5e4109e_6156_11ec_b6af_b8aeeda36d25row20_col4 {\n",
       "            background-color:  #c6d6f1;\n",
       "            color:  #000000;\n",
       "        }    #T_d5e4109e_6156_11ec_b6af_b8aeeda36d25row20_col5 {\n",
       "            background-color:  #cedaeb;\n",
       "            color:  #000000;\n",
       "        }    #T_d5e4109e_6156_11ec_b6af_b8aeeda36d25row20_col6 {\n",
       "            background-color:  #cdd9ec;\n",
       "            color:  #000000;\n",
       "        }    #T_d5e4109e_6156_11ec_b6af_b8aeeda36d25row20_col7 {\n",
       "            background-color:  #cad8ef;\n",
       "            color:  #000000;\n",
       "        }    #T_d5e4109e_6156_11ec_b6af_b8aeeda36d25row20_col8 {\n",
       "            background-color:  #cfdaea;\n",
       "            color:  #000000;\n",
       "        }    #T_d5e4109e_6156_11ec_b6af_b8aeeda36d25row20_col9 {\n",
       "            background-color:  #c7d7f0;\n",
       "            color:  #000000;\n",
       "        }    #T_d5e4109e_6156_11ec_b6af_b8aeeda36d25row20_col10 {\n",
       "            background-color:  #cfdaea;\n",
       "            color:  #000000;\n",
       "        }    #T_d5e4109e_6156_11ec_b6af_b8aeeda36d25row20_col11 {\n",
       "            background-color:  #d1dae9;\n",
       "            color:  #000000;\n",
       "        }    #T_d5e4109e_6156_11ec_b6af_b8aeeda36d25row20_col12 {\n",
       "            background-color:  #cbd8ee;\n",
       "            color:  #000000;\n",
       "        }    #T_d5e4109e_6156_11ec_b6af_b8aeeda36d25row20_col13 {\n",
       "            background-color:  #ccd9ed;\n",
       "            color:  #000000;\n",
       "        }    #T_d5e4109e_6156_11ec_b6af_b8aeeda36d25row20_col14 {\n",
       "            background-color:  #ccd9ed;\n",
       "            color:  #000000;\n",
       "        }    #T_d5e4109e_6156_11ec_b6af_b8aeeda36d25row20_col15 {\n",
       "            background-color:  #cad8ef;\n",
       "            color:  #000000;\n",
       "        }    #T_d5e4109e_6156_11ec_b6af_b8aeeda36d25row20_col16 {\n",
       "            background-color:  #c6d6f1;\n",
       "            color:  #000000;\n",
       "        }    #T_d5e4109e_6156_11ec_b6af_b8aeeda36d25row20_col17 {\n",
       "            background-color:  #d8dce2;\n",
       "            color:  #000000;\n",
       "        }    #T_d5e4109e_6156_11ec_b6af_b8aeeda36d25row20_col18 {\n",
       "            background-color:  #d7dce3;\n",
       "            color:  #000000;\n",
       "        }    #T_d5e4109e_6156_11ec_b6af_b8aeeda36d25row20_col19 {\n",
       "            background-color:  #cfdaea;\n",
       "            color:  #000000;\n",
       "        }    #T_d5e4109e_6156_11ec_b6af_b8aeeda36d25row20_col20 {\n",
       "            background-color:  #b40426;\n",
       "            color:  #f1f1f1;\n",
       "        }</style><table id=\"T_d5e4109e_6156_11ec_b6af_b8aeeda36d25\" ><thead>    <tr>        <th class=\"blank level0\" ></th>        <th class=\"col_heading level0 col0\" >Altitude bin</th>        <th class=\"col_heading level0 col1\" >Effect: Impact to flight</th>        <th class=\"col_heading level0 col2\" >Effect: Indicated Damage</th>        <th class=\"col_heading level0 col3\" >Aircraft: Number of engines?</th>        <th class=\"col_heading level0 col4\" >When: Phase of flight</th>        <th class=\"col_heading level0 col5\" >Wildlife: Size</th>        <th class=\"col_heading level0 col6\" >Wildlife: Species</th>        <th class=\"col_heading level0 col7\" >When: Time (HHMM)</th>        <th class=\"col_heading level0 col8\" >When: Time of day</th>        <th class=\"col_heading level0 col9\" >Pilot warned of birds or wildlife?</th>        <th class=\"col_heading level0 col10\" >Miles from airport</th>        <th class=\"col_heading level0 col11\" >Feet above ground</th>        <th class=\"col_heading level0 col12\" >Speed (IAS) in knots</th>        <th class=\"col_heading level0 col13\" >FlightDateYear</th>        <th class=\"col_heading level0 col14\" >FlightDateMonth</th>        <th class=\"col_heading level0 col15\" >FlightDateDay</th>        <th class=\"col_heading level0 col16\" >FlightDateWeekday</th>        <th class=\"col_heading level0 col17\" >Airport: Type</th>        <th class=\"col_heading level0 col18\" >Aircraft: ModelClass</th>        <th class=\"col_heading level0 col19\" >Aircraft: OperatorClass</th>        <th class=\"col_heading level0 col20\" >Origin Class</th>    </tr></thead><tbody>\n",
       "                <tr>\n",
       "                        <th id=\"T_d5e4109e_6156_11ec_b6af_b8aeeda36d25level0_row0\" class=\"row_heading level0 row0\" >Altitude bin</th>\n",
       "                        <td id=\"T_d5e4109e_6156_11ec_b6af_b8aeeda36d25row0_col0\" class=\"data row0 col0\" >1</td>\n",
       "                        <td id=\"T_d5e4109e_6156_11ec_b6af_b8aeeda36d25row0_col1\" class=\"data row0 col1\" >0.0405107</td>\n",
       "                        <td id=\"T_d5e4109e_6156_11ec_b6af_b8aeeda36d25row0_col2\" class=\"data row0 col2\" >-0.0749318</td>\n",
       "                        <td id=\"T_d5e4109e_6156_11ec_b6af_b8aeeda36d25row0_col3\" class=\"data row0 col3\" >0.133982</td>\n",
       "                        <td id=\"T_d5e4109e_6156_11ec_b6af_b8aeeda36d25row0_col4\" class=\"data row0 col4\" >-0.328278</td>\n",
       "                        <td id=\"T_d5e4109e_6156_11ec_b6af_b8aeeda36d25row0_col5\" class=\"data row0 col5\" >-0.158927</td>\n",
       "                        <td id=\"T_d5e4109e_6156_11ec_b6af_b8aeeda36d25row0_col6\" class=\"data row0 col6\" >0.16512</td>\n",
       "                        <td id=\"T_d5e4109e_6156_11ec_b6af_b8aeeda36d25row0_col7\" class=\"data row0 col7\" >0.127592</td>\n",
       "                        <td id=\"T_d5e4109e_6156_11ec_b6af_b8aeeda36d25row0_col8\" class=\"data row0 col8\" >0.420516</td>\n",
       "                        <td id=\"T_d5e4109e_6156_11ec_b6af_b8aeeda36d25row0_col9\" class=\"data row0 col9\" >-0.158719</td>\n",
       "                        <td id=\"T_d5e4109e_6156_11ec_b6af_b8aeeda36d25row0_col10\" class=\"data row0 col10\" >0.61273</td>\n",
       "                        <td id=\"T_d5e4109e_6156_11ec_b6af_b8aeeda36d25row0_col11\" class=\"data row0 col11\" >0.728514</td>\n",
       "                        <td id=\"T_d5e4109e_6156_11ec_b6af_b8aeeda36d25row0_col12\" class=\"data row0 col12\" >0.464373</td>\n",
       "                        <td id=\"T_d5e4109e_6156_11ec_b6af_b8aeeda36d25row0_col13\" class=\"data row0 col13\" >-0.00526844</td>\n",
       "                        <td id=\"T_d5e4109e_6156_11ec_b6af_b8aeeda36d25row0_col14\" class=\"data row0 col14\" >0.0505255</td>\n",
       "                        <td id=\"T_d5e4109e_6156_11ec_b6af_b8aeeda36d25row0_col15\" class=\"data row0 col15\" >0.00429694</td>\n",
       "                        <td id=\"T_d5e4109e_6156_11ec_b6af_b8aeeda36d25row0_col16\" class=\"data row0 col16\" >-0.0160635</td>\n",
       "                        <td id=\"T_d5e4109e_6156_11ec_b6af_b8aeeda36d25row0_col17\" class=\"data row0 col17\" >-0.0828409</td>\n",
       "                        <td id=\"T_d5e4109e_6156_11ec_b6af_b8aeeda36d25row0_col18\" class=\"data row0 col18\" >-0.142257</td>\n",
       "                        <td id=\"T_d5e4109e_6156_11ec_b6af_b8aeeda36d25row0_col19\" class=\"data row0 col19\" >-0.0675802</td>\n",
       "                        <td id=\"T_d5e4109e_6156_11ec_b6af_b8aeeda36d25row0_col20\" class=\"data row0 col20\" >0.0557207</td>\n",
       "            </tr>\n",
       "            <tr>\n",
       "                        <th id=\"T_d5e4109e_6156_11ec_b6af_b8aeeda36d25level0_row1\" class=\"row_heading level0 row1\" >Effect: Impact to flight</th>\n",
       "                        <td id=\"T_d5e4109e_6156_11ec_b6af_b8aeeda36d25row1_col0\" class=\"data row1 col0\" >0.0405107</td>\n",
       "                        <td id=\"T_d5e4109e_6156_11ec_b6af_b8aeeda36d25row1_col1\" class=\"data row1 col1\" >1</td>\n",
       "                        <td id=\"T_d5e4109e_6156_11ec_b6af_b8aeeda36d25row1_col2\" class=\"data row1 col2\" >-0.225217</td>\n",
       "                        <td id=\"T_d5e4109e_6156_11ec_b6af_b8aeeda36d25row1_col3\" class=\"data row1 col3\" >-0.094157</td>\n",
       "                        <td id=\"T_d5e4109e_6156_11ec_b6af_b8aeeda36d25row1_col4\" class=\"data row1 col4\" >-0.075415</td>\n",
       "                        <td id=\"T_d5e4109e_6156_11ec_b6af_b8aeeda36d25row1_col5\" class=\"data row1 col5\" >-0.0776908</td>\n",
       "                        <td id=\"T_d5e4109e_6156_11ec_b6af_b8aeeda36d25row1_col6\" class=\"data row1 col6\" >-0.0542633</td>\n",
       "                        <td id=\"T_d5e4109e_6156_11ec_b6af_b8aeeda36d25row1_col7\" class=\"data row1 col7\" >0.0184813</td>\n",
       "                        <td id=\"T_d5e4109e_6156_11ec_b6af_b8aeeda36d25row1_col8\" class=\"data row1 col8\" >-0.00274286</td>\n",
       "                        <td id=\"T_d5e4109e_6156_11ec_b6af_b8aeeda36d25row1_col9\" class=\"data row1 col9\" >-0.0068688</td>\n",
       "                        <td id=\"T_d5e4109e_6156_11ec_b6af_b8aeeda36d25row1_col10\" class=\"data row1 col10\" >0.0652235</td>\n",
       "                        <td id=\"T_d5e4109e_6156_11ec_b6af_b8aeeda36d25row1_col11\" class=\"data row1 col11\" >0.107635</td>\n",
       "                        <td id=\"T_d5e4109e_6156_11ec_b6af_b8aeeda36d25row1_col12\" class=\"data row1 col12\" >0.0468509</td>\n",
       "                        <td id=\"T_d5e4109e_6156_11ec_b6af_b8aeeda36d25row1_col13\" class=\"data row1 col13\" >-0.0123767</td>\n",
       "                        <td id=\"T_d5e4109e_6156_11ec_b6af_b8aeeda36d25row1_col14\" class=\"data row1 col14\" >-0.0101547</td>\n",
       "                        <td id=\"T_d5e4109e_6156_11ec_b6af_b8aeeda36d25row1_col15\" class=\"data row1 col15\" >0.00467233</td>\n",
       "                        <td id=\"T_d5e4109e_6156_11ec_b6af_b8aeeda36d25row1_col16\" class=\"data row1 col16\" >-0.00135124</td>\n",
       "                        <td id=\"T_d5e4109e_6156_11ec_b6af_b8aeeda36d25row1_col17\" class=\"data row1 col17\" >0.0285458</td>\n",
       "                        <td id=\"T_d5e4109e_6156_11ec_b6af_b8aeeda36d25row1_col18\" class=\"data row1 col18\" >0.0317455</td>\n",
       "                        <td id=\"T_d5e4109e_6156_11ec_b6af_b8aeeda36d25row1_col19\" class=\"data row1 col19\" >-0.0431363</td>\n",
       "                        <td id=\"T_d5e4109e_6156_11ec_b6af_b8aeeda36d25row1_col20\" class=\"data row1 col20\" >-0.0110598</td>\n",
       "            </tr>\n",
       "            <tr>\n",
       "                        <th id=\"T_d5e4109e_6156_11ec_b6af_b8aeeda36d25level0_row2\" class=\"row_heading level0 row2\" >Effect: Indicated Damage</th>\n",
       "                        <td id=\"T_d5e4109e_6156_11ec_b6af_b8aeeda36d25row2_col0\" class=\"data row2 col0\" >-0.0749318</td>\n",
       "                        <td id=\"T_d5e4109e_6156_11ec_b6af_b8aeeda36d25row2_col1\" class=\"data row2 col1\" >-0.225217</td>\n",
       "                        <td id=\"T_d5e4109e_6156_11ec_b6af_b8aeeda36d25row2_col2\" class=\"data row2 col2\" >1</td>\n",
       "                        <td id=\"T_d5e4109e_6156_11ec_b6af_b8aeeda36d25row2_col3\" class=\"data row2 col3\" >0.114542</td>\n",
       "                        <td id=\"T_d5e4109e_6156_11ec_b6af_b8aeeda36d25row2_col4\" class=\"data row2 col4\" >0.032256</td>\n",
       "                        <td id=\"T_d5e4109e_6156_11ec_b6af_b8aeeda36d25row2_col5\" class=\"data row2 col5\" >0.267774</td>\n",
       "                        <td id=\"T_d5e4109e_6156_11ec_b6af_b8aeeda36d25row2_col6\" class=\"data row2 col6\" >0.174117</td>\n",
       "                        <td id=\"T_d5e4109e_6156_11ec_b6af_b8aeeda36d25row2_col7\" class=\"data row2 col7\" >-0.0263202</td>\n",
       "                        <td id=\"T_d5e4109e_6156_11ec_b6af_b8aeeda36d25row2_col8\" class=\"data row2 col8\" >-0.0140108</td>\n",
       "                        <td id=\"T_d5e4109e_6156_11ec_b6af_b8aeeda36d25row2_col9\" class=\"data row2 col9\" >0.0232166</td>\n",
       "                        <td id=\"T_d5e4109e_6156_11ec_b6af_b8aeeda36d25row2_col10\" class=\"data row2 col10\" >-0.0689697</td>\n",
       "                        <td id=\"T_d5e4109e_6156_11ec_b6af_b8aeeda36d25row2_col11\" class=\"data row2 col11\" >-0.0933189</td>\n",
       "                        <td id=\"T_d5e4109e_6156_11ec_b6af_b8aeeda36d25row2_col12\" class=\"data row2 col12\" >-0.0478846</td>\n",
       "                        <td id=\"T_d5e4109e_6156_11ec_b6af_b8aeeda36d25row2_col13\" class=\"data row2 col13\" >0.0433686</td>\n",
       "                        <td id=\"T_d5e4109e_6156_11ec_b6af_b8aeeda36d25row2_col14\" class=\"data row2 col14\" >0.00402717</td>\n",
       "                        <td id=\"T_d5e4109e_6156_11ec_b6af_b8aeeda36d25row2_col15\" class=\"data row2 col15\" >-0.003664</td>\n",
       "                        <td id=\"T_d5e4109e_6156_11ec_b6af_b8aeeda36d25row2_col16\" class=\"data row2 col16\" >-0.00232988</td>\n",
       "                        <td id=\"T_d5e4109e_6156_11ec_b6af_b8aeeda36d25row2_col17\" class=\"data row2 col17\" >-0.047201</td>\n",
       "                        <td id=\"T_d5e4109e_6156_11ec_b6af_b8aeeda36d25row2_col18\" class=\"data row2 col18\" >-0.0617164</td>\n",
       "                        <td id=\"T_d5e4109e_6156_11ec_b6af_b8aeeda36d25row2_col19\" class=\"data row2 col19\" >0.0593051</td>\n",
       "                        <td id=\"T_d5e4109e_6156_11ec_b6af_b8aeeda36d25row2_col20\" class=\"data row2 col20\" >0.0268752</td>\n",
       "            </tr>\n",
       "            <tr>\n",
       "                        <th id=\"T_d5e4109e_6156_11ec_b6af_b8aeeda36d25level0_row3\" class=\"row_heading level0 row3\" >Aircraft: Number of engines?</th>\n",
       "                        <td id=\"T_d5e4109e_6156_11ec_b6af_b8aeeda36d25row3_col0\" class=\"data row3 col0\" >0.133982</td>\n",
       "                        <td id=\"T_d5e4109e_6156_11ec_b6af_b8aeeda36d25row3_col1\" class=\"data row3 col1\" >-0.094157</td>\n",
       "                        <td id=\"T_d5e4109e_6156_11ec_b6af_b8aeeda36d25row3_col2\" class=\"data row3 col2\" >0.114542</td>\n",
       "                        <td id=\"T_d5e4109e_6156_11ec_b6af_b8aeeda36d25row3_col3\" class=\"data row3 col3\" >1</td>\n",
       "                        <td id=\"T_d5e4109e_6156_11ec_b6af_b8aeeda36d25row3_col4\" class=\"data row3 col4\" >-0.0511917</td>\n",
       "                        <td id=\"T_d5e4109e_6156_11ec_b6af_b8aeeda36d25row3_col5\" class=\"data row3 col5\" >-0.0544315</td>\n",
       "                        <td id=\"T_d5e4109e_6156_11ec_b6af_b8aeeda36d25row3_col6\" class=\"data row3 col6\" >0.0764254</td>\n",
       "                        <td id=\"T_d5e4109e_6156_11ec_b6af_b8aeeda36d25row3_col7\" class=\"data row3 col7\" >-0.0396409</td>\n",
       "                        <td id=\"T_d5e4109e_6156_11ec_b6af_b8aeeda36d25row3_col8\" class=\"data row3 col8\" >0.155057</td>\n",
       "                        <td id=\"T_d5e4109e_6156_11ec_b6af_b8aeeda36d25row3_col9\" class=\"data row3 col9\" >-0.0853711</td>\n",
       "                        <td id=\"T_d5e4109e_6156_11ec_b6af_b8aeeda36d25row3_col10\" class=\"data row3 col10\" >0.103601</td>\n",
       "                        <td id=\"T_d5e4109e_6156_11ec_b6af_b8aeeda36d25row3_col11\" class=\"data row3 col11\" >0.113715</td>\n",
       "                        <td id=\"T_d5e4109e_6156_11ec_b6af_b8aeeda36d25row3_col12\" class=\"data row3 col12\" >0.0993801</td>\n",
       "                        <td id=\"T_d5e4109e_6156_11ec_b6af_b8aeeda36d25row3_col13\" class=\"data row3 col13\" >-0.0299075</td>\n",
       "                        <td id=\"T_d5e4109e_6156_11ec_b6af_b8aeeda36d25row3_col14\" class=\"data row3 col14\" >0.0084238</td>\n",
       "                        <td id=\"T_d5e4109e_6156_11ec_b6af_b8aeeda36d25row3_col15\" class=\"data row3 col15\" >0.000424139</td>\n",
       "                        <td id=\"T_d5e4109e_6156_11ec_b6af_b8aeeda36d25row3_col16\" class=\"data row3 col16\" >-0.00136717</td>\n",
       "                        <td id=\"T_d5e4109e_6156_11ec_b6af_b8aeeda36d25row3_col17\" class=\"data row3 col17\" >-0.156358</td>\n",
       "                        <td id=\"T_d5e4109e_6156_11ec_b6af_b8aeeda36d25row3_col18\" class=\"data row3 col18\" >0.00363186</td>\n",
       "                        <td id=\"T_d5e4109e_6156_11ec_b6af_b8aeeda36d25row3_col19\" class=\"data row3 col19\" >0.0169962</td>\n",
       "                        <td id=\"T_d5e4109e_6156_11ec_b6af_b8aeeda36d25row3_col20\" class=\"data row3 col20\" >0.0671829</td>\n",
       "            </tr>\n",
       "            <tr>\n",
       "                        <th id=\"T_d5e4109e_6156_11ec_b6af_b8aeeda36d25level0_row4\" class=\"row_heading level0 row4\" >When: Phase of flight</th>\n",
       "                        <td id=\"T_d5e4109e_6156_11ec_b6af_b8aeeda36d25row4_col0\" class=\"data row4 col0\" >-0.328278</td>\n",
       "                        <td id=\"T_d5e4109e_6156_11ec_b6af_b8aeeda36d25row4_col1\" class=\"data row4 col1\" >-0.075415</td>\n",
       "                        <td id=\"T_d5e4109e_6156_11ec_b6af_b8aeeda36d25row4_col2\" class=\"data row4 col2\" >0.032256</td>\n",
       "                        <td id=\"T_d5e4109e_6156_11ec_b6af_b8aeeda36d25row4_col3\" class=\"data row4 col3\" >-0.0511917</td>\n",
       "                        <td id=\"T_d5e4109e_6156_11ec_b6af_b8aeeda36d25row4_col4\" class=\"data row4 col4\" >1</td>\n",
       "                        <td id=\"T_d5e4109e_6156_11ec_b6af_b8aeeda36d25row4_col5\" class=\"data row4 col5\" >0.0640098</td>\n",
       "                        <td id=\"T_d5e4109e_6156_11ec_b6af_b8aeeda36d25row4_col6\" class=\"data row4 col6\" >-0.197946</td>\n",
       "                        <td id=\"T_d5e4109e_6156_11ec_b6af_b8aeeda36d25row4_col7\" class=\"data row4 col7\" >-0.103471</td>\n",
       "                        <td id=\"T_d5e4109e_6156_11ec_b6af_b8aeeda36d25row4_col8\" class=\"data row4 col8\" >-0.312837</td>\n",
       "                        <td id=\"T_d5e4109e_6156_11ec_b6af_b8aeeda36d25row4_col9\" class=\"data row4 col9\" >0.0586107</td>\n",
       "                        <td id=\"T_d5e4109e_6156_11ec_b6af_b8aeeda36d25row4_col10\" class=\"data row4 col10\" >-0.685023</td>\n",
       "                        <td id=\"T_d5e4109e_6156_11ec_b6af_b8aeeda36d25row4_col11\" class=\"data row4 col11\" >-0.75629</td>\n",
       "                        <td id=\"T_d5e4109e_6156_11ec_b6af_b8aeeda36d25row4_col12\" class=\"data row4 col12\" >-0.466113</td>\n",
       "                        <td id=\"T_d5e4109e_6156_11ec_b6af_b8aeeda36d25row4_col13\" class=\"data row4 col13\" >-0.0213308</td>\n",
       "                        <td id=\"T_d5e4109e_6156_11ec_b6af_b8aeeda36d25row4_col14\" class=\"data row4 col14\" >-0.0329508</td>\n",
       "                        <td id=\"T_d5e4109e_6156_11ec_b6af_b8aeeda36d25row4_col15\" class=\"data row4 col15\" >-0.00243711</td>\n",
       "                        <td id=\"T_d5e4109e_6156_11ec_b6af_b8aeeda36d25row4_col16\" class=\"data row4 col16\" >0.0161591</td>\n",
       "                        <td id=\"T_d5e4109e_6156_11ec_b6af_b8aeeda36d25row4_col17\" class=\"data row4 col17\" >0.0714449</td>\n",
       "                        <td id=\"T_d5e4109e_6156_11ec_b6af_b8aeeda36d25row4_col18\" class=\"data row4 col18\" >0.114663</td>\n",
       "                        <td id=\"T_d5e4109e_6156_11ec_b6af_b8aeeda36d25row4_col19\" class=\"data row4 col19\" >0.0590693</td>\n",
       "                        <td id=\"T_d5e4109e_6156_11ec_b6af_b8aeeda36d25row4_col20\" class=\"data row4 col20\" >-0.0194278</td>\n",
       "            </tr>\n",
       "            <tr>\n",
       "                        <th id=\"T_d5e4109e_6156_11ec_b6af_b8aeeda36d25level0_row5\" class=\"row_heading level0 row5\" >Wildlife: Size</th>\n",
       "                        <td id=\"T_d5e4109e_6156_11ec_b6af_b8aeeda36d25row5_col0\" class=\"data row5 col0\" >-0.158927</td>\n",
       "                        <td id=\"T_d5e4109e_6156_11ec_b6af_b8aeeda36d25row5_col1\" class=\"data row5 col1\" >-0.0776908</td>\n",
       "                        <td id=\"T_d5e4109e_6156_11ec_b6af_b8aeeda36d25row5_col2\" class=\"data row5 col2\" >0.267774</td>\n",
       "                        <td id=\"T_d5e4109e_6156_11ec_b6af_b8aeeda36d25row5_col3\" class=\"data row5 col3\" >-0.0544315</td>\n",
       "                        <td id=\"T_d5e4109e_6156_11ec_b6af_b8aeeda36d25row5_col4\" class=\"data row5 col4\" >0.0640098</td>\n",
       "                        <td id=\"T_d5e4109e_6156_11ec_b6af_b8aeeda36d25row5_col5\" class=\"data row5 col5\" >1</td>\n",
       "                        <td id=\"T_d5e4109e_6156_11ec_b6af_b8aeeda36d25row5_col6\" class=\"data row5 col6\" >0.360099</td>\n",
       "                        <td id=\"T_d5e4109e_6156_11ec_b6af_b8aeeda36d25row5_col7\" class=\"data row5 col7\" >-0.0514378</td>\n",
       "                        <td id=\"T_d5e4109e_6156_11ec_b6af_b8aeeda36d25row5_col8\" class=\"data row5 col8\" >-0.160535</td>\n",
       "                        <td id=\"T_d5e4109e_6156_11ec_b6af_b8aeeda36d25row5_col9\" class=\"data row5 col9\" >0.101305</td>\n",
       "                        <td id=\"T_d5e4109e_6156_11ec_b6af_b8aeeda36d25row5_col10\" class=\"data row5 col10\" >-0.144986</td>\n",
       "                        <td id=\"T_d5e4109e_6156_11ec_b6af_b8aeeda36d25row5_col11\" class=\"data row5 col11\" >-0.157307</td>\n",
       "                        <td id=\"T_d5e4109e_6156_11ec_b6af_b8aeeda36d25row5_col12\" class=\"data row5 col12\" >-0.0240297</td>\n",
       "                        <td id=\"T_d5e4109e_6156_11ec_b6af_b8aeeda36d25row5_col13\" class=\"data row5 col13\" >0.112429</td>\n",
       "                        <td id=\"T_d5e4109e_6156_11ec_b6af_b8aeeda36d25row5_col14\" class=\"data row5 col14\" >0.0185323</td>\n",
       "                        <td id=\"T_d5e4109e_6156_11ec_b6af_b8aeeda36d25row5_col15\" class=\"data row5 col15\" >-0.00317602</td>\n",
       "                        <td id=\"T_d5e4109e_6156_11ec_b6af_b8aeeda36d25row5_col16\" class=\"data row5 col16\" >0.000592411</td>\n",
       "                        <td id=\"T_d5e4109e_6156_11ec_b6af_b8aeeda36d25row5_col17\" class=\"data row5 col17\" >0.00159121</td>\n",
       "                        <td id=\"T_d5e4109e_6156_11ec_b6af_b8aeeda36d25row5_col18\" class=\"data row5 col18\" >0.00220921</td>\n",
       "                        <td id=\"T_d5e4109e_6156_11ec_b6af_b8aeeda36d25row5_col19\" class=\"data row5 col19\" >0.0472934</td>\n",
       "                        <td id=\"T_d5e4109e_6156_11ec_b6af_b8aeeda36d25row5_col20\" class=\"data row5 col20\" >0.0290811</td>\n",
       "            </tr>\n",
       "            <tr>\n",
       "                        <th id=\"T_d5e4109e_6156_11ec_b6af_b8aeeda36d25level0_row6\" class=\"row_heading level0 row6\" >Wildlife: Species</th>\n",
       "                        <td id=\"T_d5e4109e_6156_11ec_b6af_b8aeeda36d25row6_col0\" class=\"data row6 col0\" >0.16512</td>\n",
       "                        <td id=\"T_d5e4109e_6156_11ec_b6af_b8aeeda36d25row6_col1\" class=\"data row6 col1\" >-0.0542633</td>\n",
       "                        <td id=\"T_d5e4109e_6156_11ec_b6af_b8aeeda36d25row6_col2\" class=\"data row6 col2\" >0.174117</td>\n",
       "                        <td id=\"T_d5e4109e_6156_11ec_b6af_b8aeeda36d25row6_col3\" class=\"data row6 col3\" >0.0764254</td>\n",
       "                        <td id=\"T_d5e4109e_6156_11ec_b6af_b8aeeda36d25row6_col4\" class=\"data row6 col4\" >-0.197946</td>\n",
       "                        <td id=\"T_d5e4109e_6156_11ec_b6af_b8aeeda36d25row6_col5\" class=\"data row6 col5\" >0.360099</td>\n",
       "                        <td id=\"T_d5e4109e_6156_11ec_b6af_b8aeeda36d25row6_col6\" class=\"data row6 col6\" >1</td>\n",
       "                        <td id=\"T_d5e4109e_6156_11ec_b6af_b8aeeda36d25row6_col7\" class=\"data row6 col7\" >0.0183424</td>\n",
       "                        <td id=\"T_d5e4109e_6156_11ec_b6af_b8aeeda36d25row6_col8\" class=\"data row6 col8\" >0.148998</td>\n",
       "                        <td id=\"T_d5e4109e_6156_11ec_b6af_b8aeeda36d25row6_col9\" class=\"data row6 col9\" >-0.173845</td>\n",
       "                        <td id=\"T_d5e4109e_6156_11ec_b6af_b8aeeda36d25row6_col10\" class=\"data row6 col10\" >0.250009</td>\n",
       "                        <td id=\"T_d5e4109e_6156_11ec_b6af_b8aeeda36d25row6_col11\" class=\"data row6 col11\" >0.263266</td>\n",
       "                        <td id=\"T_d5e4109e_6156_11ec_b6af_b8aeeda36d25row6_col12\" class=\"data row6 col12\" >0.265495</td>\n",
       "                        <td id=\"T_d5e4109e_6156_11ec_b6af_b8aeeda36d25row6_col13\" class=\"data row6 col13\" >-0.0506477</td>\n",
       "                        <td id=\"T_d5e4109e_6156_11ec_b6af_b8aeeda36d25row6_col14\" class=\"data row6 col14\" >0.0154654</td>\n",
       "                        <td id=\"T_d5e4109e_6156_11ec_b6af_b8aeeda36d25row6_col15\" class=\"data row6 col15\" >0.00285251</td>\n",
       "                        <td id=\"T_d5e4109e_6156_11ec_b6af_b8aeeda36d25row6_col16\" class=\"data row6 col16\" >0.00163852</td>\n",
       "                        <td id=\"T_d5e4109e_6156_11ec_b6af_b8aeeda36d25row6_col17\" class=\"data row6 col17\" >-0.052065</td>\n",
       "                        <td id=\"T_d5e4109e_6156_11ec_b6af_b8aeeda36d25row6_col18\" class=\"data row6 col18\" >-0.112026</td>\n",
       "                        <td id=\"T_d5e4109e_6156_11ec_b6af_b8aeeda36d25row6_col19\" class=\"data row6 col19\" >-0.0534439</td>\n",
       "                        <td id=\"T_d5e4109e_6156_11ec_b6af_b8aeeda36d25row6_col20\" class=\"data row6 col20\" >0.0254804</td>\n",
       "            </tr>\n",
       "            <tr>\n",
       "                        <th id=\"T_d5e4109e_6156_11ec_b6af_b8aeeda36d25level0_row7\" class=\"row_heading level0 row7\" >When: Time (HHMM)</th>\n",
       "                        <td id=\"T_d5e4109e_6156_11ec_b6af_b8aeeda36d25row7_col0\" class=\"data row7 col0\" >0.127592</td>\n",
       "                        <td id=\"T_d5e4109e_6156_11ec_b6af_b8aeeda36d25row7_col1\" class=\"data row7 col1\" >0.0184813</td>\n",
       "                        <td id=\"T_d5e4109e_6156_11ec_b6af_b8aeeda36d25row7_col2\" class=\"data row7 col2\" >-0.0263202</td>\n",
       "                        <td id=\"T_d5e4109e_6156_11ec_b6af_b8aeeda36d25row7_col3\" class=\"data row7 col3\" >-0.0396409</td>\n",
       "                        <td id=\"T_d5e4109e_6156_11ec_b6af_b8aeeda36d25row7_col4\" class=\"data row7 col4\" >-0.103471</td>\n",
       "                        <td id=\"T_d5e4109e_6156_11ec_b6af_b8aeeda36d25row7_col5\" class=\"data row7 col5\" >-0.0514378</td>\n",
       "                        <td id=\"T_d5e4109e_6156_11ec_b6af_b8aeeda36d25row7_col6\" class=\"data row7 col6\" >0.0183424</td>\n",
       "                        <td id=\"T_d5e4109e_6156_11ec_b6af_b8aeeda36d25row7_col7\" class=\"data row7 col7\" >1</td>\n",
       "                        <td id=\"T_d5e4109e_6156_11ec_b6af_b8aeeda36d25row7_col8\" class=\"data row7 col8\" >0.317672</td>\n",
       "                        <td id=\"T_d5e4109e_6156_11ec_b6af_b8aeeda36d25row7_col9\" class=\"data row7 col9\" >0.0126346</td>\n",
       "                        <td id=\"T_d5e4109e_6156_11ec_b6af_b8aeeda36d25row7_col10\" class=\"data row7 col10\" >0.120452</td>\n",
       "                        <td id=\"T_d5e4109e_6156_11ec_b6af_b8aeeda36d25row7_col11\" class=\"data row7 col11\" >0.126913</td>\n",
       "                        <td id=\"T_d5e4109e_6156_11ec_b6af_b8aeeda36d25row7_col12\" class=\"data row7 col12\" >0.0683612</td>\n",
       "                        <td id=\"T_d5e4109e_6156_11ec_b6af_b8aeeda36d25row7_col13\" class=\"data row7 col13\" >0.0428309</td>\n",
       "                        <td id=\"T_d5e4109e_6156_11ec_b6af_b8aeeda36d25row7_col14\" class=\"data row7 col14\" >0.0176718</td>\n",
       "                        <td id=\"T_d5e4109e_6156_11ec_b6af_b8aeeda36d25row7_col15\" class=\"data row7 col15\" >0.00455126</td>\n",
       "                        <td id=\"T_d5e4109e_6156_11ec_b6af_b8aeeda36d25row7_col16\" class=\"data row7 col16\" >-0.023314</td>\n",
       "                        <td id=\"T_d5e4109e_6156_11ec_b6af_b8aeeda36d25row7_col17\" class=\"data row7 col17\" >-0.0132071</td>\n",
       "                        <td id=\"T_d5e4109e_6156_11ec_b6af_b8aeeda36d25row7_col18\" class=\"data row7 col18\" >-0.0250754</td>\n",
       "                        <td id=\"T_d5e4109e_6156_11ec_b6af_b8aeeda36d25row7_col19\" class=\"data row7 col19\" >0.00848083</td>\n",
       "                        <td id=\"T_d5e4109e_6156_11ec_b6af_b8aeeda36d25row7_col20\" class=\"data row7 col20\" >0.00128297</td>\n",
       "            </tr>\n",
       "            <tr>\n",
       "                        <th id=\"T_d5e4109e_6156_11ec_b6af_b8aeeda36d25level0_row8\" class=\"row_heading level0 row8\" >When: Time of day</th>\n",
       "                        <td id=\"T_d5e4109e_6156_11ec_b6af_b8aeeda36d25row8_col0\" class=\"data row8 col0\" >0.420516</td>\n",
       "                        <td id=\"T_d5e4109e_6156_11ec_b6af_b8aeeda36d25row8_col1\" class=\"data row8 col1\" >-0.00274286</td>\n",
       "                        <td id=\"T_d5e4109e_6156_11ec_b6af_b8aeeda36d25row8_col2\" class=\"data row8 col2\" >-0.0140108</td>\n",
       "                        <td id=\"T_d5e4109e_6156_11ec_b6af_b8aeeda36d25row8_col3\" class=\"data row8 col3\" >0.155057</td>\n",
       "                        <td id=\"T_d5e4109e_6156_11ec_b6af_b8aeeda36d25row8_col4\" class=\"data row8 col4\" >-0.312837</td>\n",
       "                        <td id=\"T_d5e4109e_6156_11ec_b6af_b8aeeda36d25row8_col5\" class=\"data row8 col5\" >-0.160535</td>\n",
       "                        <td id=\"T_d5e4109e_6156_11ec_b6af_b8aeeda36d25row8_col6\" class=\"data row8 col6\" >0.148998</td>\n",
       "                        <td id=\"T_d5e4109e_6156_11ec_b6af_b8aeeda36d25row8_col7\" class=\"data row8 col7\" >0.317672</td>\n",
       "                        <td id=\"T_d5e4109e_6156_11ec_b6af_b8aeeda36d25row8_col8\" class=\"data row8 col8\" >1</td>\n",
       "                        <td id=\"T_d5e4109e_6156_11ec_b6af_b8aeeda36d25row8_col9\" class=\"data row8 col9\" >-0.145148</td>\n",
       "                        <td id=\"T_d5e4109e_6156_11ec_b6af_b8aeeda36d25row8_col10\" class=\"data row8 col10\" >0.420946</td>\n",
       "                        <td id=\"T_d5e4109e_6156_11ec_b6af_b8aeeda36d25row8_col11\" class=\"data row8 col11\" >0.446397</td>\n",
       "                        <td id=\"T_d5e4109e_6156_11ec_b6af_b8aeeda36d25row8_col12\" class=\"data row8 col12\" >0.250517</td>\n",
       "                        <td id=\"T_d5e4109e_6156_11ec_b6af_b8aeeda36d25row8_col13\" class=\"data row8 col13\" >-0.0169367</td>\n",
       "                        <td id=\"T_d5e4109e_6156_11ec_b6af_b8aeeda36d25row8_col14\" class=\"data row8 col14\" >0.0753388</td>\n",
       "                        <td id=\"T_d5e4109e_6156_11ec_b6af_b8aeeda36d25row8_col15\" class=\"data row8 col15\" >0.00308426</td>\n",
       "                        <td id=\"T_d5e4109e_6156_11ec_b6af_b8aeeda36d25row8_col16\" class=\"data row8 col16\" >-0.0235489</td>\n",
       "                        <td id=\"T_d5e4109e_6156_11ec_b6af_b8aeeda36d25row8_col17\" class=\"data row8 col17\" >-0.0714203</td>\n",
       "                        <td id=\"T_d5e4109e_6156_11ec_b6af_b8aeeda36d25row8_col18\" class=\"data row8 col18\" >-0.147858</td>\n",
       "                        <td id=\"T_d5e4109e_6156_11ec_b6af_b8aeeda36d25row8_col19\" class=\"data row8 col19\" >-0.0617257</td>\n",
       "                        <td id=\"T_d5e4109e_6156_11ec_b6af_b8aeeda36d25row8_col20\" class=\"data row8 col20\" >0.0375405</td>\n",
       "            </tr>\n",
       "            <tr>\n",
       "                        <th id=\"T_d5e4109e_6156_11ec_b6af_b8aeeda36d25level0_row9\" class=\"row_heading level0 row9\" >Pilot warned of birds or wildlife?</th>\n",
       "                        <td id=\"T_d5e4109e_6156_11ec_b6af_b8aeeda36d25row9_col0\" class=\"data row9 col0\" >-0.158719</td>\n",
       "                        <td id=\"T_d5e4109e_6156_11ec_b6af_b8aeeda36d25row9_col1\" class=\"data row9 col1\" >-0.0068688</td>\n",
       "                        <td id=\"T_d5e4109e_6156_11ec_b6af_b8aeeda36d25row9_col2\" class=\"data row9 col2\" >0.0232166</td>\n",
       "                        <td id=\"T_d5e4109e_6156_11ec_b6af_b8aeeda36d25row9_col3\" class=\"data row9 col3\" >-0.0853711</td>\n",
       "                        <td id=\"T_d5e4109e_6156_11ec_b6af_b8aeeda36d25row9_col4\" class=\"data row9 col4\" >0.0586107</td>\n",
       "                        <td id=\"T_d5e4109e_6156_11ec_b6af_b8aeeda36d25row9_col5\" class=\"data row9 col5\" >0.101305</td>\n",
       "                        <td id=\"T_d5e4109e_6156_11ec_b6af_b8aeeda36d25row9_col6\" class=\"data row9 col6\" >-0.173845</td>\n",
       "                        <td id=\"T_d5e4109e_6156_11ec_b6af_b8aeeda36d25row9_col7\" class=\"data row9 col7\" >0.0126346</td>\n",
       "                        <td id=\"T_d5e4109e_6156_11ec_b6af_b8aeeda36d25row9_col8\" class=\"data row9 col8\" >-0.145148</td>\n",
       "                        <td id=\"T_d5e4109e_6156_11ec_b6af_b8aeeda36d25row9_col9\" class=\"data row9 col9\" >1</td>\n",
       "                        <td id=\"T_d5e4109e_6156_11ec_b6af_b8aeeda36d25row9_col10\" class=\"data row9 col10\" >-0.146748</td>\n",
       "                        <td id=\"T_d5e4109e_6156_11ec_b6af_b8aeeda36d25row9_col11\" class=\"data row9 col11\" >-0.162566</td>\n",
       "                        <td id=\"T_d5e4109e_6156_11ec_b6af_b8aeeda36d25row9_col12\" class=\"data row9 col12\" >-0.0779368</td>\n",
       "                        <td id=\"T_d5e4109e_6156_11ec_b6af_b8aeeda36d25row9_col13\" class=\"data row9 col13\" >0.0935077</td>\n",
       "                        <td id=\"T_d5e4109e_6156_11ec_b6af_b8aeeda36d25row9_col14\" class=\"data row9 col14\" >0.00527871</td>\n",
       "                        <td id=\"T_d5e4109e_6156_11ec_b6af_b8aeeda36d25row9_col15\" class=\"data row9 col15\" >-0.000747708</td>\n",
       "                        <td id=\"T_d5e4109e_6156_11ec_b6af_b8aeeda36d25row9_col16\" class=\"data row9 col16\" >0.0172434</td>\n",
       "                        <td id=\"T_d5e4109e_6156_11ec_b6af_b8aeeda36d25row9_col17\" class=\"data row9 col17\" >-0.0772207</td>\n",
       "                        <td id=\"T_d5e4109e_6156_11ec_b6af_b8aeeda36d25row9_col18\" class=\"data row9 col18\" >0.0452341</td>\n",
       "                        <td id=\"T_d5e4109e_6156_11ec_b6af_b8aeeda36d25row9_col19\" class=\"data row9 col19\" >0.10736</td>\n",
       "                        <td id=\"T_d5e4109e_6156_11ec_b6af_b8aeeda36d25row9_col20\" class=\"data row9 col20\" >-0.0150538</td>\n",
       "            </tr>\n",
       "            <tr>\n",
       "                        <th id=\"T_d5e4109e_6156_11ec_b6af_b8aeeda36d25level0_row10\" class=\"row_heading level0 row10\" >Miles from airport</th>\n",
       "                        <td id=\"T_d5e4109e_6156_11ec_b6af_b8aeeda36d25row10_col0\" class=\"data row10 col0\" >0.61273</td>\n",
       "                        <td id=\"T_d5e4109e_6156_11ec_b6af_b8aeeda36d25row10_col1\" class=\"data row10 col1\" >0.0652235</td>\n",
       "                        <td id=\"T_d5e4109e_6156_11ec_b6af_b8aeeda36d25row10_col2\" class=\"data row10 col2\" >-0.0689697</td>\n",
       "                        <td id=\"T_d5e4109e_6156_11ec_b6af_b8aeeda36d25row10_col3\" class=\"data row10 col3\" >0.103601</td>\n",
       "                        <td id=\"T_d5e4109e_6156_11ec_b6af_b8aeeda36d25row10_col4\" class=\"data row10 col4\" >-0.685023</td>\n",
       "                        <td id=\"T_d5e4109e_6156_11ec_b6af_b8aeeda36d25row10_col5\" class=\"data row10 col5\" >-0.144986</td>\n",
       "                        <td id=\"T_d5e4109e_6156_11ec_b6af_b8aeeda36d25row10_col6\" class=\"data row10 col6\" >0.250009</td>\n",
       "                        <td id=\"T_d5e4109e_6156_11ec_b6af_b8aeeda36d25row10_col7\" class=\"data row10 col7\" >0.120452</td>\n",
       "                        <td id=\"T_d5e4109e_6156_11ec_b6af_b8aeeda36d25row10_col8\" class=\"data row10 col8\" >0.420946</td>\n",
       "                        <td id=\"T_d5e4109e_6156_11ec_b6af_b8aeeda36d25row10_col9\" class=\"data row10 col9\" >-0.146748</td>\n",
       "                        <td id=\"T_d5e4109e_6156_11ec_b6af_b8aeeda36d25row10_col10\" class=\"data row10 col10\" >1</td>\n",
       "                        <td id=\"T_d5e4109e_6156_11ec_b6af_b8aeeda36d25row10_col11\" class=\"data row10 col11\" >0.870559</td>\n",
       "                        <td id=\"T_d5e4109e_6156_11ec_b6af_b8aeeda36d25row10_col12\" class=\"data row10 col12\" >0.525346</td>\n",
       "                        <td id=\"T_d5e4109e_6156_11ec_b6af_b8aeeda36d25row10_col13\" class=\"data row10 col13\" >-0.049671</td>\n",
       "                        <td id=\"T_d5e4109e_6156_11ec_b6af_b8aeeda36d25row10_col14\" class=\"data row10 col14\" >0.037422</td>\n",
       "                        <td id=\"T_d5e4109e_6156_11ec_b6af_b8aeeda36d25row10_col15\" class=\"data row10 col15\" >0.00436142</td>\n",
       "                        <td id=\"T_d5e4109e_6156_11ec_b6af_b8aeeda36d25row10_col16\" class=\"data row10 col16\" >-0.0151752</td>\n",
       "                        <td id=\"T_d5e4109e_6156_11ec_b6af_b8aeeda36d25row10_col17\" class=\"data row10 col17\" >-0.0875092</td>\n",
       "                        <td id=\"T_d5e4109e_6156_11ec_b6af_b8aeeda36d25row10_col18\" class=\"data row10 col18\" >-0.151328</td>\n",
       "                        <td id=\"T_d5e4109e_6156_11ec_b6af_b8aeeda36d25row10_col19\" class=\"data row10 col19\" >-0.0812069</td>\n",
       "                        <td id=\"T_d5e4109e_6156_11ec_b6af_b8aeeda36d25row10_col20\" class=\"data row10 col20\" >0.0379698</td>\n",
       "            </tr>\n",
       "            <tr>\n",
       "                        <th id=\"T_d5e4109e_6156_11ec_b6af_b8aeeda36d25level0_row11\" class=\"row_heading level0 row11\" >Feet above ground</th>\n",
       "                        <td id=\"T_d5e4109e_6156_11ec_b6af_b8aeeda36d25row11_col0\" class=\"data row11 col0\" >0.728514</td>\n",
       "                        <td id=\"T_d5e4109e_6156_11ec_b6af_b8aeeda36d25row11_col1\" class=\"data row11 col1\" >0.107635</td>\n",
       "                        <td id=\"T_d5e4109e_6156_11ec_b6af_b8aeeda36d25row11_col2\" class=\"data row11 col2\" >-0.0933189</td>\n",
       "                        <td id=\"T_d5e4109e_6156_11ec_b6af_b8aeeda36d25row11_col3\" class=\"data row11 col3\" >0.113715</td>\n",
       "                        <td id=\"T_d5e4109e_6156_11ec_b6af_b8aeeda36d25row11_col4\" class=\"data row11 col4\" >-0.75629</td>\n",
       "                        <td id=\"T_d5e4109e_6156_11ec_b6af_b8aeeda36d25row11_col5\" class=\"data row11 col5\" >-0.157307</td>\n",
       "                        <td id=\"T_d5e4109e_6156_11ec_b6af_b8aeeda36d25row11_col6\" class=\"data row11 col6\" >0.263266</td>\n",
       "                        <td id=\"T_d5e4109e_6156_11ec_b6af_b8aeeda36d25row11_col7\" class=\"data row11 col7\" >0.126913</td>\n",
       "                        <td id=\"T_d5e4109e_6156_11ec_b6af_b8aeeda36d25row11_col8\" class=\"data row11 col8\" >0.446397</td>\n",
       "                        <td id=\"T_d5e4109e_6156_11ec_b6af_b8aeeda36d25row11_col9\" class=\"data row11 col9\" >-0.162566</td>\n",
       "                        <td id=\"T_d5e4109e_6156_11ec_b6af_b8aeeda36d25row11_col10\" class=\"data row11 col10\" >0.870559</td>\n",
       "                        <td id=\"T_d5e4109e_6156_11ec_b6af_b8aeeda36d25row11_col11\" class=\"data row11 col11\" >1</td>\n",
       "                        <td id=\"T_d5e4109e_6156_11ec_b6af_b8aeeda36d25row11_col12\" class=\"data row11 col12\" >0.632766</td>\n",
       "                        <td id=\"T_d5e4109e_6156_11ec_b6af_b8aeeda36d25row11_col13\" class=\"data row11 col13\" >-0.00119731</td>\n",
       "                        <td id=\"T_d5e4109e_6156_11ec_b6af_b8aeeda36d25row11_col14\" class=\"data row11 col14\" >0.0441001</td>\n",
       "                        <td id=\"T_d5e4109e_6156_11ec_b6af_b8aeeda36d25row11_col15\" class=\"data row11 col15\" >0.00221797</td>\n",
       "                        <td id=\"T_d5e4109e_6156_11ec_b6af_b8aeeda36d25row11_col16\" class=\"data row11 col16\" >-0.0175526</td>\n",
       "                        <td id=\"T_d5e4109e_6156_11ec_b6af_b8aeeda36d25row11_col17\" class=\"data row11 col17\" >-0.0975512</td>\n",
       "                        <td id=\"T_d5e4109e_6156_11ec_b6af_b8aeeda36d25row11_col18\" class=\"data row11 col18\" >-0.171709</td>\n",
       "                        <td id=\"T_d5e4109e_6156_11ec_b6af_b8aeeda36d25row11_col19\" class=\"data row11 col19\" >-0.0854987</td>\n",
       "                        <td id=\"T_d5e4109e_6156_11ec_b6af_b8aeeda36d25row11_col20\" class=\"data row11 col20\" >0.0420002</td>\n",
       "            </tr>\n",
       "            <tr>\n",
       "                        <th id=\"T_d5e4109e_6156_11ec_b6af_b8aeeda36d25level0_row12\" class=\"row_heading level0 row12\" >Speed (IAS) in knots</th>\n",
       "                        <td id=\"T_d5e4109e_6156_11ec_b6af_b8aeeda36d25row12_col0\" class=\"data row12 col0\" >0.464373</td>\n",
       "                        <td id=\"T_d5e4109e_6156_11ec_b6af_b8aeeda36d25row12_col1\" class=\"data row12 col1\" >0.0468509</td>\n",
       "                        <td id=\"T_d5e4109e_6156_11ec_b6af_b8aeeda36d25row12_col2\" class=\"data row12 col2\" >-0.0478846</td>\n",
       "                        <td id=\"T_d5e4109e_6156_11ec_b6af_b8aeeda36d25row12_col3\" class=\"data row12 col3\" >0.0993801</td>\n",
       "                        <td id=\"T_d5e4109e_6156_11ec_b6af_b8aeeda36d25row12_col4\" class=\"data row12 col4\" >-0.466113</td>\n",
       "                        <td id=\"T_d5e4109e_6156_11ec_b6af_b8aeeda36d25row12_col5\" class=\"data row12 col5\" >-0.0240297</td>\n",
       "                        <td id=\"T_d5e4109e_6156_11ec_b6af_b8aeeda36d25row12_col6\" class=\"data row12 col6\" >0.265495</td>\n",
       "                        <td id=\"T_d5e4109e_6156_11ec_b6af_b8aeeda36d25row12_col7\" class=\"data row12 col7\" >0.0683612</td>\n",
       "                        <td id=\"T_d5e4109e_6156_11ec_b6af_b8aeeda36d25row12_col8\" class=\"data row12 col8\" >0.250517</td>\n",
       "                        <td id=\"T_d5e4109e_6156_11ec_b6af_b8aeeda36d25row12_col9\" class=\"data row12 col9\" >-0.0779368</td>\n",
       "                        <td id=\"T_d5e4109e_6156_11ec_b6af_b8aeeda36d25row12_col10\" class=\"data row12 col10\" >0.525346</td>\n",
       "                        <td id=\"T_d5e4109e_6156_11ec_b6af_b8aeeda36d25row12_col11\" class=\"data row12 col11\" >0.632766</td>\n",
       "                        <td id=\"T_d5e4109e_6156_11ec_b6af_b8aeeda36d25row12_col12\" class=\"data row12 col12\" >1</td>\n",
       "                        <td id=\"T_d5e4109e_6156_11ec_b6af_b8aeeda36d25row12_col13\" class=\"data row12 col13\" >-0.0077815</td>\n",
       "                        <td id=\"T_d5e4109e_6156_11ec_b6af_b8aeeda36d25row12_col14\" class=\"data row12 col14\" >0.026387</td>\n",
       "                        <td id=\"T_d5e4109e_6156_11ec_b6af_b8aeeda36d25row12_col15\" class=\"data row12 col15\" >0.000836747</td>\n",
       "                        <td id=\"T_d5e4109e_6156_11ec_b6af_b8aeeda36d25row12_col16\" class=\"data row12 col16\" >0.00185839</td>\n",
       "                        <td id=\"T_d5e4109e_6156_11ec_b6af_b8aeeda36d25row12_col17\" class=\"data row12 col17\" >-0.109178</td>\n",
       "                        <td id=\"T_d5e4109e_6156_11ec_b6af_b8aeeda36d25row12_col18\" class=\"data row12 col18\" >-0.194906</td>\n",
       "                        <td id=\"T_d5e4109e_6156_11ec_b6af_b8aeeda36d25row12_col19\" class=\"data row12 col19\" >-0.0481814</td>\n",
       "                        <td id=\"T_d5e4109e_6156_11ec_b6af_b8aeeda36d25row12_col20\" class=\"data row12 col20\" >0.00591092</td>\n",
       "            </tr>\n",
       "            <tr>\n",
       "                        <th id=\"T_d5e4109e_6156_11ec_b6af_b8aeeda36d25level0_row13\" class=\"row_heading level0 row13\" >FlightDateYear</th>\n",
       "                        <td id=\"T_d5e4109e_6156_11ec_b6af_b8aeeda36d25row13_col0\" class=\"data row13 col0\" >-0.00526844</td>\n",
       "                        <td id=\"T_d5e4109e_6156_11ec_b6af_b8aeeda36d25row13_col1\" class=\"data row13 col1\" >-0.0123767</td>\n",
       "                        <td id=\"T_d5e4109e_6156_11ec_b6af_b8aeeda36d25row13_col2\" class=\"data row13 col2\" >0.0433686</td>\n",
       "                        <td id=\"T_d5e4109e_6156_11ec_b6af_b8aeeda36d25row13_col3\" class=\"data row13 col3\" >-0.0299075</td>\n",
       "                        <td id=\"T_d5e4109e_6156_11ec_b6af_b8aeeda36d25row13_col4\" class=\"data row13 col4\" >-0.0213308</td>\n",
       "                        <td id=\"T_d5e4109e_6156_11ec_b6af_b8aeeda36d25row13_col5\" class=\"data row13 col5\" >0.112429</td>\n",
       "                        <td id=\"T_d5e4109e_6156_11ec_b6af_b8aeeda36d25row13_col6\" class=\"data row13 col6\" >-0.0506477</td>\n",
       "                        <td id=\"T_d5e4109e_6156_11ec_b6af_b8aeeda36d25row13_col7\" class=\"data row13 col7\" >0.0428309</td>\n",
       "                        <td id=\"T_d5e4109e_6156_11ec_b6af_b8aeeda36d25row13_col8\" class=\"data row13 col8\" >-0.0169367</td>\n",
       "                        <td id=\"T_d5e4109e_6156_11ec_b6af_b8aeeda36d25row13_col9\" class=\"data row13 col9\" >0.0935077</td>\n",
       "                        <td id=\"T_d5e4109e_6156_11ec_b6af_b8aeeda36d25row13_col10\" class=\"data row13 col10\" >-0.049671</td>\n",
       "                        <td id=\"T_d5e4109e_6156_11ec_b6af_b8aeeda36d25row13_col11\" class=\"data row13 col11\" >-0.00119731</td>\n",
       "                        <td id=\"T_d5e4109e_6156_11ec_b6af_b8aeeda36d25row13_col12\" class=\"data row13 col12\" >-0.0077815</td>\n",
       "                        <td id=\"T_d5e4109e_6156_11ec_b6af_b8aeeda36d25row13_col13\" class=\"data row13 col13\" >1</td>\n",
       "                        <td id=\"T_d5e4109e_6156_11ec_b6af_b8aeeda36d25row13_col14\" class=\"data row13 col14\" >0.000264627</td>\n",
       "                        <td id=\"T_d5e4109e_6156_11ec_b6af_b8aeeda36d25row13_col15\" class=\"data row13 col15\" >-0.00573156</td>\n",
       "                        <td id=\"T_d5e4109e_6156_11ec_b6af_b8aeeda36d25row13_col16\" class=\"data row13 col16\" >0.00534928</td>\n",
       "                        <td id=\"T_d5e4109e_6156_11ec_b6af_b8aeeda36d25row13_col17\" class=\"data row13 col17\" >-0.00620825</td>\n",
       "                        <td id=\"T_d5e4109e_6156_11ec_b6af_b8aeeda36d25row13_col18\" class=\"data row13 col18\" >-0.0120357</td>\n",
       "                        <td id=\"T_d5e4109e_6156_11ec_b6af_b8aeeda36d25row13_col19\" class=\"data row13 col19\" >0.0176116</td>\n",
       "                        <td id=\"T_d5e4109e_6156_11ec_b6af_b8aeeda36d25row13_col20\" class=\"data row13 col20\" >0.01433</td>\n",
       "            </tr>\n",
       "            <tr>\n",
       "                        <th id=\"T_d5e4109e_6156_11ec_b6af_b8aeeda36d25level0_row14\" class=\"row_heading level0 row14\" >FlightDateMonth</th>\n",
       "                        <td id=\"T_d5e4109e_6156_11ec_b6af_b8aeeda36d25row14_col0\" class=\"data row14 col0\" >0.0505255</td>\n",
       "                        <td id=\"T_d5e4109e_6156_11ec_b6af_b8aeeda36d25row14_col1\" class=\"data row14 col1\" >-0.0101547</td>\n",
       "                        <td id=\"T_d5e4109e_6156_11ec_b6af_b8aeeda36d25row14_col2\" class=\"data row14 col2\" >0.00402717</td>\n",
       "                        <td id=\"T_d5e4109e_6156_11ec_b6af_b8aeeda36d25row14_col3\" class=\"data row14 col3\" >0.0084238</td>\n",
       "                        <td id=\"T_d5e4109e_6156_11ec_b6af_b8aeeda36d25row14_col4\" class=\"data row14 col4\" >-0.0329508</td>\n",
       "                        <td id=\"T_d5e4109e_6156_11ec_b6af_b8aeeda36d25row14_col5\" class=\"data row14 col5\" >0.0185323</td>\n",
       "                        <td id=\"T_d5e4109e_6156_11ec_b6af_b8aeeda36d25row14_col6\" class=\"data row14 col6\" >0.0154654</td>\n",
       "                        <td id=\"T_d5e4109e_6156_11ec_b6af_b8aeeda36d25row14_col7\" class=\"data row14 col7\" >0.0176718</td>\n",
       "                        <td id=\"T_d5e4109e_6156_11ec_b6af_b8aeeda36d25row14_col8\" class=\"data row14 col8\" >0.0753388</td>\n",
       "                        <td id=\"T_d5e4109e_6156_11ec_b6af_b8aeeda36d25row14_col9\" class=\"data row14 col9\" >0.00527871</td>\n",
       "                        <td id=\"T_d5e4109e_6156_11ec_b6af_b8aeeda36d25row14_col10\" class=\"data row14 col10\" >0.037422</td>\n",
       "                        <td id=\"T_d5e4109e_6156_11ec_b6af_b8aeeda36d25row14_col11\" class=\"data row14 col11\" >0.0441001</td>\n",
       "                        <td id=\"T_d5e4109e_6156_11ec_b6af_b8aeeda36d25row14_col12\" class=\"data row14 col12\" >0.026387</td>\n",
       "                        <td id=\"T_d5e4109e_6156_11ec_b6af_b8aeeda36d25row14_col13\" class=\"data row14 col13\" >0.000264627</td>\n",
       "                        <td id=\"T_d5e4109e_6156_11ec_b6af_b8aeeda36d25row14_col14\" class=\"data row14 col14\" >1</td>\n",
       "                        <td id=\"T_d5e4109e_6156_11ec_b6af_b8aeeda36d25row14_col15\" class=\"data row14 col15\" >-0.0468874</td>\n",
       "                        <td id=\"T_d5e4109e_6156_11ec_b6af_b8aeeda36d25row14_col16\" class=\"data row14 col16\" >0.00376936</td>\n",
       "                        <td id=\"T_d5e4109e_6156_11ec_b6af_b8aeeda36d25row14_col17\" class=\"data row14 col17\" >-0.0132065</td>\n",
       "                        <td id=\"T_d5e4109e_6156_11ec_b6af_b8aeeda36d25row14_col18\" class=\"data row14 col18\" >-0.00315461</td>\n",
       "                        <td id=\"T_d5e4109e_6156_11ec_b6af_b8aeeda36d25row14_col19\" class=\"data row14 col19\" >-0.00135323</td>\n",
       "                        <td id=\"T_d5e4109e_6156_11ec_b6af_b8aeeda36d25row14_col20\" class=\"data row14 col20\" >0.0159603</td>\n",
       "            </tr>\n",
       "            <tr>\n",
       "                        <th id=\"T_d5e4109e_6156_11ec_b6af_b8aeeda36d25level0_row15\" class=\"row_heading level0 row15\" >FlightDateDay</th>\n",
       "                        <td id=\"T_d5e4109e_6156_11ec_b6af_b8aeeda36d25row15_col0\" class=\"data row15 col0\" >0.00429694</td>\n",
       "                        <td id=\"T_d5e4109e_6156_11ec_b6af_b8aeeda36d25row15_col1\" class=\"data row15 col1\" >0.00467233</td>\n",
       "                        <td id=\"T_d5e4109e_6156_11ec_b6af_b8aeeda36d25row15_col2\" class=\"data row15 col2\" >-0.003664</td>\n",
       "                        <td id=\"T_d5e4109e_6156_11ec_b6af_b8aeeda36d25row15_col3\" class=\"data row15 col3\" >0.000424139</td>\n",
       "                        <td id=\"T_d5e4109e_6156_11ec_b6af_b8aeeda36d25row15_col4\" class=\"data row15 col4\" >-0.00243711</td>\n",
       "                        <td id=\"T_d5e4109e_6156_11ec_b6af_b8aeeda36d25row15_col5\" class=\"data row15 col5\" >-0.00317602</td>\n",
       "                        <td id=\"T_d5e4109e_6156_11ec_b6af_b8aeeda36d25row15_col6\" class=\"data row15 col6\" >0.00285251</td>\n",
       "                        <td id=\"T_d5e4109e_6156_11ec_b6af_b8aeeda36d25row15_col7\" class=\"data row15 col7\" >0.00455126</td>\n",
       "                        <td id=\"T_d5e4109e_6156_11ec_b6af_b8aeeda36d25row15_col8\" class=\"data row15 col8\" >0.00308426</td>\n",
       "                        <td id=\"T_d5e4109e_6156_11ec_b6af_b8aeeda36d25row15_col9\" class=\"data row15 col9\" >-0.000747708</td>\n",
       "                        <td id=\"T_d5e4109e_6156_11ec_b6af_b8aeeda36d25row15_col10\" class=\"data row15 col10\" >0.00436142</td>\n",
       "                        <td id=\"T_d5e4109e_6156_11ec_b6af_b8aeeda36d25row15_col11\" class=\"data row15 col11\" >0.00221797</td>\n",
       "                        <td id=\"T_d5e4109e_6156_11ec_b6af_b8aeeda36d25row15_col12\" class=\"data row15 col12\" >0.000836747</td>\n",
       "                        <td id=\"T_d5e4109e_6156_11ec_b6af_b8aeeda36d25row15_col13\" class=\"data row15 col13\" >-0.00573156</td>\n",
       "                        <td id=\"T_d5e4109e_6156_11ec_b6af_b8aeeda36d25row15_col14\" class=\"data row15 col14\" >-0.0468874</td>\n",
       "                        <td id=\"T_d5e4109e_6156_11ec_b6af_b8aeeda36d25row15_col15\" class=\"data row15 col15\" >1</td>\n",
       "                        <td id=\"T_d5e4109e_6156_11ec_b6af_b8aeeda36d25row15_col16\" class=\"data row15 col16\" >0.0020459</td>\n",
       "                        <td id=\"T_d5e4109e_6156_11ec_b6af_b8aeeda36d25row15_col17\" class=\"data row15 col17\" >-0.00888408</td>\n",
       "                        <td id=\"T_d5e4109e_6156_11ec_b6af_b8aeeda36d25row15_col18\" class=\"data row15 col18\" >0.00461522</td>\n",
       "                        <td id=\"T_d5e4109e_6156_11ec_b6af_b8aeeda36d25row15_col19\" class=\"data row15 col19\" >-3.14766e-05</td>\n",
       "                        <td id=\"T_d5e4109e_6156_11ec_b6af_b8aeeda36d25row15_col20\" class=\"data row15 col20\" >-0.000486005</td>\n",
       "            </tr>\n",
       "            <tr>\n",
       "                        <th id=\"T_d5e4109e_6156_11ec_b6af_b8aeeda36d25level0_row16\" class=\"row_heading level0 row16\" >FlightDateWeekday</th>\n",
       "                        <td id=\"T_d5e4109e_6156_11ec_b6af_b8aeeda36d25row16_col0\" class=\"data row16 col0\" >-0.0160635</td>\n",
       "                        <td id=\"T_d5e4109e_6156_11ec_b6af_b8aeeda36d25row16_col1\" class=\"data row16 col1\" >-0.00135124</td>\n",
       "                        <td id=\"T_d5e4109e_6156_11ec_b6af_b8aeeda36d25row16_col2\" class=\"data row16 col2\" >-0.00232988</td>\n",
       "                        <td id=\"T_d5e4109e_6156_11ec_b6af_b8aeeda36d25row16_col3\" class=\"data row16 col3\" >-0.00136717</td>\n",
       "                        <td id=\"T_d5e4109e_6156_11ec_b6af_b8aeeda36d25row16_col4\" class=\"data row16 col4\" >0.0161591</td>\n",
       "                        <td id=\"T_d5e4109e_6156_11ec_b6af_b8aeeda36d25row16_col5\" class=\"data row16 col5\" >0.000592411</td>\n",
       "                        <td id=\"T_d5e4109e_6156_11ec_b6af_b8aeeda36d25row16_col6\" class=\"data row16 col6\" >0.00163852</td>\n",
       "                        <td id=\"T_d5e4109e_6156_11ec_b6af_b8aeeda36d25row16_col7\" class=\"data row16 col7\" >-0.023314</td>\n",
       "                        <td id=\"T_d5e4109e_6156_11ec_b6af_b8aeeda36d25row16_col8\" class=\"data row16 col8\" >-0.0235489</td>\n",
       "                        <td id=\"T_d5e4109e_6156_11ec_b6af_b8aeeda36d25row16_col9\" class=\"data row16 col9\" >0.0172434</td>\n",
       "                        <td id=\"T_d5e4109e_6156_11ec_b6af_b8aeeda36d25row16_col10\" class=\"data row16 col10\" >-0.0151752</td>\n",
       "                        <td id=\"T_d5e4109e_6156_11ec_b6af_b8aeeda36d25row16_col11\" class=\"data row16 col11\" >-0.0175526</td>\n",
       "                        <td id=\"T_d5e4109e_6156_11ec_b6af_b8aeeda36d25row16_col12\" class=\"data row16 col12\" >0.00185839</td>\n",
       "                        <td id=\"T_d5e4109e_6156_11ec_b6af_b8aeeda36d25row16_col13\" class=\"data row16 col13\" >0.00534928</td>\n",
       "                        <td id=\"T_d5e4109e_6156_11ec_b6af_b8aeeda36d25row16_col14\" class=\"data row16 col14\" >0.00376936</td>\n",
       "                        <td id=\"T_d5e4109e_6156_11ec_b6af_b8aeeda36d25row16_col15\" class=\"data row16 col15\" >0.0020459</td>\n",
       "                        <td id=\"T_d5e4109e_6156_11ec_b6af_b8aeeda36d25row16_col16\" class=\"data row16 col16\" >1</td>\n",
       "                        <td id=\"T_d5e4109e_6156_11ec_b6af_b8aeeda36d25row16_col17\" class=\"data row16 col17\" >-0.0131621</td>\n",
       "                        <td id=\"T_d5e4109e_6156_11ec_b6af_b8aeeda36d25row16_col18\" class=\"data row16 col18\" >0.00201793</td>\n",
       "                        <td id=\"T_d5e4109e_6156_11ec_b6af_b8aeeda36d25row16_col19\" class=\"data row16 col19\" >0.030068</td>\n",
       "                        <td id=\"T_d5e4109e_6156_11ec_b6af_b8aeeda36d25row16_col20\" class=\"data row16 col20\" >-0.0170078</td>\n",
       "            </tr>\n",
       "            <tr>\n",
       "                        <th id=\"T_d5e4109e_6156_11ec_b6af_b8aeeda36d25level0_row17\" class=\"row_heading level0 row17\" >Airport: Type</th>\n",
       "                        <td id=\"T_d5e4109e_6156_11ec_b6af_b8aeeda36d25row17_col0\" class=\"data row17 col0\" >-0.0828409</td>\n",
       "                        <td id=\"T_d5e4109e_6156_11ec_b6af_b8aeeda36d25row17_col1\" class=\"data row17 col1\" >0.0285458</td>\n",
       "                        <td id=\"T_d5e4109e_6156_11ec_b6af_b8aeeda36d25row17_col2\" class=\"data row17 col2\" >-0.047201</td>\n",
       "                        <td id=\"T_d5e4109e_6156_11ec_b6af_b8aeeda36d25row17_col3\" class=\"data row17 col3\" >-0.156358</td>\n",
       "                        <td id=\"T_d5e4109e_6156_11ec_b6af_b8aeeda36d25row17_col4\" class=\"data row17 col4\" >0.0714449</td>\n",
       "                        <td id=\"T_d5e4109e_6156_11ec_b6af_b8aeeda36d25row17_col5\" class=\"data row17 col5\" >0.00159121</td>\n",
       "                        <td id=\"T_d5e4109e_6156_11ec_b6af_b8aeeda36d25row17_col6\" class=\"data row17 col6\" >-0.052065</td>\n",
       "                        <td id=\"T_d5e4109e_6156_11ec_b6af_b8aeeda36d25row17_col7\" class=\"data row17 col7\" >-0.0132071</td>\n",
       "                        <td id=\"T_d5e4109e_6156_11ec_b6af_b8aeeda36d25row17_col8\" class=\"data row17 col8\" >-0.0714203</td>\n",
       "                        <td id=\"T_d5e4109e_6156_11ec_b6af_b8aeeda36d25row17_col9\" class=\"data row17 col9\" >-0.0772207</td>\n",
       "                        <td id=\"T_d5e4109e_6156_11ec_b6af_b8aeeda36d25row17_col10\" class=\"data row17 col10\" >-0.0875092</td>\n",
       "                        <td id=\"T_d5e4109e_6156_11ec_b6af_b8aeeda36d25row17_col11\" class=\"data row17 col11\" >-0.0975512</td>\n",
       "                        <td id=\"T_d5e4109e_6156_11ec_b6af_b8aeeda36d25row17_col12\" class=\"data row17 col12\" >-0.109178</td>\n",
       "                        <td id=\"T_d5e4109e_6156_11ec_b6af_b8aeeda36d25row17_col13\" class=\"data row17 col13\" >-0.00620825</td>\n",
       "                        <td id=\"T_d5e4109e_6156_11ec_b6af_b8aeeda36d25row17_col14\" class=\"data row17 col14\" >-0.0132065</td>\n",
       "                        <td id=\"T_d5e4109e_6156_11ec_b6af_b8aeeda36d25row17_col15\" class=\"data row17 col15\" >-0.00888408</td>\n",
       "                        <td id=\"T_d5e4109e_6156_11ec_b6af_b8aeeda36d25row17_col16\" class=\"data row17 col16\" >-0.0131621</td>\n",
       "                        <td id=\"T_d5e4109e_6156_11ec_b6af_b8aeeda36d25row17_col17\" class=\"data row17 col17\" >1</td>\n",
       "                        <td id=\"T_d5e4109e_6156_11ec_b6af_b8aeeda36d25row17_col18\" class=\"data row17 col18\" >0.178439</td>\n",
       "                        <td id=\"T_d5e4109e_6156_11ec_b6af_b8aeeda36d25row17_col19\" class=\"data row17 col19\" >-0.0336865</td>\n",
       "                        <td id=\"T_d5e4109e_6156_11ec_b6af_b8aeeda36d25row17_col20\" class=\"data row17 col20\" >0.0942704</td>\n",
       "            </tr>\n",
       "            <tr>\n",
       "                        <th id=\"T_d5e4109e_6156_11ec_b6af_b8aeeda36d25level0_row18\" class=\"row_heading level0 row18\" >Aircraft: ModelClass</th>\n",
       "                        <td id=\"T_d5e4109e_6156_11ec_b6af_b8aeeda36d25row18_col0\" class=\"data row18 col0\" >-0.142257</td>\n",
       "                        <td id=\"T_d5e4109e_6156_11ec_b6af_b8aeeda36d25row18_col1\" class=\"data row18 col1\" >0.0317455</td>\n",
       "                        <td id=\"T_d5e4109e_6156_11ec_b6af_b8aeeda36d25row18_col2\" class=\"data row18 col2\" >-0.0617164</td>\n",
       "                        <td id=\"T_d5e4109e_6156_11ec_b6af_b8aeeda36d25row18_col3\" class=\"data row18 col3\" >0.00363186</td>\n",
       "                        <td id=\"T_d5e4109e_6156_11ec_b6af_b8aeeda36d25row18_col4\" class=\"data row18 col4\" >0.114663</td>\n",
       "                        <td id=\"T_d5e4109e_6156_11ec_b6af_b8aeeda36d25row18_col5\" class=\"data row18 col5\" >0.00220921</td>\n",
       "                        <td id=\"T_d5e4109e_6156_11ec_b6af_b8aeeda36d25row18_col6\" class=\"data row18 col6\" >-0.112026</td>\n",
       "                        <td id=\"T_d5e4109e_6156_11ec_b6af_b8aeeda36d25row18_col7\" class=\"data row18 col7\" >-0.0250754</td>\n",
       "                        <td id=\"T_d5e4109e_6156_11ec_b6af_b8aeeda36d25row18_col8\" class=\"data row18 col8\" >-0.147858</td>\n",
       "                        <td id=\"T_d5e4109e_6156_11ec_b6af_b8aeeda36d25row18_col9\" class=\"data row18 col9\" >0.0452341</td>\n",
       "                        <td id=\"T_d5e4109e_6156_11ec_b6af_b8aeeda36d25row18_col10\" class=\"data row18 col10\" >-0.151328</td>\n",
       "                        <td id=\"T_d5e4109e_6156_11ec_b6af_b8aeeda36d25row18_col11\" class=\"data row18 col11\" >-0.171709</td>\n",
       "                        <td id=\"T_d5e4109e_6156_11ec_b6af_b8aeeda36d25row18_col12\" class=\"data row18 col12\" >-0.194906</td>\n",
       "                        <td id=\"T_d5e4109e_6156_11ec_b6af_b8aeeda36d25row18_col13\" class=\"data row18 col13\" >-0.0120357</td>\n",
       "                        <td id=\"T_d5e4109e_6156_11ec_b6af_b8aeeda36d25row18_col14\" class=\"data row18 col14\" >-0.00315461</td>\n",
       "                        <td id=\"T_d5e4109e_6156_11ec_b6af_b8aeeda36d25row18_col15\" class=\"data row18 col15\" >0.00461522</td>\n",
       "                        <td id=\"T_d5e4109e_6156_11ec_b6af_b8aeeda36d25row18_col16\" class=\"data row18 col16\" >0.00201793</td>\n",
       "                        <td id=\"T_d5e4109e_6156_11ec_b6af_b8aeeda36d25row18_col17\" class=\"data row18 col17\" >0.178439</td>\n",
       "                        <td id=\"T_d5e4109e_6156_11ec_b6af_b8aeeda36d25row18_col18\" class=\"data row18 col18\" >1</td>\n",
       "                        <td id=\"T_d5e4109e_6156_11ec_b6af_b8aeeda36d25row18_col19\" class=\"data row18 col19\" >-0.0945639</td>\n",
       "                        <td id=\"T_d5e4109e_6156_11ec_b6af_b8aeeda36d25row18_col20\" class=\"data row18 col20\" >0.0838818</td>\n",
       "            </tr>\n",
       "            <tr>\n",
       "                        <th id=\"T_d5e4109e_6156_11ec_b6af_b8aeeda36d25level0_row19\" class=\"row_heading level0 row19\" >Aircraft: OperatorClass</th>\n",
       "                        <td id=\"T_d5e4109e_6156_11ec_b6af_b8aeeda36d25row19_col0\" class=\"data row19 col0\" >-0.0675802</td>\n",
       "                        <td id=\"T_d5e4109e_6156_11ec_b6af_b8aeeda36d25row19_col1\" class=\"data row19 col1\" >-0.0431363</td>\n",
       "                        <td id=\"T_d5e4109e_6156_11ec_b6af_b8aeeda36d25row19_col2\" class=\"data row19 col2\" >0.0593051</td>\n",
       "                        <td id=\"T_d5e4109e_6156_11ec_b6af_b8aeeda36d25row19_col3\" class=\"data row19 col3\" >0.0169962</td>\n",
       "                        <td id=\"T_d5e4109e_6156_11ec_b6af_b8aeeda36d25row19_col4\" class=\"data row19 col4\" >0.0590693</td>\n",
       "                        <td id=\"T_d5e4109e_6156_11ec_b6af_b8aeeda36d25row19_col5\" class=\"data row19 col5\" >0.0472934</td>\n",
       "                        <td id=\"T_d5e4109e_6156_11ec_b6af_b8aeeda36d25row19_col6\" class=\"data row19 col6\" >-0.0534439</td>\n",
       "                        <td id=\"T_d5e4109e_6156_11ec_b6af_b8aeeda36d25row19_col7\" class=\"data row19 col7\" >0.00848083</td>\n",
       "                        <td id=\"T_d5e4109e_6156_11ec_b6af_b8aeeda36d25row19_col8\" class=\"data row19 col8\" >-0.0617257</td>\n",
       "                        <td id=\"T_d5e4109e_6156_11ec_b6af_b8aeeda36d25row19_col9\" class=\"data row19 col9\" >0.10736</td>\n",
       "                        <td id=\"T_d5e4109e_6156_11ec_b6af_b8aeeda36d25row19_col10\" class=\"data row19 col10\" >-0.0812069</td>\n",
       "                        <td id=\"T_d5e4109e_6156_11ec_b6af_b8aeeda36d25row19_col11\" class=\"data row19 col11\" >-0.0854987</td>\n",
       "                        <td id=\"T_d5e4109e_6156_11ec_b6af_b8aeeda36d25row19_col12\" class=\"data row19 col12\" >-0.0481814</td>\n",
       "                        <td id=\"T_d5e4109e_6156_11ec_b6af_b8aeeda36d25row19_col13\" class=\"data row19 col13\" >0.0176116</td>\n",
       "                        <td id=\"T_d5e4109e_6156_11ec_b6af_b8aeeda36d25row19_col14\" class=\"data row19 col14\" >-0.00135323</td>\n",
       "                        <td id=\"T_d5e4109e_6156_11ec_b6af_b8aeeda36d25row19_col15\" class=\"data row19 col15\" >-3.14766e-05</td>\n",
       "                        <td id=\"T_d5e4109e_6156_11ec_b6af_b8aeeda36d25row19_col16\" class=\"data row19 col16\" >0.030068</td>\n",
       "                        <td id=\"T_d5e4109e_6156_11ec_b6af_b8aeeda36d25row19_col17\" class=\"data row19 col17\" >-0.0336865</td>\n",
       "                        <td id=\"T_d5e4109e_6156_11ec_b6af_b8aeeda36d25row19_col18\" class=\"data row19 col18\" >-0.0945639</td>\n",
       "                        <td id=\"T_d5e4109e_6156_11ec_b6af_b8aeeda36d25row19_col19\" class=\"data row19 col19\" >1</td>\n",
       "                        <td id=\"T_d5e4109e_6156_11ec_b6af_b8aeeda36d25row19_col20\" class=\"data row19 col20\" >0.0362337</td>\n",
       "            </tr>\n",
       "            <tr>\n",
       "                        <th id=\"T_d5e4109e_6156_11ec_b6af_b8aeeda36d25level0_row20\" class=\"row_heading level0 row20\" >Origin Class</th>\n",
       "                        <td id=\"T_d5e4109e_6156_11ec_b6af_b8aeeda36d25row20_col0\" class=\"data row20 col0\" >0.0557207</td>\n",
       "                        <td id=\"T_d5e4109e_6156_11ec_b6af_b8aeeda36d25row20_col1\" class=\"data row20 col1\" >-0.0110598</td>\n",
       "                        <td id=\"T_d5e4109e_6156_11ec_b6af_b8aeeda36d25row20_col2\" class=\"data row20 col2\" >0.0268752</td>\n",
       "                        <td id=\"T_d5e4109e_6156_11ec_b6af_b8aeeda36d25row20_col3\" class=\"data row20 col3\" >0.0671829</td>\n",
       "                        <td id=\"T_d5e4109e_6156_11ec_b6af_b8aeeda36d25row20_col4\" class=\"data row20 col4\" >-0.0194278</td>\n",
       "                        <td id=\"T_d5e4109e_6156_11ec_b6af_b8aeeda36d25row20_col5\" class=\"data row20 col5\" >0.0290811</td>\n",
       "                        <td id=\"T_d5e4109e_6156_11ec_b6af_b8aeeda36d25row20_col6\" class=\"data row20 col6\" >0.0254804</td>\n",
       "                        <td id=\"T_d5e4109e_6156_11ec_b6af_b8aeeda36d25row20_col7\" class=\"data row20 col7\" >0.00128297</td>\n",
       "                        <td id=\"T_d5e4109e_6156_11ec_b6af_b8aeeda36d25row20_col8\" class=\"data row20 col8\" >0.0375405</td>\n",
       "                        <td id=\"T_d5e4109e_6156_11ec_b6af_b8aeeda36d25row20_col9\" class=\"data row20 col9\" >-0.0150538</td>\n",
       "                        <td id=\"T_d5e4109e_6156_11ec_b6af_b8aeeda36d25row20_col10\" class=\"data row20 col10\" >0.0379698</td>\n",
       "                        <td id=\"T_d5e4109e_6156_11ec_b6af_b8aeeda36d25row20_col11\" class=\"data row20 col11\" >0.0420002</td>\n",
       "                        <td id=\"T_d5e4109e_6156_11ec_b6af_b8aeeda36d25row20_col12\" class=\"data row20 col12\" >0.00591092</td>\n",
       "                        <td id=\"T_d5e4109e_6156_11ec_b6af_b8aeeda36d25row20_col13\" class=\"data row20 col13\" >0.01433</td>\n",
       "                        <td id=\"T_d5e4109e_6156_11ec_b6af_b8aeeda36d25row20_col14\" class=\"data row20 col14\" >0.0159603</td>\n",
       "                        <td id=\"T_d5e4109e_6156_11ec_b6af_b8aeeda36d25row20_col15\" class=\"data row20 col15\" >-0.000486005</td>\n",
       "                        <td id=\"T_d5e4109e_6156_11ec_b6af_b8aeeda36d25row20_col16\" class=\"data row20 col16\" >-0.0170078</td>\n",
       "                        <td id=\"T_d5e4109e_6156_11ec_b6af_b8aeeda36d25row20_col17\" class=\"data row20 col17\" >0.0942704</td>\n",
       "                        <td id=\"T_d5e4109e_6156_11ec_b6af_b8aeeda36d25row20_col18\" class=\"data row20 col18\" >0.0838818</td>\n",
       "                        <td id=\"T_d5e4109e_6156_11ec_b6af_b8aeeda36d25row20_col19\" class=\"data row20 col19\" >0.0362337</td>\n",
       "                        <td id=\"T_d5e4109e_6156_11ec_b6af_b8aeeda36d25row20_col20\" class=\"data row20 col20\" >1</td>\n",
       "            </tr>\n",
       "    </tbody></table>"
      ],
      "text/plain": [
       "<pandas.io.formats.style.Styler at 0x7f27f671dbe0>"
      ]
     },
     "execution_count": 124,
     "metadata": {},
     "output_type": "execute_result"
    }
   ],
   "source": [
    "df_test.corr(method='spearman').style.background_gradient(cmap='coolwarm', axis=None)"
   ]
  },
  {
   "cell_type": "markdown",
   "id": "f3a7167f",
   "metadata": {
    "papermill": {
     "duration": 0.207934,
     "end_time": "2021-10-19T17:38:31.163286",
     "exception": false,
     "start_time": "2021-10-19T17:38:30.955352",
     "status": "completed"
    },
    "tags": []
   },
   "source": [
    "## Interessante Korrelationen\n",
    "Hohe Korrelationen zwischen Flughöhe, Geschwindigkeit, Abstand zum Flughafen und Flugphase. Nicht verwunderlich. Größen hägen klar zusammen.\n",
    "\n",
    "Erlittener Schaden korreliert leicht positiv mit Größe und Spezies der Vögel.\n",
    "\n",
    "Spezies korreliert mit Größe der Vögel, der Flughöhe, dem Abstand zum Flughafen und der Geschwindigkeit.\n",
    "\n",
    "Flughöhe < 1000 korreliert positiv mit Tagflügen und negativ mit Nachtflügen\n",
    "Für Flüghöhen > 1000 ist es genau umgekehrt. Nachts ereigenen sich Zwischenfälle eher in großen Höhen, tagsüber eher in niedrigen Höhen.\n",
    "\n",
    "Tagszeit korreliert mit Distanz zum Flughafen und Geschwindigkeit.\n",
    "\n",
    "Leichte Korrelationen zwischen Operator und Model erkennbar."
   ]
  },
  {
   "cell_type": "markdown",
   "id": "fa049af5",
   "metadata": {
    "papermill": {
     "duration": 0.203507,
     "end_time": "2021-10-19T17:38:31.571636",
     "exception": false,
     "start_time": "2021-10-19T17:38:31.368129",
     "status": "completed"
    },
    "tags": []
   },
   "source": [
    "# Überblick über gruppierte Werte\n",
    "\n",
    "## Aggregationen"
   ]
  },
  {
   "cell_type": "code",
   "execution_count": 125,
   "id": "b1609bad",
   "metadata": {
    "execution": {
     "iopub.execute_input": "2021-10-19T17:38:31.992550Z",
     "iopub.status.busy": "2021-10-19T17:38:31.991528Z",
     "iopub.status.idle": "2021-10-19T17:38:32.016784Z",
     "shell.execute_reply": "2021-10-19T17:38:32.017254Z",
     "shell.execute_reply.started": "2021-09-24T11:57:16.451383Z"
    },
    "papermill": {
     "duration": 0.241025,
     "end_time": "2021-10-19T17:38:32.017436",
     "exception": false,
     "start_time": "2021-10-19T17:38:31.776411",
     "status": "completed"
    },
    "tags": []
   },
   "outputs": [
    {
     "data": {
      "text/html": [
       "<div>\n",
       "<style scoped>\n",
       "    .dataframe tbody tr th:only-of-type {\n",
       "        vertical-align: middle;\n",
       "    }\n",
       "\n",
       "    .dataframe tbody tr th {\n",
       "        vertical-align: top;\n",
       "    }\n",
       "\n",
       "    .dataframe thead th {\n",
       "        text-align: right;\n",
       "    }\n",
       "</style>\n",
       "<table border=\"1\" class=\"dataframe\">\n",
       "  <thead>\n",
       "    <tr style=\"text-align: right;\">\n",
       "      <th></th>\n",
       "      <th></th>\n",
       "      <th>Count</th>\n",
       "    </tr>\n",
       "    <tr>\n",
       "      <th>Aircraft: OperatorClass</th>\n",
       "      <th>Aircraft: ModelClass</th>\n",
       "      <th></th>\n",
       "    </tr>\n",
       "  </thead>\n",
       "  <tbody>\n",
       "    <tr>\n",
       "      <th rowspan=\"13\" valign=\"top\">BUSINESS</th>\n",
       "      <th>A</th>\n",
       "      <td>3</td>\n",
       "    </tr>\n",
       "    <tr>\n",
       "      <th>B</th>\n",
       "      <td>37</td>\n",
       "    </tr>\n",
       "    <tr>\n",
       "      <th>BE</th>\n",
       "      <td>457</td>\n",
       "    </tr>\n",
       "    <tr>\n",
       "      <th>C</th>\n",
       "      <td>836</td>\n",
       "    </tr>\n",
       "    <tr>\n",
       "      <th>CL</th>\n",
       "      <td>120</td>\n",
       "    </tr>\n",
       "    <tr>\n",
       "      <th>DC</th>\n",
       "      <td>6</td>\n",
       "    </tr>\n",
       "    <tr>\n",
       "      <th>DHC8</th>\n",
       "      <td>4</td>\n",
       "    </tr>\n",
       "    <tr>\n",
       "      <th>EMB</th>\n",
       "      <td>38</td>\n",
       "    </tr>\n",
       "    <tr>\n",
       "      <th>LEARJET</th>\n",
       "      <td>259</td>\n",
       "    </tr>\n",
       "    <tr>\n",
       "      <th>MD</th>\n",
       "      <td>7</td>\n",
       "    </tr>\n",
       "    <tr>\n",
       "      <th>MISC</th>\n",
       "      <td>1125</td>\n",
       "    </tr>\n",
       "    <tr>\n",
       "      <th>PA</th>\n",
       "      <td>310</td>\n",
       "    </tr>\n",
       "    <tr>\n",
       "      <th>SAAB</th>\n",
       "      <td>6</td>\n",
       "    </tr>\n",
       "    <tr>\n",
       "      <th rowspan=\"9\" valign=\"top\">GOVERNMENT</th>\n",
       "      <th>B</th>\n",
       "      <td>6</td>\n",
       "    </tr>\n",
       "    <tr>\n",
       "      <th>BE</th>\n",
       "      <td>20</td>\n",
       "    </tr>\n",
       "    <tr>\n",
       "      <th>C</th>\n",
       "      <td>28</td>\n",
       "    </tr>\n",
       "    <tr>\n",
       "      <th>CL</th>\n",
       "      <td>2</td>\n",
       "    </tr>\n",
       "    <tr>\n",
       "      <th>DC</th>\n",
       "      <td>4</td>\n",
       "    </tr>\n",
       "    <tr>\n",
       "      <th>LEARJET</th>\n",
       "      <td>2</td>\n",
       "    </tr>\n",
       "    <tr>\n",
       "      <th>MD</th>\n",
       "      <td>5</td>\n",
       "    </tr>\n",
       "    <tr>\n",
       "      <th>MISC</th>\n",
       "      <td>110</td>\n",
       "    </tr>\n",
       "    <tr>\n",
       "      <th>PA</th>\n",
       "      <td>8</td>\n",
       "    </tr>\n",
       "    <tr>\n",
       "      <th rowspan=\"13\" valign=\"top\">MAJOR COMERCIAL</th>\n",
       "      <th>A</th>\n",
       "      <td>2839</td>\n",
       "    </tr>\n",
       "    <tr>\n",
       "      <th>B</th>\n",
       "      <td>8211</td>\n",
       "    </tr>\n",
       "    <tr>\n",
       "      <th>BE</th>\n",
       "      <td>5</td>\n",
       "    </tr>\n",
       "    <tr>\n",
       "      <th>C</th>\n",
       "      <td>3</td>\n",
       "    </tr>\n",
       "    <tr>\n",
       "      <th>CL</th>\n",
       "      <td>1693</td>\n",
       "    </tr>\n",
       "    <tr>\n",
       "      <th>DC</th>\n",
       "      <td>778</td>\n",
       "    </tr>\n",
       "    <tr>\n",
       "      <th>DHC8</th>\n",
       "      <td>62</td>\n",
       "    </tr>\n",
       "    <tr>\n",
       "      <th>EMB</th>\n",
       "      <td>1139</td>\n",
       "    </tr>\n",
       "    <tr>\n",
       "      <th>LEARJET</th>\n",
       "      <td>1</td>\n",
       "    </tr>\n",
       "    <tr>\n",
       "      <th>MD</th>\n",
       "      <td>1959</td>\n",
       "    </tr>\n",
       "    <tr>\n",
       "      <th>MISC</th>\n",
       "      <td>64</td>\n",
       "    </tr>\n",
       "    <tr>\n",
       "      <th>PA</th>\n",
       "      <td>1</td>\n",
       "    </tr>\n",
       "    <tr>\n",
       "      <th>SAAB</th>\n",
       "      <td>61</td>\n",
       "    </tr>\n",
       "    <tr>\n",
       "      <th>MILITARY</th>\n",
       "      <th>C</th>\n",
       "      <td>1</td>\n",
       "    </tr>\n",
       "    <tr>\n",
       "      <th rowspan=\"13\" valign=\"top\">MINOR COMERCIAL</th>\n",
       "      <th>A</th>\n",
       "      <td>1885</td>\n",
       "    </tr>\n",
       "    <tr>\n",
       "      <th>B</th>\n",
       "      <td>2571</td>\n",
       "    </tr>\n",
       "    <tr>\n",
       "      <th>BE</th>\n",
       "      <td>379</td>\n",
       "    </tr>\n",
       "    <tr>\n",
       "      <th>C</th>\n",
       "      <td>224</td>\n",
       "    </tr>\n",
       "    <tr>\n",
       "      <th>CL</th>\n",
       "      <td>1931</td>\n",
       "    </tr>\n",
       "    <tr>\n",
       "      <th>DC</th>\n",
       "      <td>282</td>\n",
       "    </tr>\n",
       "    <tr>\n",
       "      <th>DHC8</th>\n",
       "      <td>619</td>\n",
       "    </tr>\n",
       "    <tr>\n",
       "      <th>EMB</th>\n",
       "      <td>1435</td>\n",
       "    </tr>\n",
       "    <tr>\n",
       "      <th>LEARJET</th>\n",
       "      <td>46</td>\n",
       "    </tr>\n",
       "    <tr>\n",
       "      <th>MD</th>\n",
       "      <td>218</td>\n",
       "    </tr>\n",
       "    <tr>\n",
       "      <th>MISC</th>\n",
       "      <td>299</td>\n",
       "    </tr>\n",
       "    <tr>\n",
       "      <th>PA</th>\n",
       "      <td>27</td>\n",
       "    </tr>\n",
       "    <tr>\n",
       "      <th>SAAB</th>\n",
       "      <td>201</td>\n",
       "    </tr>\n",
       "    <tr>\n",
       "      <th rowspan=\"6\" valign=\"top\">PRIVATELY OWNED</th>\n",
       "      <th>BE</th>\n",
       "      <td>48</td>\n",
       "    </tr>\n",
       "    <tr>\n",
       "      <th>C</th>\n",
       "      <td>170</td>\n",
       "    </tr>\n",
       "    <tr>\n",
       "      <th>CL</th>\n",
       "      <td>1</td>\n",
       "    </tr>\n",
       "    <tr>\n",
       "      <th>LEARJET</th>\n",
       "      <td>8</td>\n",
       "    </tr>\n",
       "    <tr>\n",
       "      <th>MISC</th>\n",
       "      <td>66</td>\n",
       "    </tr>\n",
       "    <tr>\n",
       "      <th>PA</th>\n",
       "      <td>76</td>\n",
       "    </tr>\n",
       "    <tr>\n",
       "      <th rowspan=\"10\" valign=\"top\">UNKNOWN</th>\n",
       "      <th>A</th>\n",
       "      <td>4</td>\n",
       "    </tr>\n",
       "    <tr>\n",
       "      <th>B</th>\n",
       "      <td>6</td>\n",
       "    </tr>\n",
       "    <tr>\n",
       "      <th>BE</th>\n",
       "      <td>5</td>\n",
       "    </tr>\n",
       "    <tr>\n",
       "      <th>C</th>\n",
       "      <td>7</td>\n",
       "    </tr>\n",
       "    <tr>\n",
       "      <th>CL</th>\n",
       "      <td>6</td>\n",
       "    </tr>\n",
       "    <tr>\n",
       "      <th>DHC8</th>\n",
       "      <td>1</td>\n",
       "    </tr>\n",
       "    <tr>\n",
       "      <th>EMB</th>\n",
       "      <td>7</td>\n",
       "    </tr>\n",
       "    <tr>\n",
       "      <th>LEARJET</th>\n",
       "      <td>2</td>\n",
       "    </tr>\n",
       "    <tr>\n",
       "      <th>MISC</th>\n",
       "      <td>17</td>\n",
       "    </tr>\n",
       "    <tr>\n",
       "      <th>PA</th>\n",
       "      <td>6</td>\n",
       "    </tr>\n",
       "    <tr>\n",
       "      <th rowspan=\"5\" valign=\"top\">US CUSTOMS AND BORDER PROTECTION</th>\n",
       "      <th>BE</th>\n",
       "      <td>1</td>\n",
       "    </tr>\n",
       "    <tr>\n",
       "      <th>C</th>\n",
       "      <td>17</td>\n",
       "    </tr>\n",
       "    <tr>\n",
       "      <th>DHC8</th>\n",
       "      <td>2</td>\n",
       "    </tr>\n",
       "    <tr>\n",
       "      <th>MISC</th>\n",
       "      <td>19</td>\n",
       "    </tr>\n",
       "    <tr>\n",
       "      <th>PA</th>\n",
       "      <td>2</td>\n",
       "    </tr>\n",
       "  </tbody>\n",
       "</table>\n",
       "</div>"
      ],
      "text/plain": [
       "                                                       Count\n",
       "Aircraft: OperatorClass          Aircraft: ModelClass       \n",
       "BUSINESS                         A                         3\n",
       "                                 B                        37\n",
       "                                 BE                      457\n",
       "                                 C                       836\n",
       "                                 CL                      120\n",
       "                                 DC                        6\n",
       "                                 DHC8                      4\n",
       "                                 EMB                      38\n",
       "                                 LEARJET                 259\n",
       "                                 MD                        7\n",
       "                                 MISC                   1125\n",
       "                                 PA                      310\n",
       "                                 SAAB                      6\n",
       "GOVERNMENT                       B                         6\n",
       "                                 BE                       20\n",
       "                                 C                        28\n",
       "                                 CL                        2\n",
       "                                 DC                        4\n",
       "                                 LEARJET                   2\n",
       "                                 MD                        5\n",
       "                                 MISC                    110\n",
       "                                 PA                        8\n",
       "MAJOR COMERCIAL                  A                      2839\n",
       "                                 B                      8211\n",
       "                                 BE                        5\n",
       "                                 C                         3\n",
       "                                 CL                     1693\n",
       "                                 DC                      778\n",
       "                                 DHC8                     62\n",
       "                                 EMB                    1139\n",
       "                                 LEARJET                   1\n",
       "                                 MD                     1959\n",
       "                                 MISC                     64\n",
       "                                 PA                        1\n",
       "                                 SAAB                     61\n",
       "MILITARY                         C                         1\n",
       "MINOR COMERCIAL                  A                      1885\n",
       "                                 B                      2571\n",
       "                                 BE                      379\n",
       "                                 C                       224\n",
       "                                 CL                     1931\n",
       "                                 DC                      282\n",
       "                                 DHC8                    619\n",
       "                                 EMB                    1435\n",
       "                                 LEARJET                  46\n",
       "                                 MD                      218\n",
       "                                 MISC                    299\n",
       "                                 PA                       27\n",
       "                                 SAAB                    201\n",
       "PRIVATELY OWNED                  BE                       48\n",
       "                                 C                       170\n",
       "                                 CL                        1\n",
       "                                 LEARJET                   8\n",
       "                                 MISC                     66\n",
       "                                 PA                       76\n",
       "UNKNOWN                          A                         4\n",
       "                                 B                         6\n",
       "                                 BE                        5\n",
       "                                 C                         7\n",
       "                                 CL                        6\n",
       "                                 DHC8                      1\n",
       "                                 EMB                       7\n",
       "                                 LEARJET                   2\n",
       "                                 MISC                     17\n",
       "                                 PA                        6\n",
       "US CUSTOMS AND BORDER PROTECTION BE                        1\n",
       "                                 C                        17\n",
       "                                 DHC8                      2\n",
       "                                 MISC                     19\n",
       "                                 PA                        2"
      ]
     },
     "execution_count": 125,
     "metadata": {},
     "output_type": "execute_result"
    }
   ],
   "source": [
    "pd.set_option('display.max_rows', 70)\n",
    "df_clean[['Aircraft: ModelClass', 'Aircraft: OperatorClass', 'Origin Class']].groupby(\n",
    "    ['Aircraft: OperatorClass', 'Aircraft: ModelClass']).count().rename(columns={'Origin Class': 'Count'})"
   ]
  },
  {
   "cell_type": "markdown",
   "id": "cd326286",
   "metadata": {
    "papermill": {
     "duration": 0.207648,
     "end_time": "2021-10-19T17:38:32.432127",
     "exception": false,
     "start_time": "2021-10-19T17:38:32.224479",
     "status": "completed"
    },
    "tags": []
   },
   "source": [
    "Für tatsächliche Fragestellung eher uninteressant."
   ]
  },
  {
   "cell_type": "code",
   "execution_count": 126,
   "id": "6647d05d",
   "metadata": {
    "execution": {
     "iopub.execute_input": "2021-10-19T17:38:32.878176Z",
     "iopub.status.busy": "2021-10-19T17:38:32.877114Z",
     "iopub.status.idle": "2021-10-19T17:38:33.178078Z",
     "shell.execute_reply": "2021-10-19T17:38:33.178730Z",
     "shell.execute_reply.started": "2021-09-24T11:57:16.484964Z"
    },
    "papermill": {
     "duration": 0.540396,
     "end_time": "2021-10-19T17:38:33.179028",
     "exception": false,
     "start_time": "2021-10-19T17:38:32.638632",
     "status": "completed"
    },
    "tags": []
   },
   "outputs": [
    {
     "data": {
      "image/png": "[encoded data removed]",
      "text/plain": [
       "<Figure size 720x360 with 1 Axes>"
      ]
     },
     "metadata": {
      "needs_background": "light"
     },
     "output_type": "display_data"
    }
   ],
   "source": [
    "plt.figure(figsize=(10,5))\n",
    "sns.countplot(x='Wildlife: Size', data=df_clean, hue='Effect: Indicated Damage');"
   ]
  },
  {
   "cell_type": "code",
   "execution_count": 127,
   "id": "c58e9c10",
   "metadata": {
    "execution": {
     "iopub.execute_input": "2021-10-19T17:38:33.595509Z",
     "iopub.status.busy": "2021-10-19T17:38:33.594418Z",
     "iopub.status.idle": "2021-10-19T17:38:34.218001Z",
     "shell.execute_reply": "2021-10-19T17:38:34.216841Z",
     "shell.execute_reply.started": "2021-09-24T11:57:16.752367Z"
    },
    "papermill": {
     "duration": 0.83255,
     "end_time": "2021-10-19T17:38:34.218159",
     "exception": false,
     "start_time": "2021-10-19T17:38:33.385609",
     "status": "completed"
    },
    "tags": []
   },
   "outputs": [
    {
     "data": {
      "image/png": "[encoded data removed]",
      "text/plain": [
       "<Figure size 720x360 with 1 Axes>"
      ]
     },
     "metadata": {
      "needs_background": "light"
     },
     "output_type": "display_data"
    }
   ],
   "source": [
    "plt.figure(figsize=(10,5))\n",
    "plt.yscale('log')\n",
    "sns.countplot(x='Effect: Impact to flight', data=df_clean, hue='Wildlife: Size');"
   ]
  },
  {
   "cell_type": "code",
   "execution_count": 128,
   "id": "ade9912a",
   "metadata": {
    "execution": {
     "iopub.execute_input": "2021-10-19T17:38:34.643166Z",
     "iopub.status.busy": "2021-10-19T17:38:34.642471Z",
     "iopub.status.idle": "2021-10-19T17:38:35.469130Z",
     "shell.execute_reply": "2021-10-19T17:38:35.468573Z",
     "shell.execute_reply.started": "2021-09-24T11:57:17.391321Z"
    },
    "papermill": {
     "duration": 1.040242,
     "end_time": "2021-10-19T17:38:35.469278",
     "exception": false,
     "start_time": "2021-10-19T17:38:34.429036",
     "status": "completed"
    },
    "tags": []
   },
   "outputs": [
    {
     "data": {
      "image/png": "[encoded data removed]",
      "text/plain": [
       "<Figure size 1440x720 with 1 Axes>"
      ]
     },
     "metadata": {
      "needs_background": "light"
     },
     "output_type": "display_data"
    }
   ],
   "source": [
    "plt.figure(figsize=(20,10))\n",
    "plt.yscale('log')\n",
    "sns.countplot(x='Wildlife: Species', data=df_clean, hue='Wildlife: Size');"
   ]
  },
  {
   "cell_type": "markdown",
   "id": "44545277",
   "metadata": {
    "papermill": {
     "duration": 0.209158,
     "end_time": "2021-10-19T17:38:35.887079",
     "exception": false,
     "start_time": "2021-10-19T17:38:35.677921",
     "status": "completed"
    },
    "tags": []
   },
   "source": [
    "Zwischenfälle mit großen Vögel führen in etwa 50% der Fälle zu Schadensmeldungen, deutlich mehr als bei kleinen und mittleren Vögeln. Zwischenfälle mit großen Vögel sind aber auch bedeutend seltener. Große Vögel gehören zu selten auftetenden Spezies, welche unter die Kategorie \"Misc\" fallen."
   ]
  },
  {
   "cell_type": "code",
   "execution_count": 129,
   "id": "761c294d",
   "metadata": {
    "execution": {
     "iopub.execute_input": "2021-10-19T17:38:36.312337Z",
     "iopub.status.busy": "2021-10-19T17:38:36.311711Z",
     "iopub.status.idle": "2021-10-19T17:38:36.837097Z",
     "shell.execute_reply": "2021-10-19T17:38:36.837645Z",
     "shell.execute_reply.started": "2021-09-24T11:57:18.20862Z"
    },
    "papermill": {
     "duration": 0.740169,
     "end_time": "2021-10-19T17:38:36.837818",
     "exception": false,
     "start_time": "2021-10-19T17:38:36.097649",
     "status": "completed"
    },
    "tags": []
   },
   "outputs": [
    {
     "data": {
      "image/png": "[encoded data removed]",
      "text/plain": [
       "<Figure size 720x360 with 1 Axes>"
      ]
     },
     "metadata": {
      "needs_background": "light"
     },
     "output_type": "display_data"
    }
   ],
   "source": [
    "plt.figure(figsize=(10,5))\n",
    "sns.barplot(x='When: Time of day', y='Feet above ground', data=df_clean);"
   ]
  },
  {
   "cell_type": "code",
   "execution_count": 130,
   "id": "5474ff10",
   "metadata": {
    "execution": {
     "iopub.execute_input": "2021-10-19T17:38:37.261547Z",
     "iopub.status.busy": "2021-10-19T17:38:37.260912Z",
     "iopub.status.idle": "2021-10-19T17:38:37.817473Z",
     "shell.execute_reply": "2021-10-19T17:38:37.816815Z",
     "shell.execute_reply.started": "2021-09-24T11:57:18.736125Z"
    },
    "papermill": {
     "duration": 0.769692,
     "end_time": "2021-10-19T17:38:37.817637",
     "exception": false,
     "start_time": "2021-10-19T17:38:37.047945",
     "status": "completed"
    },
    "tags": []
   },
   "outputs": [
    {
     "data": {
      "image/png": "[encoded data removed]",
      "text/plain": [
       "<Figure size 720x360 with 1 Axes>"
      ]
     },
     "metadata": {
      "needs_background": "light"
     },
     "output_type": "display_data"
    }
   ],
   "source": [
    "plt.figure(figsize=(10,5))\n",
    "plt.yscale('log')\n",
    "sns.countplot(x='When: Time of day', data=df_clean, hue='Altitude bin');"
   ]
  },
  {
   "cell_type": "markdown",
   "id": "40215028",
   "metadata": {
    "papermill": {
     "duration": 0.212905,
     "end_time": "2021-10-19T17:38:38.239651",
     "exception": false,
     "start_time": "2021-10-19T17:38:38.026746",
     "status": "completed"
    },
    "tags": []
   },
   "source": [
    "Nachts ist die durchschnittliche Flughöhe in der sich Zusammenstöße abspielen deutlich höher. Das Verhältniss von Hochflugzusammenstößen liegt nachts bei etwa 1:1, während sich Zusammenstöße sonst eher im Niedrigflug abspielen."
   ]
  },
  {
   "cell_type": "code",
   "execution_count": 131,
   "id": "620a2a56",
   "metadata": {
    "execution": {
     "iopub.execute_input": "2021-10-19T17:38:38.666295Z",
     "iopub.status.busy": "2021-10-19T17:38:38.665641Z",
     "iopub.status.idle": "2021-10-19T17:38:40.864911Z",
     "shell.execute_reply": "2021-10-19T17:38:40.864306Z",
     "shell.execute_reply.started": "2021-09-24T11:57:19.292867Z"
    },
    "papermill": {
     "duration": 2.414641,
     "end_time": "2021-10-19T17:38:40.865064",
     "exception": false,
     "start_time": "2021-10-19T17:38:38.450423",
     "status": "completed"
    },
    "tags": []
   },
   "outputs": [
    {
     "data": {
      "image/png": "[encoded data removed]",
      "text/plain": [
       "<Figure size 720x360 with 1 Axes>"
      ]
     },
     "metadata": {
      "needs_background": "light"
     },
     "output_type": "display_data"
    }
   ],
   "source": [
    "plt.figure(figsize=(10,5))\n",
    "sns.barplot(x='FlightDateMonth', y='Feet above ground', data=df_clean, hue='When: Time of day');"
   ]
  },
  {
   "cell_type": "code",
   "execution_count": 132,
   "id": "4d1c1a45",
   "metadata": {
    "execution": {
     "iopub.execute_input": "2021-10-19T17:38:41.316431Z",
     "iopub.status.busy": "2021-10-19T17:38:41.315813Z",
     "iopub.status.idle": "2021-10-19T17:38:42.050599Z",
     "shell.execute_reply": "2021-10-19T17:38:42.051107Z",
     "shell.execute_reply.started": "2021-09-24T11:57:21.579634Z"
    },
    "papermill": {
     "duration": 0.952519,
     "end_time": "2021-10-19T17:38:42.051271",
     "exception": false,
     "start_time": "2021-10-19T17:38:41.098752",
     "status": "completed"
    },
    "tags": []
   },
   "outputs": [
    {
     "data": {
      "image/png": "[encoded data removed]",
      "text/plain": [
       "<Figure size 720x360 with 1 Axes>"
      ]
     },
     "metadata": {
      "needs_background": "light"
     },
     "output_type": "display_data"
    }
   ],
   "source": [
    "plt.figure(figsize=(10,5))\n",
    "plt.yscale('log')\n",
    "sns.countplot(x='FlightDateMonth', data=df_clean, hue='Altitude bin');"
   ]
  },
  {
   "cell_type": "markdown",
   "id": "8231ecc8",
   "metadata": {
    "papermill": {
     "duration": 0.212628,
     "end_time": "2021-10-19T17:38:42.476685",
     "exception": false,
     "start_time": "2021-10-19T17:38:42.264057",
     "status": "completed"
    },
    "tags": []
   },
   "source": [
    "Die durchschnittliche Höhe für Zusammenstöße schwankt saisonal. Tiefflugzusammenstöße finden vermehrt im Sommer statt, während Hochflugzusammenstöße in den Frühling und Herbst fallen; vermutlich bedingt durch die Wanderung der Zugvöhel."
   ]
  },
  {
   "cell_type": "code",
   "execution_count": 133,
   "id": "5674f861",
   "metadata": {
    "execution": {
     "iopub.execute_input": "2021-10-19T17:38:42.909991Z",
     "iopub.status.busy": "2021-10-19T17:38:42.909280Z",
     "iopub.status.idle": "2021-10-19T17:38:43.380485Z",
     "shell.execute_reply": "2021-10-19T17:38:43.381152Z",
     "shell.execute_reply.started": "2021-09-24T11:57:22.297078Z"
    },
    "papermill": {
     "duration": 0.689611,
     "end_time": "2021-10-19T17:38:43.381328",
     "exception": false,
     "start_time": "2021-10-19T17:38:42.691717",
     "status": "completed"
    },
    "tags": []
   },
   "outputs": [
    {
     "data": {
      "image/png": "[encoded data removed]",
      "text/plain": [
       "<Figure size 720x360 with 1 Axes>"
      ]
     },
     "metadata": {
      "needs_background": "light"
     },
     "output_type": "display_data"
    }
   ],
   "source": [
    "plt.figure(figsize=(10,5))\n",
    "sns.barplot(x='Wildlife: Size', y='Feet above ground', data=df_clean);"
   ]
  },
  {
   "cell_type": "code",
   "execution_count": 134,
   "id": "ce0e76e7",
   "metadata": {
    "execution": {
     "iopub.execute_input": "2021-10-19T17:38:43.812166Z",
     "iopub.status.busy": "2021-10-19T17:38:43.811514Z",
     "iopub.status.idle": "2021-10-19T17:38:44.294476Z",
     "shell.execute_reply": "2021-10-19T17:38:44.293762Z",
     "shell.execute_reply.started": "2021-09-24T11:57:22.764546Z"
    },
    "papermill": {
     "duration": 0.699063,
     "end_time": "2021-10-19T17:38:44.294658",
     "exception": false,
     "start_time": "2021-10-19T17:38:43.595595",
     "status": "completed"
    },
    "tags": []
   },
   "outputs": [
    {
     "data": {
      "image/png": "[encoded data removed]",
      "text/plain": [
       "<Figure size 720x360 with 1 Axes>"
      ]
     },
     "metadata": {
      "needs_background": "light"
     },
     "output_type": "display_data"
    }
   ],
   "source": [
    "plt.figure(figsize=(10,5))\n",
    "sns.barplot(x='Wildlife: Size', y='Miles from airport', data=df_clean);"
   ]
  },
  {
   "cell_type": "code",
   "execution_count": 135,
   "id": "638efe40",
   "metadata": {
    "execution": {
     "iopub.execute_input": "2021-10-19T17:38:44.791257Z",
     "iopub.status.busy": "2021-10-19T17:38:44.781750Z",
     "iopub.status.idle": "2021-10-19T17:38:45.294258Z",
     "shell.execute_reply": "2021-10-19T17:38:45.293095Z",
     "shell.execute_reply.started": "2021-09-24T11:57:23.239644Z"
    },
    "papermill": {
     "duration": 0.766591,
     "end_time": "2021-10-19T17:38:45.294424",
     "exception": false,
     "start_time": "2021-10-19T17:38:44.527833",
     "status": "completed"
    },
    "tags": []
   },
   "outputs": [
    {
     "data": {
      "image/png": "[encoded data removed]",
      "text/plain": [
       "<Figure size 720x360 with 1 Axes>"
      ]
     },
     "metadata": {
      "needs_background": "light"
     },
     "output_type": "display_data"
    }
   ],
   "source": [
    "plt.figure(figsize=(10,5))\n",
    "sns.barplot(x='Wildlife: Size', y='Speed (IAS) in knots', data=df_clean);"
   ]
  },
  {
   "cell_type": "markdown",
   "id": "58b03a3f",
   "metadata": {
    "papermill": {
     "duration": 0.225098,
     "end_time": "2021-10-19T17:38:45.734356",
     "exception": false,
     "start_time": "2021-10-19T17:38:45.509258",
     "status": "completed"
    },
    "tags": []
   },
   "source": [
    "Vorfälle mit großen und mittleren Vögeln ereignen sich in der Regel in >2,5 Meilen Abstand vom Flughafen und in Höhen oberhalb von 1000 Fuß.\n",
    "Vorfälle mit kleineren Vögeln spielen sich dagegen in einem Umkreis von etwa 2 Meilen um den Flughafen ab, in einer Höhe von durchschnittlich 600 Fuß.\n",
    "Es besteht scheinbar kein Zusammenhang zwischen der Geschwindigkeit und der Größe der Vögel."
   ]
  },
  {
   "cell_type": "code",
   "execution_count": 136,
   "id": "3a57b5f6",
   "metadata": {
    "execution": {
     "iopub.execute_input": "2021-10-19T17:38:46.202395Z",
     "iopub.status.busy": "2021-10-19T17:38:46.183569Z",
     "iopub.status.idle": "2021-10-19T17:38:46.770769Z",
     "shell.execute_reply": "2021-10-19T17:38:46.770091Z",
     "shell.execute_reply.started": "2021-09-24T11:57:23.659568Z"
    },
    "papermill": {
     "duration": 0.8114,
     "end_time": "2021-10-19T17:38:46.770910",
     "exception": false,
     "start_time": "2021-10-19T17:38:45.959510",
     "status": "completed"
    },
    "tags": []
   },
   "outputs": [
    {
     "data": {
      "image/png": "[encoded data removed]",
      "text/plain": [
       "<Figure size 720x360 with 1 Axes>"
      ]
     },
     "metadata": {
      "needs_background": "light"
     },
     "output_type": "display_data"
    }
   ],
   "source": [
    "plt.figure(figsize=(10,5))\n",
    "plt.yscale('log')\n",
    "sns.countplot(x='When: Time of day', data=df_clean, hue='Wildlife: Size');"
   ]
  },
  {
   "cell_type": "code",
   "execution_count": 137,
   "id": "0c73fadf",
   "metadata": {
    "execution": {
     "iopub.execute_input": "2021-10-19T17:38:47.210398Z",
     "iopub.status.busy": "2021-10-19T17:38:47.209316Z",
     "iopub.status.idle": "2021-10-19T17:38:47.816697Z",
     "shell.execute_reply": "2021-10-19T17:38:47.817190Z",
     "shell.execute_reply.started": "2021-09-24T11:57:24.193475Z"
    },
    "papermill": {
     "duration": 0.82953,
     "end_time": "2021-10-19T17:38:47.817364",
     "exception": false,
     "start_time": "2021-10-19T17:38:46.987834",
     "status": "completed"
    },
    "tags": []
   },
   "outputs": [
    {
     "data": {
      "image/png": "[encoded data removed]",
      "text/plain": [
       "<Figure size 720x360 with 1 Axes>"
      ]
     },
     "metadata": {
      "needs_background": "light"
     },
     "output_type": "display_data"
    }
   ],
   "source": [
    "plt.figure(figsize=(10,5))\n",
    "plt.ylim(1e2,3e3)\n",
    "plt.yscale('log')\n",
    "sns.countplot(x='FlightDateMonth', data=df_clean, hue='Wildlife: Size');"
   ]
  },
  {
   "cell_type": "code",
   "execution_count": 138,
   "id": "adde8d1e",
   "metadata": {
    "execution": {
     "iopub.execute_input": "2021-10-19T17:38:48.305065Z",
     "iopub.status.busy": "2021-10-19T17:38:48.276434Z",
     "iopub.status.idle": "2021-10-19T17:38:48.943793Z",
     "shell.execute_reply": "2021-10-19T17:38:48.943261Z",
     "shell.execute_reply.started": "2021-09-24T11:57:24.74897Z"
    },
    "papermill": {
     "duration": 0.907445,
     "end_time": "2021-10-19T17:38:48.943939",
     "exception": false,
     "start_time": "2021-10-19T17:38:48.036494",
     "status": "completed"
    },
    "tags": []
   },
   "outputs": [
    {
     "data": {
      "image/png": "[encoded data removed]",
      "text/plain": [
       "<Figure size 720x360 with 1 Axes>"
      ]
     },
     "metadata": {
      "needs_background": "light"
     },
     "output_type": "display_data"
    }
   ],
   "source": [
    "plt.figure(figsize=(10,5))\n",
    "plt.yscale('log')\n",
    "sns.countplot(x='When: Phase of flight', data=df_clean, hue='Wildlife: Size');"
   ]
  },
  {
   "cell_type": "code",
   "execution_count": 139,
   "id": "e1cb5718",
   "metadata": {
    "execution": {
     "iopub.execute_input": "2021-10-19T17:38:49.389319Z",
     "iopub.status.busy": "2021-10-19T17:38:49.388530Z",
     "iopub.status.idle": "2021-10-19T17:38:50.452546Z",
     "shell.execute_reply": "2021-10-19T17:38:50.451774Z",
     "shell.execute_reply.started": "2021-09-24T11:57:25.375455Z"
    },
    "papermill": {
     "duration": 1.290688,
     "end_time": "2021-10-19T17:38:50.452690",
     "exception": false,
     "start_time": "2021-10-19T17:38:49.162002",
     "status": "completed"
    },
    "tags": []
   },
   "outputs": [
    {
     "data": {
      "image/png": "[encoded data removed]",
      "text/plain": [
       "<Figure size 720x360 with 1 Axes>"
      ]
     },
     "metadata": {
      "needs_background": "light"
     },
     "output_type": "display_data"
    }
   ],
   "source": [
    "plt.figure(figsize=(10,5))\n",
    "plt.yscale('log')\n",
    "sns.barplot(x='When: Phase of flight', y='Feet above ground', data=df_clean);"
   ]
  },
  {
   "cell_type": "markdown",
   "id": "1e06fc00",
   "metadata": {
    "papermill": {
     "duration": 0.222503,
     "end_time": "2021-10-19T17:38:50.898841",
     "exception": false,
     "start_time": "2021-10-19T17:38:50.676338",
     "status": "completed"
    },
    "tags": []
   },
   "source": [
    "Vorfälle mit großen und mittleren Vögeln ereignen sich tagsüber nur etwas häufiger als nachts. Kleine Vögel hingegen verursachen nachts deutlich weniger Vorfälle.\n",
    "Die Häufigkeit von Zwischenfällen mit kleinen Vögeln folgt einem saisonalen Trend mit einem Maximum im August und einem Minimum im Februar; also im Sommer häufiger als im Winter.\n",
    "Für großen und mittleren Vögel treten Vorfälle am häufigsten im Frühling und Herbst auf (Mai und Oktober).\n",
    "Es scheint keinen nennenswerten Zusammenhang zwischen Vogelgröße und Flugphase zu geben."
   ]
  },
  {
   "cell_type": "code",
   "execution_count": 140,
   "id": "a3ae4e0b",
   "metadata": {
    "execution": {
     "iopub.execute_input": "2021-10-19T17:38:51.373802Z",
     "iopub.status.busy": "2021-10-19T17:38:51.372711Z",
     "iopub.status.idle": "2021-10-19T17:38:52.651758Z",
     "shell.execute_reply": "2021-10-19T17:38:52.652225Z",
     "shell.execute_reply.started": "2021-09-24T11:57:26.493657Z"
    },
    "papermill": {
     "duration": 1.529541,
     "end_time": "2021-10-19T17:38:52.652406",
     "exception": false,
     "start_time": "2021-10-19T17:38:51.122865",
     "status": "completed"
    },
    "tags": []
   },
   "outputs": [
    {
     "data": {
      "image/png": "[encoded data removed]",
      "text/plain": [
       "<Figure size 720x360 with 1 Axes>"
      ]
     },
     "metadata": {
      "needs_background": "light"
     },
     "output_type": "display_data"
    }
   ],
   "source": [
    "plt.figure(figsize=(10,5))\n",
    "plt.yscale('log')\n",
    "sns.barplot(x='Aircraft: ModelClass', y='Feet above ground', data=df_clean);"
   ]
  },
  {
   "cell_type": "code",
   "execution_count": 141,
   "id": "6ae642b9",
   "metadata": {
    "execution": {
     "iopub.execute_input": "2021-10-19T17:38:53.108629Z",
     "iopub.status.busy": "2021-10-19T17:38:53.107896Z",
     "iopub.status.idle": "2021-10-19T17:38:54.037260Z",
     "shell.execute_reply": "2021-10-19T17:38:54.037803Z",
     "shell.execute_reply.started": "2021-09-24T11:57:27.758055Z"
    },
    "papermill": {
     "duration": 1.162636,
     "end_time": "2021-10-19T17:38:54.037988",
     "exception": false,
     "start_time": "2021-10-19T17:38:52.875352",
     "status": "completed"
    },
    "tags": []
   },
   "outputs": [
    {
     "data": {
      "image/png": "[encoded data removed]",
      "text/plain": [
       "<Figure size 1440x720 with 1 Axes>"
      ]
     },
     "metadata": {
      "needs_background": "light"
     },
     "output_type": "display_data"
    }
   ],
   "source": [
    "plt.figure(figsize=(20,10))\n",
    "plt.yscale('log')\n",
    "sns.barplot(x='Aircraft: OperatorClass', y='Feet above ground', data=df_clean);"
   ]
  },
  {
   "cell_type": "markdown",
   "id": "a4771032",
   "metadata": {
    "papermill": {
     "duration": 0.226381,
     "end_time": "2021-10-19T17:38:54.493993",
     "exception": false,
     "start_time": "2021-10-19T17:38:54.267612",
     "status": "completed"
    },
    "tags": []
   },
   "source": [
    "Im Mittel treten Zwischenfälle oberhalb von 1000 Fuß am ehesten für Maschinen von großen kommerziellen Fluggesellschaften und dem Zoll auf.\n",
    "Die Modelle, die gehäuft in größeren Höhen mit Vögeln kollidieren gehören zu Boeing, Airbus, Douglas Aircraft Company und McDonnell Douglas."
   ]
  },
  {
   "cell_type": "code",
   "execution_count": 142,
   "id": "8afe88a1",
   "metadata": {
    "execution": {
     "iopub.execute_input": "2021-10-19T17:38:54.950857Z",
     "iopub.status.busy": "2021-10-19T17:38:54.950180Z",
     "iopub.status.idle": "2021-10-19T17:38:55.676860Z",
     "shell.execute_reply": "2021-10-19T17:38:55.676184Z",
     "shell.execute_reply.started": "2021-09-24T11:57:28.633701Z"
    },
    "papermill": {
     "duration": 0.954029,
     "end_time": "2021-10-19T17:38:55.677004",
     "exception": false,
     "start_time": "2021-10-19T17:38:54.722975",
     "status": "completed"
    },
    "tags": []
   },
   "outputs": [
    {
     "data": {
      "image/png": "[encoded data removed]",
      "text/plain": [
       "<Figure size 720x360 with 1 Axes>"
      ]
     },
     "metadata": {
      "needs_background": "light"
     },
     "output_type": "display_data"
    }
   ],
   "source": [
    "plt.figure(figsize=(10,5))\n",
    "plt.yscale('log')\n",
    "sns.countplot(x='Aircraft: ModelClass', data=df_clean, hue='Wildlife: Size');"
   ]
  },
  {
   "cell_type": "code",
   "execution_count": 143,
   "id": "7419f601",
   "metadata": {
    "execution": {
     "iopub.execute_input": "2021-10-19T17:38:56.148036Z",
     "iopub.status.busy": "2021-10-19T17:38:56.146801Z",
     "iopub.status.idle": "2021-10-19T17:38:56.969325Z",
     "shell.execute_reply": "2021-10-19T17:38:56.968816Z",
     "shell.execute_reply.started": "2021-09-24T11:57:29.34219Z"
    },
    "papermill": {
     "duration": 1.070262,
     "end_time": "2021-10-19T17:38:56.969480",
     "exception": false,
     "start_time": "2021-10-19T17:38:55.899218",
     "status": "completed"
    },
    "tags": []
   },
   "outputs": [
    {
     "data": {
      "image/png": "[encoded data removed]",
      "text/plain": [
       "<Figure size 1440x720 with 1 Axes>"
      ]
     },
     "metadata": {
      "needs_background": "light"
     },
     "output_type": "display_data"
    }
   ],
   "source": [
    "plt.figure(figsize=(20,10))\n",
    "plt.yscale('log')\n",
    "sns.countplot(x='Aircraft: OperatorClass', data=df_clean, hue='Wildlife: Size');"
   ]
  },
  {
   "cell_type": "markdown",
   "id": "e8dbdd66",
   "metadata": {
    "papermill": {
     "duration": 0.225054,
     "end_time": "2021-10-19T17:38:57.416858",
     "exception": false,
     "start_time": "2021-10-19T17:38:57.191804",
     "status": "completed"
    },
    "tags": []
   },
   "source": [
    "Keine nennenswerten Zusammenhänge zwischen Vogelgröße und Flugzeug-Modell/Operator"
   ]
  },
  {
   "cell_type": "code",
   "execution_count": 144,
   "id": "4f5c6aec",
   "metadata": {
    "execution": {
     "iopub.execute_input": "2021-10-19T17:38:57.909317Z",
     "iopub.status.busy": "2021-10-19T17:38:57.908687Z",
     "iopub.status.idle": "2021-10-19T17:38:58.614076Z",
     "shell.execute_reply": "2021-10-19T17:38:58.613416Z",
     "shell.execute_reply.started": "2021-09-24T11:57:30.15011Z"
    },
    "papermill": {
     "duration": 0.931296,
     "end_time": "2021-10-19T17:38:58.614214",
     "exception": false,
     "start_time": "2021-10-19T17:38:57.682918",
     "status": "completed"
    },
    "tags": []
   },
   "outputs": [
    {
     "data": {
      "image/png": "[encoded data removed]",
      "text/plain": [
       "<Figure size 1080x360 with 1 Axes>"
      ]
     },
     "metadata": {
      "needs_background": "light"
     },
     "output_type": "display_data"
    }
   ],
   "source": [
    "plt.figure(figsize=(15,5))\n",
    "plt.yscale('log')\n",
    "sns.barplot(x='Aircraft: Number of engines?', y='Feet above ground', data=df_clean);"
   ]
  },
  {
   "cell_type": "markdown",
   "id": "d006309f",
   "metadata": {
    "papermill": {
     "duration": 0.226157,
     "end_time": "2021-10-19T17:38:59.068023",
     "exception": false,
     "start_time": "2021-10-19T17:38:58.841866",
     "status": "completed"
    },
    "tags": []
   },
   "source": [
    "# Zusammenfassung der Ergebnisse\n",
    "\n",
    "Die Analyse ergibt, dass Kollisionsereignisse mit Vögeln meistens im Umkreis weniger Meilen des Fluglatzes und in sehr geringen Höhen unterhalb von 1000 Fuß stattfinden.\n",
    "Die Flugphasen unter denen Vogelkollisionen am ehesten auftreten sind Starts und Landungen auf dem Runway, sowie der Steigvorgang nach dem Abheben und dem Annähern an den Flughafen.\n",
    "\n",
    "Erklärbar werden diese Beobachtungen durch Hervorhebung der verschiedenen Typen von Vögel, welche an den Kollisionen beteiligt sind. Am sinnvollsten kann zwischen kleinen, mittleren und großen Vögeln unterschieden werden. Die explizite Spezies des Vogels scheint im Bezug auf Kollisionen mit Flugzeugen unwichtig zu sein.\n",
    "\n",
    "Kleine Vögel sind die am stärksten repräsentierte Gruppe in den Kollisionsstatistiken. Sie verursachen Vorfälle vornehmlich in geringen Höhen unterhalb von 1000 Fuß und in der Nähe des Flugplatzes. Tagsüber ereignen sich mehr Vorfälle mit kleinen Vögeln, was nahelegt, dass sie nachts weniger aktiv sind. Die Häufigkeit mit der sie Kollisionen eingehen folgt einem Jahreszyklus. Im Sommer (August) sind sie am aktivsten, während sich im Winter (Februar) deutlich weniger Vorfälle ereignen. Kollisionen mit kleinen Vögeln verursachen selten Schäden und haben kaum Konsequenzen. Selten kommt es zu Notlandungen und fast nie zu Motorausfällen.\n",
    "\n",
    "Dem gegenüber steht die Gruppe der mittleren und großen Vögel. Sie sind vornehmlich für Kollisionsereignisse in Höhen oberhalb von 1000 Fuß verantwortlich. Kollisionen mit mittelgroßen und vor allem großen Vögeln sind dafür seltener als Zwischenfälle mit kleinen Vögeln. Im Gegensatz zu kleinen Vögeln, sind sie Nachts fast genauso aktiv wie tagsüber, sodass die Zahl an Vorfällen mit ihnen Nachts kaum abnimmt. Ihre Aktivität folgt ebenfalls einen saisonalen Zyklus. Im Frühling und Herbst ist ihre Aktivität am höchsten, was dafür spricht, dass es sich um Zugvögel handelt.\n",
    "Zusammenstöße mit großen Vögeln sind zwar sehr selten, verursachen aber überproportional oft einen Maschinenschaden.\n",
    "\n",
    "Die kombinierte Aktivität von tendenziell eher tagaktiven Kleinvögeln und ganztägig aktiven größeren Vögeln führt zu einer tageszeitabhänigen Verteilung von Kollisionsereignissen. Tagsüber finden wesentlich mehr statt als Nachts und während der Dämmerung und dem Morgengrauen finden so gut wie keine statt.\n",
    "Über das ganze Jahr betrachtet, finden in der zweiten Jahreshälfte fast doppelt so viele Zusammenstöße mit Vögeln statt.\n",
    "\n",
    "Interessanterweise nehmen Kollisionsereignisse am Monatsende leicht zu. Der Effekt ist nicht verstanden.\n",
    "Die leichte Abnahme von Kollisionsereignissen am Wochenende ist vermutlich auf das reduzierte Flugaufkommen zurückzuführen.\n",
    "In dem betrachteten Zeitraum ist die Menge an erfasste Kollisionsereignissen pro Jahr fast beständig angewachsen. Grund hierfür ist vermutlich der fortlaufende Anstieg des Luftverkehrs.\n",
    "\n",
    "In den meißten Fällen, in denen Unfälle auftraten, waren die Piloten nicht vor Vögeln gewarnt worden.\n",
    "\n",
    "Maschinen mit zwei Motoren erleiden am häufigsten Kollisionen mit Vögeln. Diese finden im Schnitt auf einer Höhe von 800 Fuß statt.\n",
    "Die Maschinen von kommerziellen Fluggesellschaften und Business-Flügen tauchen besonders häufig in den Kollisionsstatistiken auf. Die häufigsten Modelle gehören zu Boeing, Airbus und Challenger.\n",
    "An Kollisionen oberhalb von 1000 Fuß sind am ehesten die Maschinen großer kommerzieller Fluggesellschaften und des Zolls beteiligt. Die häufigsten Modelle gehören zu Boeing, Airbus, Douglas Aircraft Company und McDonnell Douglas.\n",
    "Inwiefern diese Faktoren Zusammenstöße mit Vögeln begünstigen ist unklar, da das Gesamtaufkommen von Flügen dieser Art unbekannt ist.\n",
    "\n",
    "Viele Kollisionen ereignen sich an großen internationalen Flughäfen, was nichts bedeuten muss, da dort allgemein ein höheres Verkehrsaufkommen herrscht.\n",
    "\n",
    "Es scheint als hätten Parameter wie Flugbetreiber und Ursprungsflughafen keinen signifikanten Einfluss auf die Wahrscheinlichkeit für Zusammenstöße zwischen Flugzeugen und Vögeln."
   ]
  },
  {
   "cell_type": "code",
   "execution_count": null,
   "id": "ea319646",
   "metadata": {
    "papermill": {
     "duration": 0.223003,
     "end_time": "2021-10-19T17:38:59.515163",
     "exception": false,
     "start_time": "2021-10-19T17:38:59.292160",
     "status": "completed"
    },
    "tags": []
   },
   "outputs": [],
   "source": []
  }
 ],
 "metadata": {
  "kernelspec": {
   "display_name": "Python 3",
   "language": "python",
   "name": "python3"
  },
  "language_info": {
   "codemirror_mode": {
    "name": "ipython",
    "version": 3
   },
   "file_extension": ".py",
   "mimetype": "text/x-python",
   "name": "python",
   "nbconvert_exporter": "python",
   "pygments_lexer": "ipython3",
   "version": "3.5.2"
  },
  "papermill": {
   "default_parameters": {},
   "duration": 140.851931,
   "end_time": "2021-10-19T17:39:01.236440",
   "environment_variables": {},
   "exception": null,
   "input_path": "__notebook__.ipynb",
   "output_path": "__notebook__.ipynb",
   "parameters": {},
   "start_time": "2021-10-19T17:36:40.384509",
   "version": "2.3.3"
  }
 },
 "nbformat": 4,
 "nbformat_minor": 5
}
