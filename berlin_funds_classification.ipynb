{
 "cells": [
  {
   "cell_type": "markdown",
   "metadata": {},
   "source": [
    "# Einleitung\n",
    "\n",
    "Der Bundesstaat Berlin veröffentlicht jährlich die Details von staatlichen Ausgaben. Die Datensatz und Dateidefinitionen sind zu finden unter: https://www.berlin.de/sen/finanzen/service/zuwendungsdatenbank/\n",
    "\n",
    "Der Datensatz umfasst 49772 Einträge (Stand Dez. 2021) und setzt sich aus den folgenden 7 Attributen zusammen:\n",
    "\n",
    "<ul>\n",
    "<li>Name: Bezeichnung des Empfängers der Zuwendung</li>\n",
    "<li>Geber: Bezeichnung des Gebers der Zuwendung</li>\n",
    "<li>Art: Typus der Zuwendung</li>\n",
    "<li>Jahr: Jahr in dem die Zuwendung erteilt wurde</li>\n",
    "<li>Anschrift: Postanschrift des Empfängers</li>\n",
    "<li>Politikbereich: Zuordnung der Zuwendung zum relevanten Politikbereich</li>\n",
    "<li>Zweck: Beschribung des Verwendungszwecks</li>\n",
    "<li>Betrag: Höhe der Zuwendung</li>\n",
    "</ul>\n",
    "\n",
    "Die Zielsetzung besteht in der Erstellung eines Klassifikator-Modells, welches in der Lage ist den Plotikbereich, auf Basis aller übrigen Attribute, vorherzusagen.\n",
    "\n",
    "**Keywords: Multi Label Classification, Natural Language Processing**"
   ]
  },
  {
   "cell_type": "markdown",
   "metadata": {},
   "source": [
    "# Paket Import & Datenbeschaffung"
   ]
  },
  {
   "cell_type": "code",
   "execution_count": 2,
   "metadata": {},
   "outputs": [],
   "source": [
    "import numpy as np\n",
    "import pandas as pd\n",
    "import matplotlib.pyplot as plt\n",
    "import seaborn as sns\n",
    "from collections import Counter\n",
    "import re\n",
    "\n",
    "import nltk \n",
    "from nltk.stem.snowball import SnowballStemmer\n",
    "from nltk.tokenize import word_tokenize\n",
    "from nltk.corpus import stopwords\n",
    "\n",
    "from scipy.sparse import hstack\n",
    "from scipy.stats import uniform, loguniform, randint\n",
    "from scipy.stats import chi2_contingency\n",
    "\n",
    "import sklearn\n",
    "from sklearn.utils import shuffle\n",
    "from sklearn.model_selection import train_test_split\n",
    "from sklearn.base import BaseEstimator, TransformerMixin\n",
    "from sklearn.preprocessing import OneHotEncoder\n",
    "from sklearn.pipeline import Pipeline\n",
    "from sklearn.compose import make_column_transformer\n",
    "from sklearn.feature_extraction.text import TfidfVectorizer\n",
    "from sklearn.dummy import DummyClassifier\n",
    "from sklearn.metrics import log_loss\n",
    "from sklearn.metrics import classification_report\n",
    "from sklearn.metrics import roc_curve\n",
    "from sklearn.metrics import roc_auc_score\n",
    "from sklearn.preprocessing import LabelEncoder\n",
    "from sklearn.model_selection import RandomizedSearchCV\n",
    "from sklearn.svm import SVC\n",
    "from sklearn.linear_model import LogisticRegression\n",
    "from sklearn.neighbors import KNeighborsClassifier\n",
    "from sklearn.ensemble import RandomForestClassifier\n",
    "from sklearn.decomposition import PCA\n",
    "from sklearn.utils.testing import ignore_warnings\n",
    "from sklearn.exceptions import ConvergenceWarning\n",
    "from sklearn.exceptions import FitFailedWarning"
   ]
  },
  {
   "cell_type": "markdown",
   "metadata": {},
   "source": [
    "Aus unbekannten Gründen kann nicht der gesamte Datensatz auf einmal geladen werden. Es ist jedoch möglich in nach Jahren zu laden, was für den Zeitraum 2016-2020 vertretbar ist."
   ]
  },
  {
   "cell_type": "code",
   "execution_count": 3,
   "metadata": {},
   "outputs": [
    {
     "data": {
      "text/html": [
       "<div>\n",
       "<style scoped>\n",
       "    .dataframe tbody tr th:only-of-type {\n",
       "        vertical-align: middle;\n",
       "    }\n",
       "\n",
       "    .dataframe tbody tr th {\n",
       "        vertical-align: top;\n",
       "    }\n",
       "\n",
       "    .dataframe thead tr th {\n",
       "        text-align: left;\n",
       "    }\n",
       "</style>\n",
       "<table border=\"1\" class=\"dataframe\">\n",
       "  <thead>\n",
       "    <tr>\n",
       "      <th></th>\n",
       "      <th>Name</th>\n",
       "      <th>Geber</th>\n",
       "      <th>Art</th>\n",
       "      <th>Jahr</th>\n",
       "    </tr>\n",
       "    <tr>\n",
       "      <th></th>\n",
       "      <th>Anschrift</th>\n",
       "      <th>Politikbereich</th>\n",
       "      <th>Zweck</th>\n",
       "      <th>Betrag</th>\n",
       "    </tr>\n",
       "  </thead>\n",
       "  <tbody>\n",
       "    <tr>\n",
       "      <th>0</th>\n",
       "      <td>ImPULS e. V.</td>\n",
       "      <td>Bezirksamt Neukölln</td>\n",
       "      <td>Projektförderung</td>\n",
       "      <td>2016.0</td>\n",
       "    </tr>\n",
       "    <tr>\n",
       "      <th>1</th>\n",
       "      <td>Bat-Yam-Platz 1, 12353 Berlin</td>\n",
       "      <td>Bildung</td>\n",
       "      <td>Sprachschulungen für aktive Gropiusstädter</td>\n",
       "      <td>6607.0</td>\n",
       "    </tr>\n",
       "    <tr>\n",
       "      <th>2</th>\n",
       "      <td>Verein zur Förderung der Kommunikation unter G...</td>\n",
       "      <td>Bezirksamt Neukölln</td>\n",
       "      <td>Projektförderung</td>\n",
       "      <td>2016.0</td>\n",
       "    </tr>\n",
       "    <tr>\n",
       "      <th>3</th>\n",
       "      <td>Löwensteinring 22, 12353 Berlin</td>\n",
       "      <td>Familie</td>\n",
       "      <td>Kinderbildungscafe</td>\n",
       "      <td>2500.0</td>\n",
       "    </tr>\n",
       "    <tr>\n",
       "      <th>4</th>\n",
       "      <td>Verein zur Förderung der Kommunikation unter G...</td>\n",
       "      <td>Bezirksamt Neukölln</td>\n",
       "      <td>Projektförderung</td>\n",
       "      <td>2016.0</td>\n",
       "    </tr>\n",
       "  </tbody>\n",
       "</table>\n",
       "</div>"
      ],
      "text/plain": [
       "                                                Name                Geber  \\\n",
       "                                           Anschrift       Politikbereich   \n",
       "0                                       ImPULS e. V.  Bezirksamt Neukölln   \n",
       "1                      Bat-Yam-Platz 1, 12353 Berlin              Bildung   \n",
       "2  Verein zur Förderung der Kommunikation unter G...  Bezirksamt Neukölln   \n",
       "3                    Löwensteinring 22, 12353 Berlin              Familie   \n",
       "4  Verein zur Förderung der Kommunikation unter G...  Bezirksamt Neukölln   \n",
       "\n",
       "                                          Art    Jahr  \n",
       "                                        Zweck  Betrag  \n",
       "0                            Projektförderung  2016.0  \n",
       "1  Sprachschulungen für aktive Gropiusstädter  6607.0  \n",
       "2                            Projektförderung  2016.0  \n",
       "3                          Kinderbildungscafe  2500.0  \n",
       "4                            Projektförderung  2016.0  "
      ]
     },
     "execution_count": 3,
     "metadata": {},
     "output_type": "execute_result"
    }
   ],
   "source": [
    "source_url = 'https://www.berlin.de/sen/finanzen/service/zuwendungsdatenbank/index.php/index/print.html?q=&name=&anschrift=&zweck=&jahr=2016'\n",
    "df_2016 = pd.read_html(source_url)\n",
    "df_2016[0].head()"
   ]
  },
  {
   "cell_type": "code",
   "execution_count": 4,
   "metadata": {},
   "outputs": [],
   "source": [
    "df_2017 = pd.read_html('https://www.berlin.de/sen/finanzen/service/zuwendungsdatenbank/index.php/index/print.html?q=&name=&anschrift=&zweck=&jahr=2017')\n",
    "df_2018 = pd.read_html('https://www.berlin.de/sen/finanzen/service/zuwendungsdatenbank/index.php/index/print.html?q=&name=&anschrift=&zweck=&jahr=2018')\n",
    "df_2019 = pd.read_html('https://www.berlin.de/sen/finanzen/service/zuwendungsdatenbank/index.php/index/print.html?q=&name=&anschrift=&zweck=&jahr=2019')\n",
    "df_2020 = pd.read_html('https://www.berlin.de/sen/finanzen/service/zuwendungsdatenbank/index.php/index/print.html?q=&name=&anschrift=&zweck=&jahr=2020')"
   ]
  },
  {
   "cell_type": "code",
   "execution_count": 5,
   "metadata": {},
   "outputs": [
    {
     "data": {
      "text/html": [
       "<div>\n",
       "<style scoped>\n",
       "    .dataframe tbody tr th:only-of-type {\n",
       "        vertical-align: middle;\n",
       "    }\n",
       "\n",
       "    .dataframe tbody tr th {\n",
       "        vertical-align: top;\n",
       "    }\n",
       "\n",
       "    .dataframe thead tr th {\n",
       "        text-align: left;\n",
       "    }\n",
       "</style>\n",
       "<table border=\"1\" class=\"dataframe\">\n",
       "  <thead>\n",
       "    <tr>\n",
       "      <th></th>\n",
       "      <th>Name</th>\n",
       "      <th>Geber</th>\n",
       "      <th>Art</th>\n",
       "      <th>Jahr</th>\n",
       "    </tr>\n",
       "    <tr>\n",
       "      <th></th>\n",
       "      <th>Anschrift</th>\n",
       "      <th>Politikbereich</th>\n",
       "      <th>Zweck</th>\n",
       "      <th>Betrag</th>\n",
       "    </tr>\n",
       "  </thead>\n",
       "  <tbody>\n",
       "    <tr>\n",
       "      <th>0</th>\n",
       "      <td>ImPULS e. V.</td>\n",
       "      <td>Bezirksamt Neukölln</td>\n",
       "      <td>Projektförderung</td>\n",
       "      <td>2016.0</td>\n",
       "    </tr>\n",
       "    <tr>\n",
       "      <th>1</th>\n",
       "      <td>Bat-Yam-Platz 1, 12353 Berlin</td>\n",
       "      <td>Bildung</td>\n",
       "      <td>Sprachschulungen für aktive Gropiusstädter</td>\n",
       "      <td>6607.0</td>\n",
       "    </tr>\n",
       "    <tr>\n",
       "      <th>2</th>\n",
       "      <td>Verein zur Förderung der Kommunikation unter G...</td>\n",
       "      <td>Bezirksamt Neukölln</td>\n",
       "      <td>Projektförderung</td>\n",
       "      <td>2016.0</td>\n",
       "    </tr>\n",
       "    <tr>\n",
       "      <th>3</th>\n",
       "      <td>Löwensteinring 22, 12353 Berlin</td>\n",
       "      <td>Familie</td>\n",
       "      <td>Kinderbildungscafe</td>\n",
       "      <td>2500.0</td>\n",
       "    </tr>\n",
       "    <tr>\n",
       "      <th>4</th>\n",
       "      <td>Verein zur Förderung der Kommunikation unter G...</td>\n",
       "      <td>Bezirksamt Neukölln</td>\n",
       "      <td>Projektförderung</td>\n",
       "      <td>2016.0</td>\n",
       "    </tr>\n",
       "  </tbody>\n",
       "</table>\n",
       "</div>"
      ],
      "text/plain": [
       "                                                Name                Geber  \\\n",
       "                                           Anschrift       Politikbereich   \n",
       "0                                       ImPULS e. V.  Bezirksamt Neukölln   \n",
       "1                      Bat-Yam-Platz 1, 12353 Berlin              Bildung   \n",
       "2  Verein zur Förderung der Kommunikation unter G...  Bezirksamt Neukölln   \n",
       "3                    Löwensteinring 22, 12353 Berlin              Familie   \n",
       "4  Verein zur Förderung der Kommunikation unter G...  Bezirksamt Neukölln   \n",
       "\n",
       "                                          Art    Jahr  \n",
       "                                        Zweck  Betrag  \n",
       "0                            Projektförderung  2016.0  \n",
       "1  Sprachschulungen für aktive Gropiusstädter  6607.0  \n",
       "2                            Projektförderung  2016.0  \n",
       "3                          Kinderbildungscafe  2500.0  \n",
       "4                            Projektförderung  2016.0  "
      ]
     },
     "execution_count": 5,
     "metadata": {},
     "output_type": "execute_result"
    }
   ],
   "source": [
    "df_2016[0].head()"
   ]
  },
  {
   "cell_type": "markdown",
   "metadata": {},
   "source": [
    "Leider liegen die Daten in einer ungeeigneten Tabellenstrukur vor und müssen zunächst in eine konventionelle Form überführt werden."
   ]
  },
  {
   "cell_type": "code",
   "execution_count": 6,
   "metadata": {},
   "outputs": [],
   "source": [
    "# Routine zum Transformieren der Originaltabellen in Standardform\n",
    "def table_rearanger(df):\n",
    "    # obere Hälfte der Spaltenlabel und gerade Zeilen in linke Teiltabelle\n",
    "    df_1 = df.iloc[::2,:].reset_index(drop=True)\n",
    "    df_1.columns = df.columns.levels[0][df.columns.codes[0]]\n",
    "    \n",
    "    # untere Hälfte der Spaltenlabel und ungerade Zeilen in rechte Teiltabelle\n",
    "    df_2 = df.iloc[1::2,:].reset_index(drop=True)\n",
    "    df_2.columns = df.columns.levels[1][df.columns.codes[1]]\n",
    "    \n",
    "    # horizontaler Merge ergibt gesamte Tabelle im gewünschten Format\n",
    "    return pd.concat([df_1, df_2], axis=1)"
   ]
  },
  {
   "cell_type": "code",
   "execution_count": 7,
   "metadata": {},
   "outputs": [
    {
     "data": {
      "text/html": [
       "<div>\n",
       "<style scoped>\n",
       "    .dataframe tbody tr th:only-of-type {\n",
       "        vertical-align: middle;\n",
       "    }\n",
       "\n",
       "    .dataframe tbody tr th {\n",
       "        vertical-align: top;\n",
       "    }\n",
       "\n",
       "    .dataframe thead th {\n",
       "        text-align: right;\n",
       "    }\n",
       "</style>\n",
       "<table border=\"1\" class=\"dataframe\">\n",
       "  <thead>\n",
       "    <tr style=\"text-align: right;\">\n",
       "      <th></th>\n",
       "      <th>Name</th>\n",
       "      <th>Geber</th>\n",
       "      <th>Art</th>\n",
       "      <th>Jahr</th>\n",
       "      <th>Anschrift</th>\n",
       "      <th>Politikbereich</th>\n",
       "      <th>Zweck</th>\n",
       "      <th>Betrag</th>\n",
       "    </tr>\n",
       "  </thead>\n",
       "  <tbody>\n",
       "    <tr>\n",
       "      <th>0</th>\n",
       "      <td>ImPULS e. V.</td>\n",
       "      <td>Bezirksamt Neukölln</td>\n",
       "      <td>Projektförderung</td>\n",
       "      <td>2016.0</td>\n",
       "      <td>Bat-Yam-Platz 1, 12353 Berlin</td>\n",
       "      <td>Bildung</td>\n",
       "      <td>Sprachschulungen für aktive Gropiusstädter</td>\n",
       "      <td>6607.0</td>\n",
       "    </tr>\n",
       "    <tr>\n",
       "      <th>1</th>\n",
       "      <td>Verein zur Förderung der Kommunikation unter G...</td>\n",
       "      <td>Bezirksamt Neukölln</td>\n",
       "      <td>Projektförderung</td>\n",
       "      <td>2016.0</td>\n",
       "      <td>Löwensteinring 22, 12353 Berlin</td>\n",
       "      <td>Familie</td>\n",
       "      <td>Kinderbildungscafe</td>\n",
       "      <td>2500.0</td>\n",
       "    </tr>\n",
       "    <tr>\n",
       "      <th>2</th>\n",
       "      <td>Verein zur Förderung der Kommunikation unter G...</td>\n",
       "      <td>Bezirksamt Neukölln</td>\n",
       "      <td>Projektförderung</td>\n",
       "      <td>2016.0</td>\n",
       "      <td>Löwensteinring 22, 12353 Berlin</td>\n",
       "      <td>Jugend</td>\n",
       "      <td>Service Learning</td>\n",
       "      <td>15364.0</td>\n",
       "    </tr>\n",
       "    <tr>\n",
       "      <th>3</th>\n",
       "      <td>ABC Zentrum Berlin e. V.</td>\n",
       "      <td>Bezirksamt Mitte</td>\n",
       "      <td>Projektförderung</td>\n",
       "      <td>2016.0</td>\n",
       "      <td>Luise-Zietz-Straße 43, 12683 Berlin</td>\n",
       "      <td>Stadtentwicklung</td>\n",
       "      <td>Sachmittel für freiwilliges Engagement in Nach...</td>\n",
       "      <td>1750.0</td>\n",
       "    </tr>\n",
       "    <tr>\n",
       "      <th>4</th>\n",
       "      <td>casablanca gGmbH</td>\n",
       "      <td>Bezirksamt Mitte</td>\n",
       "      <td>Projektförderung</td>\n",
       "      <td>2016.0</td>\n",
       "      <td>Pistoriusstraße 108a, 13086 Berlin</td>\n",
       "      <td>Stadtentwicklung</td>\n",
       "      <td>Sachmittel für freiwilliges Engagement in Nach...</td>\n",
       "      <td>980.0</td>\n",
       "    </tr>\n",
       "  </tbody>\n",
       "</table>\n",
       "</div>"
      ],
      "text/plain": [
       "                                                Name                Geber  \\\n",
       "0                                       ImPULS e. V.  Bezirksamt Neukölln   \n",
       "1  Verein zur Förderung der Kommunikation unter G...  Bezirksamt Neukölln   \n",
       "2  Verein zur Förderung der Kommunikation unter G...  Bezirksamt Neukölln   \n",
       "3                           ABC Zentrum Berlin e. V.     Bezirksamt Mitte   \n",
       "4                                   casablanca gGmbH     Bezirksamt Mitte   \n",
       "\n",
       "                Art    Jahr                            Anschrift  \\\n",
       "0  Projektförderung  2016.0        Bat-Yam-Platz 1, 12353 Berlin   \n",
       "1  Projektförderung  2016.0      Löwensteinring 22, 12353 Berlin   \n",
       "2  Projektförderung  2016.0      Löwensteinring 22, 12353 Berlin   \n",
       "3  Projektförderung  2016.0  Luise-Zietz-Straße 43, 12683 Berlin   \n",
       "4  Projektförderung  2016.0   Pistoriusstraße 108a, 13086 Berlin   \n",
       "\n",
       "     Politikbereich                                              Zweck  \\\n",
       "0           Bildung         Sprachschulungen für aktive Gropiusstädter   \n",
       "1           Familie                                 Kinderbildungscafe   \n",
       "2            Jugend                                   Service Learning   \n",
       "3  Stadtentwicklung  Sachmittel für freiwilliges Engagement in Nach...   \n",
       "4  Stadtentwicklung  Sachmittel für freiwilliges Engagement in Nach...   \n",
       "\n",
       "    Betrag  \n",
       "0   6607.0  \n",
       "1   2500.0  \n",
       "2  15364.0  \n",
       "3   1750.0  \n",
       "4    980.0  "
      ]
     },
     "execution_count": 7,
     "metadata": {},
     "output_type": "execute_result"
    }
   ],
   "source": [
    "table_rearanger(df_2016[0]).head()"
   ]
  },
  {
   "cell_type": "code",
   "execution_count": 8,
   "metadata": {},
   "outputs": [],
   "source": [
    "# vertikaler Merge aller Jahrestabellen ergibt vollen Datensatz\n",
    "df_original_full = pd.concat([table_rearanger(df_2016[0]),\n",
    "                              table_rearanger(df_2017[0]),\n",
    "                              table_rearanger(df_2018[0]),\n",
    "                              table_rearanger(df_2019[0]),\n",
    "                              table_rearanger(df_2020[0])]).reset_index(drop=True)"
   ]
  },
  {
   "cell_type": "code",
   "execution_count": 9,
   "metadata": {},
   "outputs": [
    {
     "data": {
      "text/html": [
       "<div>\n",
       "<style scoped>\n",
       "    .dataframe tbody tr th:only-of-type {\n",
       "        vertical-align: middle;\n",
       "    }\n",
       "\n",
       "    .dataframe tbody tr th {\n",
       "        vertical-align: top;\n",
       "    }\n",
       "\n",
       "    .dataframe thead th {\n",
       "        text-align: right;\n",
       "    }\n",
       "</style>\n",
       "<table border=\"1\" class=\"dataframe\">\n",
       "  <thead>\n",
       "    <tr style=\"text-align: right;\">\n",
       "      <th></th>\n",
       "      <th>Name</th>\n",
       "      <th>Geber</th>\n",
       "      <th>Art</th>\n",
       "      <th>Jahr</th>\n",
       "      <th>Anschrift</th>\n",
       "      <th>Politikbereich</th>\n",
       "      <th>Zweck</th>\n",
       "      <th>Betrag</th>\n",
       "    </tr>\n",
       "  </thead>\n",
       "  <tbody>\n",
       "    <tr>\n",
       "      <th>0</th>\n",
       "      <td>ImPULS e. V.</td>\n",
       "      <td>Bezirksamt Neukölln</td>\n",
       "      <td>Projektförderung</td>\n",
       "      <td>2016.0</td>\n",
       "      <td>Bat-Yam-Platz 1, 12353 Berlin</td>\n",
       "      <td>Bildung</td>\n",
       "      <td>Sprachschulungen für aktive Gropiusstädter</td>\n",
       "      <td>6607.0</td>\n",
       "    </tr>\n",
       "    <tr>\n",
       "      <th>1</th>\n",
       "      <td>Verein zur Förderung der Kommunikation unter G...</td>\n",
       "      <td>Bezirksamt Neukölln</td>\n",
       "      <td>Projektförderung</td>\n",
       "      <td>2016.0</td>\n",
       "      <td>Löwensteinring 22, 12353 Berlin</td>\n",
       "      <td>Familie</td>\n",
       "      <td>Kinderbildungscafe</td>\n",
       "      <td>2500.0</td>\n",
       "    </tr>\n",
       "    <tr>\n",
       "      <th>2</th>\n",
       "      <td>Verein zur Förderung der Kommunikation unter G...</td>\n",
       "      <td>Bezirksamt Neukölln</td>\n",
       "      <td>Projektförderung</td>\n",
       "      <td>2016.0</td>\n",
       "      <td>Löwensteinring 22, 12353 Berlin</td>\n",
       "      <td>Jugend</td>\n",
       "      <td>Service Learning</td>\n",
       "      <td>15364.0</td>\n",
       "    </tr>\n",
       "    <tr>\n",
       "      <th>3</th>\n",
       "      <td>ABC Zentrum Berlin e. V.</td>\n",
       "      <td>Bezirksamt Mitte</td>\n",
       "      <td>Projektförderung</td>\n",
       "      <td>2016.0</td>\n",
       "      <td>Luise-Zietz-Straße 43, 12683 Berlin</td>\n",
       "      <td>Stadtentwicklung</td>\n",
       "      <td>Sachmittel für freiwilliges Engagement in Nach...</td>\n",
       "      <td>1750.0</td>\n",
       "    </tr>\n",
       "    <tr>\n",
       "      <th>4</th>\n",
       "      <td>casablanca gGmbH</td>\n",
       "      <td>Bezirksamt Mitte</td>\n",
       "      <td>Projektförderung</td>\n",
       "      <td>2016.0</td>\n",
       "      <td>Pistoriusstraße 108a, 13086 Berlin</td>\n",
       "      <td>Stadtentwicklung</td>\n",
       "      <td>Sachmittel für freiwilliges Engagement in Nach...</td>\n",
       "      <td>980.0</td>\n",
       "    </tr>\n",
       "  </tbody>\n",
       "</table>\n",
       "</div>"
      ],
      "text/plain": [
       "                                                Name                Geber  \\\n",
       "0                                       ImPULS e. V.  Bezirksamt Neukölln   \n",
       "1  Verein zur Förderung der Kommunikation unter G...  Bezirksamt Neukölln   \n",
       "2  Verein zur Förderung der Kommunikation unter G...  Bezirksamt Neukölln   \n",
       "3                           ABC Zentrum Berlin e. V.     Bezirksamt Mitte   \n",
       "4                                   casablanca gGmbH     Bezirksamt Mitte   \n",
       "\n",
       "                Art    Jahr                            Anschrift  \\\n",
       "0  Projektförderung  2016.0        Bat-Yam-Platz 1, 12353 Berlin   \n",
       "1  Projektförderung  2016.0      Löwensteinring 22, 12353 Berlin   \n",
       "2  Projektförderung  2016.0      Löwensteinring 22, 12353 Berlin   \n",
       "3  Projektförderung  2016.0  Luise-Zietz-Straße 43, 12683 Berlin   \n",
       "4  Projektförderung  2016.0   Pistoriusstraße 108a, 13086 Berlin   \n",
       "\n",
       "     Politikbereich                                              Zweck  \\\n",
       "0           Bildung         Sprachschulungen für aktive Gropiusstädter   \n",
       "1           Familie                                 Kinderbildungscafe   \n",
       "2            Jugend                                   Service Learning   \n",
       "3  Stadtentwicklung  Sachmittel für freiwilliges Engagement in Nach...   \n",
       "4  Stadtentwicklung  Sachmittel für freiwilliges Engagement in Nach...   \n",
       "\n",
       "    Betrag  \n",
       "0   6607.0  \n",
       "1   2500.0  \n",
       "2  15364.0  \n",
       "3   1750.0  \n",
       "4    980.0  "
      ]
     },
     "execution_count": 9,
     "metadata": {},
     "output_type": "execute_result"
    }
   ],
   "source": [
    "df_original_full.head()"
   ]
  },
  {
   "cell_type": "markdown",
   "metadata": {},
   "source": [
    "Bemerkung: Die volle Tabelle enthält 5 Einträge mehr als eigentlich vorhanden. Es handelt sich dabei um Einträge welche nur aus NaNs bestehen und an den Enden der einzelnen Jahrestabellen auftreten. Sie sind irrelevant und können direkt entfernt werden."
   ]
  },
  {
   "cell_type": "code",
   "execution_count": 10,
   "metadata": {},
   "outputs": [],
   "source": [
    "df_original_full.dropna(how='all', inplace=True)"
   ]
  },
  {
   "cell_type": "markdown",
   "metadata": {},
   "source": [
    "# Datenexploration\n",
    "\n",
    "Der folgende Abschnitt enthält eine individuelle Inspektion aller Attribute bei der Probleme und Besonderheiten des jeweiligen Attributs identifiziert werden. Am Datensatz selber werden keine nachhaltigen Änderungen vorgenommen. Es werden lediglich Strategien entwickelt, welche später dazu eingesetz werden die Daten für das Machine Learning vorzubereiten."
   ]
  },
  {
   "cell_type": "code",
   "execution_count": 11,
   "metadata": {},
   "outputs": [],
   "source": [
    "df_full = df_original_full.copy()"
   ]
  },
  {
   "cell_type": "code",
   "execution_count": 12,
   "metadata": {},
   "outputs": [
    {
     "name": "stdout",
     "output_type": "stream",
     "text": [
      "<class 'pandas.core.frame.DataFrame'>\n",
      "Int64Index: 49773 entries, 0 to 49776\n",
      "Data columns (total 8 columns):\n",
      "Name              49772 non-null object\n",
      "Geber             49773 non-null object\n",
      "Art               49773 non-null object\n",
      "Jahr              49773 non-null float64\n",
      "Anschrift         49768 non-null object\n",
      "Politikbereich    49773 non-null object\n",
      "Zweck             49764 non-null object\n",
      "Betrag            49773 non-null float64\n",
      "dtypes: float64(2), object(6)\n",
      "memory usage: 3.4+ MB\n"
     ]
    }
   ],
   "source": [
    "df_full.info()"
   ]
  },
  {
   "cell_type": "code",
   "execution_count": 13,
   "metadata": {},
   "outputs": [],
   "source": [
    "# werte leere Strings und Zahlenwerte <= 0 als fehlende Einträge und behandle wie NaN\n",
    "df_full.replace('', np.NaN, inplace=True)\n",
    "\n",
    "df_full.replace(0, np.NaN, inplace=True)\n",
    "df_full[df_full.Jahr <= 0] = np.NaN\n",
    "df_full[df_full.Betrag <= 0] = np.NaN"
   ]
  },
  {
   "cell_type": "markdown",
   "metadata": {},
   "source": [
    "## Geber\n",
    "\n",
    "Wie aus dem info-Output entnommen werden kann,enthält das Attribut keine fehlenden Werte. Es handelt sich um ein Attribut vom Typ String."
   ]
  },
  {
   "cell_type": "code",
   "execution_count": 14,
   "metadata": {},
   "outputs": [],
   "source": [
    "# ignoriere Unterschiede bei der Groß- und Kleinschreibung\n",
    "df_full.Geber = df_full.Geber.str.lower()"
   ]
  },
  {
   "cell_type": "code",
   "execution_count": 15,
   "metadata": {},
   "outputs": [
    {
     "data": {
      "text/plain": [
       "36"
      ]
     },
     "execution_count": 15,
     "metadata": {},
     "output_type": "execute_result"
    }
   ],
   "source": [
    "len(Counter(df_full.Geber))"
   ]
  },
  {
   "cell_type": "markdown",
   "metadata": {},
   "source": [
    "Es gibt 36 verschiedene Ausprägungen für das Attribut, daher ergibt es Sinn es als kategorisches Attribut zu behandeln. Es bietet sich jedoch an, die Auswahl an Kategorien so zu beschränken, dass nur solche mit einer Häufigkeit > 400 berücksichtigt werden. Dieser Grenzwert ist relativ willkürlich und könnte nötigenfalls angepasst werden."
   ]
  },
  {
   "cell_type": "code",
   "execution_count": 16,
   "metadata": {},
   "outputs": [],
   "source": [
    "# allgemeine Routine um eine Spalte eines Dataframes auf Werte zu reduzieren die mehr als n-mal auftreten.\n",
    "# Rest wird default Wert zugeteilt.\n",
    "def reduce_categories(frame, attribute, min_samples):\n",
    "    # erstelle counter objekt für Splateneinträge\n",
    "    counter = Counter(frame[attribute])\n",
    "    # extrahiere keys mit valuecount > threshold\n",
    "    names = np.array(list(counter.keys()))[np.array(list(counter.values())) > min_samples]\n",
    "    # erstelle neuen Dataframe \n",
    "    # benenne in betreffender Spalte alle Einträge 'Sonstige' falls nicht in keylist\n",
    "    # gib neuen frame zurück\n",
    "    new_frame = frame.copy()\n",
    "    new_frame[attribute] = new_frame[attribute].apply(lambda x: x if x in names else 'sonstige')\n",
    "    return new_frame"
   ]
  },
  {
   "cell_type": "code",
   "execution_count": 17,
   "metadata": {},
   "outputs": [],
   "source": [
    "test = reduce_categories(df_full, 'Geber', 400)"
   ]
  },
  {
   "cell_type": "code",
   "execution_count": 18,
   "metadata": {},
   "outputs": [
    {
     "data": {
      "image/png": "[encoded data removed]",
      "text/plain": [
       "<Figure size 720x720 with 1 Axes>"
      ]
     },
     "metadata": {
      "needs_background": "light"
     },
     "output_type": "display_data"
    }
   ],
   "source": [
    "f, ax = plt.subplots(figsize=(10, 10))\n",
    "sns.countplot(y=test.Geber);"
   ]
  },
  {
   "cell_type": "markdown",
   "metadata": {},
   "source": [
    "An dieser Stelle wäre es interessant zu wissen, inwieweit 'Geber' mit der Zielgröße 'Politikbereich' korreliert ist. Hierzu wird ein chi2-Test über eine Kontingenztafel(Geber VS Politikbereich) durchgeführt."
   ]
  },
  {
   "cell_type": "code",
   "execution_count": 19,
   "metadata": {},
   "outputs": [],
   "source": [
    "contingency = pd.crosstab(columns=test['Politikbereich'], index=test['Geber'])"
   ]
  },
  {
   "cell_type": "code",
   "execution_count": 20,
   "metadata": {},
   "outputs": [
    {
     "data": {
      "text/html": [
       "<div>\n",
       "<style scoped>\n",
       "    .dataframe tbody tr th:only-of-type {\n",
       "        vertical-align: middle;\n",
       "    }\n",
       "\n",
       "    .dataframe tbody tr th {\n",
       "        vertical-align: top;\n",
       "    }\n",
       "\n",
       "    .dataframe thead th {\n",
       "        text-align: right;\n",
       "    }\n",
       "</style>\n",
       "<table border=\"1\" class=\"dataframe\">\n",
       "  <thead>\n",
       "    <tr style=\"text-align: right;\">\n",
       "      <th>Politikbereich</th>\n",
       "      <th>Antidiskriminierung</th>\n",
       "      <th>Arbeit</th>\n",
       "      <th>Bauen, Wohnen</th>\n",
       "      <th>Berlin-Image</th>\n",
       "      <th>Bildung</th>\n",
       "      <th>Bürgerschaftliches Engagement, Bürgerbeteiligung</th>\n",
       "      <th>Denkmalschutz</th>\n",
       "    </tr>\n",
       "    <tr>\n",
       "      <th>Geber</th>\n",
       "      <th></th>\n",
       "      <th></th>\n",
       "      <th></th>\n",
       "      <th></th>\n",
       "      <th></th>\n",
       "      <th></th>\n",
       "      <th></th>\n",
       "    </tr>\n",
       "  </thead>\n",
       "  <tbody>\n",
       "    <tr>\n",
       "      <th>bezirksamt charlottenburg-wilmersdorf</th>\n",
       "      <td>0</td>\n",
       "      <td>0</td>\n",
       "      <td>0</td>\n",
       "      <td>0</td>\n",
       "      <td>72</td>\n",
       "      <td>0</td>\n",
       "      <td>0</td>\n",
       "    </tr>\n",
       "    <tr>\n",
       "      <th>bezirksamt friedrichshain-kreuzberg</th>\n",
       "      <td>7</td>\n",
       "      <td>2</td>\n",
       "      <td>4</td>\n",
       "      <td>0</td>\n",
       "      <td>14</td>\n",
       "      <td>167</td>\n",
       "      <td>0</td>\n",
       "    </tr>\n",
       "    <tr>\n",
       "      <th>bezirksamt lichtenberg</th>\n",
       "      <td>0</td>\n",
       "      <td>0</td>\n",
       "      <td>0</td>\n",
       "      <td>0</td>\n",
       "      <td>29</td>\n",
       "      <td>128</td>\n",
       "      <td>0</td>\n",
       "    </tr>\n",
       "    <tr>\n",
       "      <th>bezirksamt marzahn-hellersdorf</th>\n",
       "      <td>0</td>\n",
       "      <td>0</td>\n",
       "      <td>0</td>\n",
       "      <td>0</td>\n",
       "      <td>39</td>\n",
       "      <td>37</td>\n",
       "      <td>0</td>\n",
       "    </tr>\n",
       "    <tr>\n",
       "      <th>bezirksamt mitte</th>\n",
       "      <td>0</td>\n",
       "      <td>0</td>\n",
       "      <td>0</td>\n",
       "      <td>0</td>\n",
       "      <td>1</td>\n",
       "      <td>0</td>\n",
       "      <td>0</td>\n",
       "    </tr>\n",
       "    <tr>\n",
       "      <th>bezirksamt neukölln</th>\n",
       "      <td>4</td>\n",
       "      <td>9</td>\n",
       "      <td>6</td>\n",
       "      <td>0</td>\n",
       "      <td>161</td>\n",
       "      <td>68</td>\n",
       "      <td>0</td>\n",
       "    </tr>\n",
       "    <tr>\n",
       "      <th>bezirksamt pankow</th>\n",
       "      <td>0</td>\n",
       "      <td>0</td>\n",
       "      <td>0</td>\n",
       "      <td>0</td>\n",
       "      <td>148</td>\n",
       "      <td>0</td>\n",
       "      <td>0</td>\n",
       "    </tr>\n",
       "  </tbody>\n",
       "</table>\n",
       "</div>"
      ],
      "text/plain": [
       "Politikbereich                         Antidiskriminierung  Arbeit  \\\n",
       "Geber                                                                \n",
       "bezirksamt charlottenburg-wilmersdorf                    0       0   \n",
       "bezirksamt friedrichshain-kreuzberg                      7       2   \n",
       "bezirksamt lichtenberg                                   0       0   \n",
       "bezirksamt marzahn-hellersdorf                           0       0   \n",
       "bezirksamt mitte                                         0       0   \n",
       "bezirksamt neukölln                                      4       9   \n",
       "bezirksamt pankow                                        0       0   \n",
       "\n",
       "Politikbereich                         Bauen, Wohnen  Berlin-Image  Bildung  \\\n",
       "Geber                                                                         \n",
       "bezirksamt charlottenburg-wilmersdorf              0             0       72   \n",
       "bezirksamt friedrichshain-kreuzberg                4             0       14   \n",
       "bezirksamt lichtenberg                             0             0       29   \n",
       "bezirksamt marzahn-hellersdorf                     0             0       39   \n",
       "bezirksamt mitte                                   0             0        1   \n",
       "bezirksamt neukölln                                6             0      161   \n",
       "bezirksamt pankow                                  0             0      148   \n",
       "\n",
       "Politikbereich                         Bürgerschaftliches Engagement, Bürgerbeteiligung  \\\n",
       "Geber                                                                                     \n",
       "bezirksamt charlottenburg-wilmersdorf                                                 0   \n",
       "bezirksamt friedrichshain-kreuzberg                                                 167   \n",
       "bezirksamt lichtenberg                                                              128   \n",
       "bezirksamt marzahn-hellersdorf                                                       37   \n",
       "bezirksamt mitte                                                                      0   \n",
       "bezirksamt neukölln                                                                  68   \n",
       "bezirksamt pankow                                                                     0   \n",
       "\n",
       "Politikbereich                         Denkmalschutz  \n",
       "Geber                                                 \n",
       "bezirksamt charlottenburg-wilmersdorf              0  \n",
       "bezirksamt friedrichshain-kreuzberg                0  \n",
       "bezirksamt lichtenberg                             0  \n",
       "bezirksamt marzahn-hellersdorf                     0  \n",
       "bezirksamt mitte                                   0  \n",
       "bezirksamt neukölln                                0  \n",
       "bezirksamt pankow                                  0  "
      ]
     },
     "execution_count": 20,
     "metadata": {},
     "output_type": "execute_result"
    }
   ],
   "source": [
    "# exeplarischer Auszug aus der Kontingenztafel\n",
    "contingency.iloc[:7,:7]"
   ]
  },
  {
   "cell_type": "code",
   "execution_count": 21,
   "metadata": {},
   "outputs": [
    {
     "name": "stdout",
     "output_type": "stream",
     "text": [
      "Chi 2 score: 315055.191086\n",
      "p value: 0.000000\n"
     ]
    }
   ],
   "source": [
    "chi2, p , _, _ = chi2_contingency(contingency)\n",
    "print('Chi 2 score: %f' %(chi2))\n",
    "print('p value: %f' %(p))"
   ]
  },
  {
   "cell_type": "markdown",
   "metadata": {},
   "source": [
    "Leider sind diese Ergebnisse völlig unbrauchbar, da der Chi2-Test nur für ausreichend dicht besetzte Datenseätze gültig ist.\n",
    "\n",
    "[Das selbe Problem tritt bei allen anderen Attributen ebenso auf. Eine direkte Bestimmung der Relevanz eines Attributs für die Zielgröße ist auf diese Art nicht möglich.]"
   ]
  },
  {
   "cell_type": "markdown",
   "metadata": {},
   "source": [
    "## Art\n",
    "\n",
    "Attribut enthält keine fehlenden Werte. Typ String"
   ]
  },
  {
   "cell_type": "code",
   "execution_count": 22,
   "metadata": {},
   "outputs": [
    {
     "data": {
      "text/plain": [
       "2"
      ]
     },
     "execution_count": 22,
     "metadata": {},
     "output_type": "execute_result"
    }
   ],
   "source": [
    "df_full.Art = df_full.Art.str.lower()\n",
    "len(Counter(df_full.Art))"
   ]
  },
  {
   "cell_type": "code",
   "execution_count": 23,
   "metadata": {},
   "outputs": [
    {
     "data": {
      "image/png": "[encoded data removed]",
      "text/plain": [
       "<Figure size 720x360 with 1 Axes>"
      ]
     },
     "metadata": {
      "needs_background": "light"
     },
     "output_type": "display_data"
    }
   ],
   "source": [
    "test = reduce_categories(df_full, 'Art', 400)\n",
    "\n",
    "f, ax = plt.subplots(figsize=(10, 5))\n",
    "plt.xscale('log')\n",
    "sns.countplot(y=test.Art);"
   ]
  },
  {
   "cell_type": "markdown",
   "metadata": {},
   "source": [
    "Keine Reduktion der Kategorien notwendig. Kann so beibehalten werden. Seltenste Ausprägung noch hinreichend häufig."
   ]
  },
  {
   "cell_type": "markdown",
   "metadata": {},
   "source": [
    "## Politikbereich\n",
    "\n",
    "Attribut enthält keine fehlenden Werte. Typ String"
   ]
  },
  {
   "cell_type": "code",
   "execution_count": 24,
   "metadata": {},
   "outputs": [
    {
     "data": {
      "text/plain": [
       "31"
      ]
     },
     "execution_count": 24,
     "metadata": {},
     "output_type": "execute_result"
    }
   ],
   "source": [
    "df_full.Politikbereich = df_full.Politikbereich.str.lower()\n",
    "len(Counter(df_full.Politikbereich))"
   ]
  },
  {
   "cell_type": "code",
   "execution_count": 25,
   "metadata": {},
   "outputs": [
    {
     "data": {
      "text/plain": [
       "[('bauen, wohnen', 45),\n",
       " ('finanzen', 44),\n",
       " ('berlin-image', 2),\n",
       " ('tierschutz', 2),\n",
       " ('medien', 1)]"
      ]
     },
     "execution_count": 25,
     "metadata": {},
     "output_type": "execute_result"
    }
   ],
   "source": [
    "Counter(df_full.Politikbereich).most_common()[-5:]"
   ]
  },
  {
   "cell_type": "markdown",
   "metadata": {},
   "source": [
    "Obwohl es sich hierbei um die zu bestimmende Zielgröße handelt, ist es auch hier unabdingbar, die Anzahl an Kategorien zu reduzieren. Es ist ausgeschlossen, dass ein ML Model erlernen kann Lables vorherzusagen, welche praktisch nie auftreten."
   ]
  },
  {
   "cell_type": "code",
   "execution_count": 26,
   "metadata": {},
   "outputs": [
    {
     "data": {
      "image/png": "[encoded data removed]",
      "text/plain": [
       "<Figure size 720x720 with 1 Axes>"
      ]
     },
     "metadata": {
      "needs_background": "light"
     },
     "output_type": "display_data"
    }
   ],
   "source": [
    "test = reduce_categories(df_full, 'Politikbereich', 400)\n",
    "\n",
    "f, ax = plt.subplots(figsize=(10, 10))\n",
    "sns.countplot(y=test.Politikbereich);"
   ]
  },
  {
   "cell_type": "markdown",
   "metadata": {},
   "source": [
    "Leider ist der Datensatz hiermit immer noch sehr schlecht ausbalaciert. Möglicherweise muss hier weiter reduziert werden, oder es müssen andere Techniken herangezogen werden."
   ]
  },
  {
   "cell_type": "markdown",
   "metadata": {},
   "source": [
    "## Anschrift\n",
    "\n",
    "Es ist unmittelbar ersichtlich, dass die Anschrift an sich kein sinnvoles Attribut ist, da sie direkt mit den Names des Empfängers korreliert ist und daher praktisch redundant ist. Die einzelnen Komponeneten der Anschrift könnten jedoch aufschlussreich sein.\n",
    "\n",
    "Eine Hand voll Adressen ist nicht vorhanden. Möglicherweise können die fehlenden Werte über den Namen des Empfängers ermittelt werden, allerdings wird hier aufgrund des geringen Nutzens davon abgesehen. Entsprechende Einträge werden als 'Unbekannt' deklariert."
   ]
  },
  {
   "cell_type": "code",
   "execution_count": 27,
   "metadata": {},
   "outputs": [],
   "source": [
    "df_full.Anschrift.fillna('unbekannt', inplace=True)"
   ]
  },
  {
   "cell_type": "code",
   "execution_count": 28,
   "metadata": {},
   "outputs": [
    {
     "data": {
      "text/plain": [
       "9144"
      ]
     },
     "execution_count": 28,
     "metadata": {},
     "output_type": "execute_result"
    }
   ],
   "source": [
    "df_full.Anschrift = df_full.Anschrift.str.lower()\n",
    "len(Counter(df_full.Anschrift))"
   ]
  },
  {
   "cell_type": "code",
   "execution_count": 29,
   "metadata": {},
   "outputs": [
    {
     "data": {
      "image/png": "[encoded data removed]",
      "text/plain": [
       "<Figure size 720x360 with 1 Axes>"
      ]
     },
     "metadata": {
      "needs_background": "light"
     },
     "output_type": "display_data"
    }
   ],
   "source": [
    "test = reduce_categories(df_full, 'Anschrift', 400)\n",
    "\n",
    "f, ax = plt.subplots(figsize=(10, 5))\n",
    "plt.xscale('log')\n",
    "sns.countplot(y=test.Anschrift);"
   ]
  },
  {
   "cell_type": "markdown",
   "metadata": {},
   "source": [
    "Die Anschrift ist als kategorisches Attribut wohl kaum zu gebrauchen. Die Ausprägung ist zu divers, sodass ein Großteil aller Einträge als 'Sonstige' abgetan werden müsste.\n",
    "\n",
    "Eine Vielzahl an Adressen scheint unbekannt zu sein. Diese liegen nicht als NaN sondern als '---' vor."
   ]
  },
  {
   "cell_type": "code",
   "execution_count": 30,
   "metadata": {},
   "outputs": [],
   "source": [
    "test = df_full.replace('---', 'unbekannt,')   # das komma am Ende ist für split_adress wichtig"
   ]
  },
  {
   "cell_type": "code",
   "execution_count": 31,
   "metadata": {},
   "outputs": [],
   "source": [
    "# Spaltet Anschrift-Spalte eines Dataframes in Strasse, PLZ und Ort und erzeugt seperate Spalten \n",
    "def split_adress(frame):\n",
    "    # extrahiert alles vor dem letzten Komma -> Strassenname\n",
    "    def get_street(string):\n",
    "        try:\n",
    "            return ''.join(string.split(',')[:-1])\n",
    "        except:\n",
    "            return 'unbekannt'\n",
    "    \n",
    "    # extrahiert alles nach dem letzen Komma, vor dem letzen Leerzeichen -> PLZ\n",
    "    def get_code(string):\n",
    "        try:\n",
    "            return string.split(',')[-1].split(' ')[1] \n",
    "        except:\n",
    "            return 'unbekannt'\n",
    "    \n",
    "    # extrahiert alles nach dem letzen Komma, nach dem letzen Leerzeichen -> Ort\n",
    "    def get_city(string):\n",
    "        try:\n",
    "            return string.split(',')[-1].split(' ')[2] \n",
    "        except:\n",
    "            return 'unbekannt'\n",
    "    \n",
    "    # erstelle neuen Dataframe, extrahiere Strasse, Ort und PLZ\n",
    "    # füge als neue Spalten hinzu\n",
    "    # entferne Anschrift und gib neuen frame zurück\n",
    "    new_frame = frame.copy()\n",
    "    new_frame['Strasse'] = new_frame['Anschrift'].astype(str).apply(get_street)\n",
    "    new_frame['PLZ'] = new_frame['Anschrift'].astype(str).apply(get_code)\n",
    "    new_frame['Ort'] = new_frame['Anschrift'].astype(str).apply(get_city)\n",
    "    \n",
    "    return new_frame.drop(columns=['Anschrift'])"
   ]
  },
  {
   "cell_type": "code",
   "execution_count": 32,
   "metadata": {},
   "outputs": [
    {
     "name": "stdout",
     "output_type": "stream",
     "text": [
      "Anzahl unterschiedlicher Strassennamen: 8706\n",
      "Anzahl unterschiedlicher Postleitzahlen: 592\n",
      "Anzahl unterschiedlicher Städte: 139\n"
     ]
    }
   ],
   "source": [
    "test = split_adress(test)\n",
    "\n",
    "print('Anzahl unterschiedlicher Strassennamen: %i' %(len(Counter(test.Strasse))))\n",
    "print('Anzahl unterschiedlicher Postleitzahlen: %i' %(len(Counter(test.PLZ))))\n",
    "print('Anzahl unterschiedlicher Städte: %i' %(len(Counter(test.Ort))))"
   ]
  },
  {
   "cell_type": "markdown",
   "metadata": {},
   "source": [
    "Der Strassename kann aus den selben Gründen, wie die Anchrift verworfen werden. Die Postleitzahl und der Ort könnten nach drastischer Reduktion der Kategorien dennoch als kategorische Attribute verwendet werden."
   ]
  },
  {
   "cell_type": "code",
   "execution_count": 33,
   "metadata": {},
   "outputs": [
    {
     "data": {
      "image/png": "[encoded data removed]",
      "text/plain": [
       "<Figure size 720x720 with 1 Axes>"
      ]
     },
     "metadata": {
      "needs_background": "light"
     },
     "output_type": "display_data"
    }
   ],
   "source": [
    "test = reduce_categories(test, 'PLZ', 400)\n",
    "\n",
    "f, ax = plt.subplots(figsize=(10, 10))\n",
    "plt.xscale('log')\n",
    "sns.countplot(y=test.PLZ);"
   ]
  },
  {
   "cell_type": "code",
   "execution_count": 34,
   "metadata": {},
   "outputs": [
    {
     "data": {
      "image/png": "[encoded data removed]",
      "text/plain": [
       "<Figure size 720x360 with 1 Axes>"
      ]
     },
     "metadata": {
      "needs_background": "light"
     },
     "output_type": "display_data"
    }
   ],
   "source": [
    "test = reduce_categories(test, 'Ort', 400)\n",
    "\n",
    "f, ax = plt.subplots(figsize=(10, 5))\n",
    "plt.xscale('log')\n",
    "sns.countplot(y=test.Ort);"
   ]
  },
  {
   "cell_type": "markdown",
   "metadata": {},
   "source": [
    "## Jahr\n",
    "\n",
    "Numerisches Attribut ohne fehlenden Werte."
   ]
  },
  {
   "cell_type": "code",
   "execution_count": 35,
   "metadata": {},
   "outputs": [
    {
     "data": {
      "text/plain": [
       "count    49773.000000\n",
       "mean      2018.173387\n",
       "std          1.400291\n",
       "min       2016.000000\n",
       "25%       2017.000000\n",
       "50%       2018.000000\n",
       "75%       2019.000000\n",
       "max       2020.000000\n",
       "Name: Jahr, dtype: float64"
      ]
     },
     "execution_count": 35,
     "metadata": {},
     "output_type": "execute_result"
    }
   ],
   "source": [
    "df_full.Jahr.describe()"
   ]
  },
  {
   "cell_type": "code",
   "execution_count": 36,
   "metadata": {},
   "outputs": [
    {
     "data": {
      "image/png": "[encoded data removed]",
      "text/plain": [
       "<Figure size 720x360 with 1 Axes>"
      ]
     },
     "metadata": {
      "needs_background": "light"
     },
     "output_type": "display_data"
    }
   ],
   "source": [
    "f, ax = plt.subplots(figsize=(10, 5))\n",
    "ax.set_ylabel('Häufigkeit')\n",
    "sns.distplot(df_full.Jahr, kde=False);"
   ]
  },
  {
   "cell_type": "markdown",
   "metadata": {},
   "source": [
    "\"Jahr\" hat nur 5 verschiedene, diskrete Ausprägungen und sollte wohl eher als kategorisches Attribut behandelt werden."
   ]
  },
  {
   "cell_type": "markdown",
   "metadata": {},
   "source": [
    "## Betrag\n",
    "\n",
    "Numerisches Attribut ohne fehlenden Werte."
   ]
  },
  {
   "cell_type": "code",
   "execution_count": 37,
   "metadata": {},
   "outputs": [
    {
     "data": {
      "text/plain": [
       "count    4.977300e+04\n",
       "mean     2.021572e+05\n",
       "std      1.666412e+06\n",
       "min      1.000000e+02\n",
       "25%      5.322000e+03\n",
       "50%      2.000000e+04\n",
       "75%      8.734200e+04\n",
       "max      1.148264e+08\n",
       "Name: Betrag, dtype: float64"
      ]
     },
     "execution_count": 37,
     "metadata": {},
     "output_type": "execute_result"
    }
   ],
   "source": [
    "df_full.Betrag.describe()"
   ]
  },
  {
   "cell_type": "code",
   "execution_count": 38,
   "metadata": {},
   "outputs": [
    {
     "name": "stderr",
     "output_type": "stream",
     "text": [
      "/home/sninfa/Dokumente/Job/Portfolio Projects/env/lib/python3.5/site-packages/matplotlib/ticker.py:2241: UserWarning: Data has no positive values, and therefore cannot be log-scaled.\n",
      "  \"Data has no positive values, and therefore cannot be \"\n"
     ]
    },
    {
     "data": {
      "image/png": "[encoded data removed]",
      "text/plain": [
       "<Figure size 720x360 with 1 Axes>"
      ]
     },
     "metadata": {
      "needs_background": "light"
     },
     "output_type": "display_data"
    }
   ],
   "source": [
    "f, ax = plt.subplots(figsize=(10, 5))\n",
    "ax.set_ylabel('Häufigkeit')\n",
    "ax.set(yscale=\"log\")\n",
    "sns.distplot(df_full.Betrag, kde=False);"
   ]
  },
  {
   "cell_type": "code",
   "execution_count": 39,
   "metadata": {},
   "outputs": [
    {
     "data": {
      "image/png": "[encoded data removed]",
      "text/plain": [
       "<Figure size 720x360 with 1 Axes>"
      ]
     },
     "metadata": {
      "needs_background": "light"
     },
     "output_type": "display_data"
    }
   ],
   "source": [
    "f, ax = plt.subplots(figsize=(10, 5))\n",
    "ax.set(xscale=\"log\")\n",
    "sns.boxplot(df_full.Betrag);"
   ]
  },
  {
   "cell_type": "code",
   "execution_count": 40,
   "metadata": {},
   "outputs": [
    {
     "data": {
      "text/plain": [
       "6646"
      ]
     },
     "execution_count": 40,
     "metadata": {},
     "output_type": "execute_result"
    }
   ],
   "source": [
    "df_full.Betrag[df_full.Betrag > 2e5].count()"
   ]
  },
  {
   "cell_type": "markdown",
   "metadata": {},
   "source": [
    "Die Größen der jeweils ausgezahlten Geldmengen sind über einen Zahlenraum verteilt welcher sich über mehrere Größenordnungen erstreckt. Die Verteilung ist darüber hinaus sehr ungleichmäßig. Es empfielt sich daher, die Daten in diskrete Bins zu verpacken. Deren Grenzen sollten so gezogen werden, dass sie möglichst die gleiche Menge an Datenpunkten abdecken."
   ]
  },
  {
   "cell_type": "code",
   "execution_count": 41,
   "metadata": {},
   "outputs": [],
   "source": [
    "# Routine zum Diskretisieren von numerischen Attributen mit Quantilen als Bin-Grenzen.\n",
    "# Äußere Grenzen sind 0 und unendlich.\n",
    "# Gibt nur eine transformierte Spalte zurück; nicht den ganzen frame\n",
    "def bucketize_num(frame, column):\n",
    "    return pd.cut(frame[column], [0,\n",
    "                                  frame[frame[column] > 0][column].quantile(0.25),\n",
    "                                  frame[frame[column] > 0][column].quantile(0.5),\n",
    "                                  frame[frame[column] > 0][column].quantile(0.75),\n",
    "                                  np.inf])"
   ]
  },
  {
   "cell_type": "code",
   "execution_count": 42,
   "metadata": {},
   "outputs": [
    {
     "data": {
      "text/plain": [
       "Counter({Interval(0.0, 5322.0, closed='right'): 12466,\n",
       "         Interval(5322.0, 20000.0, closed='right'): 12479,\n",
       "         Interval(20000.0, 87342.0, closed='right'): 12385,\n",
       "         Interval(87342.0, inf, closed='right'): 12443})"
      ]
     },
     "execution_count": 42,
     "metadata": {},
     "output_type": "execute_result"
    }
   ],
   "source": [
    "Counter(bucketize_num(df_full, 'Betrag'))"
   ]
  },
  {
   "cell_type": "code",
   "execution_count": 43,
   "metadata": {},
   "outputs": [
    {
     "data": {
      "image/png": "[encoded data removed]",
      "text/plain": [
       "<Figure size 720x360 with 1 Axes>"
      ]
     },
     "metadata": {
      "needs_background": "light"
     },
     "output_type": "display_data"
    }
   ],
   "source": [
    "f, ax = plt.subplots(figsize=(10, 5))\n",
    "sns.countplot(bucketize_num(df_full, 'Betrag'));"
   ]
  },
  {
   "cell_type": "markdown",
   "metadata": {},
   "source": [
    "## Name\n",
    "\n",
    "Attribut in String-Form. Ein Eintrag fehlt und könnte über die Anschrift ermittelt werden. Wird aber aus Gründen der Einfachheit durch leeren String ersetzt."
   ]
  },
  {
   "cell_type": "code",
   "execution_count": 44,
   "metadata": {},
   "outputs": [],
   "source": [
    "df_full.Name.fillna('', inplace=True)"
   ]
  },
  {
   "cell_type": "code",
   "execution_count": 45,
   "metadata": {},
   "outputs": [
    {
     "data": {
      "text/plain": [
       "11298"
      ]
     },
     "execution_count": 45,
     "metadata": {},
     "output_type": "execute_result"
    }
   ],
   "source": [
    "len(Counter(df_full.Name))"
   ]
  },
  {
   "cell_type": "code",
   "execution_count": 46,
   "metadata": {},
   "outputs": [
    {
     "data": {
      "text/plain": [
       "[('Verschiedene natürliche Personen', 566),\n",
       " ('GFBM-gemeinnützige Gesellschaft für berufsbildende Maßnahmen mit beschränkter Haftung',\n",
       "  407),\n",
       " ('AGRARBÖRSE Deutschland Ost e. V.', 312),\n",
       " ('BVG', 304),\n",
       " ('Alte Feuerwache e. V.', 288),\n",
       " ('C.U.B.A. gGmbH', 286),\n",
       " ('Albatros gemeinnützige Gesellschaft für soziale und gesundheitliche Dienstleistungen mbH',\n",
       "  281),\n",
       " ('Christliches Jugenddorfwerk Deutschlands gemeinnütziger e. V. (CJD)', 266),\n",
       " ('Schildkröte GmbH', 253),\n",
       " ('agens Arbeitsmarktservice gGmbH', 203),\n",
       " ('pad - präventive, altersübergreifende Dienste im sozialen Bereich - gGmbH',\n",
       "  203),\n",
       " ('Sozial-kulturelle Netzwerke casa e. V.', 201),\n",
       " ('Kulturring in Berlin e. V.', 197),\n",
       " ('WeTeK Berlin gGmbH, gemeinnützige Gesellschaft für Qualifizierung, Ausbildung und Jugendkultur',\n",
       "  190),\n",
       " ('Verschiedene Gesellschaften bürgerlichen Rechts', 190),\n",
       " ('Chance BJS gGmbH', 190),\n",
       " ('bildungsmarkt vulkan & waldenser gmbh', 188),\n",
       " ('CJD Berlin-Brandenburg', 171),\n",
       " ('Caritasverband für das Erzbistum Berlin e. V.', 164),\n",
       " ('SBH Nord GmbH/ Standort', 163),\n",
       " ('Berliner Verkehrsbetriebe (BVG) AdöR', 161),\n",
       " ('Berliner Verein für Integration e. V.', 160),\n",
       " ('Pfefferwerk Stadtkultur gGmbH', 156),\n",
       " ('KUBUS gemeinnützige Gesellschaft für soziale Arbeit mbH', 154),\n",
       " ('tandem BTL gGmbH', 152)]"
      ]
     },
     "execution_count": 46,
     "metadata": {},
     "output_type": "execute_result"
    }
   ],
   "source": [
    "Counter(df_full.Name).most_common(25)"
   ]
  },
  {
   "cell_type": "markdown",
   "metadata": {},
   "source": [
    "Genau wie die Anschreiben, sind auch die Namen der Enpfänger nicht als kategorisches Merkmal zu gebrauchen. Im Gegensatz zur Anschrift, kann in diesem Fall aber inhaltliche Information aus dem Namen selbst gewonnen werden. Dieses Attribut ist also predestiniert für NLP.\n",
    "\n",
    "Bemerkung: Anscheinend sind die Namen der Empfänger nicht immer eindeutig. Siehe \"BVG\" und \"Berliner Verkehrsbetriebe (BVG) AdöR\", welche offensichtlich die selbe Institution bezeichnen. Falls möglich muss ein Weg gefunden werden Synonyme zu berücksichtigen."
   ]
  },
  {
   "cell_type": "code",
   "execution_count": 47,
   "metadata": {},
   "outputs": [
    {
     "name": "stderr",
     "output_type": "stream",
     "text": [
      "[nltk_data] Downloading package punkt to /home/sninfa/nltk_data...\n",
      "[nltk_data]   Package punkt is already up-to-date!\n",
      "[nltk_data] Downloading package stopwords to /home/sninfa/nltk_data...\n",
      "[nltk_data]   Package stopwords is already up-to-date!\n"
     ]
    }
   ],
   "source": [
    "nltk.download('punkt')\n",
    "nltk.download('stopwords')\n",
    "\n",
    "stemmer = SnowballStemmer(\"german\")\n",
    "stop_words = set(stopwords.words(\"german\"))"
   ]
  },
  {
   "cell_type": "code",
   "execution_count": 48,
   "metadata": {},
   "outputs": [],
   "source": [
    "# entfernt alle Sonderzeichen, Tabs, Stoppwörter und einzelne Zeichen\n",
    "# reduziert auf wortstamm\n",
    "# setz alles in Kleinschreibung\n",
    "def text_cleaning(text):\n",
    "    # definiere zu entfernendes\n",
    "    RE_WSPACE = re.compile(r\"\\s+\", re.IGNORECASE)\n",
    "    RE_ASCII = re.compile(r\"[^A-Za-zÀ-ž ]\", re.IGNORECASE)\n",
    "    RE_SINGLECHAR = re.compile(r\"\\b[A-Za-zÀ-ž]\\b\", re.IGNORECASE)\n",
    "\n",
    "    # ersetze unerwünschtes durch Leerzeichen\n",
    "    text = re.sub(RE_ASCII, \" \", text)\n",
    "    text = re.sub(RE_SINGLECHAR, \" \", text)\n",
    "    text = re.sub(RE_WSPACE, \" \", text)\n",
    "\n",
    "    # forme Fließtext zu Liste von tokens\n",
    "    word_tokens = word_tokenize(text)\n",
    "    words_tokens_lower = [word.lower() for word in word_tokens]\n",
    "\n",
    "    # reduziere tokens auf Wortstämme\n",
    "    words_filtered = [\n",
    "        stemmer.stem(word) for word in words_tokens_lower if word not in stop_words\n",
    "    ]\n",
    "\n",
    "    # füge tokens zu einem String zusammen und gib zurück\n",
    "    text_clean = ' '.join(words_filtered)\n",
    "    \n",
    "    if text_clean == np.NaN:\n",
    "        return ''\n",
    "    else:\n",
    "        return text_clean"
   ]
  },
  {
   "cell_type": "code",
   "execution_count": 49,
   "metadata": {
    "scrolled": true
   },
   "outputs": [
    {
     "data": {
      "text/html": [
       "<div>\n",
       "<style scoped>\n",
       "    .dataframe tbody tr th:only-of-type {\n",
       "        vertical-align: middle;\n",
       "    }\n",
       "\n",
       "    .dataframe tbody tr th {\n",
       "        vertical-align: top;\n",
       "    }\n",
       "\n",
       "    .dataframe thead th {\n",
       "        text-align: right;\n",
       "    }\n",
       "</style>\n",
       "<table border=\"1\" class=\"dataframe\">\n",
       "  <thead>\n",
       "    <tr style=\"text-align: right;\">\n",
       "      <th></th>\n",
       "      <th>Name</th>\n",
       "      <th>Geber</th>\n",
       "      <th>Art</th>\n",
       "      <th>Jahr</th>\n",
       "      <th>Anschrift</th>\n",
       "      <th>Politikbereich</th>\n",
       "      <th>Zweck</th>\n",
       "      <th>Betrag</th>\n",
       "    </tr>\n",
       "  </thead>\n",
       "  <tbody>\n",
       "    <tr>\n",
       "      <th>0</th>\n",
       "      <td>impul</td>\n",
       "      <td>bezirksamt neukölln</td>\n",
       "      <td>projektförderung</td>\n",
       "      <td>2016.0</td>\n",
       "      <td>bat-yam-platz 1, 12353 berlin</td>\n",
       "      <td>bildung</td>\n",
       "      <td>Sprachschulungen für aktive Gropiusstädter</td>\n",
       "      <td>6607.0</td>\n",
       "    </tr>\n",
       "    <tr>\n",
       "      <th>1</th>\n",
       "      <td>verein forder kommunikation gropiusstadt frau</td>\n",
       "      <td>bezirksamt neukölln</td>\n",
       "      <td>projektförderung</td>\n",
       "      <td>2016.0</td>\n",
       "      <td>löwensteinring 22, 12353 berlin</td>\n",
       "      <td>familie</td>\n",
       "      <td>Kinderbildungscafe</td>\n",
       "      <td>2500.0</td>\n",
       "    </tr>\n",
       "    <tr>\n",
       "      <th>2</th>\n",
       "      <td>verein forder kommunikation gropiusstadt frau</td>\n",
       "      <td>bezirksamt neukölln</td>\n",
       "      <td>projektförderung</td>\n",
       "      <td>2016.0</td>\n",
       "      <td>löwensteinring 22, 12353 berlin</td>\n",
       "      <td>jugend</td>\n",
       "      <td>Service Learning</td>\n",
       "      <td>15364.0</td>\n",
       "    </tr>\n",
       "    <tr>\n",
       "      <th>3</th>\n",
       "      <td>abc zentrum berlin</td>\n",
       "      <td>bezirksamt mitte</td>\n",
       "      <td>projektförderung</td>\n",
       "      <td>2016.0</td>\n",
       "      <td>luise-zietz-straße 43, 12683 berlin</td>\n",
       "      <td>stadtentwicklung</td>\n",
       "      <td>Sachmittel für freiwilliges Engagement in Nach...</td>\n",
       "      <td>1750.0</td>\n",
       "    </tr>\n",
       "    <tr>\n",
       "      <th>4</th>\n",
       "      <td>casablanca ggmbh</td>\n",
       "      <td>bezirksamt mitte</td>\n",
       "      <td>projektförderung</td>\n",
       "      <td>2016.0</td>\n",
       "      <td>pistoriusstraße 108a, 13086 berlin</td>\n",
       "      <td>stadtentwicklung</td>\n",
       "      <td>Sachmittel für freiwilliges Engagement in Nach...</td>\n",
       "      <td>980.0</td>\n",
       "    </tr>\n",
       "  </tbody>\n",
       "</table>\n",
       "</div>"
      ],
      "text/plain": [
       "                                            Name                Geber  \\\n",
       "0                                          impul  bezirksamt neukölln   \n",
       "1  verein forder kommunikation gropiusstadt frau  bezirksamt neukölln   \n",
       "2  verein forder kommunikation gropiusstadt frau  bezirksamt neukölln   \n",
       "3                             abc zentrum berlin     bezirksamt mitte   \n",
       "4                               casablanca ggmbh     bezirksamt mitte   \n",
       "\n",
       "                Art    Jahr                            Anschrift  \\\n",
       "0  projektförderung  2016.0        bat-yam-platz 1, 12353 berlin   \n",
       "1  projektförderung  2016.0      löwensteinring 22, 12353 berlin   \n",
       "2  projektförderung  2016.0      löwensteinring 22, 12353 berlin   \n",
       "3  projektförderung  2016.0  luise-zietz-straße 43, 12683 berlin   \n",
       "4  projektförderung  2016.0   pistoriusstraße 108a, 13086 berlin   \n",
       "\n",
       "     Politikbereich                                              Zweck  \\\n",
       "0           bildung         Sprachschulungen für aktive Gropiusstädter   \n",
       "1           familie                                 Kinderbildungscafe   \n",
       "2            jugend                                   Service Learning   \n",
       "3  stadtentwicklung  Sachmittel für freiwilliges Engagement in Nach...   \n",
       "4  stadtentwicklung  Sachmittel für freiwilliges Engagement in Nach...   \n",
       "\n",
       "    Betrag  \n",
       "0   6607.0  \n",
       "1   2500.0  \n",
       "2  15364.0  \n",
       "3   1750.0  \n",
       "4    980.0  "
      ]
     },
     "execution_count": 49,
     "metadata": {},
     "output_type": "execute_result"
    }
   ],
   "source": [
    "df_full.Name = df_full.Name.apply(text_cleaning)\n",
    "df_full.head()"
   ]
  },
  {
   "cell_type": "code",
   "execution_count": 50,
   "metadata": {},
   "outputs": [],
   "source": [
    "# bereinige auftretende NaNs durch Ersetzen\n",
    "df_full.Name.fillna('', inplace=True)"
   ]
  },
  {
   "cell_type": "code",
   "execution_count": 51,
   "metadata": {},
   "outputs": [
    {
     "data": {
      "text/plain": [
       "TfidfVectorizer(analyzer='word', binary=False, decode_error='strict',\n",
       "                dtype=<class 'numpy.float64'>, encoding='utf-8',\n",
       "                input='content', lowercase=True, max_df=0.3, max_features=None,\n",
       "                min_df=10, ngram_range=(1, 1), norm='l2', preprocessor=None,\n",
       "                smooth_idf=True, stop_words=None, strip_accents=None,\n",
       "                sublinear_tf=False, token_pattern='(?u)\\\\b\\\\w\\\\w+\\\\b',\n",
       "                tokenizer=None, use_idf=True, vocabulary=None)"
      ]
     },
     "execution_count": 51,
     "metadata": {},
     "output_type": "execute_result"
    }
   ],
   "source": [
    "# trainiere Vektorisierer\n",
    "# ignoriere Wörter die mehr als 30% aller Wörter ausmachen, oder weniger als 10 mal auftreten\n",
    "# bewusst keine ngrame verwendet, da Text keine echten Sätze enthält und Kontext weniger wichtig ist\n",
    "vectorizer = TfidfVectorizer(\n",
    "    max_df=0.3, min_df=10, ngram_range=(1, 1)\n",
    ")\n",
    "vectorizer.fit(df_full.Name)"
   ]
  },
  {
   "cell_type": "code",
   "execution_count": 52,
   "metadata": {},
   "outputs": [
    {
     "data": {
      "text/plain": [
       "<49773x1904 sparse matrix of type '<class 'numpy.float64'>'\n",
       "\twith 152925 stored elements in Compressed Sparse Row format>"
      ]
     },
     "execution_count": 52,
     "metadata": {},
     "output_type": "execute_result"
    }
   ],
   "source": [
    "vectorizer.transform(df_full.Name)"
   ]
  },
  {
   "cell_type": "markdown",
   "metadata": {},
   "source": [
    "## Zweck\n",
    "\n",
    "String-Attribut mit mehreren fehlenden Werten. Es gibt keine plausible Möglichkeit diese zu interpolieren oder zu ermitteln. Entsprechende Einträge müssen verworfen, oder durch leere Strings ersetzt werden."
   ]
  },
  {
   "cell_type": "code",
   "execution_count": 53,
   "metadata": {},
   "outputs": [],
   "source": [
    "df_full.Zweck.fillna('', inplace=True)"
   ]
  },
  {
   "cell_type": "code",
   "execution_count": 54,
   "metadata": {},
   "outputs": [
    {
     "data": {
      "text/plain": [
       "24755"
      ]
     },
     "execution_count": 54,
     "metadata": {},
     "output_type": "execute_result"
    }
   ],
   "source": [
    "len(Counter(df_full.Zweck))"
   ]
  },
  {
   "cell_type": "code",
   "execution_count": 55,
   "metadata": {
    "scrolled": true
   },
   "outputs": [
    {
     "data": {
      "text/plain": [
       "[('Kosten für die Beschäftigung von Übungsleitern', 2762),\n",
       " ('Coaching', 637),\n",
       " ('Unterstützung der Aufbauphase von Existenzgründungen und Startups', 572),\n",
       " ('Erweiterung einer Betriebsstätte', 564),\n",
       " ('Elektrofahrzeug', 559),\n",
       " ('Digitalprämie Berlin', 400),\n",
       " ('Kosten für die Beschäftigung von hauptberuflichen Verwaltungskräften in Sportverbänden und -vereinen',\n",
       "  321),\n",
       " ('Kosten für die Beschäftigung von hauptberuflichen Trainern mit Schwerpunkt im Kinder- und Jugendsport',\n",
       "  287),\n",
       " ('Bauliche Maßnahme - Schaffung von Plätzen- Kitaausbauprogramm', 268),\n",
       " ('Errichtung einer Betriebsstätte', 265)]"
      ]
     },
     "execution_count": 55,
     "metadata": {},
     "output_type": "execute_result"
    }
   ],
   "source": [
    "Counter(df_full.Zweck).most_common(10)"
   ]
  },
  {
   "cell_type": "markdown",
   "metadata": {},
   "source": [
    "Insgesamt hat 'Zweck' sehr viele Gemeinsamkeiten mit 'Name' und wird entsprechend auch als Textattribut behandelt und ist somit ein Fall für NLP."
   ]
  },
  {
   "cell_type": "code",
   "execution_count": 56,
   "metadata": {
    "scrolled": true
   },
   "outputs": [
    {
     "data": {
      "text/html": [
       "<div>\n",
       "<style scoped>\n",
       "    .dataframe tbody tr th:only-of-type {\n",
       "        vertical-align: middle;\n",
       "    }\n",
       "\n",
       "    .dataframe tbody tr th {\n",
       "        vertical-align: top;\n",
       "    }\n",
       "\n",
       "    .dataframe thead th {\n",
       "        text-align: right;\n",
       "    }\n",
       "</style>\n",
       "<table border=\"1\" class=\"dataframe\">\n",
       "  <thead>\n",
       "    <tr style=\"text-align: right;\">\n",
       "      <th></th>\n",
       "      <th>Name</th>\n",
       "      <th>Geber</th>\n",
       "      <th>Art</th>\n",
       "      <th>Jahr</th>\n",
       "      <th>Anschrift</th>\n",
       "      <th>Politikbereich</th>\n",
       "      <th>Zweck</th>\n",
       "      <th>Betrag</th>\n",
       "    </tr>\n",
       "  </thead>\n",
       "  <tbody>\n",
       "    <tr>\n",
       "      <th>0</th>\n",
       "      <td>impul</td>\n",
       "      <td>bezirksamt neukölln</td>\n",
       "      <td>projektförderung</td>\n",
       "      <td>2016.0</td>\n",
       "      <td>bat-yam-platz 1, 12353 berlin</td>\n",
       "      <td>bildung</td>\n",
       "      <td>sprachschul aktiv gropiusstadt</td>\n",
       "      <td>6607.0</td>\n",
       "    </tr>\n",
       "    <tr>\n",
       "      <th>1</th>\n",
       "      <td>verein forder kommunikation gropiusstadt frau</td>\n",
       "      <td>bezirksamt neukölln</td>\n",
       "      <td>projektförderung</td>\n",
       "      <td>2016.0</td>\n",
       "      <td>löwensteinring 22, 12353 berlin</td>\n",
       "      <td>familie</td>\n",
       "      <td>kinderbildungscaf</td>\n",
       "      <td>2500.0</td>\n",
       "    </tr>\n",
       "    <tr>\n",
       "      <th>2</th>\n",
       "      <td>verein forder kommunikation gropiusstadt frau</td>\n",
       "      <td>bezirksamt neukölln</td>\n",
       "      <td>projektförderung</td>\n",
       "      <td>2016.0</td>\n",
       "      <td>löwensteinring 22, 12353 berlin</td>\n",
       "      <td>jugend</td>\n",
       "      <td>servic learning</td>\n",
       "      <td>15364.0</td>\n",
       "    </tr>\n",
       "    <tr>\n",
       "      <th>3</th>\n",
       "      <td>abc zentrum berlin</td>\n",
       "      <td>bezirksamt mitte</td>\n",
       "      <td>projektförderung</td>\n",
       "      <td>2016.0</td>\n",
       "      <td>luise-zietz-straße 43, 12683 berlin</td>\n",
       "      <td>stadtentwicklung</td>\n",
       "      <td>sachmittel freiwill engagement nachbarschaft</td>\n",
       "      <td>1750.0</td>\n",
       "    </tr>\n",
       "    <tr>\n",
       "      <th>4</th>\n",
       "      <td>casablanca ggmbh</td>\n",
       "      <td>bezirksamt mitte</td>\n",
       "      <td>projektförderung</td>\n",
       "      <td>2016.0</td>\n",
       "      <td>pistoriusstraße 108a, 13086 berlin</td>\n",
       "      <td>stadtentwicklung</td>\n",
       "      <td>sachmittel freiwill engagement nachbarschaft</td>\n",
       "      <td>980.0</td>\n",
       "    </tr>\n",
       "  </tbody>\n",
       "</table>\n",
       "</div>"
      ],
      "text/plain": [
       "                                            Name                Geber  \\\n",
       "0                                          impul  bezirksamt neukölln   \n",
       "1  verein forder kommunikation gropiusstadt frau  bezirksamt neukölln   \n",
       "2  verein forder kommunikation gropiusstadt frau  bezirksamt neukölln   \n",
       "3                             abc zentrum berlin     bezirksamt mitte   \n",
       "4                               casablanca ggmbh     bezirksamt mitte   \n",
       "\n",
       "                Art    Jahr                            Anschrift  \\\n",
       "0  projektförderung  2016.0        bat-yam-platz 1, 12353 berlin   \n",
       "1  projektförderung  2016.0      löwensteinring 22, 12353 berlin   \n",
       "2  projektförderung  2016.0      löwensteinring 22, 12353 berlin   \n",
       "3  projektförderung  2016.0  luise-zietz-straße 43, 12683 berlin   \n",
       "4  projektförderung  2016.0   pistoriusstraße 108a, 13086 berlin   \n",
       "\n",
       "     Politikbereich                                         Zweck   Betrag  \n",
       "0           bildung                sprachschul aktiv gropiusstadt   6607.0  \n",
       "1           familie                             kinderbildungscaf   2500.0  \n",
       "2            jugend                               servic learning  15364.0  \n",
       "3  stadtentwicklung  sachmittel freiwill engagement nachbarschaft   1750.0  \n",
       "4  stadtentwicklung  sachmittel freiwill engagement nachbarschaft    980.0  "
      ]
     },
     "execution_count": 56,
     "metadata": {},
     "output_type": "execute_result"
    }
   ],
   "source": [
    "df_full.Zweck = df_full.Zweck.apply(text_cleaning)\n",
    "df_full.head()"
   ]
  },
  {
   "cell_type": "markdown",
   "metadata": {},
   "source": [
    "Bemerkung: Falls möglich, sollte versucht werden zusammengesetze Wörter wie 'Familienberatungsstelle' zu separieren."
   ]
  },
  {
   "cell_type": "code",
   "execution_count": 57,
   "metadata": {},
   "outputs": [],
   "source": [
    "# bereinige auftretende NaNs durch Ersetzen\n",
    "df_full.Zweck.fillna('', inplace=True)"
   ]
  },
  {
   "cell_type": "code",
   "execution_count": 58,
   "metadata": {},
   "outputs": [
    {
     "data": {
      "text/plain": [
       "<49773x2759 sparse matrix of type '<class 'numpy.float64'>'\n",
       "\twith 162298 stored elements in Compressed Sparse Row format>"
      ]
     },
     "execution_count": 58,
     "metadata": {},
     "output_type": "execute_result"
    }
   ],
   "source": [
    "vectorizer = TfidfVectorizer(\n",
    "    max_df=0.3, min_df=10, ngram_range=(1, 1)\n",
    ")\n",
    "vectorizer.fit(df_full.Zweck)\n",
    "\n",
    "vectorizer.transform(df_full.Zweck)"
   ]
  },
  {
   "cell_type": "markdown",
   "metadata": {},
   "source": [
    "# Feature Preprocessing\n",
    "\n",
    "Die durch die Datenexploration gewonnen Erkenntnisse werden genutz um Datenpipelines zu entwerfen. Diese sollen den ursprünglichen Datensatz in 'df_original_full' in Feature/Label und Training/Test aufteilen, sowie alle Daten in eine für ML-Algorithmen brauchbare Form bringen."
   ]
  },
  {
   "cell_type": "code",
   "execution_count": 59,
   "metadata": {},
   "outputs": [],
   "source": [
    "df_full = df_original_full.copy()"
   ]
  },
  {
   "cell_type": "code",
   "execution_count": 60,
   "metadata": {},
   "outputs": [],
   "source": [
    "class PreliminaryCleaner(BaseEstimator, TransformerMixin):\n",
    "    '''\n",
    "    -Level1 data preprocessing.\n",
    "    -Behebung von fehlenden Werten\n",
    "    -Aufspaltung der Anschrift in weitere Attribute\n",
    "    -Wende 'fit_trandform' auf neue Daten direkt an. 'fit' tut nichst.\n",
    "    --- X = datacleaner.fit_trandform(input_data) ---\n",
    "    '''\n",
    "    def __init__(self):\n",
    "        pass\n",
    "    \n",
    "    def fit(self, X, y = None):\n",
    "        return self\n",
    "    \n",
    "    def transform(self, X, y = None):\n",
    "        X_new = X.copy()\n",
    "        \n",
    "        # durchmische Datensatz zufällig\n",
    "        X_new = shuffle(X_new)\n",
    "    \n",
    "        # werte leere Strings und Zahlenwerte <= 0 als fehlende Einträge und behandle wie NaN\n",
    "        X_new.replace('', np.NaN, inplace=True)\n",
    "        X_new.replace(0, np.NaN, inplace=True)\n",
    "        X_new[X_new.Jahr <= 0] = np.NaN\n",
    "        X_new[X_new.Betrag <= 0] = np.NaN\n",
    "        \n",
    "        # betrachte Jahr als kategorisches Attribut\n",
    "        X_new.Jahr = X_new.Jahr.astype(str)\n",
    "        \n",
    "        # ersetze NaNs soweit möglich\n",
    "        X_new.Geber.fillna('unbekannt', inplace=True)\n",
    "        X_new.Art.fillna('unbekannt', inplace=True)\n",
    "        X_new.Jahr.fillna('unbekannt', inplace=True)\n",
    "        X_new.Politikbereich.fillna('unbekannt', inplace=True)\n",
    "        X_new.Name.fillna('', inplace=True)\n",
    "        X_new.Zweck.fillna('', inplace=True)\n",
    "        \n",
    "        \n",
    "        # Aufspalten der Anschrift\n",
    "        X_new.Anschrift.fillna('unbekannt', inplace=True)\n",
    "        X_new.Anschrift.replace('---', 'unbekannt,', inplace=True)\n",
    "        X_new = split_adress(X_new).drop(columns=['Strasse'])   # Strasse ist (s.o.) irrelevant\n",
    "        \n",
    "        # setze alle string attribute lowercase\n",
    "        for column in X_new.drop(columns=['Betrag']).columns:\n",
    "            X_new[column] = X_new[column].str.lower()\n",
    "        \n",
    "        # lösche alle verbliebenen Einträge mit NaNs und Rückgabe\n",
    "        return X_new.dropna()"
   ]
  },
  {
   "cell_type": "code",
   "execution_count": 61,
   "metadata": {},
   "outputs": [],
   "source": [
    "# wende cleaner auf vollen Datensatz an\n",
    "datacleaner = PreliminaryCleaner()\n",
    "df_full = datacleaner.fit_transform(df_full)\n",
    "\n",
    "# separiere features und label; trenne in Trainings-\n",
    "X, y = df_full.drop(columns=['Politikbereich']), df_full['Politikbereich']\n",
    "X_train, X_test, y_train, y_test = train_test_split(X, y, test_size=0.33, random_state=42)"
   ]
  },
  {
   "cell_type": "code",
   "execution_count": 62,
   "metadata": {},
   "outputs": [],
   "source": [
    "num_features = ['Betrag']\n",
    "\n",
    "class NumericalBucketizer(BaseEstimator, TransformerMixin):\n",
    "    '''\n",
    "    Bint numerische Daten in 4 buckets:\n",
    "    ]0 - 0.25 Quantil]\n",
    "    ]0.25 Quantil - 0.5 Quantil]\n",
    "    ]0.5 Quantil - 0.75 Quantil]\n",
    "    ]0.75 Quantil - unendlich]\n",
    "    Quantile werden anhand der Trainingsdaten ermittelt.\n",
    "    Die 'fit_transform' wird benutz um die Quantile zu berechnen und zu speichern. \n",
    "    Anschließend werden die Quantilgrenzen direkt zum Teilen der Daten verwendet.\n",
    "    --- X = numericalbucketizer.fit_trandform(training_data) ---\n",
    "    Für die Testdaten führt die 'transform' Methode die Teilung auf Basis der bereits etablierten\n",
    "    Quantilgrenzen durch.\n",
    "    --- X = numericalbucketizer.fit_trandform(test_data) ---\n",
    "    '''\n",
    "    def __init__(self):\n",
    "        # dict mit Liste aller Quantile für jede Spalte\n",
    "        self.quantiles = {}\n",
    "        \n",
    "    def fit(self, X, y = None):\n",
    "        for col in X.columns:\n",
    "            # ermittle für jede Spalte im Input die Quantile der Verteilung\n",
    "            # speichere im jeweiligen Eintrag im dict\n",
    "            self.quantiles[col] = {'1': X[X[col] > 0][col].quantile(0.25),\n",
    "                                   '2': X[X[col] > 0][col].quantile(0.5),\n",
    "                                   '3': X[X[col] > 0][col].quantile(0.75),\n",
    "                                   '4': np.inf}\n",
    "        return self\n",
    "    \n",
    "    def transform(self, X, y = None):\n",
    "        X_new = X.copy()\n",
    "        for col in X.columns:\n",
    "            # nutze für jede Spalte die gespeicherten Quantile zum Binnen der Daten\n",
    "            X_new[col] = pd.cut(X_new[col], [0,\n",
    "                                             self.quantiles[col]['1'],\n",
    "                                             self.quantiles[col]['2'],\n",
    "                                             self.quantiles[col]['3'],\n",
    "                                             self.quantiles[col]['4']])        \n",
    "        return X_new.astype(str).values"
   ]
  },
  {
   "cell_type": "code",
   "execution_count": 63,
   "metadata": {},
   "outputs": [],
   "source": [
    "cat_features = ['Geber', 'Art', 'Jahr', 'PLZ', 'Ort']\n",
    "\n",
    "class ClassReducer(BaseEstimator, TransformerMixin):\n",
    "    '''\n",
    "    Reduziert Anzahl an Klassen eines kategorischen Attributs auf solche mit mehr als n Vorkommen.\n",
    "    Die Namen der entsprechenden Attribute werden durch die Methode 'fit_transform' ermittelt\n",
    "    und gespeichert. Anschließend werden alle Klassen des Attributs zu 'Unbekannt' umbenannt,\n",
    "    sofern sie nicht zu den gespeicherten Namen gehören.\n",
    "    --- X = classreducer.fit_trandform(training_data) ---\n",
    "    Die selbe Reduktion wird für die Testdaten von der 'transform' Methode durchgeführt.\n",
    "    Allerdings werden die bereits bestimmten Namen wieder verwendet.\n",
    "    --- X = numericalbucketizer.fit_trandform(test_data) ---\n",
    "    '''\n",
    "    def __init__(self, min_samples):\n",
    "        self.min_samples = min_samples\n",
    "        # dict mit Listen aller Klassennamen welche für jede Spalte beibehalten werden\n",
    "        self.names = {}\n",
    "        \n",
    "    # \n",
    "    def fit(self, X, y = None):\n",
    "        for col in X.columns:\n",
    "            # ermittle für jede Spalte im Input die Namen der Klassen mit mehr als n Vorkomen\n",
    "            # speichere im jeweiligen Eintrag im dict\n",
    "            counter = Counter(X[col])\n",
    "            self.names[col] = np.array(list(counter.keys()))[np.array(list(counter.values())) > self.min_samples]\n",
    "        return self\n",
    "    \n",
    "    def transform(self, X, y = None):\n",
    "        X_new = X.copy()\n",
    "        for col in X.columns:\n",
    "            # nutze für jede Spalte die gespeicherten Namen zum Reduzieren der Klassen\n",
    "            X_new[col] = X_new[col].apply(lambda x: x if x in self.names[col] else 'sonstige')       \n",
    "        return X_new.astype(str).values"
   ]
  },
  {
   "cell_type": "code",
   "execution_count": 64,
   "metadata": {},
   "outputs": [],
   "source": [
    "text_features = ['Name', 'Zweck']\n",
    "\n",
    "class NLPVectorizer(BaseEstimator, TransformerMixin):\n",
    "    '''\n",
    "    Erzeugt eine Vektor Representation für eine text-Typ Spalte\n",
    "    i.e. strings bestehend aus einer Folge deutscher Wörter\n",
    "    G\n",
    "    Nutze 'fit_transform' auf Trainingsdaten an, um Vektorisierer zu trainieren und Daten anschließend\n",
    "    direkt zu transformieren.\n",
    "    --- X = embeding_vectorizer.fit_trandform(input_data) ---\n",
    "    Für Testdaten ist die 'transform'-Methode anzuwenden. Diese transformiert die Daten unter Verwendung des\n",
    "    bereits trainierten Vektorisierers.\n",
    "    '''\n",
    "    def __init__(self):\n",
    "        # dict aller Vektorizierer für jede Spalte\n",
    "        self.vectorizers = {}\n",
    "        \n",
    "    def fit(self, X, y = None):\n",
    "        for col in X.columns:\n",
    "            # ermittle für jede Spalte im Input die Namen der Klassen mit mehr als n Vorkomen\n",
    "            # speichere im jeweiligen Eintrag im dict\n",
    "            X_col = X[col].apply(text_cleaning)\n",
    "            X_col.fillna('', inplace=True)\n",
    "            vectorizer = TfidfVectorizer(max_df=0.3, min_df=10, ngram_range=(1, 1))                                   \n",
    "            vectorizer.fit(X_col)\n",
    "            self.vectorizers[col] = vectorizer\n",
    "        return self\n",
    "    \n",
    "    def transform(self, X, y = None):\n",
    "        X_new = X.copy()\n",
    "        \n",
    "        vectors = []\n",
    "        for col in X.columns:\n",
    "            X_new[col] = X_new[col].apply(text_cleaning)\n",
    "            vector = self.vectorizers[col].transform(X_new[col])\n",
    "            #vector = vector - vector.mean(axis=0)                         # center embeding vectors\n",
    "            #vector = vector / np.linalg.norm(vector, axis=0)              # normalize vectors\n",
    "            vectors.append(vector)\n",
    "        \n",
    "        # horizontale Verkettung zweier sparse Matrizen und Rückgabe\n",
    "        return hstack(vectors)"
   ]
  },
  {
   "cell_type": "code",
   "execution_count": 65,
   "metadata": {},
   "outputs": [],
   "source": [
    "# minimale Anzahl an Vorkommen eines Klassennamens bei kategorischen Attributen um berücksichtigt zu werden\n",
    "min_samples = 400\n",
    "\n",
    "# pipeline für das binning von numerischen Attributspalten und anschließendes one-hot-encoding\n",
    "num_pipe = Pipeline([\n",
    "                                ('NumericalBucketizer', NumericalBucketizer()),\n",
    "                                ('OneHotEncoder', OneHotEncoder(sparse=True))\n",
    "                            ])\n",
    "\n",
    "# pipeline für das Reduzieren von Klassen bei kategorischen Attributspalten und anschließendes one-hot-encoding\n",
    "cat_pipe = Pipeline([\n",
    "                                ('ClassReducer', ClassReducer(min_samples)),\n",
    "                                ('OneHotEncoder', OneHotEncoder(sparse=True))\n",
    "                            ])\n",
    "\n",
    "# Prozessor-Objekt für die Erstellung von Wortvektoren\n",
    "nlpvectorizer = NLPVectorizer()\n",
    "\n",
    "# spaltenspezifische pipelines für numerische, kategorische und text-Daten\n",
    "colum_spec_pipeline = make_column_transformer(\n",
    "    (num_pipe, num_features),\n",
    "    (cat_pipe, cat_features),\n",
    "    (nlpvectorizer, text_features)\n",
    ")"
   ]
  },
  {
   "cell_type": "markdown",
   "metadata": {},
   "source": [
    "# Model Training\n",
    "\n",
    "## Erster Ansatz ohne Verwendung von Text-Attributen\n",
    "\n",
    "Zunächst wird versucht herauszufinden, in wie weit eine Klassifizierung unter Ausschluss von NLP generierten Features möglich ist und wie relevant die \"normalen\" kategorischen Daten an sich sind. \n",
    "\n",
    "Notiz: Die vollständige Datapipleine kommt hier noch nicht zum Einsatz."
   ]
  },
  {
   "cell_type": "code",
   "execution_count": 65,
   "metadata": {},
   "outputs": [],
   "source": [
    "# Beschaffung der Daten\n",
    "# Kategorische und numerische Daten prozessieren\n",
    "\n",
    "X_train_num = num_pipe.fit_transform(X_train[num_features]).todense()\n",
    "X_test_num = num_pipe.transform(X_test[num_features]).todense()\n",
    "\n",
    "X_train_cat = cat_pipe.fit_transform(X_train[cat_features]).todense()\n",
    "X_test_cat = cat_pipe.transform(X_test[cat_features]).todense()\n",
    "\n",
    "X_train_red = np.concatenate([X_train_cat, X_train_num], axis=1)\n",
    "X_test_red = np.concatenate([X_test_cat, X_test_num], axis=1)\n",
    "\n",
    "# prozessieren der label-daten + label-encoding\n",
    "classreducer = ClassReducer(400)   # label benötigen Prozessor ohne One-Hot-Encoding\n",
    "y_train_red = classreducer.fit_transform(y_train.to_frame())\n",
    "y_test_red = classreducer.transform(y_test.to_frame())\n",
    "\n",
    "enc = LabelEncoder()\n",
    "y_train_red = enc.fit_transform(y_train_red.ravel())\n",
    "y_test_red = enc.transform(y_test_red.ravel())\n",
    "\n",
    "# hole Splatennamen\n",
    "column_names = np.concatenate([*cat_pipe.named_steps['OneHotEncoder'].categories_,\n",
    "                               *num_pipe.named_steps['OneHotEncoder'].categories_])"
   ]
  },
  {
   "cell_type": "markdown",
   "metadata": {},
   "source": [
    "Zunächst wird ein Dummy-Classifier eingesetzt, welcher völlig zufällige vorhersagen für das Label trifft. Seine Performance stellt einen unteren Referenzwert für alle echten Modelle dar. Sowohl Training als auch Evaluation finden auf dem Trainingsdatensatz statt."
   ]
  },
  {
   "cell_type": "code",
   "execution_count": 66,
   "metadata": {},
   "outputs": [
    {
     "data": {
      "text/plain": [
       "DummyClassifier(constant=None, random_state=42, strategy='uniform')"
      ]
     },
     "execution_count": 66,
     "metadata": {},
     "output_type": "execute_result"
    }
   ],
   "source": [
    "clf_dummy = DummyClassifier(strategy='uniform', random_state=42)\n",
    "clf_dummy.fit(X_train_red, y_train_red)"
   ]
  },
  {
   "cell_type": "code",
   "execution_count": 67,
   "metadata": {},
   "outputs": [],
   "source": [
    "def evaluate_model(pred, probas, y, class_names):   \n",
    "    # Klassifikationsmetriken für jedes Label One-Vs-All\n",
    "    print(classification_report(y, pred, target_names=class_names))\n",
    "    \n",
    "    # ROC Kurven Plot\n",
    "    roc_data = [(i, roc_curve(y, probas[:,i], pos_label=i)) for i in np.unique(y_train_red)]\n",
    "\n",
    "    f, ax = plt.subplots(figsize=(15, 5))\n",
    "    plt.xlabel(\"False Positive Rate\")\n",
    "    plt.ylabel(\"True Positive Rate\")\n",
    "    for curve in roc_data:\n",
    "        sns.lineplot(x = curve[1][0], y = curve[1][1], label=class_names[curve[0]])\n",
    "      \n",
    "    '''\n",
    "    f, ax = plt.subplots(figsize=(15, 5))\n",
    "    plt.xlabel(\"Threshold\")\n",
    "    plt.ylabel(\"Precision\")\n",
    "    for curve in roc_data:\n",
    "        sns.lineplot(x = curve[1][2], y = (curve[1][1])/(curve[1][0]+curve[1][1]+0.001), label=class_names[curve[0]])\n",
    "        \n",
    "    f, ax = plt.subplots(figsize=(15, 5))\n",
    "    plt.xlabel(\"Threshold\")\n",
    "    plt.ylabel(\"Recall\")\n",
    "    for curve in roc_data:\n",
    "        sns.lineplot(x = curve[1][2], y = curve[1][1], label=class_names[curve[0]])\n",
    "    '''\n",
    "        \n",
    "    # Berechnung der mittleren FLäche unter der Kurve (AUC) für alle Labels (OneVSAll)\n",
    "    # gewichtet nach Häufigkeit des jeweiligen Labels\n",
    "    print('AUC: %f' %(roc_auc_score(y.reshape(-1,1), probas, multi_class='ovr', average='weighted')))\n",
    "\n",
    "    # Berechnung der Kreuzentropie\n",
    "    print('Kreuzentropie: %f' %(log_loss(y, probas)))"
   ]
  },
  {
   "cell_type": "code",
   "execution_count": 68,
   "metadata": {},
   "outputs": [
    {
     "name": "stdout",
     "output_type": "stream",
     "text": [
      "                                                  precision    recall  f1-score   support\n",
      "\n",
      "                                          arbeit       0.23      0.07      0.10      7695\n",
      "                                         bildung       0.04      0.07      0.05      1260\n",
      "bürgerschaftliches engagement, bürgerbeteiligung       0.02      0.08      0.03       496\n",
      "                                      gesundheit       0.05      0.08      0.06      1591\n",
      "                                  gleichstellung       0.02      0.07      0.03       584\n",
      "                                     integration       0.03      0.07      0.04      1054\n",
      "                                          jugend       0.10      0.08      0.08      2889\n",
      "                                          kultur       0.07      0.06      0.07      2500\n",
      "                                        sonstige       0.06      0.06      0.06      2186\n",
      "                                        soziales       0.06      0.07      0.07      1847\n",
      "                                           sport       0.10      0.06      0.07      3728\n",
      "                                stadtentwicklung       0.03      0.07      0.04       890\n",
      "                                          umwelt       0.01      0.05      0.02       480\n",
      "                                         verkehr       0.02      0.06      0.02       591\n",
      "                                      wirtschaft       0.16      0.07      0.09      5556\n",
      "\n",
      "                                        accuracy                           0.07     33347\n",
      "                                       macro avg       0.07      0.07      0.06     33347\n",
      "                                    weighted avg       0.12      0.07      0.08     33347\n",
      "\n",
      "AUC: 0.500000\n",
      "Kreuzentropie: 2.708050\n"
     ]
    },
    {
     "data": {
      "image/png": "[encoded data removed]",
      "text/plain": [
       "<Figure size 1080x360 with 1 Axes>"
      ]
     },
     "metadata": {
      "needs_background": "light"
     },
     "output_type": "display_data"
    }
   ],
   "source": [
    "evaluate_model(clf_dummy.predict(X_train_red),\n",
    "               clf_dummy.predict_proba(X_train_red),\n",
    "               y_train_red,\n",
    "               enc.classes_)"
   ]
  },
  {
   "cell_type": "markdown",
   "metadata": {},
   "source": [
    "Die Performance des Dummy-Klassifikators ist erwartbar schlecht. Alle verwendeten Metriken belegen ein nicht vorhandenes Vorhersagevermögen. Insbesondere die AUC deutet auf völlig zufälliges vorhersagen hin.\n",
    "\n",
    "Im Folgenden werden drei Modelle stichprobenartig gestet: KNN, RandomForest, SVM.\n",
    "Wegen der geringen Anzahl an Features wird von einer Dimensionsreduktion zunächst abgesehen."
   ]
  },
  {
   "cell_type": "code",
   "execution_count": 69,
   "metadata": {},
   "outputs": [],
   "source": [
    "@ignore_warnings(category=FitFailedWarning)\n",
    "@ignore_warnings(category=ConvergenceWarning)\n",
    "def fit_explore(X, y, estimator, param_distributions, n_iter=100, score='neg_log_loss', partition=100):\n",
    "    '''\n",
    "    Führt für gegebne Klassifikator-Pipeline und Parameterset ein Hyperparamteroptimierung\n",
    "    nach Zufallsprinzip aus.\n",
    "    Training wärend des Optimierungsverfahrens wird mit einem verkleinertem Datenset (1/partition)\n",
    "    durchgeführt um Zeit zu sparen.\n",
    "    Anzahl an getesteten Parametersets gegeben durch 'n_iter'\n",
    "    Scoring-Funktion optional wählbar.\n",
    "    Model wird mit optimalen Hyperparametern und vollem Datensatz retrainiert.\n",
    "    '''\n",
    "    # definiere Suche\n",
    "    rnd_search = RandomizedSearchCV(estimator, param_distributions=params,\n",
    "                                n_iter=n_iter, cv=5, scoring=score, random_state=42, verbose=0, n_jobs=-1)\n",
    "\n",
    "    # führe Suche aus\n",
    "    rnd_search.fit(X[::partition], y[::partition])\n",
    "    \n",
    "    # retrainieren mit optimalen Hyperparametern\n",
    "    estimator.set_params(**rnd_search.best_params_).fit(X, y)\n",
    "    \n",
    "    return estimator, rnd_search.best_params_"
   ]
  },
  {
   "cell_type": "code",
   "execution_count": 70,
   "metadata": {},
   "outputs": [
    {
     "name": "stdout",
     "output_type": "stream",
     "text": [
      "{'Estimator': RandomForestClassifier(bootstrap=True, ccp_alpha=0.0, class_weight=None,\n",
      "                       criterion='gini', max_depth=11, max_features='auto',\n",
      "                       max_leaf_nodes=None, max_samples=None,\n",
      "                       min_impurity_decrease=0.0, min_impurity_split=None,\n",
      "                       min_samples_leaf=1, min_samples_split=9,\n",
      "                       min_weight_fraction_leaf=0.0, n_estimators=100,\n",
      "                       n_jobs=None, oob_score=False, random_state=42, verbose=0,\n",
      "                       warm_start=False), 'Estimator__min_samples_split': 9, 'Estimator__max_depth': 11}\n",
      "                                                  precision    recall  f1-score   support\n",
      "\n",
      "                                          arbeit       0.82      1.00      0.90      7695\n",
      "                                         bildung       0.81      0.24      0.37      1260\n",
      "bürgerschaftliches engagement, bürgerbeteiligung       0.63      0.15      0.25       496\n",
      "                                      gesundheit       0.60      0.18      0.28      1591\n",
      "                                  gleichstellung       0.52      0.71      0.60       584\n",
      "                                     integration       1.00      0.00      0.00      1054\n",
      "                                          jugend       0.35      0.93      0.51      2889\n",
      "                                          kultur       0.64      0.64      0.64      2500\n",
      "                                        sonstige       0.65      0.36      0.46      2186\n",
      "                                        soziales       0.55      0.06      0.10      1847\n",
      "                                           sport       0.94      0.93      0.93      3728\n",
      "                                stadtentwicklung       0.51      0.20      0.29       890\n",
      "                                          umwelt       0.77      0.71      0.74       480\n",
      "                                         verkehr       0.89      0.80      0.84       591\n",
      "                                      wirtschaft       1.00      0.99      1.00      5556\n",
      "\n",
      "                                        accuracy                           0.72     33347\n",
      "                                       macro avg       0.71      0.53      0.53     33347\n",
      "                                    weighted avg       0.76      0.72      0.68     33347\n",
      "\n",
      "AUC: 0.965348\n",
      "Kreuzentropie: 0.983973\n"
     ]
    },
    {
     "data": {
      "image/png": "[encoded data removed]",
      "text/plain": [
       "<Figure size 1080x360 with 1 Axes>"
      ]
     },
     "metadata": {
      "needs_background": "light"
     },
     "output_type": "display_data"
    }
   ],
   "source": [
    "clf_pipe = Pipeline([\n",
    "                                ('Estimator', None)\n",
    "                            ])\n",
    "\n",
    "params = [\n",
    "    {\n",
    "        'Estimator': [KNeighborsClassifier()],\n",
    "        'Estimator__n_neighbors': randint(low=2, high=20),\n",
    "        'Estimator__p': randint(low=1, high=4)\n",
    "    },\n",
    "    {\n",
    "        'Estimator': [SVC(probability=True, random_state=42)],\n",
    "        'Estimator__C': loguniform(1e-5, 10),\n",
    "        'Estimator__kernel': ['linear', 'poly', 'rbf']\n",
    "    },\n",
    "    {\n",
    "        'Estimator': [RandomForestClassifier(random_state=42)],\n",
    "        'Estimator__max_depth': randint(low=5, high=50),\n",
    "        'Estimator__min_samples_split': randint(low=5, high=10)\n",
    "    }\n",
    "]\n",
    "\n",
    "best_model, best_config = fit_explore(X_train_red, y_train_red,\n",
    "                                      estimator=clf_pipe,\n",
    "                                      param_distributions=params,\n",
    "                                      n_iter=15,\n",
    "                                      partition=10,\n",
    "                                      score='roc_auc_ovr')\n",
    "\n",
    "print(best_config)\n",
    "\n",
    "evaluate_model(best_model.predict(X_train_red),\n",
    "               best_model.predict_proba(X_train_red),\n",
    "               y_train_red,\n",
    "               enc.classes_)"
   ]
  },
  {
   "cell_type": "markdown",
   "metadata": {},
   "source": [
    "Die Leistung des besten, gefundenen Models lässt noch immer zu wünschen übrig. Für einige wenige Labels wie Wirstchaft, Sport und Verkehr ist die Vorhersagequalität fast perfekt(möglicherweise ein Indiz für Overtraining). Für die meißten aller Politikbereiche ist die Vorhersage zwar klar besser als geraten, aber es besteht durchaus Verbesserungsbedarf.\n",
    "\n",
    "Ursachen sind zum einen die zu hohe Diversität der Zielgröße und deren ungleichmäßige Verteilung. Zum anderen wurden die Text-Analyse Features noch nicht in Betracht gezogen."
   ]
  },
  {
   "cell_type": "code",
   "execution_count": 71,
   "metadata": {},
   "outputs": [
    {
     "data": {
      "text/html": [
       "<div>\n",
       "<style scoped>\n",
       "    .dataframe tbody tr th:only-of-type {\n",
       "        vertical-align: middle;\n",
       "    }\n",
       "\n",
       "    .dataframe tbody tr th {\n",
       "        vertical-align: top;\n",
       "    }\n",
       "\n",
       "    .dataframe thead th {\n",
       "        text-align: right;\n",
       "    }\n",
       "</style>\n",
       "<table border=\"1\" class=\"dataframe\">\n",
       "  <thead>\n",
       "    <tr style=\"text-align: right;\">\n",
       "      <th></th>\n",
       "      <th>Feature Importance</th>\n",
       "    </tr>\n",
       "  </thead>\n",
       "  <tbody>\n",
       "    <tr>\n",
       "      <th>senatsverwaltung für wirtschaft, energie und betriebe</th>\n",
       "      <td>0.239258</td>\n",
       "    </tr>\n",
       "    <tr>\n",
       "      <th>senatsverwaltung für integration, arbeit und soziales</th>\n",
       "      <td>0.203018</td>\n",
       "    </tr>\n",
       "    <tr>\n",
       "      <th>senatsverwaltung für inneres und sport</th>\n",
       "      <td>0.166899</td>\n",
       "    </tr>\n",
       "    <tr>\n",
       "      <th>senatsverwaltung für arbeit, integration und frauen</th>\n",
       "      <td>0.060469</td>\n",
       "    </tr>\n",
       "    <tr>\n",
       "      <th>senatsverwaltung für kultur und europa</th>\n",
       "      <td>0.058742</td>\n",
       "    </tr>\n",
       "    <tr>\n",
       "      <th>senatsverwaltung für bildung, jugend und familie</th>\n",
       "      <td>0.034198</td>\n",
       "    </tr>\n",
       "    <tr>\n",
       "      <th>senatsverwaltung für wirtschaft, technologie und forschung</th>\n",
       "      <td>0.031259</td>\n",
       "    </tr>\n",
       "    <tr>\n",
       "      <th>senatsverwaltung für gesundheit, pflege und gleichstellung</th>\n",
       "      <td>0.026754</td>\n",
       "    </tr>\n",
       "  </tbody>\n",
       "</table>\n",
       "</div>"
      ],
      "text/plain": [
       "                                                    Feature Importance\n",
       "senatsverwaltung für wirtschaft, energie und be...            0.239258\n",
       "senatsverwaltung für integration, arbeit und so...            0.203018\n",
       "senatsverwaltung für inneres und sport                        0.166899\n",
       "senatsverwaltung für arbeit, integration und fr...            0.060469\n",
       "senatsverwaltung für kultur und europa                        0.058742\n",
       "senatsverwaltung für bildung, jugend und familie              0.034198\n",
       "senatsverwaltung für wirtschaft, technologie un...            0.031259\n",
       "senatsverwaltung für gesundheit, pflege und gle...            0.026754"
      ]
     },
     "execution_count": 71,
     "metadata": {},
     "output_type": "execute_result"
    }
   ],
   "source": [
    "pd.DataFrame(best_model.named_steps.Estimator.feature_importances_,\n",
    "          index=column_names,\n",
    "          columns=['Feature Importance']\n",
    "         ).sort_values(by='Feature Importance', ascending=False).head(8)"
   ]
  },
  {
   "cell_type": "markdown",
   "metadata": {},
   "source": [
    "Weiter ist erkennbar, dass Entscheidungen fast ausschließlich auf Basis des 'Gebers' getroffen werden. Es ist also dringend notwendig weitere Features zu berücksichtigen.\n",
    "\n",
    "## Einbeziehung der NLP Resultate\n",
    "\n",
    "Der vollständige Datensatz liegt in Sparse-Matrix-Form for und ist nur von einer Hand von Algorithmen verwendbar. In Betracht gezogen werden: SVM & logistische Regression. Eine Reduktion der Dimensionalität wird in Form einer PCA erprobt."
   ]
  },
  {
   "cell_type": "code",
   "execution_count": 72,
   "metadata": {},
   "outputs": [],
   "source": [
    "X_train_red = colum_spec_pipeline.fit_transform(X_train)\n",
    "X_test_red = colum_spec_pipeline.transform(X_test)"
   ]
  },
  {
   "cell_type": "code",
   "execution_count": 73,
   "metadata": {},
   "outputs": [
    {
     "name": "stdout",
     "output_type": "stream",
     "text": [
      "{'Estimator': LogisticRegression(C=6.958780103230357, class_weight=None, dual=False,\n",
      "                   fit_intercept=True, intercept_scaling=1, l1_ratio=None,\n",
      "                   max_iter=100, multi_class='auto', n_jobs=None, penalty='l1',\n",
      "                   random_state=42, solver='saga', tol=0.0001, verbose=0,\n",
      "                   warm_start=False), 'Estimator__C': 6.958780103230357, 'DimRed': None, 'Estimator__solver': 'saga', 'Estimator__penalty': 'l1'}\n",
      "                                                  precision    recall  f1-score   support\n",
      "\n",
      "                                          arbeit       1.00      1.00      1.00      7695\n",
      "                                         bildung       0.98      0.98      0.98      1260\n",
      "bürgerschaftliches engagement, bürgerbeteiligung       0.92      0.93      0.92       496\n",
      "                                      gesundheit       0.98      0.97      0.98      1591\n",
      "                                  gleichstellung       0.99      0.99      0.99       584\n",
      "                                     integration       0.96      0.93      0.95      1054\n",
      "                                          jugend       0.95      0.97      0.96      2889\n",
      "                                          kultur       0.94      0.97      0.96      2500\n",
      "                                        sonstige       0.97      0.93      0.95      2186\n",
      "                                        soziales       0.95      0.95      0.95      1847\n",
      "                                           sport       1.00      1.00      1.00      3728\n",
      "                                stadtentwicklung       0.96      0.94      0.95       890\n",
      "                                          umwelt       0.99      0.97      0.98       480\n",
      "                                         verkehr       1.00      1.00      1.00       591\n",
      "                                      wirtschaft       1.00      1.00      1.00      5556\n",
      "\n",
      "                                        accuracy                           0.98     33347\n",
      "                                       macro avg       0.97      0.97      0.97     33347\n",
      "                                    weighted avg       0.98      0.98      0.98     33347\n",
      "\n",
      "AUC: 0.999662\n",
      "Kreuzentropie: 0.090114\n"
     ]
    },
    {
     "data": {
      "image/png": "[encoded data removed]",
      "text/plain": [
       "<Figure size 1080x360 with 1 Axes>"
      ]
     },
     "metadata": {
      "needs_background": "light"
     },
     "output_type": "display_data"
    }
   ],
   "source": [
    "clf_pipe = Pipeline([\n",
    "                                ('DimRed', None),\n",
    "                                ('Estimator', None)\n",
    "                            ])\n",
    "\n",
    "params = [\n",
    "    {\n",
    "        'DimRed': [PCA(random_state=42)],\n",
    "        'DimRed__n_components': randint(low=256, high=1024),\n",
    "        'Estimator': [LogisticRegression(random_state=42)],\n",
    "        'Estimator__penalty': ['l1', 'l2'],\n",
    "        'Estimator__C': loguniform(1e-5, 10),\n",
    "        'Estimator__solver': ['lbfgs', 'saga']\n",
    "    },\n",
    "    {\n",
    "        'DimRed': [PCA(random_state=42)],\n",
    "        'DimRed__n_components': randint(low=256, high=1024),\n",
    "        'Estimator': [SVC(probability=True, random_state=42)],\n",
    "        'Estimator__C': loguniform(1e-5, 10),\n",
    "        'Estimator__kernel': ['linear', 'poly', 'rbf']\n",
    "    },\n",
    "    {\n",
    "        'DimRed': [None],\n",
    "        'Estimator': [RandomForestClassifier(random_state=42)],\n",
    "        'Estimator__max_depth': randint(low=5, high=50),\n",
    "        'Estimator__min_samples_split': randint(low=5, high=10)\n",
    "    },\n",
    "    {\n",
    "        'DimRed': [None],\n",
    "        'Estimator': [LogisticRegression(random_state=42)],\n",
    "        'Estimator__penalty': ['l1', 'l2'],\n",
    "        'Estimator__C': loguniform(1e-5, 10),\n",
    "        'Estimator__solver': ['lbfgs', 'saga']\n",
    "    }\n",
    "]\n",
    "\n",
    "best_model, best_config = fit_explore(X_train_red, y_train_red,\n",
    "                                      estimator=clf_pipe,\n",
    "                                      param_distributions=params,\n",
    "                                      n_iter=15,\n",
    "                                      partition=10,\n",
    "                                      score='roc_auc_ovr')\n",
    "\n",
    "print(best_config)\n",
    "\n",
    "evaluate_model(best_model.predict(X_train_red),\n",
    "               best_model.predict_proba(X_train_red),\n",
    "               y_train_red,\n",
    "               enc.classes_)"
   ]
  },
  {
   "cell_type": "code",
   "execution_count": 74,
   "metadata": {},
   "outputs": [
    {
     "name": "stdout",
     "output_type": "stream",
     "text": [
      "                                                  precision    recall  f1-score   support\n",
      "\n",
      "                                          arbeit       0.98      0.99      0.99      3748\n",
      "                                         bildung       0.90      0.85      0.88       637\n",
      "bürgerschaftliches engagement, bürgerbeteiligung       0.69      0.66      0.67       235\n",
      "                                      gesundheit       0.90      0.90      0.90       747\n",
      "                                  gleichstellung       0.95      0.96      0.96       298\n",
      "                                     integration       0.75      0.71      0.73       483\n",
      "                                          jugend       0.83      0.88      0.85      1387\n",
      "                                          kultur       0.84      0.88      0.86      1240\n",
      "                                        sonstige       0.84      0.75      0.79      1127\n",
      "                                        soziales       0.83      0.87      0.85       936\n",
      "                                           sport       0.99      0.99      0.99      1833\n",
      "                                stadtentwicklung       0.79      0.76      0.77       462\n",
      "                                          umwelt       0.93      0.89      0.91       235\n",
      "                                         verkehr       0.99      0.98      0.98       302\n",
      "                                      wirtschaft       1.00      1.00      1.00      2756\n",
      "\n",
      "                                        accuracy                           0.92     16426\n",
      "                                       macro avg       0.88      0.87      0.87     16426\n",
      "                                    weighted avg       0.92      0.92      0.92     16426\n",
      "\n",
      "AUC: 0.994898\n",
      "Kreuzentropie: 0.290008\n"
     ]
    },
    {
     "data": {
      "image/png": "[encoded data removed]",
      "text/plain": [
       "<Figure size 1080x360 with 1 Axes>"
      ]
     },
     "metadata": {
      "needs_background": "light"
     },
     "output_type": "display_data"
    }
   ],
   "source": [
    "evaluate_model(best_model.predict(X_test_red),\n",
    "               best_model.predict_proba(X_test_red),\n",
    "               y_test_red,\n",
    "               enc.classes_)"
   ]
  },
  {
   "cell_type": "markdown",
   "metadata": {},
   "source": [
    "Das beinahe perfekte Resultat des besten Models auf seinen eigenen Trainingsdaten war, wie zu erwarten, ein Effekt des Overfittings. Auf den Testdaten offenbart sich, dass die Vorhersage für einige Politikbereiche (bspw. Integration) weniger belastbar ist.\n",
    "\n",
    "Es überrascht, dass die Dimensionreduktion via PCA völlig abgelehnt wurde.\n",
    "\n",
    "# Konklusion\n",
    "\n",
    "Grundsätzlich scheint eine genaue Klassifizierung der Daten realisierbar. Eine feinere Optimierung der Hyperparameter des linearen Regressionmodels könnte bereits zu besseren Ergebnissen führen. Hierzu müssten mehr Zeit und Rechenleistung investiert werden. Vor allem der Einsatz einer stärkeren Regularisierung scheint vielversprechend. Zudem wurde bisher keinerlei Dimensionreduktion eingesetzt. Der Ansatz unter Verwendung einer PCA wurde vom Optimierungssystem abgelehnt. Andere Verfahren könnten einen Mehrgewinn ebieten.\n",
    "\n",
    "Eine Hinzunahme weitere Daten, sofern verfügbar, könnte ebenfalls hilfreich sein. Diese könnten dazu genutzt werden, den Datensatz mit Blick auf die Zielgröße besser auszubalancieren. Sollten keine weiteren Daten verfügbar sein, können andere Methoden herangezogen werden; sowie Oversampling der eher seltenen Kategorien.\n",
    "\n",
    "Eine weitere Reduktion der Kategorien der Zielgröße würde sehr wahrscheinlich zu besseren Ergebnissen führen. Allerdings würde das Model damit auch an Aussagekraft verlieren, da dadurch noch weitere Politikbereiche nicht mehr gesondert behandelt werden könnten, sondern nur unter die Kategorie Sonstige fielen. Darüber hinaus wäre es besser, wenn der Grenzwert für das Beibehalten von Kategorien nicht statisch auf 400 gesetzt wäre, sondern ein lernbarer Parameter würde. Durch eine Weiterentwicklung der Datenprozessionskette wäre dies möglich.\n",
    "\n",
    "Der Einsatz von Deep Learning ist bei diesem Problem wohl nicht notwendig. Bereits ein simples, lineares Regressionmodel besitzt scheinbar eine ausreichende Komplexität, um den Datensatz inklusive zusätzlicher NLP-Features zu verallgemeinern."
   ]
  },
  {
   "cell_type": "code",
   "execution_count": null,
   "metadata": {},
   "outputs": [],
   "source": []
  }
 ],
 "metadata": {
  "kernelspec": {
   "display_name": "Python 3",
   "language": "python",
   "name": "python3"
  },
  "language_info": {
   "codemirror_mode": {
    "name": "ipython",
    "version": 3
   },
   "file_extension": ".py",
   "mimetype": "text/x-python",
   "name": "python",
   "nbconvert_exporter": "python",
   "pygments_lexer": "ipython3",
   "version": "3.5.2"
  }
 },
 "nbformat": 4,
 "nbformat_minor": 4
}
